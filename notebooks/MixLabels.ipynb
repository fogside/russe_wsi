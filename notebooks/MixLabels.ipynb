{
 "cells": [
  {
   "cell_type": "markdown",
   "metadata": {},
   "source": [
    "Mix labels of several trained models:\n",
    "\n",
    "* Baseline Ada\n",
    "* LibRu Ada\n",
    "* BigDataset Ada\n",
    "* SensGram wiki+contexts"
   ]
  },
  {
   "cell_type": "code",
   "execution_count": 1,
   "metadata": {},
   "outputs": [],
   "source": [
    "import numpy as np\n",
    "import pandas as pd"
   ]
  },
  {
   "cell_type": "code",
   "execution_count": 3,
   "metadata": {},
   "outputs": [],
   "source": [
    "from testing_interface import make_data,\\\n",
    "                              visualize_pca,\\\n",
    "                              evaluate_weighted_ari,\\\n",
    "                              get_one_word_data,\\\n",
    "                              visualize_pca_one_word,\\\n",
    "                              visualize_tsne_one_word\n",
    "\n",
    "DATASET = '../data/main/wiki-wiki/train.csv'\n",
    "\n",
    "contexts, main_words, labels, word_list_uniq = make_data(df_file_name=DATASET,\\\n",
    "                 use_gensim_simple_preproc=False, use_mystem=True,\\\n",
    "                 throw_main_word=False, tokenize=True)"
   ]
  },
  {
   "cell_type": "markdown",
   "metadata": {},
   "source": [
    "<img src=\"pics/table.jpg\">"
   ]
  },
  {
   "cell_type": "markdown",
   "metadata": {},
   "source": [
    "# Simple Rule {MAX}:\n",
    "\n",
    "take labels with max number of clusters"
   ]
  },
  {
   "cell_type": "code",
   "execution_count": 19,
   "metadata": {},
   "outputs": [],
   "source": [
    "from os.path import join"
   ]
  },
  {
   "cell_type": "code",
   "execution_count": 2,
   "metadata": {},
   "outputs": [
    {
     "name": "stdout",
     "output_type": "stream",
     "text": [
      "total 4,0M\r\n",
      "-rw-r--r-- 1 fogside fogside 515K дек 20 11:53 \u001b[0m\u001b[00mtest.csv\u001b[0m\r\n",
      "-rw-r--r-- 1 fogside fogside 348K ноя  7 15:48 \u001b[00mtrain.baseline-adagram.csv\u001b[0m\r\n",
      "-rw-r--r-- 1 fogside fogside 350K ноя 21 16:40 \u001b[00mtrain.constant.csv\u001b[0m\r\n",
      "-rw-r--r-- 1 fogside fogside 358K янв 13 20:52 \u001b[00mtrain.csv\u001b[0m\r\n",
      "-rw-r--r-- 1 fogside fogside 361K янв 22 17:08 \u001b[00mtrain.csv_bigText.csv\u001b[0m\r\n",
      "-rw-r--r-- 1 fogside fogside 361K янв 22 17:01 \u001b[00mtrain.csv_libru.csv\u001b[0m\r\n",
      "-rw-r--r-- 1 fogside fogside 364K янв 22 17:25 \u001b[00mtrain.csv_sensegram.csv\u001b[0m\r\n",
      "-rw-r--r-- 1 fogside fogside 350K ноя 21 16:40 \u001b[00mtrain.oracle.csv\u001b[0m\r\n",
      "-rw-r--r-- 1 fogside fogside 350K ноя 21 16:40 \u001b[00mtrain.random-1-3.csv\u001b[0m\r\n",
      "-rw-r--r-- 1 fogside fogside 350K ноя 21 16:40 \u001b[00mtrain.random-1-6.csv\u001b[0m\r\n",
      "-rw-r--r-- 1 fogside fogside 350K ноя 21 16:40 \u001b[00mtrain.unique-dataset-wise.csv\u001b[0m\r\n"
     ]
    }
   ],
   "source": [
    "ls -lh ../data/main/wiki-wiki/"
   ]
  },
  {
   "cell_type": "code",
   "execution_count": 304,
   "metadata": {},
   "outputs": [],
   "source": [
    "def check_dataset(dataset_folder):\n",
    "    DATASET = join(dataset_folder+'train.csv')\n",
    "    \n",
    "    \n",
    "    contexts, main_words, labels, word_list_uniq = make_data(df_file_name=DATASET,\\\n",
    "                     use_gensim_simple_preproc=False, use_mystem=True,\\\n",
    "                     throw_main_word=False, tokenize=True)\n",
    "    \n",
    "    libru = pd.read_csv(join(dataset_folder, \"train.csv_libru.csv\"))\n",
    "    bigText = pd.read_csv(join(dataset_folder,\"train.csv_bigText.csv\"))\n",
    "    baseline = pd.read_csv(join(dataset_folder,\"train.baseline-adagram.csv\"), sep='\\t')\n",
    "    sensegram = pd.read_csv(join(dataset_folder,\"train.csv_sensegram.csv\"))\n",
    "    \n",
    "    datasets = [libru, bigText, baseline, sensegram]\n",
    "    \n",
    "    prediction = []\n",
    "\n",
    "    for w in word_list_uniq:\n",
    "        clust_num = []\n",
    "        for df in datasets:\n",
    "            n = len(set(df[df.word == w].predict_sense_id.values))\n",
    "            clust_num.append(n)\n",
    "        chosen = np.argmax(clust_num)\n",
    "        print(\"For word {} chosen {}\".format(w, chosen))\n",
    "        d = datasets[chosen] # датасет,из которого берем предсказания\n",
    "        prediction.extend(d[d.word == w].predict_sense_id)\n",
    "    print('-'*10)\n",
    "    print(len(prediction))\n",
    "    evaluate_weighted_ari(DATASET, prediction)"
   ]
  },
  {
   "cell_type": "code",
   "execution_count": 63,
   "metadata": {},
   "outputs": [
    {
     "name": "stdout",
     "output_type": "stream",
     "text": [
      "For word замок chosen 0\n",
      "For word лук chosen 2\n",
      "For word суда chosen 2\n",
      "For word бор chosen 2\n",
      "----------\n",
      "439\n",
      "word\tari\tcount\n",
      "бор\t0.591175\t56\n",
      "замок\t0.337541\t138\n",
      "лук\t0.637076\t110\n",
      "суда\t0.005465\t135\n",
      "\t0.342831\t439\n"
     ]
    }
   ],
   "source": [
    "check_dataset(\"../data/main/wiki-wiki/\")"
   ]
  },
  {
   "cell_type": "code",
   "execution_count": 64,
   "metadata": {},
   "outputs": [
    {
     "name": "stdout",
     "output_type": "stream",
     "text": [
      "For word балка chosen 0\n",
      "For word вид chosen 0\n",
      "For word винт chosen 0\n",
      "For word горн chosen 2\n",
      "For word губа chosen 2\n",
      "For word жаба chosen 0\n",
      "For word клетка chosen 2\n",
      "For word крыло chosen 0\n",
      "For word купюра chosen 0\n",
      "For word курица chosen 2\n",
      "For word лавка chosen 2\n",
      "For word лайка chosen 2\n",
      "For word лев chosen 2\n",
      "For word лира chosen 0\n",
      "For word мина chosen 2\n",
      "For word мишень chosen 2\n",
      "For word обед chosen 2\n",
      "For word оклад chosen 0\n",
      "For word опушка chosen 2\n",
      "For word полис chosen 2\n",
      "For word пост chosen 0\n",
      "For word поток chosen 2\n",
      "For word проказа chosen 0\n",
      "For word пропасть chosen 2\n",
      "For word проспект chosen 0\n",
      "For word пытка chosen 2\n",
      "For word рысь chosen 2\n",
      "For word среда chosen 2\n",
      "For word хвост chosen 0\n",
      "For word штамп chosen 0\n",
      "----------\n",
      "3491\n",
      "word\tari\tcount\n",
      "балка\t0.559585\t119\n",
      "вид\t0.103725\t77\n",
      "винт\t0.458525\t123\n",
      "горн\t0.148054\t51\n",
      "губа\t0.011532\t137\n",
      "жаба\t-0.053646\t121\n",
      "клетка\t0.253548\t150\n",
      "крыло\t0.251726\t91\n",
      "купюра\t-0.026889\t150\n",
      "курица\t0.303684\t93\n",
      "лавка\t0.275710\t149\n",
      "лайка\t-0.028626\t99\n",
      "лев\t0.227088\t44\n",
      "лира\t0.459176\t49\n",
      "мина\t0.342283\t65\n",
      "мишень\t0.289000\t121\n",
      "обед\t0.109923\t100\n",
      "оклад\t0.077188\t146\n",
      "опушка\t0.141431\t148\n",
      "полис\t0.057707\t142\n",
      "пост\t0.693366\t144\n",
      "поток\t0.059094\t136\n",
      "проказа\t0.649362\t146\n",
      "пропасть\t0.284520\t127\n",
      "проспект\t0.307037\t139\n",
      "пытка\t0.026372\t143\n",
      "рысь\t0.641513\t120\n",
      "среда\t0.378653\t144\n",
      "хвост\t0.055584\t121\n",
      "штамп\t0.513234\t96\n",
      "\t0.249465\t3491\n"
     ]
    }
   ],
   "source": [
    "check_dataset(\"../data/main/bts-rnc/\")"
   ]
  },
  {
   "cell_type": "code",
   "execution_count": 65,
   "metadata": {},
   "outputs": [
    {
     "name": "stdout",
     "output_type": "stream",
     "text": [
      "For word дар chosen 2\n",
      "For word двигатель chosen 0\n",
      "For word двойник chosen 0\n",
      "For word дворец chosen 0\n",
      "For word девятка chosen 3\n",
      "For word дедушка chosen 2\n",
      "For word дежурная chosen 2\n",
      "For word дежурный chosen 2\n",
      "For word декабрист chosen 0\n",
      "For word декрет chosen 3\n",
      "For word дело chosen 2\n",
      "For word демобилизация chosen 3\n",
      "For word демократ chosen 0\n",
      "For word демонстрация chosen 0\n",
      "For word дерево chosen 2\n",
      "For word держава chosen 2\n",
      "For word дерзость chosen 0\n",
      "For word десятка chosen 2\n",
      "For word десяток chosen 2\n",
      "For word деятель chosen 0\n",
      "For word диалог chosen 0\n",
      "For word диаметр chosen 2\n",
      "For word диплом chosen 2\n",
      "For word директор chosen 2\n",
      "For word диск chosen 0\n",
      "For word дичь chosen 2\n",
      "For word длина chosen 2\n",
      "For word доброволец chosen 0\n",
      "For word добыча chosen 0\n",
      "For word доказательство chosen 2\n",
      "For word доктор chosen 0\n",
      "For word долгота chosen 2\n",
      "For word доля chosen 0\n",
      "For word дом chosen 2\n",
      "For word дорога chosen 0\n",
      "For word достижение chosen 2\n",
      "For word древесина chosen 2\n",
      "For word дупло chosen 2\n",
      "For word дура chosen 0\n",
      "For word дух chosen 2\n",
      "For word дым chosen 0\n",
      "For word дымка chosen 0\n",
      "For word дыхание chosen 2\n",
      "For word дьявол chosen 0\n",
      "For word евро chosen 2\n",
      "For word езда chosen 3\n",
      "For word жаворонок chosen 0\n",
      "For word жало chosen 0\n",
      "For word жертва chosen 2\n",
      "For word жестокость chosen 2\n",
      "For word жидкость chosen 2\n",
      "For word жила chosen 3\n",
      "For word жилец chosen 0\n",
      "For word жир chosen 2\n",
      "For word жребий chosen 0\n",
      "For word заведение chosen 2\n",
      "For word завещание chosen 2\n",
      "For word зависимость chosen 2\n",
      "For word заголовок chosen 3\n",
      "For word заготовка chosen 2\n",
      "For word задание chosen 0\n",
      "For word задача chosen 2\n",
      "For word задержка chosen 0\n",
      "For word зажигалка chosen 0\n",
      "For word закон chosen 0\n",
      "For word закрытие chosen 0\n",
      "For word заложник chosen 1\n",
      "For word замена chosen 0\n",
      "For word западня chosen 0\n",
      "For word запятая chosen 2\n",
      "For word застой chosen 2\n",
      "For word затея chosen 2\n",
      "For word затишье chosen 3\n",
      "For word затмение chosen 0\n",
      "For word затруднение chosen 0\n",
      "For word захоронение chosen 0\n",
      "For word звезда chosen 0\n",
      "For word звон chosen 0\n",
      "For word зеркало chosen 0\n",
      "For word зло chosen 0\n",
      "For word злоупотребление chosen 0\n",
      "For word знак chosen 0\n",
      "For word знамя chosen 2\n",
      "For word значение chosen 2\n",
      "For word зонт chosen 2\n",
      "----------\n",
      "2073\n",
      "word\tari\tcount\n",
      "дар\t0.052246\t36\n",
      "двигатель\t0.615807\t15\n",
      "двойник\t0.162170\t25\n",
      "дворец\t0.601227\t13\n",
      "девятка\t-0.012795\t47\n",
      "дедушка\t0.369427\t9\n",
      "дежурная\t0.000000\t12\n",
      "дежурный\t-0.028398\t13\n",
      "декабрист\t-0.011827\t11\n",
      "декрет\t0.535211\t12\n",
      "дело\t0.052311\t130\n",
      "демобилизация\t0.408379\t14\n",
      "демократ\t0.170282\t18\n",
      "демонстрация\t0.050770\t38\n",
      "дерево\t0.588235\t21\n",
      "держава\t0.092664\t15\n",
      "дерзость\t0.028001\t37\n",
      "десятка\t0.118856\t36\n",
      "десяток\t0.023123\t21\n",
      "деятель\t0.589474\t14\n",
      "диалог\t0.052083\t14\n",
      "диаметр\t0.048164\t18\n",
      "диплом\t0.159552\t25\n",
      "директор\t0.047936\t11\n",
      "диск\t0.126798\t63\n",
      "дичь\t0.244444\t18\n",
      "длина\t-0.083460\t21\n",
      "доброволец\t0.200897\t12\n",
      "добыча\t0.299206\t35\n",
      "доказательство\t0.067949\t24\n",
      "доктор\t0.343860\t17\n",
      "долгота\t0.036072\t13\n",
      "доля\t0.273346\t45\n",
      "дом\t0.153346\t38\n",
      "дорога\t0.074998\t47\n",
      "достижение\t0.099485\t22\n",
      "древесина\t0.122363\t16\n",
      "дупло\t0.160305\t15\n",
      "дура\t0.485793\t12\n",
      "дух\t0.131565\t77\n",
      "дым\t0.174192\t28\n",
      "дымка\t1.000000\t18\n",
      "дыхание\t0.308969\t56\n",
      "дьявол\t0.138217\t22\n",
      "евро\t-0.028571\t8\n",
      "езда\t-0.013559\t14\n",
      "жаворонок\t0.037500\t11\n",
      "жало\t0.037500\t11\n",
      "жертва\t0.190991\t37\n",
      "жестокость\t-0.079051\t14\n",
      "жидкость\t0.334294\t12\n",
      "жила\t0.055344\t17\n",
      "жилец\t0.083333\t16\n",
      "жир\t0.262948\t15\n",
      "жребий\t0.503817\t15\n",
      "заведение\t0.911263\t14\n",
      "завещание\t-0.016667\t16\n",
      "зависимость\t0.198646\t21\n",
      "заголовок\t0.000533\t22\n",
      "заготовка\t0.371053\t26\n",
      "задание\t0.089024\t33\n",
      "задача\t0.311796\t36\n",
      "задержка\t0.082430\t60\n",
      "зажигалка\t0.226190\t13\n",
      "закон\t0.106542\t56\n",
      "закрытие\t0.156356\t38\n",
      "заложник\t-0.022472\t13\n",
      "замена\t0.510336\t18\n",
      "западня\t0.200793\t11\n",
      "запятая\t0.253739\t14\n",
      "застой\t0.790323\t13\n",
      "затея\t0.000000\t12\n",
      "затишье\t0.083969\t16\n",
      "затмение\t0.664820\t12\n",
      "затруднение\t0.598580\t15\n",
      "захоронение\t-0.014563\t22\n",
      "звезда\t0.331434\t40\n",
      "звон\t-0.050000\t14\n",
      "зеркало\t0.309434\t21\n",
      "зло\t0.410163\t23\n",
      "злоупотребление\t0.664820\t12\n",
      "знак\t0.273790\t55\n",
      "знамя\t0.166345\t14\n",
      "значение\t0.330283\t30\n",
      "зонт\t-0.012500\t9\n",
      "\t0.189529\t2073\n"
     ]
    }
   ],
   "source": [
    "check_dataset(\"../data/main/active-dict/\")"
   ]
  },
  {
   "cell_type": "markdown",
   "metadata": {},
   "source": [
    "### Вывод\n",
    "\n",
    "Итак, улучшились скоры на датасетах 2 и 3, но ухудшился скор на вики.\n",
    "\n",
    "В целом, улучшения заметные, но скоры все еще не очень высокие."
   ]
  },
  {
   "cell_type": "markdown",
   "metadata": {},
   "source": [
    "# Simple Rule {MIN>=2}:\n",
    "\n",
    "take labels with min number of clusters which >=2"
   ]
  },
  {
   "cell_type": "code",
   "execution_count": 55,
   "metadata": {},
   "outputs": [],
   "source": [
    "def get_min_bigger2(array):\n",
    "    mini = 0\n",
    "    for i, val in enumerate(array):\n",
    "        if (val>=2) and (val<array[mini]):\n",
    "            mini = i\n",
    "    return mini"
   ]
  },
  {
   "cell_type": "code",
   "execution_count": 60,
   "metadata": {},
   "outputs": [],
   "source": [
    "def check_dataset2(dataset_folder):\n",
    "    DATASET = join(dataset_folder+'train.csv')\n",
    "    \n",
    "    \n",
    "    contexts, main_words, labels, word_list_uniq = make_data(df_file_name=DATASET,\\\n",
    "                     use_gensim_simple_preproc=False, use_mystem=True,\\\n",
    "                     throw_main_word=False, tokenize=True)\n",
    "    \n",
    "    libru = pd.read_csv(join(dataset_folder, \"train.csv_libru.csv\"))\n",
    "    bigText = pd.read_csv(join(dataset_folder,\"train.csv_bigText.csv\"))\n",
    "    baseline = pd.read_csv(join(dataset_folder,\"train.baseline-adagram.csv\"), sep='\\t')\n",
    "    sensegram = pd.read_csv(join(dataset_folder,\"train.csv_sensegram.csv\"))\n",
    "    \n",
    "    datasets = [libru, bigText, baseline, sensegram]\n",
    "    \n",
    "    prediction = []\n",
    "\n",
    "    for w in word_list_uniq:\n",
    "        clust_num = []\n",
    "        for df in datasets:\n",
    "            n = len(set(df[df.word == w].predict_sense_id.values))\n",
    "            clust_num.append(n)\n",
    "        chosen = get_min_bigger2(clust_num)\n",
    "        print(\"For word {} chosen {}\".format(w, chosen))\n",
    "        d = datasets[chosen] # датасет,из которого берем предсказания\n",
    "        prediction.extend(d[d.word == w].predict_sense_id)\n",
    "    print('-'*10)\n",
    "    print(len(prediction))\n",
    "    prediction = [str(p) for p in prediction]\n",
    "    evaluate_weighted_ari(DATASET, prediction)"
   ]
  },
  {
   "cell_type": "code",
   "execution_count": 61,
   "metadata": {},
   "outputs": [
    {
     "name": "stdout",
     "output_type": "stream",
     "text": [
      "For word замок chosen 3\n",
      "For word лук chosen 1\n",
      "For word суда chosen 0\n",
      "For word бор chosen 0\n",
      "----------\n",
      "439\n",
      "word\tari\tcount\n",
      "бор\t0.171375\t56\n",
      "замок\t-0.002524\t138\n",
      "лук\t0.927898\t110\n",
      "суда\t-0.078850\t135\n",
      "\t0.229323\t439\n"
     ]
    }
   ],
   "source": [
    "check_dataset2(\"../data/main/wiki-wiki/\")"
   ]
  },
  {
   "cell_type": "code",
   "execution_count": 66,
   "metadata": {},
   "outputs": [
    {
     "name": "stdout",
     "output_type": "stream",
     "text": [
      "For word балка chosen 1\n",
      "For word вид chosen 3\n",
      "For word винт chosen 3\n",
      "For word горн chosen 0\n",
      "For word губа chosen 3\n",
      "For word жаба chosen 1\n",
      "For word клетка chosen 1\n",
      "For word крыло chosen 1\n",
      "For word купюра chosen 3\n",
      "For word курица chosen 0\n",
      "For word лавка chosen 0\n",
      "For word лайка chosen 0\n",
      "For word лев chosen 3\n",
      "For word лира chosen 1\n",
      "For word мина chosen 3\n",
      "For word мишень chosen 0\n",
      "For word обед chosen 0\n",
      "For word оклад chosen 3\n",
      "For word опушка chosen 0\n",
      "For word полис chosen 0\n",
      "For word пост chosen 3\n",
      "For word поток chosen 1\n",
      "For word проказа chosen 2\n",
      "For word пропасть chosen 0\n",
      "For word проспект chosen 1\n",
      "For word пытка chosen 0\n",
      "For word рысь chosen 0\n",
      "For word среда chosen 0\n",
      "For word хвост chosen 3\n",
      "For word штамп chosen 2\n",
      "----------\n",
      "3491\n",
      "word\tari\tcount\n",
      "балка\t0.570300\t119\n",
      "вид\t-0.007547\t77\n",
      "винт\t0.007195\t123\n",
      "горн\t-0.013183\t51\n",
      "губа\t-0.001137\t137\n",
      "жаба\t0.026540\t121\n",
      "клетка\t0.670594\t150\n",
      "крыло\t0.161214\t91\n",
      "купюра\t-0.000079\t150\n",
      "курица\t0.000000\t93\n",
      "лавка\t0.305352\t149\n",
      "лайка\t0.000000\t99\n",
      "лев\t0.005695\t44\n",
      "лира\t0.763500\t49\n",
      "мина\t-0.016173\t65\n",
      "мишень\t0.463752\t121\n",
      "обед\t0.017887\t100\n",
      "оклад\t0.036209\t146\n",
      "опушка\t0.000000\t148\n",
      "полис\t0.364126\t142\n",
      "пост\t-0.002996\t144\n",
      "поток\t0.210801\t136\n",
      "проказа\t0.495533\t146\n",
      "пропасть\t-0.032579\t127\n",
      "проспект\t0.000887\t139\n",
      "пытка\t0.128844\t143\n",
      "рысь\t0.582619\t120\n",
      "среда\t0.170581\t144\n",
      "хвост\t-0.006224\t121\n",
      "штамп\t0.432813\t96\n",
      "\t0.181345\t3491\n"
     ]
    }
   ],
   "source": [
    "check_dataset2(\"../data/main/bts-rnc/\")"
   ]
  },
  {
   "cell_type": "code",
   "execution_count": 67,
   "metadata": {},
   "outputs": [
    {
     "name": "stdout",
     "output_type": "stream",
     "text": [
      "For word дар chosen 0\n",
      "For word двигатель chosen 1\n",
      "For word двойник chosen 1\n",
      "For word дворец chosen 3\n",
      "For word девятка chosen 0\n",
      "For word дедушка chosen 0\n",
      "For word дежурная chosen 0\n",
      "For word дежурный chosen 0\n",
      "For word декабрист chosen 0\n",
      "For word декрет chosen 0\n",
      "For word дело chosen 3\n",
      "For word демобилизация chosen 0\n",
      "For word демократ chosen 1\n",
      "For word демонстрация chosen 1\n",
      "For word дерево chosen 1\n",
      "For word держава chosen 0\n",
      "For word дерзость chosen 1\n",
      "For word десятка chosen 0\n",
      "For word десяток chosen 3\n",
      "For word деятель chosen 1\n",
      "For word диалог chosen 3\n",
      "For word диаметр chosen 0\n",
      "For word диплом chosen 0\n",
      "For word директор chosen 1\n",
      "For word диск chosen 1\n",
      "For word дичь chosen 0\n",
      "For word длина chosen 3\n",
      "For word доброволец chosen 0\n",
      "For word добыча chosen 3\n",
      "For word доказательство chosen 1\n",
      "For word доктор chosen 1\n",
      "For word долгота chosen 0\n",
      "For word доля chosen 1\n",
      "For word дом chosen 0\n",
      "For word дорога chosen 3\n",
      "For word достижение chosen 3\n",
      "For word древесина chosen 0\n",
      "For word дупло chosen 0\n",
      "For word дура chosen 0\n",
      "For word дух chosen 0\n",
      "For word дым chosen 3\n",
      "For word дымка chosen 0\n",
      "For word дыхание chosen 3\n",
      "For word дьявол chosen 2\n",
      "For word евро chosen 0\n",
      "For word езда chosen 0\n",
      "For word жаворонок chosen 0\n",
      "For word жало chosen 0\n",
      "For word жертва chosen 1\n",
      "For word жестокость chosen 0\n",
      "For word жидкость chosen 0\n",
      "For word жила chosen 0\n",
      "For word жилец chosen 0\n",
      "For word жир chosen 0\n",
      "For word жребий chosen 0\n",
      "For word заведение chosen 0\n",
      "For word завещание chosen 0\n",
      "For word зависимость chosen 3\n",
      "For word заголовок chosen 0\n",
      "For word заготовка chosen 0\n",
      "For word задание chosen 1\n",
      "For word задача chosen 3\n",
      "For word задержка chosen 3\n",
      "For word зажигалка chosen 0\n",
      "For word закон chosen 3\n",
      "For word закрытие chosen 2\n",
      "For word заложник chosen 0\n",
      "For word замена chosen 1\n",
      "For word западня chosen 1\n",
      "For word запятая chosen 0\n",
      "For word застой chosen 0\n",
      "For word затея chosen 0\n",
      "For word затишье chosen 0\n",
      "For word затмение chosen 0\n",
      "For word затруднение chosen 2\n",
      "For word захоронение chosen 0\n",
      "For word звезда chosen 1\n",
      "For word звон chosen 1\n",
      "For word зеркало chosen 1\n",
      "For word зло chosen 3\n",
      "For word злоупотребление chosen 0\n",
      "For word знак chosen 3\n",
      "For word знамя chosen 0\n",
      "For word значение chosen 1\n",
      "For word зонт chosen 0\n",
      "----------\n",
      "2073\n",
      "word\tari\tcount\n",
      "дар\t-0.015701\t36\n",
      "двигатель\t0.312977\t15\n",
      "двойник\t-0.045981\t25\n",
      "дворец\t-0.041985\t13\n",
      "девятка\t0.017778\t47\n",
      "дедушка\t0.000000\t9\n",
      "дежурная\t0.000000\t12\n",
      "дежурный\t-0.007752\t13\n",
      "декабрист\t-0.011827\t11\n",
      "декрет\t0.177285\t12\n",
      "дело\t-0.000598\t130\n",
      "демобилизация\t0.000000\t14\n",
      "демократ\t0.241058\t18\n",
      "демонстрация\t0.014941\t38\n",
      "дерево\t0.328947\t21\n",
      "держава\t-0.017588\t15\n",
      "дерзость\t0.090237\t37\n",
      "десятка\t0.000000\t36\n",
      "десяток\t-0.036563\t21\n",
      "деятель\t0.139073\t14\n",
      "диалог\t-0.039152\t14\n",
      "диаметр\t0.000000\t18\n",
      "диплом\t0.000000\t25\n",
      "директор\t-0.091270\t11\n",
      "диск\t0.130776\t63\n",
      "дичь\t0.147335\t18\n",
      "длина\t-0.016282\t21\n",
      "доброволец\t0.200897\t12\n",
      "добыча\t0.016719\t35\n",
      "доказательство\t0.079856\t24\n",
      "доктор\t0.129693\t17\n",
      "долгота\t0.690476\t13\n",
      "доля\t0.023231\t45\n",
      "дом\t0.066678\t38\n",
      "дорога\t0.020890\t47\n",
      "достижение\t0.161157\t22\n",
      "древесина\t0.004149\t16\n",
      "дупло\t0.000000\t15\n",
      "дура\t0.485793\t12\n",
      "дух\t0.050015\t77\n",
      "дым\t-0.001356\t28\n",
      "дымка\t1.000000\t18\n",
      "дыхание\t-0.007607\t56\n",
      "дьявол\t0.224231\t22\n",
      "евро\t0.000000\t8\n",
      "езда\t-0.076273\t14\n",
      "жаворонок\t0.037500\t11\n",
      "жало\t0.037500\t11\n",
      "жертва\t0.099954\t37\n",
      "жестокость\t-0.036254\t14\n",
      "жидкость\t-0.066482\t12\n",
      "жила\t0.141827\t17\n",
      "жилец\t0.083333\t16\n",
      "жир\t0.732143\t15\n",
      "жребий\t0.503817\t15\n",
      "заведение\t0.804020\t14\n",
      "завещание\t-0.050000\t16\n",
      "зависимость\t-0.006390\t21\n",
      "заголовок\t0.302378\t22\n",
      "заготовка\t0.066285\t26\n",
      "задание\t0.123757\t33\n",
      "задача\t-0.009766\t36\n",
      "задержка\t-0.002800\t60\n",
      "зажигалка\t0.226190\t13\n",
      "закон\t-0.003087\t56\n",
      "закрытие\t0.134180\t38\n",
      "заложник\t0.000000\t13\n",
      "замена\t0.276840\t18\n",
      "западня\t0.349540\t11\n",
      "запятая\t0.000000\t14\n",
      "застой\t0.235294\t13\n",
      "затея\t-0.066482\t12\n",
      "затишье\t0.355705\t16\n",
      "затмение\t0.664820\t12\n",
      "затруднение\t-0.019417\t15\n",
      "захоронение\t-0.014563\t22\n",
      "звезда\t0.161486\t40\n",
      "звон\t0.011586\t14\n",
      "зеркало\t0.318182\t21\n",
      "зло\t-0.023831\t23\n",
      "злоупотребление\t0.664820\t12\n",
      "знак\t0.013093\t55\n",
      "знамя\t0.000000\t14\n",
      "значение\t0.175408\t30\n",
      "зонт\t0.000000\t9\n",
      "\t0.092617\t2073\n"
     ]
    }
   ],
   "source": [
    "check_dataset2(\"../data/main/active-dict/\")"
   ]
  },
  {
   "cell_type": "markdown",
   "metadata": {},
   "source": [
    "### Вывод\n",
    "\n",
    "Итак, при такой стратегии стало только хуже или ничего не изменилось"
   ]
  },
  {
   "cell_type": "markdown",
   "metadata": {},
   "source": [
    "# Pairwise ARI to choose right"
   ]
  },
  {
   "cell_type": "code",
   "execution_count": 170,
   "metadata": {},
   "outputs": [],
   "source": [
    "from sklearn.metrics import adjusted_rand_score\n",
    "from sklearn.metrics.cluster import homogeneity_score"
   ]
  },
  {
   "cell_type": "code",
   "execution_count": 339,
   "metadata": {},
   "outputs": [],
   "source": [
    "def create_features(word, dataset_folder, true_labels = None):\n",
    "    \n",
    "    libru = pd.read_csv(join(dataset_folder, \"train.csv_libru.csv\"))\n",
    "    bigText = pd.read_csv(join(dataset_folder,\"train.csv_bigText.csv\"))\n",
    "    baseline = pd.read_csv(join(dataset_folder,\"train.baseline-adagram.csv\"), sep='\\t')\n",
    "    sensegram = pd.read_csv(join(dataset_folder,\"train.csv_sensegram.csv\"))\n",
    "\n",
    "    datasets = [libru, bigText, baseline, sensegram]\n",
    "    features = list()\n",
    "    \n",
    "    all_marks = []\n",
    "    for dset in datasets:\n",
    "        all_marks.append(dset[dset.word == word].predict_sense_id.values)\n",
    "    \n",
    "    pairwise_mtx = np.zeros((4,4))\n",
    "\n",
    "    for i, di in enumerate(all_marks):\n",
    "        tmp = dict()\n",
    "        for j, dj in enumerate(all_marks):\n",
    "            if (i!=j):\n",
    "                tmp[\"ari{}\".format(j)] = adjusted_rand_score(di,dj)\n",
    "                tmp[\"homogeneity{}\".format(j)] = homogeneity_score(di, dj) # non-symmetry-score\n",
    "            else:\n",
    "                tmp[\"ari{}\".format(j)] = adjusted_rand_score(di,dj)\n",
    "                tmp[\"homogeneity{}\".format(j)] = homogeneity_score(di, dj) # non-symmetry-score\n",
    "        features.append(tmp)\n",
    "\n",
    "    for i, ds in enumerate(datasets):\n",
    "        features[i][\"sense_num\"] = len(ds[ds.word == word].predict_sense_id.unique())\n",
    "        \n",
    "    if true_labels is not None:\n",
    "        label = np.argmax([adjusted_rand_score(true_labels, lab) for lab in all_marks])\n",
    "        for i, item in enumerate(features):\n",
    "            features[i]['true'] = (i == label)\n",
    "    return features"
   ]
  },
  {
   "cell_type": "code",
   "execution_count": 340,
   "metadata": {},
   "outputs": [],
   "source": [
    "from typing import List"
   ]
  },
  {
   "cell_type": "code",
   "execution_count": 341,
   "metadata": {},
   "outputs": [],
   "source": [
    "def make_dataset(dataset_folder_list: List):\n",
    "    \n",
    "    absolut_wiki_scores = [0.193393,0.281250,0.392449,0.063380]\n",
    "    absolut_active_d_scores = [0.159932, 0.079166, 0.164103, 0.006327]\n",
    "    absolut_bts_scores =  [0.244253, 0.164169, 0.223731, 0.004098]\n",
    "    dataset = []\n",
    "    \n",
    "    for dataset_folder in dataset_folder_list:\n",
    "        true_ds = pd.read_csv(join(dataset_folder, \"train.csv\"), sep='\\t')\n",
    "        u_words = true_ds.word.unique()\n",
    "\n",
    "        for word in u_words:\n",
    "            true_labels = true_ds[true_ds.word == word].gold_sense_id.values\n",
    "            dataset.extend(create_features(word, dataset_folder, true_labels))\n",
    "\n",
    "    df = pd.DataFrame(dataset)\n",
    "    return df"
   ]
  },
  {
   "cell_type": "code",
   "execution_count": 342,
   "metadata": {},
   "outputs": [],
   "source": [
    "dataset_list = [\"../data/main/wiki-wiki/\",\n",
    "               \"../data/main/bts-rnc/\",\n",
    "               \"../data/main/active-dict/\"]"
   ]
  },
  {
   "cell_type": "code",
   "execution_count": 343,
   "metadata": {},
   "outputs": [],
   "source": [
    "features = make_dataset(dataset_list)"
   ]
  },
  {
   "cell_type": "code",
   "execution_count": 337,
   "metadata": {},
   "outputs": [
    {
     "data": {
      "text/plain": [
       "(476, 10)"
      ]
     },
     "execution_count": 337,
     "metadata": {},
     "output_type": "execute_result"
    }
   ],
   "source": [
    "features.shape"
   ]
  },
  {
   "cell_type": "code",
   "execution_count": 345,
   "metadata": {},
   "outputs": [
    {
     "data": {
      "text/plain": [
       "(array([357.,   0.,   0.,   0.,   0.,   0.,   0.,   0.,   0., 119.]),\n",
       " array([0. , 0.1, 0.2, 0.3, 0.4, 0.5, 0.6, 0.7, 0.8, 0.9, 1. ]),\n",
       " <a list of 10 Patch objects>)"
      ]
     },
     "execution_count": 345,
     "metadata": {},
     "output_type": "execute_result"
    },
    {
     "data": {
      "image/png": "[encoded data removed]",
      "text/plain": [
       "<matplotlib.figure.Figure at 0x7efd137557b8>"
      ]
     },
     "metadata": {},
     "output_type": "display_data"
    }
   ],
   "source": [
    "plt.hist(features.true)"
   ]
  },
  {
   "cell_type": "code",
   "execution_count": 346,
   "metadata": {},
   "outputs": [],
   "source": [
    "import xgboost\n",
    "from sklearn.linear_model import LogisticRegression\n",
    "from sklearn.naive_bayes import GaussianNB\n",
    "from sklearn.cross_validation import cross_val_score\n",
    "from sklearn.cross_validation import cross_val_predict"
   ]
  },
  {
   "cell_type": "code",
   "execution_count": 347,
   "metadata": {},
   "outputs": [],
   "source": [
    "X = features.drop(labels=\"true\", axis=1).values\n",
    "y = features.true.values"
   ]
  },
  {
   "cell_type": "code",
   "execution_count": 348,
   "metadata": {},
   "outputs": [],
   "source": [
    "xgbSolver = xgboost.XGBClassifier(n_estimators=150, learning_rate=0.05)\n",
    "lr = LogisticRegression()\n",
    "nb = GaussianNB()"
   ]
  },
  {
   "cell_type": "code",
   "execution_count": 349,
   "metadata": {},
   "outputs": [
    {
     "name": "stderr",
     "output_type": "stream",
     "text": [
      "/home/fogside/virtualenvs/py3/lib/python3.6/site-packages/sklearn/preprocessing/label.py:151: DeprecationWarning: The truth value of an empty array is ambiguous. Returning False, but in future this will result in an error. Use `array.size > 0` to check that an array is not empty.\n",
      "  if diff:\n",
      "/home/fogside/virtualenvs/py3/lib/python3.6/site-packages/sklearn/preprocessing/label.py:151: DeprecationWarning: The truth value of an empty array is ambiguous. Returning False, but in future this will result in an error. Use `array.size > 0` to check that an array is not empty.\n",
      "  if diff:\n",
      "/home/fogside/virtualenvs/py3/lib/python3.6/site-packages/sklearn/preprocessing/label.py:151: DeprecationWarning: The truth value of an empty array is ambiguous. Returning False, but in future this will result in an error. Use `array.size > 0` to check that an array is not empty.\n",
      "  if diff:\n"
     ]
    },
    {
     "data": {
      "text/plain": [
       "array([0.72955975, 0.69811321, 0.73417722])"
      ]
     },
     "execution_count": 349,
     "metadata": {},
     "output_type": "execute_result"
    }
   ],
   "source": [
    "cross_val_score(estimator=xgbSolver, X=X, y=y)"
   ]
  },
  {
   "cell_type": "code",
   "execution_count": 350,
   "metadata": {},
   "outputs": [
    {
     "data": {
      "text/plain": [
       "array([0.73584906, 0.74842767, 0.75949367])"
      ]
     },
     "execution_count": 350,
     "metadata": {},
     "output_type": "execute_result"
    }
   ],
   "source": [
    "cross_val_score(estimator=lr, X=X, y=y, scoring='accuracy')"
   ]
  },
  {
   "cell_type": "code",
   "execution_count": 351,
   "metadata": {},
   "outputs": [
    {
     "data": {
      "text/plain": [
       "array([0.6163522 , 0.64779874, 0.68987342])"
      ]
     },
     "execution_count": 351,
     "metadata": {},
     "output_type": "execute_result"
    }
   ],
   "source": [
    "cross_val_score(estimator=nb, X=X, y=y, scoring='accuracy')"
   ]
  },
  {
   "cell_type": "code",
   "execution_count": 352,
   "metadata": {},
   "outputs": [],
   "source": [
    "predictions = cross_val_predict(nb, X, y, cv=2)"
   ]
  },
  {
   "cell_type": "code",
   "execution_count": 354,
   "metadata": {},
   "outputs": [
    {
     "data": {
      "image/png": "[encoded data removed]",
      "text/plain": [
       "<matplotlib.figure.Figure at 0x7efd13755f60>"
      ]
     },
     "metadata": {},
     "output_type": "display_data"
    }
   ],
   "source": [
    "plt.hist(predictions)\n",
    "plt.show()"
   ]
  },
  {
   "cell_type": "code",
   "execution_count": 355,
   "metadata": {},
   "outputs": [
    {
     "data": {
      "text/plain": [
       "XGBClassifier(base_score=0.5, booster='gbtree', colsample_bylevel=1,\n",
       "       colsample_bytree=1, gamma=0, learning_rate=0.05, max_delta_step=0,\n",
       "       max_depth=3, min_child_weight=1, missing=None, n_estimators=150,\n",
       "       n_jobs=1, nthread=None, objective='binary:logistic', random_state=0,\n",
       "       reg_alpha=0, reg_lambda=1, scale_pos_weight=1, seed=None,\n",
       "       silent=True, subsample=1)"
      ]
     },
     "execution_count": 355,
     "metadata": {},
     "output_type": "execute_result"
    }
   ],
   "source": [
    "xgbSolver.fit(X,y)"
   ]
  },
  {
   "cell_type": "code",
   "execution_count": 356,
   "metadata": {},
   "outputs": [
    {
     "data": {
      "image/png": "[encoded data removed]",
      "text/plain": [
       "<matplotlib.figure.Figure at 0x7efd13749ef0>"
      ]
     },
     "metadata": {},
     "output_type": "display_data"
    }
   ],
   "source": [
    "xgboost.plot_importance(xgbSolver)\n",
    "plt.show()"
   ]
  },
  {
   "cell_type": "code",
   "execution_count": 344,
   "metadata": {},
   "outputs": [
    {
     "data": {
      "text/html": [
       "<div>\n",
       "<style scoped>\n",
       "    .dataframe tbody tr th:only-of-type {\n",
       "        vertical-align: middle;\n",
       "    }\n",
       "\n",
       "    .dataframe tbody tr th {\n",
       "        vertical-align: top;\n",
       "    }\n",
       "\n",
       "    .dataframe thead th {\n",
       "        text-align: right;\n",
       "    }\n",
       "</style>\n",
       "<table border=\"1\" class=\"dataframe\">\n",
       "  <thead>\n",
       "    <tr style=\"text-align: right;\">\n",
       "      <th></th>\n",
       "      <th>ari0</th>\n",
       "      <th>ari1</th>\n",
       "      <th>ari2</th>\n",
       "      <th>ari3</th>\n",
       "      <th>homogeneity0</th>\n",
       "      <th>homogeneity1</th>\n",
       "      <th>homogeneity2</th>\n",
       "      <th>homogeneity3</th>\n",
       "      <th>sense_num</th>\n",
       "      <th>true</th>\n",
       "    </tr>\n",
       "  </thead>\n",
       "  <tbody>\n",
       "    <tr>\n",
       "      <th>0</th>\n",
       "      <td>1.00000</td>\n",
       "      <td>0.000000</td>\n",
       "      <td>0.518250</td>\n",
       "      <td>0.005330</td>\n",
       "      <td>1.000000</td>\n",
       "      <td>7.894733e-16</td>\n",
       "      <td>0.430634</td>\n",
       "      <td>0.016203</td>\n",
       "      <td>4</td>\n",
       "      <td>False</td>\n",
       "    </tr>\n",
       "    <tr>\n",
       "      <th>1</th>\n",
       "      <td>0.00000</td>\n",
       "      <td>1.000000</td>\n",
       "      <td>0.000000</td>\n",
       "      <td>0.000000</td>\n",
       "      <td>1.000000</td>\n",
       "      <td>1.000000e+00</td>\n",
       "      <td>1.000000</td>\n",
       "      <td>1.000000</td>\n",
       "      <td>1</td>\n",
       "      <td>False</td>\n",
       "    </tr>\n",
       "    <tr>\n",
       "      <th>2</th>\n",
       "      <td>0.51825</td>\n",
       "      <td>0.000000</td>\n",
       "      <td>1.000000</td>\n",
       "      <td>0.026295</td>\n",
       "      <td>0.423047</td>\n",
       "      <td>8.863583e-16</td>\n",
       "      <td>1.000000</td>\n",
       "      <td>0.012899</td>\n",
       "      <td>3</td>\n",
       "      <td>True</td>\n",
       "    </tr>\n",
       "    <tr>\n",
       "      <th>3</th>\n",
       "      <td>0.00533</td>\n",
       "      <td>0.000000</td>\n",
       "      <td>0.026295</td>\n",
       "      <td>1.000000</td>\n",
       "      <td>0.020667</td>\n",
       "      <td>4.932189e-16</td>\n",
       "      <td>0.016748</td>\n",
       "      <td>1.000000</td>\n",
       "      <td>2</td>\n",
       "      <td>False</td>\n",
       "    </tr>\n",
       "    <tr>\n",
       "      <th>4</th>\n",
       "      <td>1.00000</td>\n",
       "      <td>0.334084</td>\n",
       "      <td>0.379895</td>\n",
       "      <td>0.116417</td>\n",
       "      <td>1.000000</td>\n",
       "      <td>3.019425e-01</td>\n",
       "      <td>0.350891</td>\n",
       "      <td>0.081715</td>\n",
       "      <td>4</td>\n",
       "      <td>False</td>\n",
       "    </tr>\n",
       "  </tbody>\n",
       "</table>\n",
       "</div>"
      ],
      "text/plain": [
       "      ari0      ari1      ari2      ari3  homogeneity0  homogeneity1  \\\n",
       "0  1.00000  0.000000  0.518250  0.005330      1.000000  7.894733e-16   \n",
       "1  0.00000  1.000000  0.000000  0.000000      1.000000  1.000000e+00   \n",
       "2  0.51825  0.000000  1.000000  0.026295      0.423047  8.863583e-16   \n",
       "3  0.00533  0.000000  0.026295  1.000000      0.020667  4.932189e-16   \n",
       "4  1.00000  0.334084  0.379895  0.116417      1.000000  3.019425e-01   \n",
       "\n",
       "   homogeneity2  homogeneity3  sense_num   true  \n",
       "0      0.430634      0.016203          4  False  \n",
       "1      1.000000      1.000000          1  False  \n",
       "2      1.000000      0.012899          3   True  \n",
       "3      0.016748      1.000000          2  False  \n",
       "4      0.350891      0.081715          4  False  "
      ]
     },
     "execution_count": 344,
     "metadata": {},
     "output_type": "execute_result"
    }
   ],
   "source": [
    "features.head()"
   ]
  },
  {
   "cell_type": "markdown",
   "metadata": {},
   "source": [
    "# Checking"
   ]
  },
  {
   "cell_type": "code",
   "execution_count": 260,
   "metadata": {},
   "outputs": [
    {
     "name": "stdout",
     "output_type": "stream",
     "text": [
      "4\n",
      "30\n",
      "85\n"
     ]
    }
   ],
   "source": [
    "for d in dataset_list:\n",
    "    tr = pd.read_csv(d+'train.csv', sep='\\t')\n",
    "    print(len(tr.word.unique()))"
   ]
  },
  {
   "cell_type": "code",
   "execution_count": 275,
   "metadata": {},
   "outputs": [
    {
     "data": {
      "text/plain": [
       "119"
      ]
     },
     "execution_count": 275,
     "metadata": {},
     "output_type": "execute_result"
    }
   ],
   "source": [
    "len(predictions)"
   ]
  },
  {
   "cell_type": "code",
   "execution_count": 303,
   "metadata": {},
   "outputs": [
    {
     "data": {
      "text/plain": [
       "array([0, 1, 2, 2, 2, 2, 2, 2, 2, 2, 2, 1, 3, 2, 2, 3, 2, 1, 1, 2, 3, 2,\n",
       "       3, 3, 1, 2, 0, 2, 1, 2, 1, 2, 2, 0, 2, 0, 2, 3, 0, 3, 3, 2, 3, 1,\n",
       "       2, 2, 1, 2, 2, 2, 1, 2, 3, 0, 1, 3, 2, 2, 1, 3, 1, 2, 2, 0, 2, 2,\n",
       "       2, 2, 1, 0, 0, 3, 1, 2, 0, 3, 0, 0, 2, 2, 0, 2, 2, 2, 2, 2, 0, 2,\n",
       "       0, 1, 2, 3, 2, 0, 1, 2, 1, 0, 1, 0, 2, 1, 0, 2, 1, 0, 2, 2, 0, 0,\n",
       "       1, 1, 0, 0, 3, 1, 3, 2, 3])"
      ]
     },
     "execution_count": 303,
     "metadata": {},
     "output_type": "execute_result"
    }
   ],
   "source": [
    "predictions"
   ]
  },
  {
   "cell_type": "code",
   "execution_count": 262,
   "metadata": {},
   "outputs": [
    {
     "data": {
      "text/plain": [
       "['../data/main/wiki-wiki/',\n",
       " '../data/main/bts-rnc/',\n",
       " '../data/main/active-dict/']"
      ]
     },
     "execution_count": 262,
     "metadata": {},
     "output_type": "execute_result"
    }
   ],
   "source": [
    "dataset_list"
   ]
  },
  {
   "cell_type": "code",
   "execution_count": 261,
   "metadata": {},
   "outputs": [],
   "source": [
    "def check_dataset(dataset_folder, predicted_tags):\n",
    "    DATASET = join(dataset_folder+'train.csv')\n",
    "    \n",
    "    \n",
    "    contexts, main_words, labels, word_list_uniq = make_data(df_file_name=DATASET,\\\n",
    "                     use_gensim_simple_preproc=False, use_mystem=True,\\\n",
    "                     throw_main_word=False, tokenize=True)\n",
    "    \n",
    "    libru = pd.read_csv(join(dataset_folder, \"train.csv_libru.csv\"))\n",
    "    bigText = pd.read_csv(join(dataset_folder,\"train.csv_bigText.csv\"))\n",
    "    baseline = pd.read_csv(join(dataset_folder,\"train.baseline-adagram.csv\"), sep='\\t')\n",
    "    sensegram = pd.read_csv(join(dataset_folder,\"train.csv_sensegram.csv\"))\n",
    "    \n",
    "    datasets = [libru, bigText, baseline, sensegram]\n",
    "    \n",
    "    prediction = []\n",
    "\n",
    "    for w, chosen in zip(word_list_uniq, predicted_tags):\n",
    "        print(\"For word {} chosen {}\".format(w, chosen))\n",
    "        d = datasets[chosen] # датасет,из которого берем предсказания\n",
    "        prediction.extend(d[d.word == w].predict_sense_id)\n",
    "    print('-'*10)\n",
    "    evaluate_weighted_ari(DATASET, prediction)"
   ]
  },
  {
   "cell_type": "code",
   "execution_count": 287,
   "metadata": {},
   "outputs": [
    {
     "name": "stdout",
     "output_type": "stream",
     "text": [
      "For word замок chosen 0\n",
      "For word лук chosen 1\n",
      "For word суда chosen 2\n",
      "For word бор chosen 2\n",
      "----------\n",
      "word\tari\tcount\n",
      "бор\t0.591175\t56\n",
      "замок\t0.337541\t138\n",
      "лук\t0.927898\t110\n",
      "суда\t0.005465\t135\n",
      "\t0.415702\t439\n"
     ]
    }
   ],
   "source": [
    "check_dataset('../data/main/wiki-wiki/', predictions[0:4])"
   ]
  },
  {
   "cell_type": "code",
   "execution_count": 288,
   "metadata": {},
   "outputs": [
    {
     "name": "stdout",
     "output_type": "stream",
     "text": [
      "For word балка chosen 2\n",
      "For word вид chosen 2\n",
      "For word винт chosen 2\n",
      "For word горн chosen 2\n",
      "For word губа chosen 2\n",
      "For word жаба chosen 2\n",
      "For word клетка chosen 2\n",
      "For word крыло chosen 1\n",
      "For word купюра chosen 3\n",
      "For word курица chosen 2\n",
      "For word лавка chosen 2\n",
      "For word лайка chosen 3\n",
      "For word лев chosen 2\n",
      "For word лира chosen 1\n",
      "For word мина chosen 1\n",
      "For word мишень chosen 2\n",
      "For word обед chosen 3\n",
      "For word оклад chosen 2\n",
      "For word опушка chosen 3\n",
      "For word полис chosen 3\n",
      "For word пост chosen 1\n",
      "For word поток chosen 2\n",
      "For word проказа chosen 0\n",
      "For word пропасть chosen 2\n",
      "For word проспект chosen 1\n",
      "For word пытка chosen 2\n",
      "For word рысь chosen 1\n",
      "For word среда chosen 2\n",
      "For word хвост chosen 2\n",
      "For word штамп chosen 0\n",
      "----------\n",
      "word\tari\tcount\n",
      "балка\t0.219333\t119\n",
      "вид\t0.174319\t77\n",
      "винт\t0.278357\t123\n",
      "горн\t0.148054\t51\n",
      "губа\t0.011532\t137\n",
      "жаба\t0.153284\t121\n",
      "клетка\t0.253548\t150\n",
      "крыло\t0.161214\t91\n",
      "купюра\t-0.000079\t150\n",
      "курица\t0.303684\t93\n",
      "лавка\t0.275710\t149\n",
      "лайка\t-0.007037\t99\n",
      "лев\t0.227088\t44\n",
      "лира\t0.763500\t49\n",
      "мина\t0.447643\t65\n",
      "мишень\t0.289000\t121\n",
      "обед\t0.033024\t100\n",
      "оклад\t0.092688\t146\n",
      "опушка\t-0.001031\t148\n",
      "полис\t0.000953\t142\n",
      "пост\t0.733135\t144\n",
      "поток\t0.059094\t136\n",
      "проказа\t0.649362\t146\n",
      "пропасть\t0.284520\t127\n",
      "проспект\t0.000887\t139\n",
      "пытка\t0.026372\t143\n",
      "рысь\t0.682022\t120\n",
      "среда\t0.378653\t144\n",
      "хвост\t0.120220\t121\n",
      "штамп\t0.513234\t96\n",
      "\t0.229067\t3491\n"
     ]
    }
   ],
   "source": [
    "check_dataset('../data/main/bts-rnc/', predictions[4:34])"
   ]
  },
  {
   "cell_type": "code",
   "execution_count": 289,
   "metadata": {},
   "outputs": [
    {
     "name": "stdout",
     "output_type": "stream",
     "text": [
      "For word дар chosen 2\n",
      "For word двигатель chosen 0\n",
      "For word двойник chosen 2\n",
      "For word дворец chosen 3\n",
      "For word девятка chosen 0\n",
      "For word дедушка chosen 3\n",
      "For word дежурная chosen 3\n",
      "For word дежурный chosen 2\n",
      "For word декабрист chosen 3\n",
      "For word декрет chosen 1\n",
      "For word дело chosen 2\n",
      "For word демобилизация chosen 2\n",
      "For word демократ chosen 1\n",
      "For word демонстрация chosen 2\n",
      "For word дерево chosen 2\n",
      "For word держава chosen 2\n",
      "For word дерзость chosen 1\n",
      "For word десятка chosen 2\n",
      "For word десяток chosen 3\n",
      "For word деятель chosen 0\n",
      "For word диалог chosen 1\n",
      "For word диаметр chosen 3\n",
      "For word диплом chosen 2\n",
      "For word директор chosen 2\n",
      "For word диск chosen 1\n",
      "For word дичь chosen 3\n",
      "For word длина chosen 1\n",
      "For word доброволец chosen 2\n",
      "For word добыча chosen 2\n",
      "For word доказательство chosen 0\n",
      "For word доктор chosen 2\n",
      "For word долгота chosen 2\n",
      "For word доля chosen 2\n",
      "For word дом chosen 2\n",
      "For word дорога chosen 1\n",
      "For word достижение chosen 0\n",
      "For word древесина chosen 0\n",
      "For word дупло chosen 3\n",
      "For word дура chosen 1\n",
      "For word дух chosen 2\n",
      "For word дым chosen 0\n",
      "For word дымка chosen 3\n",
      "For word дыхание chosen 0\n",
      "For word дьявол chosen 0\n",
      "For word евро chosen 2\n",
      "For word езда chosen 2\n",
      "For word жаворонок chosen 0\n",
      "For word жало chosen 2\n",
      "For word жертва chosen 2\n",
      "For word жестокость chosen 2\n",
      "For word жидкость chosen 2\n",
      "For word жила chosen 2\n",
      "For word жилец chosen 0\n",
      "For word жир chosen 2\n",
      "For word жребий chosen 0\n",
      "For word заведение chosen 1\n",
      "For word завещание chosen 2\n",
      "For word зависимость chosen 3\n",
      "For word заголовок chosen 2\n",
      "For word заготовка chosen 0\n",
      "For word задание chosen 1\n",
      "For word задача chosen 2\n",
      "For word задержка chosen 1\n",
      "For word зажигалка chosen 0\n",
      "For word закон chosen 1\n",
      "For word закрытие chosen 0\n",
      "For word заложник chosen 2\n",
      "For word замена chosen 1\n",
      "For word западня chosen 0\n",
      "For word запятая chosen 2\n",
      "For word застой chosen 1\n",
      "For word затея chosen 0\n",
      "For word затишье chosen 2\n",
      "For word затмение chosen 2\n",
      "For word затруднение chosen 0\n",
      "For word захоронение chosen 0\n",
      "For word звезда chosen 1\n",
      "For word звон chosen 1\n",
      "For word зеркало chosen 0\n",
      "For word зло chosen 0\n",
      "For word злоупотребление chosen 3\n",
      "For word знак chosen 1\n",
      "For word знамя chosen 3\n",
      "For word значение chosen 2\n",
      "For word зонт chosen 3\n",
      "----------\n",
      "word\tari\tcount\n",
      "дар\t0.052246\t36\n",
      "двигатель\t0.615807\t15\n",
      "двойник\t-0.018537\t25\n",
      "дворец\t-0.041985\t13\n",
      "девятка\t0.017778\t47\n",
      "дедушка\t-0.084337\t9\n",
      "дежурная\t-0.066482\t12\n",
      "дежурный\t-0.028398\t13\n",
      "декабрист\t-0.088391\t11\n",
      "декрет\t0.195122\t12\n",
      "дело\t0.052311\t130\n",
      "демобилизация\t-0.058140\t14\n",
      "демократ\t0.241058\t18\n",
      "демонстрация\t0.042477\t38\n",
      "дерево\t0.588235\t21\n",
      "держава\t0.092664\t15\n",
      "дерзость\t0.090237\t37\n",
      "десятка\t0.118856\t36\n",
      "десяток\t-0.036563\t21\n",
      "деятель\t0.589474\t14\n",
      "диалог\t0.334471\t14\n",
      "диаметр\t0.034346\t18\n",
      "диплом\t0.159552\t25\n",
      "директор\t0.047936\t11\n",
      "диск\t0.130776\t63\n",
      "дичь\t-0.042868\t18\n",
      "длина\t0.164609\t21\n",
      "доброволец\t0.183318\t12\n",
      "добыча\t0.228133\t35\n",
      "доказательство\t0.077199\t24\n",
      "доктор\t0.439893\t17\n",
      "долгота\t0.036072\t13\n",
      "доля\t0.041822\t45\n",
      "дом\t0.153346\t38\n",
      "дорога\t0.028840\t47\n",
      "достижение\t0.145655\t22\n",
      "древесина\t0.004149\t16\n",
      "дупло\t-0.065217\t15\n",
      "дура\t0.023318\t12\n",
      "дух\t0.131565\t77\n",
      "дым\t0.174192\t28\n",
      "дымка\t-0.021021\t18\n",
      "дыхание\t0.204533\t56\n",
      "дьявол\t0.138217\t22\n",
      "евро\t-0.028571\t8\n",
      "езда\t-0.055072\t14\n",
      "жаворонок\t0.037500\t11\n",
      "жало\t-0.100000\t11\n",
      "жертва\t0.190991\t37\n",
      "жестокость\t-0.079051\t14\n",
      "жидкость\t0.334294\t12\n",
      "жила\t0.049406\t17\n",
      "жилец\t0.083333\t16\n",
      "жир\t0.262948\t15\n",
      "жребий\t0.503817\t15\n",
      "заведение\t0.912162\t14\n",
      "завещание\t-0.016667\t16\n",
      "зависимость\t-0.006390\t21\n",
      "заголовок\t0.000000\t22\n",
      "заготовка\t0.066285\t26\n",
      "задание\t0.123757\t33\n",
      "задача\t0.311796\t36\n",
      "задержка\t0.071571\t60\n",
      "зажигалка\t0.226190\t13\n",
      "закон\t0.089390\t56\n",
      "закрытие\t0.156356\t38\n",
      "заложник\t0.432540\t13\n",
      "замена\t0.276840\t18\n",
      "западня\t0.200793\t11\n",
      "запятая\t0.253739\t14\n",
      "застой\t1.000000\t13\n",
      "затея\t-0.066482\t12\n",
      "затишье\t0.116667\t16\n",
      "затмение\t0.040872\t12\n",
      "затруднение\t0.598580\t15\n",
      "захоронение\t-0.014563\t22\n",
      "звезда\t0.161486\t40\n",
      "звон\t0.011586\t14\n",
      "зеркало\t0.309434\t21\n",
      "зло\t0.410163\t23\n",
      "злоупотребление\t-0.079019\t12\n",
      "знак\t0.179762\t55\n",
      "знамя\t-0.082544\t14\n",
      "значение\t0.330283\t30\n",
      "зонт\t0.058140\t9\n",
      "\t0.136302\t2073\n"
     ]
    }
   ],
   "source": [
    "check_dataset('../data/main/active-dict/', predictions[34:])"
   ]
  },
  {
   "cell_type": "markdown",
   "metadata": {},
   "source": [
    "# 2 classes case"
   ]
  },
  {
   "cell_type": "code",
   "execution_count": 369,
   "metadata": {},
   "outputs": [],
   "source": [
    "def check_dataset2(dataset_folder, predicted_tags):\n",
    "    DATASET = join(dataset_folder+'train.csv')\n",
    "    \n",
    "    \n",
    "    contexts, main_words, labels, word_list_uniq = make_data(df_file_name=DATASET,\\\n",
    "                     use_gensim_simple_preproc=False, use_mystem=True,\\\n",
    "                     throw_main_word=False, tokenize=True)\n",
    "    \n",
    "    libru = pd.read_csv(join(dataset_folder, \"train.csv_libru.csv\"))\n",
    "    bigText = pd.read_csv(join(dataset_folder,\"train.csv_bigText.csv\"))\n",
    "    baseline = pd.read_csv(join(dataset_folder,\"train.baseline-adagram.csv\"), sep='\\t')\n",
    "    sensegram = pd.read_csv(join(dataset_folder,\"train.csv_sensegram.csv\"))\n",
    "    \n",
    "    datasets = [libru, bigText, baseline, sensegram]\n",
    "    \n",
    "    prediction = []\n",
    "\n",
    "    for w, variants in zip(word_list_uniq, np.split(predicted_tags, 4)):\n",
    "        chosen = np.argmax(variants)\n",
    "        print(\"For word {} chosen {}\".format(w, chosen))\n",
    "        d = datasets[chosen] # датасет,из которого берем предсказания\n",
    "        prediction.extend(d[d.word == w].predict_sense_id)\n",
    "    print('-'*10)\n",
    "    evaluate_weighted_ari(DATASET, prediction)"
   ]
  },
  {
   "cell_type": "code",
   "execution_count": 370,
   "metadata": {},
   "outputs": [
    {
     "name": "stdout",
     "output_type": "stream",
     "text": [
      "For word замок chosen 0\n",
      "For word лук chosen 0\n",
      "For word суда chosen 0\n",
      "For word бор chosen 0\n",
      "----------\n",
      "word\tari\tcount\n",
      "бор\t0.171375\t56\n",
      "замок\t0.337541\t138\n",
      "лук\t0.357879\t110\n",
      "суда\t-0.078850\t135\n",
      "\t0.193393\t439\n"
     ]
    }
   ],
   "source": [
    "check_dataset('../data/main/wiki-wiki/', predictions[0:4*4])"
   ]
  },
  {
   "cell_type": "markdown",
   "metadata": {},
   "source": [
    "# Submit"
   ]
  },
  {
   "cell_type": "code",
   "execution_count": 305,
   "metadata": {},
   "outputs": [
    {
     "name": "stdout",
     "output_type": "stream",
     "text": [
      "total 5,6M\r\n",
      "-rw-r--r-- 1 fogside fogside 515K дек 20 11:53 \u001b[0m\u001b[00mtest.csv\u001b[0m\r\n",
      "-rw-r--r-- 1 fogside fogside 520K янв 24 16:45 \u001b[00mtest.csv_baseline.csv\u001b[0m\r\n",
      "-rw-r--r-- 1 fogside fogside 520K янв 24 16:44 \u001b[00mtest.csv_bigText.csv\u001b[0m\r\n",
      "-rw-r--r-- 1 fogside fogside 520K янв 24 16:43 \u001b[00mtest.csv_libru.csv\u001b[0m\r\n",
      "-rw-r--r-- 1 fogside fogside 348K ноя  7 15:48 \u001b[00mtrain.baseline-adagram.csv\u001b[0m\r\n",
      "-rw-r--r-- 1 fogside fogside 350K ноя 21 16:40 \u001b[00mtrain.constant.csv\u001b[0m\r\n",
      "-rw-r--r-- 1 fogside fogside 358K янв 13 20:52 \u001b[00mtrain.csv\u001b[0m\r\n",
      "-rw-r--r-- 1 fogside fogside 361K янв 22 17:08 \u001b[00mtrain.csv_bigText.csv\u001b[0m\r\n",
      "-rw-r--r-- 1 fogside fogside 361K янв 22 17:01 \u001b[00mtrain.csv_libru.csv\u001b[0m\r\n",
      "-rw-r--r-- 1 fogside fogside 364K янв 22 17:25 \u001b[00mtrain.csv_sensegram.csv\u001b[0m\r\n",
      "-rw-r--r-- 1 fogside fogside 350K ноя 21 16:40 \u001b[00mtrain.oracle.csv\u001b[0m\r\n",
      "-rw-r--r-- 1 fogside fogside 350K ноя 21 16:40 \u001b[00mtrain.random-1-3.csv\u001b[0m\r\n",
      "-rw-r--r-- 1 fogside fogside 350K ноя 21 16:40 \u001b[00mtrain.random-1-6.csv\u001b[0m\r\n",
      "-rw-r--r-- 1 fogside fogside 350K ноя 21 16:40 \u001b[00mtrain.unique-dataset-wise.csv\u001b[0m\r\n"
     ]
    }
   ],
   "source": [
    "ls -lh ../data/main/wiki-wiki/"
   ]
  },
  {
   "cell_type": "code",
   "execution_count": 322,
   "metadata": {},
   "outputs": [],
   "source": [
    "from testing_interface import save_predictions"
   ]
  },
  {
   "cell_type": "code",
   "execution_count": 323,
   "metadata": {},
   "outputs": [
    {
     "name": "stdout",
     "output_type": "stream",
     "text": [
      "The autoreload extension is already loaded. To reload it, use:\n",
      "  %reload_ext autoreload\n"
     ]
    }
   ],
   "source": [
    "%load_ext autoreload\n",
    "%autoreload 2"
   ]
  },
  {
   "cell_type": "code",
   "execution_count": 324,
   "metadata": {},
   "outputs": [],
   "source": [
    "def save_prediction(dataset_folder):\n",
    "    DATASET = join(dataset_folder+'test.csv')\n",
    "    \n",
    "    \n",
    "    contexts, main_words, labels, word_list_uniq = make_data(df_file_name=DATASET,\\\n",
    "                     use_gensim_simple_preproc=False, use_mystem=True,\\\n",
    "                     throw_main_word=False, tokenize=True)\n",
    "    \n",
    "    libru = pd.read_csv(join(dataset_folder, \"test.csv_libru.csv\"))\n",
    "    bigText = pd.read_csv(join(dataset_folder,\"test.csv_bigText.csv\"))\n",
    "    baseline = pd.read_csv(join(dataset_folder,\"test.csv_baseline.csv\"))\n",
    "#     sensegram = pd.read_csv(join(dataset_folder,\"test.csv_sensegram.csv\"))\n",
    "    \n",
    "    datasets = [libru, bigText, baseline, sensegram]\n",
    "    \n",
    "    prediction = []\n",
    "\n",
    "    for w in word_list_uniq:\n",
    "        clust_num = []\n",
    "        for df in datasets:\n",
    "            n = len(set(df[df.word == w].predict_sense_id.values))\n",
    "            clust_num.append(n)\n",
    "        chosen = np.argmax(clust_num)\n",
    "        print(\"For word {} chosen {}\".format(w, chosen))\n",
    "        d = datasets[chosen] # датасет,из которого берем предсказания\n",
    "        prediction.extend(d[d.word == w].predict_sense_id)\n",
    "    \n",
    "    save_predictions(DATASET, predictions=prediction, df_saving_name=\"final\")"
   ]
  },
  {
   "cell_type": "code",
   "execution_count": 325,
   "metadata": {},
   "outputs": [
    {
     "name": "stdout",
     "output_type": "stream",
     "text": [
      "For word банка chosen 2\n",
      "For word белка chosen 2\n",
      "For word бит chosen 0\n",
      "For word горе chosen 0\n",
      "For word гранат chosen 1\n",
      "For word граф chosen 0\n",
      "For word душ chosen 1\n",
      "Saved!\n"
     ]
    }
   ],
   "source": [
    "save_prediction(\"../data/main/wiki-wiki/\")"
   ]
  },
  {
   "cell_type": "code",
   "execution_count": null,
   "metadata": {},
   "outputs": [],
   "source": []
  },
  {
   "cell_type": "code",
   "execution_count": null,
   "metadata": {},
   "outputs": [],
   "source": []
  },
  {
   "cell_type": "code",
   "execution_count": null,
   "metadata": {},
   "outputs": [],
   "source": []
  },
  {
   "cell_type": "code",
   "execution_count": null,
   "metadata": {},
   "outputs": [],
   "source": []
  },
  {
   "cell_type": "code",
   "execution_count": null,
   "metadata": {},
   "outputs": [],
   "source": []
  },
  {
   "cell_type": "code",
   "execution_count": null,
   "metadata": {},
   "outputs": [],
   "source": []
  },
  {
   "cell_type": "code",
   "execution_count": null,
   "metadata": {},
   "outputs": [],
   "source": []
  },
  {
   "cell_type": "code",
   "execution_count": null,
   "metadata": {},
   "outputs": [],
   "source": []
  }
 ],
 "metadata": {
  "kernelspec": {
   "display_name": "Python 3",
   "language": "python",
   "name": "python3"
  },
  "language_info": {
   "codemirror_mode": {
    "name": "ipython",
    "version": 3
   },
   "file_extension": ".py",
   "mimetype": "text/x-python",
   "name": "python",
   "nbconvert_exporter": "python",
   "pygments_lexer": "ipython3",
   "version": "3.6.3"
  }
 },
 "nbformat": 4,
 "nbformat_minor": 2
}

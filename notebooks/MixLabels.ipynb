{
 "cells": [
  {
   "cell_type": "markdown",
   "metadata": {},
   "source": [
    "Mix labels of several trained models:\n",
    "\n",
    "* Baseline Ada\n",
    "* LibRu Ada\n",
    "* BigDataset Ada\n",
    "* SensGram wiki+contexts"
   ]
  },
  {
   "cell_type": "code",
   "execution_count": 1,
   "metadata": {},
   "outputs": [],
   "source": [
    "import numpy as np\n",
    "import pandas as pd"
   ]
  },
  {
   "cell_type": "code",
   "execution_count": 3,
   "metadata": {},
   "outputs": [],
   "source": [
    "from testing_interface import make_data,\\\n",
    "                              visualize_pca,\\\n",
    "                              evaluate_weighted_ari,\\\n",
    "                              get_one_word_data,\\\n",
    "                              visualize_pca_one_word,\\\n",
    "                              visualize_tsne_one_word\n",
    "\n",
    "DATASET = '../data/main/wiki-wiki/train.csv'\n",
    "\n",
    "contexts, main_words, labels, word_list_uniq = make_data(df_file_name=DATASET,\\\n",
    "                 use_gensim_simple_preproc=False, use_mystem=True,\\\n",
    "                 throw_main_word=False, tokenize=True)"
   ]
  },
  {
   "cell_type": "markdown",
   "metadata": {},
   "source": [
    "# Simple Rule:\n",
    "\n",
    "take labels with max number of clusters"
   ]
  },
  {
   "cell_type": "code",
   "execution_count": 19,
   "metadata": {},
   "outputs": [],
   "source": [
    "from os.path import join"
   ]
  },
  {
   "cell_type": "code",
   "execution_count": 2,
   "metadata": {},
   "outputs": [
    {
     "name": "stdout",
     "output_type": "stream",
     "text": [
      "total 4,0M\r\n",
      "-rw-r--r-- 1 fogside fogside 515K дек 20 11:53 \u001b[0m\u001b[00mtest.csv\u001b[0m\r\n",
      "-rw-r--r-- 1 fogside fogside 348K ноя  7 15:48 \u001b[00mtrain.baseline-adagram.csv\u001b[0m\r\n",
      "-rw-r--r-- 1 fogside fogside 350K ноя 21 16:40 \u001b[00mtrain.constant.csv\u001b[0m\r\n",
      "-rw-r--r-- 1 fogside fogside 358K янв 13 20:52 \u001b[00mtrain.csv\u001b[0m\r\n",
      "-rw-r--r-- 1 fogside fogside 361K янв 22 17:08 \u001b[00mtrain.csv_bigText.csv\u001b[0m\r\n",
      "-rw-r--r-- 1 fogside fogside 361K янв 22 17:01 \u001b[00mtrain.csv_libru.csv\u001b[0m\r\n",
      "-rw-r--r-- 1 fogside fogside 364K янв 22 17:25 \u001b[00mtrain.csv_sensegram.csv\u001b[0m\r\n",
      "-rw-r--r-- 1 fogside fogside 350K ноя 21 16:40 \u001b[00mtrain.oracle.csv\u001b[0m\r\n",
      "-rw-r--r-- 1 fogside fogside 350K ноя 21 16:40 \u001b[00mtrain.random-1-3.csv\u001b[0m\r\n",
      "-rw-r--r-- 1 fogside fogside 350K ноя 21 16:40 \u001b[00mtrain.random-1-6.csv\u001b[0m\r\n",
      "-rw-r--r-- 1 fogside fogside 350K ноя 21 16:40 \u001b[00mtrain.unique-dataset-wise.csv\u001b[0m\r\n"
     ]
    }
   ],
   "source": [
    "ls -lh ../data/main/wiki-wiki/"
   ]
  },
  {
   "cell_type": "code",
   "execution_count": 23,
   "metadata": {},
   "outputs": [],
   "source": [
    "import os"
   ]
  },
  {
   "cell_type": "code",
   "execution_count": 26,
   "metadata": {},
   "outputs": [
    {
     "data": {
      "text/plain": [
       "'../lol.lol'"
      ]
     },
     "execution_count": 26,
     "metadata": {},
     "output_type": "execute_result"
    }
   ],
   "source": [
    "join('../', 'lol.lol')"
   ]
  },
  {
   "cell_type": "code",
   "execution_count": 34,
   "metadata": {},
   "outputs": [
    {
     "data": {
      "text/plain": [
       "'../data/main/wiki-wiki/train.csv_libru.csv'"
      ]
     },
     "execution_count": 34,
     "metadata": {},
     "output_type": "execute_result"
    }
   ],
   "source": [
    "dataset_folder=\"../data/main/wiki-wiki/\"\n",
    "os.path.join(\"../data/main/wiki-wiki/\", \"train.csv_libru.csv\")"
   ]
  },
  {
   "cell_type": "code",
   "execution_count": 47,
   "metadata": {},
   "outputs": [],
   "source": [
    "def check_dataset(dataset_folder):\n",
    "    DATASET = join(dataset_folder+'train.csv')\n",
    "    \n",
    "    \n",
    "    contexts, main_words, labels, word_list_uniq = make_data(df_file_name=DATASET,\\\n",
    "                     use_gensim_simple_preproc=False, use_mystem=True,\\\n",
    "                     throw_main_word=False, tokenize=True)\n",
    "    \n",
    "    libru = pd.read_csv(join(dataset_folder, \"train.csv_libru.csv\"))\n",
    "    bigText = pd.read_csv(join(dataset_folder,\"train.csv_bigText.csv\"))\n",
    "    baseline = pd.read_csv(join(dataset_folder,\"train.baseline-adagram.csv\"), sep='\\t')\n",
    "    sensegram = pd.read_csv(join(dataset_folder,\"train.csv_sensegram.csv\"))\n",
    "    \n",
    "    datasets = [libru, bigText, baseline, sensegram]\n",
    "    \n",
    "    prediction = []\n",
    "\n",
    "    for w in word_list_uniq:\n",
    "        clust_num = []\n",
    "        for df in datasets:\n",
    "            n = len(set(df[df.word == w].predict_sense_id.values))\n",
    "            clust_num.append(n)\n",
    "        chosen = np.argmax(clust_num)\n",
    "        print(\"For word {} chosen {}\".format(w, n))\n",
    "        d = datasets[chosen] # датасет,из которого берем предсказания\n",
    "        prediction.extend(d[d.word == w].predict_sense_id)\n",
    "    print('-'*10)\n",
    "    print(len(prediction))\n",
    "    evaluate_weighted_ari(DATASET, prediction)"
   ]
  },
  {
   "cell_type": "code",
   "execution_count": 48,
   "metadata": {},
   "outputs": [
    {
     "name": "stdout",
     "output_type": "stream",
     "text": [
      "For word замок chosen 2\n",
      "For word лук chosen 2\n",
      "For word суда chosen 2\n",
      "For word бор chosen 2\n",
      "----------\n",
      "439\n",
      "word\tari\tcount\n",
      "бор\t0.591175\t56\n",
      "замок\t0.337541\t138\n",
      "лук\t0.637076\t110\n",
      "суда\t0.005465\t135\n",
      "\t0.342831\t439\n"
     ]
    }
   ],
   "source": [
    "check_dataset(\"../data/main/wiki-wiki/\")"
   ]
  },
  {
   "cell_type": "code",
   "execution_count": 49,
   "metadata": {},
   "outputs": [
    {
     "name": "stdout",
     "output_type": "stream",
     "text": [
      "For word дар chosen 3\n",
      "For word двигатель chosen 3\n",
      "For word двойник chosen 2\n",
      "For word дворец chosen 2\n",
      "For word девятка chosen 3\n",
      "For word дедушка chosen 2\n",
      "For word дежурная chosen 2\n",
      "For word дежурный chosen 3\n",
      "For word декабрист chosen 2\n",
      "For word декрет chosen 3\n",
      "For word дело chosen 2\n",
      "For word демобилизация chosen 3\n",
      "For word демократ chosen 2\n",
      "For word демонстрация chosen 2\n",
      "For word дерево chosen 3\n",
      "For word держава chosen 2\n",
      "For word дерзость chosen 2\n",
      "For word десятка chosen 3\n",
      "For word десяток chosen 2\n",
      "For word деятель chosen 1\n",
      "For word диалог chosen 2\n",
      "For word диаметр chosen 2\n",
      "For word диплом chosen 3\n",
      "For word директор chosen 2\n",
      "For word диск chosen 2\n",
      "For word дичь chosen 3\n",
      "For word длина chosen 2\n",
      "For word доброволец chosen 2\n",
      "For word добыча chosen 2\n",
      "For word доказательство chosen 3\n",
      "For word доктор chosen 3\n",
      "For word долгота chosen 2\n",
      "For word доля chosen 2\n",
      "For word дом chosen 3\n",
      "For word дорога chosen 2\n",
      "For word достижение chosen 2\n",
      "For word древесина chosen 2\n",
      "For word дупло chosen 2\n",
      "For word дура chosen 2\n",
      "For word дух chosen 3\n",
      "For word дым chosen 2\n",
      "For word дымка chosen 2\n",
      "For word дыхание chosen 2\n",
      "For word дьявол chosen 2\n",
      "For word евро chosen 2\n",
      "For word езда chosen 3\n",
      "For word жаворонок chosen 2\n",
      "For word жало chosen 2\n",
      "For word жертва chosen 2\n",
      "For word жестокость chosen 2\n",
      "For word жидкость chosen 3\n",
      "For word жила chosen 4\n",
      "For word жилец chosen 1\n",
      "For word жир chosen 2\n",
      "For word жребий chosen 1\n",
      "For word заведение chosen 2\n",
      "For word завещание chosen 2\n",
      "For word зависимость chosen 2\n",
      "For word заголовок chosen 3\n",
      "For word заготовка chosen 2\n",
      "For word задание chosen 2\n",
      "For word задача chosen 2\n",
      "For word задержка chosen 2\n",
      "For word зажигалка chosen 2\n",
      "For word закон chosen 2\n",
      "For word закрытие chosen 2\n",
      "For word заложник chosen 2\n",
      "For word замена chosen 2\n",
      "For word западня chosen 3\n",
      "For word запятая chosen 3\n",
      "For word застой chosen 2\n",
      "For word затея chosen 2\n",
      "For word затишье chosen 3\n",
      "For word затмение chosen 2\n",
      "For word затруднение chosen 2\n",
      "For word захоронение chosen 2\n",
      "For word звезда chosen 2\n",
      "For word звон chosen 2\n",
      "For word зеркало chosen 2\n",
      "For word зло chosen 2\n",
      "For word злоупотребление chosen 2\n",
      "For word знак chosen 2\n",
      "For word знамя chosen 2\n",
      "For word значение chosen 2\n",
      "For word зонт chosen 2\n",
      "----------\n",
      "2073\n",
      "word\tari\tcount\n",
      "дар\t0.052246\t36\n",
      "двигатель\t0.615807\t15\n",
      "двойник\t0.162170\t25\n",
      "дворец\t0.601227\t13\n",
      "девятка\t-0.012795\t47\n",
      "дедушка\t0.369427\t9\n",
      "дежурная\t0.000000\t12\n",
      "дежурный\t-0.028398\t13\n",
      "декабрист\t-0.011827\t11\n",
      "декрет\t0.535211\t12\n",
      "дело\t0.052311\t130\n",
      "демобилизация\t0.408379\t14\n",
      "демократ\t0.170282\t18\n",
      "демонстрация\t0.050770\t38\n",
      "дерево\t0.588235\t21\n",
      "держава\t0.092664\t15\n",
      "дерзость\t0.028001\t37\n",
      "десятка\t0.118856\t36\n",
      "десяток\t0.023123\t21\n",
      "деятель\t0.589474\t14\n",
      "диалог\t0.052083\t14\n",
      "диаметр\t0.048164\t18\n",
      "диплом\t0.159552\t25\n",
      "директор\t0.047936\t11\n",
      "диск\t0.126798\t63\n",
      "дичь\t0.244444\t18\n",
      "длина\t-0.083460\t21\n",
      "доброволец\t0.200897\t12\n",
      "добыча\t0.299206\t35\n",
      "доказательство\t0.067949\t24\n",
      "доктор\t0.343860\t17\n",
      "долгота\t0.036072\t13\n",
      "доля\t0.273346\t45\n",
      "дом\t0.153346\t38\n",
      "дорога\t0.074998\t47\n",
      "достижение\t0.099485\t22\n",
      "древесина\t0.122363\t16\n",
      "дупло\t0.160305\t15\n",
      "дура\t0.485793\t12\n",
      "дух\t0.131565\t77\n",
      "дым\t0.174192\t28\n",
      "дымка\t1.000000\t18\n",
      "дыхание\t0.308969\t56\n",
      "дьявол\t0.138217\t22\n",
      "евро\t-0.028571\t8\n",
      "езда\t-0.013559\t14\n",
      "жаворонок\t0.037500\t11\n",
      "жало\t0.037500\t11\n",
      "жертва\t0.190991\t37\n",
      "жестокость\t-0.079051\t14\n",
      "жидкость\t0.334294\t12\n",
      "жила\t0.055344\t17\n",
      "жилец\t0.083333\t16\n",
      "жир\t0.262948\t15\n",
      "жребий\t0.503817\t15\n",
      "заведение\t0.911263\t14\n",
      "завещание\t-0.016667\t16\n",
      "зависимость\t0.198646\t21\n",
      "заголовок\t0.000533\t22\n",
      "заготовка\t0.371053\t26\n",
      "задание\t0.089024\t33\n",
      "задача\t0.311796\t36\n",
      "задержка\t0.082430\t60\n",
      "зажигалка\t0.226190\t13\n",
      "закон\t0.106542\t56\n",
      "закрытие\t0.156356\t38\n",
      "заложник\t-0.022472\t13\n",
      "замена\t0.510336\t18\n",
      "западня\t0.200793\t11\n",
      "запятая\t0.253739\t14\n",
      "застой\t0.790323\t13\n",
      "затея\t0.000000\t12\n",
      "затишье\t0.083969\t16\n",
      "затмение\t0.664820\t12\n",
      "затруднение\t0.598580\t15\n",
      "захоронение\t-0.014563\t22\n",
      "звезда\t0.331434\t40\n",
      "звон\t-0.050000\t14\n",
      "зеркало\t0.309434\t21\n",
      "зло\t0.410163\t23\n",
      "злоупотребление\t0.664820\t12\n",
      "знак\t0.273790\t55\n",
      "знамя\t0.166345\t14\n",
      "значение\t0.330283\t30\n",
      "зонт\t-0.012500\t9\n",
      "\t0.189529\t2073\n"
     ]
    }
   ],
   "source": [
    "check_dataset(\"../data/main/active-dict/\")"
   ]
  },
  {
   "cell_type": "code",
   "execution_count": 50,
   "metadata": {},
   "outputs": [
    {
     "name": "stdout",
     "output_type": "stream",
     "text": [
      "For word балка chosen 2\n",
      "For word вид chosen 2\n",
      "For word винт chosen 3\n",
      "For word горн chosen 2\n",
      "For word губа chosen 3\n",
      "For word жаба chosen 2\n",
      "For word клетка chosen 2\n",
      "For word крыло chosen 2\n",
      "For word купюра chosen 2\n",
      "For word курица chosen 3\n",
      "For word лавка chosen 2\n",
      "For word лайка chosen 2\n",
      "For word лев chosen 2\n",
      "For word лира chosen 2\n",
      "For word мина chosen 2\n",
      "For word мишень chosen 3\n",
      "For word обед chosen 2\n",
      "For word оклад chosen 2\n",
      "For word опушка chosen 2\n",
      "For word полис chosen 2\n",
      "For word пост chosen 2\n",
      "For word поток chosen 2\n",
      "For word проказа chosen 2\n",
      "For word пропасть chosen 2\n",
      "For word проспект chosen 2\n",
      "For word пытка chosen 2\n",
      "For word рысь chosen 2\n",
      "For word среда chosen 3\n",
      "For word хвост chosen 2\n",
      "For word штамп chosen 2\n",
      "----------\n",
      "3491\n",
      "word\tari\tcount\n",
      "балка\t0.559585\t119\n",
      "вид\t0.103725\t77\n",
      "винт\t0.458525\t123\n",
      "горн\t0.148054\t51\n",
      "губа\t0.011532\t137\n",
      "жаба\t-0.053646\t121\n",
      "клетка\t0.253548\t150\n",
      "крыло\t0.251726\t91\n",
      "купюра\t-0.026889\t150\n",
      "курица\t0.303684\t93\n",
      "лавка\t0.275710\t149\n",
      "лайка\t-0.028626\t99\n",
      "лев\t0.227088\t44\n",
      "лира\t0.459176\t49\n",
      "мина\t0.342283\t65\n",
      "мишень\t0.289000\t121\n",
      "обед\t0.109923\t100\n",
      "оклад\t0.077188\t146\n",
      "опушка\t0.141431\t148\n",
      "полис\t0.057707\t142\n",
      "пост\t0.693366\t144\n",
      "поток\t0.059094\t136\n",
      "проказа\t0.649362\t146\n",
      "пропасть\t0.284520\t127\n",
      "проспект\t0.307037\t139\n",
      "пытка\t0.026372\t143\n",
      "рысь\t0.641513\t120\n",
      "среда\t0.378653\t144\n",
      "хвост\t0.055584\t121\n",
      "штамп\t0.513234\t96\n",
      "\t0.249465\t3491\n"
     ]
    }
   ],
   "source": [
    "check_dataset(\"../data/main/bts-rnc/\")"
   ]
  },
  {
   "cell_type": "code",
   "execution_count": null,
   "metadata": {},
   "outputs": [],
   "source": []
  },
  {
   "cell_type": "code",
   "execution_count": null,
   "metadata": {},
   "outputs": [],
   "source": []
  },
  {
   "cell_type": "code",
   "execution_count": null,
   "metadata": {},
   "outputs": [],
   "source": []
  },
  {
   "cell_type": "code",
   "execution_count": null,
   "metadata": {},
   "outputs": [],
   "source": []
  },
  {
   "cell_type": "code",
   "execution_count": null,
   "metadata": {},
   "outputs": [],
   "source": []
  }
 ],
 "metadata": {
  "kernelspec": {
   "display_name": "Python 3",
   "language": "python",
   "name": "python3"
  },
  "language_info": {
   "codemirror_mode": {
    "name": "ipython",
    "version": 3
   },
   "file_extension": ".py",
   "mimetype": "text/x-python",
   "name": "python",
   "nbconvert_exporter": "python",
   "pygments_lexer": "ipython3",
   "version": "3.6.3"
  }
 },
 "nbformat": 4,
 "nbformat_minor": 2
}

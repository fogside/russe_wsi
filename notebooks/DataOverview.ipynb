{
 "cells": [
  {
   "cell_type": "code",
   "execution_count": 8,
   "metadata": {},
   "outputs": [],
   "source": [
    "import pandas as pd\n",
    "import numpy as np\n",
    "import matplotlib.pyplot as plt\n",
    "import seaborn\n",
    "%matplotlib inline"
   ]
  },
  {
   "cell_type": "code",
   "execution_count": 9,
   "metadata": {},
   "outputs": [
    {
     "name": "stdout",
     "output_type": "stream",
     "text": [
      "total 692K\r\n",
      "-rw-rw-r-- 1 fogside fogside 345K ноя  7 23:38 \u001b[0m\u001b[00mtrain.baseline-adagram.csv\u001b[0m\r\n",
      "-rw-rw-r-- 1 fogside fogside 343K ноя  7 23:38 \u001b[00mtrain.csv\u001b[0m\r\n"
     ]
    }
   ],
   "source": [
    "ls -lh ../data/main/active-dict/"
   ]
  },
  {
   "cell_type": "code",
   "execution_count": 10,
   "metadata": {},
   "outputs": [
    {
     "data": {
      "text/html": [
       "<div>\n",
       "<style>\n",
       "    .dataframe thead tr:only-child th {\n",
       "        text-align: right;\n",
       "    }\n",
       "\n",
       "    .dataframe thead th {\n",
       "        text-align: left;\n",
       "    }\n",
       "\n",
       "    .dataframe tbody tr th {\n",
       "        vertical-align: top;\n",
       "    }\n",
       "</style>\n",
       "<table border=\"1\" class=\"dataframe\">\n",
       "  <thead>\n",
       "    <tr style=\"text-align: right;\">\n",
       "      <th></th>\n",
       "      <th>context_id</th>\n",
       "      <th>word</th>\n",
       "      <th>gold_sense_id</th>\n",
       "      <th>predict_sense_id</th>\n",
       "      <th>positions</th>\n",
       "      <th>context</th>\n",
       "    </tr>\n",
       "  </thead>\n",
       "  <tbody>\n",
       "    <tr>\n",
       "      <th>0</th>\n",
       "      <td>1</td>\n",
       "      <td>дар</td>\n",
       "      <td>1</td>\n",
       "      <td>3</td>\n",
       "      <td>18-22</td>\n",
       "      <td>Отвергнуть щедрый дар</td>\n",
       "    </tr>\n",
       "    <tr>\n",
       "      <th>1</th>\n",
       "      <td>2</td>\n",
       "      <td>дар</td>\n",
       "      <td>1</td>\n",
       "      <td>3</td>\n",
       "      <td>21-28</td>\n",
       "      <td>покупать преданность дарами и наградами</td>\n",
       "    </tr>\n",
       "    <tr>\n",
       "      <th>2</th>\n",
       "      <td>3</td>\n",
       "      <td>дар</td>\n",
       "      <td>1</td>\n",
       "      <td>3</td>\n",
       "      <td>19-23</td>\n",
       "      <td>Вот яд – последний дар моей Изоры</td>\n",
       "    </tr>\n",
       "    <tr>\n",
       "      <th>3</th>\n",
       "      <td>4</td>\n",
       "      <td>дар</td>\n",
       "      <td>1</td>\n",
       "      <td>4</td>\n",
       "      <td>81-87</td>\n",
       "      <td>Основная функция корильных песен – повеселить ...</td>\n",
       "    </tr>\n",
       "    <tr>\n",
       "      <th>4</th>\n",
       "      <td>5</td>\n",
       "      <td>дар</td>\n",
       "      <td>1</td>\n",
       "      <td>1</td>\n",
       "      <td>151-157</td>\n",
       "      <td>Но недели две спустя (Алевтина его когда-то об...</td>\n",
       "    </tr>\n",
       "  </tbody>\n",
       "</table>\n",
       "</div>"
      ],
      "text/plain": [
       "   context_id word gold_sense_id  predict_sense_id positions  \\\n",
       "0           1  дар             1                 3     18-22   \n",
       "1           2  дар             1                 3     21-28   \n",
       "2           3  дар             1                 3     19-23   \n",
       "3           4  дар             1                 4     81-87   \n",
       "4           5  дар             1                 1   151-157   \n",
       "\n",
       "                                             context  \n",
       "0                              Отвергнуть щедрый дар  \n",
       "1            покупать преданность дарами и наградами  \n",
       "2                  Вот яд – последний дар моей Изоры  \n",
       "3  Основная функция корильных песен – повеселить ...  \n",
       "4  Но недели две спустя (Алевтина его когда-то об...  "
      ]
     },
     "execution_count": 10,
     "metadata": {},
     "output_type": "execute_result"
    }
   ],
   "source": [
    "active_dict = pd.read_csv(\"../data/main/active-dict/train.baseline-adagram.csv\", sep='\\t')\n",
    "active_dict.head()"
   ]
  },
  {
   "cell_type": "code",
   "execution_count": null,
   "metadata": {},
   "outputs": [],
   "source": []
  },
  {
   "cell_type": "code",
   "execution_count": null,
   "metadata": {},
   "outputs": [],
   "source": []
  },
  {
   "cell_type": "code",
   "execution_count": null,
   "metadata": {},
   "outputs": [],
   "source": []
  },
  {
   "cell_type": "code",
   "execution_count": null,
   "metadata": {},
   "outputs": [],
   "source": []
  },
  {
   "cell_type": "code",
   "execution_count": null,
   "metadata": {},
   "outputs": [],
   "source": []
  },
  {
   "cell_type": "code",
   "execution_count": null,
   "metadata": {},
   "outputs": [],
   "source": []
  },
  {
   "cell_type": "code",
   "execution_count": null,
   "metadata": {},
   "outputs": [],
   "source": []
  },
  {
   "cell_type": "code",
   "execution_count": null,
   "metadata": {},
   "outputs": [],
   "source": []
  },
  {
   "cell_type": "code",
   "execution_count": null,
   "metadata": {},
   "outputs": [],
   "source": []
  },
  {
   "cell_type": "code",
   "execution_count": null,
   "metadata": {},
   "outputs": [],
   "source": []
  },
  {
   "cell_type": "code",
   "execution_count": null,
   "metadata": {},
   "outputs": [],
   "source": []
  },
  {
   "cell_type": "code",
   "execution_count": null,
   "metadata": {},
   "outputs": [],
   "source": []
  }
 ],
 "metadata": {
  "kernelspec": {
   "display_name": "Python 3",
   "language": "python",
   "name": "python3"
  },
  "language_info": {
   "codemirror_mode": {
    "name": "ipython",
    "version": 3
   },
   "file_extension": ".py",
   "mimetype": "text/x-python",
   "name": "python",
   "nbconvert_exporter": "python",
   "pygments_lexer": "ipython3",
   "version": "3.5.2"
  }
 },
 "nbformat": 4,
 "nbformat_minor": 2
}

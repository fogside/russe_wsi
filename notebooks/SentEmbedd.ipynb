{
 "cells": [
  {
   "cell_type": "code",
   "execution_count": 1,
   "metadata": {},
   "outputs": [],
   "source": [
    "import gensim\n",
    "import os\n",
    "import collections\n",
    "import smart_open\n",
    "import random\n",
    "import pandas as pd"
   ]
  },
  {
   "cell_type": "code",
   "execution_count": 2,
   "metadata": {},
   "outputs": [],
   "source": [
    "from matplotlib import pyplot as plt\n",
    "%matplotlib inline"
   ]
  },
  {
   "cell_type": "code",
   "execution_count": 3,
   "metadata": {},
   "outputs": [
    {
     "name": "stdout",
     "output_type": "stream",
     "text": [
      "total 9,9M\r\n",
      "-rw-r--r-- 1 fogside fogside 4,8M ноя 28  2015 \u001b[0m\u001b[00mcorpus.xml\u001b[0m\r\n",
      "-rw-r--r-- 1 fogside fogside 1,2K апр 16  2015 \u001b[00mLICENSE\u001b[0m\r\n",
      "-rw-r--r-- 1 fogside fogside 1,6M ноя 24 11:28 \u001b[00mparaphrases.csv\u001b[0m\r\n",
      "-rw-r--r-- 1 fogside fogside 3,6M ноя 28  2015 \u001b[00mparaphrases.xml\u001b[0m\r\n"
     ]
    }
   ],
   "source": [
    "ls -lh ../paraphrases/"
   ]
  },
  {
   "cell_type": "markdown",
   "metadata": {},
   "source": [
    "### The table below summarizes the dataset \n",
    "\n",
    "|Dataset|Type|Inventory|Corpus|Split|Num. of words|Num. of senses|Avg. num. of senses|Num. of contexts|\n",
    "|-----|-----|---------|-----|------|:---------:|:----------:|:----------:|:----------:|\n",
    "|wiki-wiki|main|Wikipedia|Wikipedia|train|4|8|2.0|439\n",
    "|bts-rnc|main|Gramota.ru|RNC|train|30|96|3.2|3491\n",
    "|active-dict|main|Active Dict.|Active Dict.|train|85|312|3.7|2073\n",
    "|active-rnc|additional|Active Dict.|RNC|train|20|71|3.6|1829\n",
    "|active-rutenten|additional|Active Dict.|ruTenTen|train|21|71|3.4|3671\n",
    "|bts-rutenten|additional|Gramota.ru|ruTenTen|train|11|25|2.3|956"
   ]
  },
  {
   "cell_type": "markdown",
   "metadata": {},
   "source": [
    "# Paraphrases:\n",
    "Paraphrase classes: -1: non-paraphrases, 0: loose paraphrases, 1: strict paraphrases"
   ]
  },
  {
   "cell_type": "code",
   "execution_count": 4,
   "metadata": {},
   "outputs": [],
   "source": [
    "import xml.etree.ElementTree as ET\n",
    "data=[]\n",
    "parser = ET.XMLParser(encoding=\"utf-8\")\n",
    "tree = ET.parse('../paraphrases/paraphrases.xml', parser=parser)\n",
    "for elem in tree.iter(tag='value'):\n",
    "    if elem.attrib['name'] == 'id':\n",
    "        data.append({'id':elem.text})\n",
    "    if elem.attrib['name'] == 'text_1':\n",
    "        data[-1]['text_1'] = elem.text\n",
    "        \n",
    "    if elem.attrib['name'] == 'text_2':\n",
    "        data[-1]['text_2'] = elem.text\n",
    "        \n",
    "    if elem.attrib['name'] == 'class':\n",
    "        data[-1]['class'] = elem.text\n",
    "        \n",
    "    if elem.attrib['name'] == 'jaccard':\n",
    "        data[-1]['jaccard'] = elem.text"
   ]
  },
  {
   "cell_type": "code",
   "execution_count": 5,
   "metadata": {},
   "outputs": [
    {
     "data": {
      "text/plain": [
       "7227"
      ]
     },
     "execution_count": 5,
     "metadata": {},
     "output_type": "execute_result"
    }
   ],
   "source": [
    "len(data)"
   ]
  },
  {
   "cell_type": "code",
   "execution_count": 7,
   "metadata": {},
   "outputs": [
    {
     "data": {
      "text/html": [
       "<div>\n",
       "<style scoped>\n",
       "    .dataframe tbody tr th:only-of-type {\n",
       "        vertical-align: middle;\n",
       "    }\n",
       "\n",
       "    .dataframe tbody tr th {\n",
       "        vertical-align: top;\n",
       "    }\n",
       "\n",
       "    .dataframe thead th {\n",
       "        text-align: right;\n",
       "    }\n",
       "</style>\n",
       "<table border=\"1\" class=\"dataframe\">\n",
       "  <thead>\n",
       "    <tr style=\"text-align: right;\">\n",
       "      <th></th>\n",
       "      <th>class</th>\n",
       "      <th>id</th>\n",
       "      <th>jaccard</th>\n",
       "      <th>text_1</th>\n",
       "      <th>text_2</th>\n",
       "    </tr>\n",
       "  </thead>\n",
       "  <tbody>\n",
       "    <tr>\n",
       "      <th>0</th>\n",
       "      <td>0</td>\n",
       "      <td>1</td>\n",
       "      <td>0.65</td>\n",
       "      <td>Полицейским разрешат стрелять на поражение по ...</td>\n",
       "      <td>Полиции могут разрешить стрелять по хулиганам ...</td>\n",
       "    </tr>\n",
       "    <tr>\n",
       "      <th>1</th>\n",
       "      <td>0</td>\n",
       "      <td>2</td>\n",
       "      <td>0.5</td>\n",
       "      <td>Право полицейских на проникновение в жилище ре...</td>\n",
       "      <td>Правила внесудебного проникновения полицейских...</td>\n",
       "    </tr>\n",
       "    <tr>\n",
       "      <th>2</th>\n",
       "      <td>0</td>\n",
       "      <td>3</td>\n",
       "      <td>0.611429</td>\n",
       "      <td>Президент Египта ввел чрезвычайное положение в...</td>\n",
       "      <td>Власти Египта угрожают ввести в стране чрезвыч...</td>\n",
       "    </tr>\n",
       "    <tr>\n",
       "      <th>3</th>\n",
       "      <td>-1</td>\n",
       "      <td>4</td>\n",
       "      <td>0.324037</td>\n",
       "      <td>Вернувшихся из Сирии россиян волнует вопрос тр...</td>\n",
       "      <td>Самолеты МЧС вывезут россиян из разрушенной Си...</td>\n",
       "    </tr>\n",
       "    <tr>\n",
       "      <th>4</th>\n",
       "      <td>0</td>\n",
       "      <td>5</td>\n",
       "      <td>0.606218</td>\n",
       "      <td>В Москву из Сирии вернулись 2 самолета МЧС с р...</td>\n",
       "      <td>Самолеты МЧС вывезут россиян из разрушенной Си...</td>\n",
       "    </tr>\n",
       "  </tbody>\n",
       "</table>\n",
       "</div>"
      ],
      "text/plain": [
       "  class id   jaccard                                             text_1  \\\n",
       "0     0  1      0.65  Полицейским разрешат стрелять на поражение по ...   \n",
       "1     0  2       0.5  Право полицейских на проникновение в жилище ре...   \n",
       "2     0  3  0.611429  Президент Египта ввел чрезвычайное положение в...   \n",
       "3    -1  4  0.324037  Вернувшихся из Сирии россиян волнует вопрос тр...   \n",
       "4     0  5  0.606218  В Москву из Сирии вернулись 2 самолета МЧС с р...   \n",
       "\n",
       "                                              text_2  \n",
       "0  Полиции могут разрешить стрелять по хулиганам ...  \n",
       "1  Правила внесудебного проникновения полицейских...  \n",
       "2  Власти Египта угрожают ввести в стране чрезвыч...  \n",
       "3  Самолеты МЧС вывезут россиян из разрушенной Си...  \n",
       "4  Самолеты МЧС вывезут россиян из разрушенной Си...  "
      ]
     },
     "execution_count": 7,
     "metadata": {},
     "output_type": "execute_result"
    }
   ],
   "source": [
    "df = pd.DataFrame(data=data)\n",
    "df.to_csv(\"../paraphrases/paraphrases.csv\", index=False)\n",
    "df.head()"
   ]
  },
  {
   "cell_type": "code",
   "execution_count": 8,
   "metadata": {},
   "outputs": [
    {
     "data": {
      "text/plain": [
       "Index(['class', 'id', 'jaccard', 'text_1', 'text_2'], dtype='object')"
      ]
     },
     "execution_count": 8,
     "metadata": {},
     "output_type": "execute_result"
    }
   ],
   "source": [
    "df.columns"
   ]
  },
  {
   "cell_type": "code",
   "execution_count": 9,
   "metadata": {},
   "outputs": [],
   "source": [
    "# from pymystem3 import Mystem\n",
    "# import re\n",
    "\n",
    "# mystem = Mystem()\n",
    "\n",
    "def lemmatize(sent,i=None):\n",
    "    if i is not None:\n",
    "        return gensim.models.doc2vec.TaggedDocument(gensim.utils.simple_preprocess(sent), [i])\n",
    "    else:\n",
    "        gensim.utils.simple_preprocess(sent)\n",
    "#      [w.lower() for w in mystem.lemmatize(sent) if re.match('[\\w\\-]+$', w)]"
   ]
  },
  {
   "cell_type": "markdown",
   "metadata": {},
   "source": [
    "## Make train corpus from paraphrases"
   ]
  },
  {
   "cell_type": "code",
   "execution_count": 10,
   "metadata": {},
   "outputs": [
    {
     "data": {
      "text/plain": [
       "9290"
      ]
     },
     "execution_count": 10,
     "metadata": {},
     "output_type": "execute_result"
    }
   ],
   "source": [
    "train_corpus = []\n",
    "\n",
    "for i, item in df.iterrows():\n",
    "    if (int(item['class']) >= 0):\n",
    "        train_corpus.append(lemmatize(item.text_1, i))\n",
    "        train_corpus.append(lemmatize(item.text_2, i))\n",
    "\n",
    "len(train_corpus)"
   ]
  },
  {
   "cell_type": "code",
   "execution_count": 11,
   "metadata": {},
   "outputs": [
    {
     "data": {
      "text/plain": [
       "TaggedDocument(words=['полицейским', 'разрешат', 'стрелять', 'на', 'поражение', 'по', 'гражданам', 'травматикой'], tags=[0])"
      ]
     },
     "execution_count": 11,
     "metadata": {},
     "output_type": "execute_result"
    }
   ],
   "source": [
    "train_corpus[0]"
   ]
  },
  {
   "cell_type": "markdown",
   "metadata": {},
   "source": [
    "## Make train corpus from additional data\n",
    "**Sanity check**\n",
    "\n",
    "проверим, возможно ли вообще переобучится, зная золотую разметку"
   ]
  },
  {
   "cell_type": "code",
   "execution_count": 189,
   "metadata": {},
   "outputs": [],
   "source": [
    "from testing_interface import make_data"
   ]
  },
  {
   "cell_type": "code",
   "execution_count": 190,
   "metadata": {},
   "outputs": [],
   "source": [
    "contexts, main_words, labels, word_list_uniq = make_data(df_file_name='../data/main/bts-rnc/train.csv',\\\n",
    "                 use_gensim_simple_preproc=True,\\\n",
    "                 throw_main_word=True, tokenize=False)"
   ]
  },
  {
   "cell_type": "code",
   "execution_count": 194,
   "metadata": {},
   "outputs": [
    {
     "data": {
      "text/plain": [
       "3491"
      ]
     },
     "execution_count": 194,
     "metadata": {},
     "output_type": "execute_result"
    }
   ],
   "source": [
    "train_corpus = []\n",
    "\n",
    "for i, word, sent in zip(labels, main_words, contexts):\n",
    "    label = word+i.split('.')[0]\n",
    "    train_corpus.append(lemmatize(sent, label))\n",
    "\n",
    "len(train_corpus)"
   ]
  },
  {
   "cell_type": "markdown",
   "metadata": {},
   "source": [
    "# Doc2Vec"
   ]
  },
  {
   "cell_type": "code",
   "execution_count": 195,
   "metadata": {},
   "outputs": [
    {
     "name": "stderr",
     "output_type": "stream",
     "text": [
      "WARNING:gensim.models.word2vec:consider setting layer size to a multiple of 4 for greater performance\n"
     ]
    }
   ],
   "source": [
    "model = gensim.models.doc2vec.Doc2Vec(size=50, min_count=2, iter=100)"
   ]
  },
  {
   "cell_type": "code",
   "execution_count": 196,
   "metadata": {},
   "outputs": [],
   "source": [
    "model.build_vocab(train_corpus)"
   ]
  },
  {
   "cell_type": "code",
   "execution_count": 197,
   "metadata": {},
   "outputs": [
    {
     "name": "stdout",
     "output_type": "stream",
     "text": [
      "CPU times: user 11.4 s, sys: 819 ms, total: 12.2 s\n",
      "Wall time: 7.09 s\n"
     ]
    },
    {
     "data": {
      "text/plain": [
       "4885600"
      ]
     },
     "execution_count": 197,
     "metadata": {},
     "output_type": "execute_result"
    }
   ],
   "source": [
    "%time model.train(train_corpus, total_examples=model.corpus_count, epochs=model.iter)"
   ]
  },
  {
   "cell_type": "code",
   "execution_count": 198,
   "metadata": {},
   "outputs": [
    {
     "data": {
      "text/plain": [
       "array([-0.17808102,  0.11023267, -0.09815314,  0.03743504, -0.14032637,\n",
       "       -0.00923229, -0.01952063,  0.12108386,  0.12969495, -0.07498223,\n",
       "        0.03708415,  0.0448918 , -0.05753965,  0.03855833,  0.06078742,\n",
       "       -0.05369772, -0.05765378, -0.07466155,  0.1326744 ,  0.01188599,\n",
       "       -0.02431175,  0.14000112,  0.11106348, -0.02659046,  0.00610367,\n",
       "       -0.02400974,  0.03812255, -0.06382255, -0.00239041,  0.07534651,\n",
       "       -0.00616704, -0.04976986, -0.18651815,  0.00657196, -0.03900024,\n",
       "       -0.10987577, -0.0215564 , -0.10050777, -0.0660895 , -0.08227695,\n",
       "       -0.08077476, -0.08243375, -0.02843815, -0.00371148,  0.06351481,\n",
       "       -0.00748474,  0.06443185, -0.00119789,  0.00350638,  0.09667807], dtype=float32)"
      ]
     },
     "execution_count": 198,
     "metadata": {},
     "output_type": "execute_result"
    }
   ],
   "source": [
    "model.infer_vector(['квантовая', 'любовь', 'далека', 'от', 'теории', 'поля'])"
   ]
  },
  {
   "cell_type": "code",
   "execution_count": 199,
   "metadata": {},
   "outputs": [],
   "source": [
    "from typing import List\n",
    "\n",
    "def make_features(model, docs:List[List[str]])->List[List[float]]:\n",
    "    return [model.infer_vector(s) for s in docs]"
   ]
  },
  {
   "cell_type": "markdown",
   "metadata": {},
   "source": [
    "# Маленький тест"
   ]
  },
  {
   "cell_type": "code",
   "execution_count": 200,
   "metadata": {},
   "outputs": [],
   "source": [
    "from sklearn.metrics.pairwise import cosine_similarity"
   ]
  },
  {
   "cell_type": "code",
   "execution_count": 201,
   "metadata": {},
   "outputs": [],
   "source": [
    "s1 = 'Отвергнуть щедрый дар'\n",
    "s2 = 'покупать преданность дарами и наградами'\n",
    "s3 = 'У нее с детства был дар передразнивать знакомых'\n",
    "s4 = 'Считалось, что Андрей Иванович обладает необыкновенным даром «выведывать мысли»'\n",
    "s5 = 'Мы начнем с теории поля и дойдем до квантовой механики.'\n",
    "tags = [1, 1, 2, 2, 3]\n",
    "sents_raw = [s1,s2,s3,s4,s5]"
   ]
  },
  {
   "cell_type": "code",
   "execution_count": 202,
   "metadata": {},
   "outputs": [
    {
     "data": {
      "text/plain": [
       "[['отвергнуть', 'щедрый', 'дар'],\n",
       " ['покупать', 'преданность', 'дарами', 'наградами'],\n",
       " ['нее', 'детства', 'был', 'дар', 'передразнивать', 'знакомых'],\n",
       " ['считалось',\n",
       "  'что',\n",
       "  'андрей',\n",
       "  'иванович',\n",
       "  'обладает',\n",
       "  'необыкновенным',\n",
       "  'даром',\n",
       "  'выведывать',\n",
       "  'мысли'],\n",
       " ['мы', 'начнем', 'теории', 'поля', 'дойдем', 'до', 'квантовой', 'механики']]"
      ]
     },
     "execution_count": 202,
     "metadata": {},
     "output_type": "execute_result"
    }
   ],
   "source": [
    "sents = [gensim.utils.simple_preprocess(sent) for sent in sents_raw]\n",
    "sents"
   ]
  },
  {
   "cell_type": "code",
   "execution_count": 293,
   "metadata": {},
   "outputs": [
    {
     "data": {
      "text/plain": [
       "array([[ 1.00000012, -0.13120861, -0.15742621, -0.35480472,  0.04529612],\n",
       "       [-0.13120861,  1.        ,  0.12918913,  0.13837336,  0.18975195],\n",
       "       [-0.15742621,  0.12918913,  1.        ,  0.21029139,  0.09466392],\n",
       "       [-0.35480472,  0.13837336,  0.21029139,  1.00000012,  0.22233504],\n",
       "       [ 0.04529612,  0.18975195,  0.09466392,  0.22233504,  1.00000012]], dtype=float32)"
      ]
     },
     "execution_count": 293,
     "metadata": {},
     "output_type": "execute_result"
    }
   ],
   "source": [
    "vecs = [model.infer_vector(s) for s in sents]\n",
    "sim_mtx = cosine_similarity(vecs,vecs)\n",
    "sim_mtx"
   ]
  },
  {
   "cell_type": "code",
   "execution_count": 294,
   "metadata": {},
   "outputs": [
    {
     "data": {
      "image/png": "[encoded data removed]",
      "text/plain": [
       "<matplotlib.figure.Figure at 0x7f798cf33be0>"
      ]
     },
     "metadata": {},
     "output_type": "display_data"
    }
   ],
   "source": [
    "plt.xticks(range(5), sents_raw, rotation=90)\n",
    "plt.yticks(range(len(sents_raw)), sents_raw, rotation=0)\n",
    "\n",
    "plt.imshow(sim_mtx, cmap='Oranges')\n",
    "plt.colorbar()\n",
    "plt.show()"
   ]
  },
  {
   "cell_type": "markdown",
   "metadata": {},
   "source": [
    "Близкие векторы между предложениями из 2 и 1 тегов. А именно:\n",
    "* 'покупать преданность дарами и наградами'\n",
    "* 'У нее с детства был дар передразнивать знакомых'"
   ]
  },
  {
   "cell_type": "markdown",
   "metadata": {},
   "source": [
    "Что будет, если убрать слово ключевое отовсюду?"
   ]
  },
  {
   "cell_type": "code",
   "execution_count": 211,
   "metadata": {},
   "outputs": [],
   "source": [
    "import re\n",
    "sents2 = [[w for w in s if not re.match('^дар', w)] for s in sents]"
   ]
  },
  {
   "cell_type": "code",
   "execution_count": 215,
   "metadata": {},
   "outputs": [
    {
     "data": {
      "text/plain": [
       "[['отвергнуть', 'щедрый'],\n",
       " ['покупать', 'преданность', 'наградами'],\n",
       " ['нее', 'детства', 'был', 'передразнивать', 'знакомых'],\n",
       " ['считалось',\n",
       "  'что',\n",
       "  'андрей',\n",
       "  'иванович',\n",
       "  'обладает',\n",
       "  'необыкновенным',\n",
       "  'выведывать',\n",
       "  'мысли'],\n",
       " ['мы', 'начнем', 'теории', 'поля', 'дойдем', 'до', 'квантовой', 'механики']]"
      ]
     },
     "execution_count": 215,
     "metadata": {},
     "output_type": "execute_result"
    }
   ],
   "source": [
    "sents2"
   ]
  },
  {
   "cell_type": "code",
   "execution_count": 301,
   "metadata": {},
   "outputs": [
    {
     "data": {
      "image/png": "[encoded data removed]",
      "text/plain": [
       "<matplotlib.figure.Figure at 0x7f798d19a518>"
      ]
     },
     "metadata": {},
     "output_type": "display_data"
    }
   ],
   "source": [
    "vecs = [model.infer_vector(s) for s in sents2]\n",
    "sim_mtx = cosine_similarity(vecs,vecs)\n",
    "\n",
    "plt.xticks(range(5), sents_raw, rotation=90)\n",
    "plt.yticks(range(5), sents_raw, rotation=0)\n",
    "\n",
    "plt.imshow(sim_mtx, cmap='Oranges')\n",
    "plt.colorbar()\n",
    "plt.show()"
   ]
  },
  {
   "cell_type": "markdown",
   "metadata": {},
   "source": [
    "Кажется, что ситуация немного поменялась, но сильно лучше не стала."
   ]
  },
  {
   "cell_type": "markdown",
   "metadata": {},
   "source": [
    "# Проверим метрики и алгоритмы кластеризации"
   ]
  },
  {
   "cell_type": "code",
   "execution_count": 178,
   "metadata": {},
   "outputs": [
    {
     "name": "stdout",
     "output_type": "stream",
     "text": [
      "The autoreload extension is already loaded. To reload it, use:\n",
      "  %reload_ext autoreload\n"
     ]
    }
   ],
   "source": [
    "%load_ext autoreload"
   ]
  },
  {
   "cell_type": "code",
   "execution_count": 179,
   "metadata": {},
   "outputs": [],
   "source": [
    "%autoreload 2"
   ]
  },
  {
   "cell_type": "code",
   "execution_count": 414,
   "metadata": {},
   "outputs": [],
   "source": [
    "from testing_interface import make_data,\\\n",
    "                              visualize_pca,\\\n",
    "                              evaluate_weighted_ari,\\\n",
    "                              get_one_word_data,\\\n",
    "                              visualize_pca_one_word,\\\n",
    "                              visualize_tsne_one_word\n",
    "\n",
    "DATASET = '../data/additional/bts-rutenten/train.csv'"
   ]
  },
  {
   "cell_type": "code",
   "execution_count": 415,
   "metadata": {},
   "outputs": [],
   "source": [
    "contexts, main_words, labels, word_list_uniq = make_data(df_file_name=DATASET,\\\n",
    "                 use_gensim_simple_preproc=True,\\\n",
    "                 throw_main_word=True, tokenize=True)"
   ]
  },
  {
   "cell_type": "code",
   "execution_count": 416,
   "metadata": {},
   "outputs": [
    {
     "name": "stdout",
     "output_type": "stream",
     "text": [
      "['дисциплина' 'замок' 'корона' 'кран' 'лавка' 'летопись' 'мат' 'отклонение'\n",
      " 'сук' 'тост' 'щель']\n"
     ]
    }
   ],
   "source": [
    "print(word_list_uniq)"
   ]
  },
  {
   "cell_type": "code",
   "execution_count": 417,
   "metadata": {},
   "outputs": [],
   "source": [
    "features = make_features(model, contexts)"
   ]
  },
  {
   "cell_type": "code",
   "execution_count": 418,
   "metadata": {},
   "outputs": [],
   "source": [
    "# visualize_pca_one_word(features, main_words=main_words, labels=labels, word='бор')"
   ]
  },
  {
   "cell_type": "code",
   "execution_count": 419,
   "metadata": {},
   "outputs": [],
   "source": [
    "# visualize_tsne_one_word(features, main_words=main_words, labels=labels, word='бор')"
   ]
  },
  {
   "cell_type": "markdown",
   "metadata": {},
   "source": [
    "Кажется, что даже в исходной \"золотой разметке\" при текущих эмбеддингах не выделяется никаких красивых кластеров."
   ]
  },
  {
   "cell_type": "code",
   "execution_count": 420,
   "metadata": {},
   "outputs": [],
   "source": [
    "from sklearn.cluster import KMeans\n",
    "km = KMeans(n_clusters=4, random_state=42)"
   ]
  },
  {
   "cell_type": "code",
   "execution_count": 421,
   "metadata": {},
   "outputs": [],
   "source": [
    "pred_labels = []\n",
    "for word in word_list_uniq:\n",
    "    feats, gold_labels = get_one_word_data(features, main_words=main_words, labels=labels, word=word)\n",
    "    p_labels = km.fit_predict(feats)\n",
    "    pred_labels.extend(p_labels)"
   ]
  },
  {
   "cell_type": "code",
   "execution_count": 422,
   "metadata": {},
   "outputs": [
    {
     "name": "stdout",
     "output_type": "stream",
     "text": [
      "word\tari\tcount\n",
      "дисциплина\t0.058079\t98\n",
      "замок\t-0.012222\t91\n",
      "корона\t-0.013069\t78\n",
      "кран\t0.052804\t94\n",
      "лавка\t-0.053170\t90\n",
      "летопись\t0.033322\t95\n",
      "мат\t-0.036286\t67\n",
      "отклонение\t-0.035960\t94\n",
      "сук\t0.000000\t64\n",
      "тост\t-0.032188\t91\n",
      "щель\t-0.015407\t94\n",
      "\t-0.003436\t956\n"
     ]
    }
   ],
   "source": [
    "evaluate_weighted_ari(DATASET, pred_labels)"
   ]
  },
  {
   "cell_type": "code",
   "execution_count": 423,
   "metadata": {},
   "outputs": [
    {
     "name": "stdout",
     "output_type": "stream",
     "text": [
      "word\tari\tcount\r\n",
      "дисциплина\t0.479289\t98\r\n",
      "замок\t0.390790\t91\r\n",
      "корона\t0.148973\t78\r\n",
      "кран\t0.204803\t94\r\n",
      "лавка\t0.303380\t90\r\n",
      "летопись\t0.113282\t95\r\n",
      "мат\t0.115854\t67\r\n",
      "отклонение\t0.291074\t94\r\n",
      "сук\t0.000000\t64\r\n",
      "тост\t0.520631\t91\r\n",
      "щель\t-0.017116\t94\r\n",
      "\t0.243056\t956\r\n"
     ]
    }
   ],
   "source": [
    "!python3 ../evaluate.py ../data/additional/bts-rutenten/train.baseline-adagram.csv"
   ]
  },
  {
   "cell_type": "code",
   "execution_count": null,
   "metadata": {},
   "outputs": [],
   "source": []
  },
  {
   "cell_type": "code",
   "execution_count": null,
   "metadata": {},
   "outputs": [],
   "source": []
  }
 ],
 "metadata": {
  "kernelspec": {
   "display_name": "Python 3",
   "language": "python",
   "name": "python3"
  },
  "language_info": {
   "codemirror_mode": {
    "name": "ipython",
    "version": 3
   },
   "file_extension": ".py",
   "mimetype": "text/x-python",
   "name": "python",
   "nbconvert_exporter": "python",
   "pygments_lexer": "ipython3",
   "version": "3.6.3"
  }
 },
 "nbformat": 4,
 "nbformat_minor": 2
}

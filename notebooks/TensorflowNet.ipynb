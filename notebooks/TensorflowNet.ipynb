{
 "cells": [
  {
   "cell_type": "code",
   "execution_count": 6,
   "metadata": {},
   "outputs": [],
   "source": [
    "from tqdm import tqdm_notebook\n",
    "from matplotlib import pyplot as plt\n",
    "import tensorflow as tf\n",
    "import numpy as np\n",
    "\n",
    "%matplotlib inline"
   ]
  },
  {
   "cell_type": "code",
   "execution_count": 153,
   "metadata": {},
   "outputs": [],
   "source": [
    "class MultiComp:\n",
    "    def __init__(self, emb_size, n_comp, margin):\n",
    "        self.pos = tf.placeholder(dtype=tf.float32, shape=[None, emb_size], name='pos_ph')\n",
    "        self.neg = tf.placeholder(dtype=tf.float32, shape=[None, emb_size], name='neg_ph')\n",
    "        self.lr = tf.placeholder(dtype=tf.float32, shape=[], name='learning_rate_ph')\n",
    "\n",
    "        comp_init = np.random.randn(n_comp, emb_size) / np.sqrt(emb_size * n_comp)\n",
    "        self.sense_comps = tf.Variable(comp_init, dtype=tf.float32, name='senses')\n",
    "        \n",
    "        # Attention\n",
    "        mean_cont = tf.reduce_mean(self.pos, axis=0, keep_dims=True)\n",
    "        mean_cont = tf.nn.l2_normalize(mean_cont, 1)  # 1 x 100\n",
    "        \n",
    "        norm_sens = tf.nn.l2_normalize(self.sense_comps, 1) # n_comp x 100\n",
    "        \n",
    "        att = tf.reduce_sum(mean_cont * norm_sens, axis=1, keep_dims=True)\n",
    "        self.att = tf.nn.softmax(att, dim=0)\n",
    "        word_emb = tf.reduce_sum(self.sense_comps * self.att, axis=0, keep_dims=True)\n",
    "        \n",
    "        \n",
    "        # Cosine loss\n",
    "        norm_pos = tf.nn.l2_normalize(self.pos, 1)\n",
    "        norm_neg = tf.nn.l2_normalize(self.neg, 1)\n",
    "        norm_word_emb = tf.nn.l2_normalize(word_emb, 1)\n",
    "        \n",
    "        pos_loss = tf.reduce_mean(tf.reduce_sum(norm_pos * norm_word_emb, axis=1))\n",
    "        neg_loss = tf.reduce_mean(tf.reduce_sum(norm_neg * norm_word_emb, axis=1))\n",
    "        \n",
    "        self.loss = -pos_loss + neg_loss + 1e-3*tf.nn.l2_loss(self.sense_comps)\n",
    "#         opt = tf.train.AdamOptimizer(self.lr)\n",
    "        opt = tf.train.GradientDescentOptimizer(learning_rate=self.lr)\n",
    "        self.train_op = opt.minimize(self.loss)\n",
    "        \n",
    "        self.sess = tf.Session()\n",
    "        self.sess.run(tf.global_variables_initializer())\n",
    "        \n",
    "    def train_on_sample(self, pos_samp, neg_samp, learning_rate):\n",
    "        feed_dict = {self.pos: pos_samp, self.neg: neg_samp, self.lr: learning_rate}\n",
    "        loss, att, _ = self.sess.run([self.loss, self.att, self.train_op], feed_dict)\n",
    "        return loss, att"
   ]
  },
  {
   "cell_type": "markdown",
   "metadata": {},
   "source": [
    "# Simple Test"
   ]
  },
  {
   "cell_type": "code",
   "execution_count": 154,
   "metadata": {},
   "outputs": [
    {
     "data": {
      "text/plain": [
       "(0.07290364, array([[0.31967196],\n",
       "        [0.33641776],\n",
       "        [0.34391022]], dtype=float32))"
      ]
     },
     "execution_count": 154,
     "metadata": {},
     "output_type": "execute_result"
    }
   ],
   "source": [
    "net = MultiComp(100, 3, 0.1)\n",
    "\n",
    "pos = np.random.randn(10, 100)\n",
    "neg = np.random.randn(10, 100)\n",
    "\n",
    "net.train_on_sample(pos, neg, 1e-3)"
   ]
  },
  {
   "cell_type": "markdown",
   "metadata": {},
   "source": [
    "# Train"
   ]
  },
  {
   "cell_type": "code",
   "execution_count": 2,
   "metadata": {},
   "outputs": [],
   "source": [
    "from gensim.models import KeyedVectors\n",
    "wv = KeyedVectors.load_word2vec_format(\"../models/model_big_one.vec\", binary=False)\n",
    "\n",
    "with open(\"../data/my_data/{}_out.txt\".format('замок'), 'r') as f:\n",
    "    lines = f.readlines()"
   ]
  },
  {
   "cell_type": "code",
   "execution_count": 3,
   "metadata": {},
   "outputs": [],
   "source": [
    "def generate_triplet_batch(lines, context_max_len):\n",
    "\n",
    "    voc_size = len(wv.vocab)\n",
    "    for line in lines:\n",
    "        line = line.split()\n",
    "        embedd_p = []\n",
    "        context = np.random.choice(line, context_max_len)\n",
    "        for i, w in enumerate(context):\n",
    "            try:\n",
    "                embedd_p.append(wv[w])\n",
    "            except KeyError:\n",
    "                continue\n",
    "        embedd_n = [wv[wv.index2word[i]] for i in np.random.random_integers(0, voc_size-1, len(embedd_p))]\n",
    "        yield np.array(embedd_p), np.array(embedd_n)"
   ]
  },
  {
   "cell_type": "code",
   "execution_count": 155,
   "metadata": {},
   "outputs": [
    {
     "data": {
      "application/vnd.jupyter.widget-view+json": {
       "model_id": "856ba653cce045e5901778bb0c54cd6e",
       "version_major": 2,
       "version_minor": 0
      },
      "text/html": [
       "<p>Failed to display Jupyter Widget of type <code>HBox</code>.</p>\n",
       "<p>\n",
       "  If you're reading this message in Jupyter Notebook or JupyterLab, it may mean\n",
       "  that the widgets JavaScript is still loading. If this message persists, it\n",
       "  likely means that the widgets JavaScript library is either not installed or\n",
       "  not enabled. See the <a href=\"https://ipywidgets.readthedocs.io/en/stable/user_install.html\">Jupyter\n",
       "  Widgets Documentation</a> for setup instructions.\n",
       "</p>\n",
       "<p>\n",
       "  If you're reading this message in another notebook frontend (for example, a static\n",
       "  rendering on GitHub or <a href=\"https://nbviewer.jupyter.org/\">NBViewer</a>),\n",
       "  it may mean that your frontend doesn't currently support widgets.\n",
       "</p>\n"
      ],
      "text/plain": [
       "HBox(children=(IntProgress(value=0, max=111462), HTML(value='')))"
      ]
     },
     "metadata": {},
     "output_type": "display_data"
    },
    {
     "name": "stdout",
     "output_type": "stream",
     "text": [
      "epoch_num:  0\n"
     ]
    },
    {
     "name": "stderr",
     "output_type": "stream",
     "text": [
      "/home/fogside/virtualenvs/py3/lib/python3.6/site-packages/ipykernel_launcher.py:13: DeprecationWarning: This function is deprecated. Please call randint(0, 202435 + 1) instead\n",
      "  del sys.path[0]\n"
     ]
    },
    {
     "name": "stdout",
     "output_type": "stream",
     "text": [
      "\n"
     ]
    }
   ],
   "source": [
    "w_emb = wv['замок'].reshape((1,100))\n",
    "lr = 1e-2\n",
    "n_comps = 2\n",
    "net = MultiComp(100, n_comps, 0.1)\n",
    "\n",
    "\n",
    "n_samples = len(lines)\n",
    "n_context = 10 # number of words in the context\n",
    "emb_dim = 100\n",
    "atts = list()\n",
    "epoch_num = 1\n",
    "losses = []\n",
    "for epoch in range(epoch_num):\n",
    "    batch_gen = generate_triplet_batch(lines, context_max_len=n_context)\n",
    "    pbar = tqdm_notebook(batch_gen, total = n_samples)\n",
    "    print(\"epoch_num: \", epoch)\n",
    "    for n, (sample_p, sample_n) in enumerate(pbar):\n",
    "        if len(sample_p)==0:\n",
    "            continue\n",
    "        \n",
    "        loss, att = net.train_on_sample(sample_p, sample_n, lr)\n",
    "        atts.append(att)\n",
    "        losses.append(loss)\n",
    "        \n",
    "        if n % 100 == 99:\n",
    "            pbar.set_description(\"loss {:.3f}\".format(float(np.mean(losses[-300:]))))"
   ]
  },
  {
   "cell_type": "markdown",
   "metadata": {},
   "source": [
    "# CENTROIDS"
   ]
  },
  {
   "cell_type": "code",
   "execution_count": 16,
   "metadata": {},
   "outputs": [],
   "source": [
    "class MultiCompCentroids:\n",
    "    def __init__(self, emb_size, n_comp, margin):\n",
    "        self.pos = tf.placeholder(dtype=tf.float32, shape=[None, emb_size], name='pos_ph')\n",
    "        self.neg = tf.placeholder(dtype=tf.float32, shape=[None, emb_size], name='neg_ph')\n",
    "        self.lr = tf.placeholder(dtype=tf.float32, shape=[], name='learning_rate_ph')\n",
    "\n",
    "        comp_init = np.random.randn(n_comp, emb_size) / np.sqrt(emb_size * n_comp)\n",
    "        self.sense_comps = tf.Variable(comp_init, dtype=tf.float32, name='senses')\n",
    "        self.centroids = tf.Variable(comp_init, dtype=tf.float32, name='centroids')\n",
    "        \n",
    "        # Attention\n",
    "        mean_cont = tf.reduce_mean(self.pos, axis=0, keep_dims=True)\n",
    "        mean_cont = tf.nn.l2_normalize(mean_cont, 1)  # 1 x 100\n",
    "        \n",
    "        norm_centroids = tf.nn.l2_normalize(self.centroids, 1) # n_comp x 100\n",
    "        \n",
    "        att = tf.reduce_sum(mean_cont * norm_centroids, axis=1, keep_dims=True)\n",
    "        self.att = tf.nn.softmax(att, dim=0)\n",
    "        \n",
    "        max_index = tf.cast(tf.argmax(self.att)[0], tf.int32)\n",
    "        print(max_index)\n",
    "#         print(mean_cont)\n",
    "#         print(self.centroids[max_index[0]])\n",
    "        # Update centroids\n",
    "        self.centroids[max_index].assign(mean_cont + self.centroids[max_index])\n",
    "#         self.centroids[max_index[0]]+= mean_cont\n",
    "        \n",
    "        \n",
    "#         word_emb = self.sense_comps * self.att, axis=0, keep_dims=True)\n",
    "#         word_emb = tf.reduce_sum(self.sense_comps * self.att, axis=0, keep_dims=True)\n",
    "        \n",
    "        \n",
    "        # Cosine loss\n",
    "        norm_pos = tf.nn.l2_normalize(self.pos, 1)\n",
    "        norm_neg = tf.nn.l2_normalize(self.neg, 1)\n",
    "        norm_word_emb = tf.nn.l2_normalize(self.sense_comps[max_index], dim=0)\n",
    "        \n",
    "        pos_loss = tf.reduce_mean(tf.reduce_sum(norm_pos * norm_word_emb, axis=1))\n",
    "        neg_loss = tf.reduce_mean(tf.reduce_sum(norm_neg * norm_word_emb, axis=1))\n",
    "        \n",
    "        self.loss = -pos_loss + neg_loss + 1e-3*tf.nn.l2_loss(self.sense_comps)\n",
    "        opt = tf.train.AdamOptimizer(self.lr)\n",
    "        self.train_op = opt.minimize(self.loss)\n",
    "        \n",
    "        self.sess = tf.Session()\n",
    "        self.sess.run(tf.global_variables_initializer())\n",
    "        \n",
    "    def train_on_sample(self, pos_samp, neg_samp, learning_rate):\n",
    "        feed_dict = {self.pos: pos_samp, self.neg: neg_samp, self.lr: learning_rate}\n",
    "        loss, att, _ = self.sess.run([self.loss, self.att, self.train_op], feed_dict)\n",
    "        return loss, att"
   ]
  },
  {
   "cell_type": "markdown",
   "metadata": {},
   "source": [
    "# Train"
   ]
  },
  {
   "cell_type": "code",
   "execution_count": 17,
   "metadata": {},
   "outputs": [
    {
     "name": "stdout",
     "output_type": "stream",
     "text": [
      "Tensor(\"Cast:0\", shape=(), dtype=int32)\n"
     ]
    },
    {
     "data": {
      "application/vnd.jupyter.widget-view+json": {
       "model_id": "e6d667e039c8415f8e4cfdcb45ecd038",
       "version_major": 2,
       "version_minor": 0
      },
      "text/html": [
       "<p>Failed to display Jupyter Widget of type <code>HBox</code>.</p>\n",
       "<p>\n",
       "  If you're reading this message in Jupyter Notebook or JupyterLab, it may mean\n",
       "  that the widgets JavaScript is still loading. If this message persists, it\n",
       "  likely means that the widgets JavaScript library is either not installed or\n",
       "  not enabled. See the <a href=\"https://ipywidgets.readthedocs.io/en/stable/user_install.html\">Jupyter\n",
       "  Widgets Documentation</a> for setup instructions.\n",
       "</p>\n",
       "<p>\n",
       "  If you're reading this message in another notebook frontend (for example, a static\n",
       "  rendering on GitHub or <a href=\"https://nbviewer.jupyter.org/\">NBViewer</a>),\n",
       "  it may mean that your frontend doesn't currently support widgets.\n",
       "</p>\n"
      ],
      "text/plain": [
       "HBox(children=(IntProgress(value=0, max=111462), HTML(value='')))"
      ]
     },
     "metadata": {},
     "output_type": "display_data"
    },
    {
     "name": "stdout",
     "output_type": "stream",
     "text": [
      "epoch_num:  0\n"
     ]
    },
    {
     "name": "stderr",
     "output_type": "stream",
     "text": [
      "/home/fogside/virtualenvs/py3/lib/python3.6/site-packages/ipykernel_launcher.py:13: DeprecationWarning: This function is deprecated. Please call randint(0, 202435 + 1) instead\n",
      "  del sys.path[0]\n"
     ]
    },
    {
     "name": "stdout",
     "output_type": "stream",
     "text": [
      "\n"
     ]
    }
   ],
   "source": [
    "w_emb = wv['замок'].reshape((1,100))\n",
    "lr = 1e-2\n",
    "n_comps = 2\n",
    "net = MultiCompCentroids(100, n_comps, 0.1)\n",
    "\n",
    "\n",
    "n_samples = len(lines)\n",
    "n_context = 10 # number of words in the context\n",
    "emb_dim = 100\n",
    "atts = list()\n",
    "epoch_num = 1\n",
    "losses = []\n",
    "for epoch in range(epoch_num):\n",
    "    batch_gen = generate_triplet_batch(lines, context_max_len=n_context)\n",
    "    pbar = tqdm_notebook(batch_gen, total = n_samples)\n",
    "    print(\"epoch_num: \", epoch)\n",
    "    for n, (sample_p, sample_n) in enumerate(pbar):\n",
    "        if len(sample_p)==0:\n",
    "            continue\n",
    "        \n",
    "        loss, att = net.train_on_sample(sample_p, sample_n, lr)\n",
    "        atts.append(att)\n",
    "        losses.append(loss)\n",
    "        \n",
    "        if n % 100 == 99:\n",
    "            pbar.set_description(\"loss {:.3f}\".format(float(np.mean(losses[-300:]))))"
   ]
  },
  {
   "cell_type": "code",
   "execution_count": 9,
   "metadata": {},
   "outputs": [
    {
     "data": {
      "text/plain": [
       "'1.5.0'"
      ]
     },
     "execution_count": 9,
     "metadata": {},
     "output_type": "execute_result"
    }
   ],
   "source": [
    "tf.__version__"
   ]
  },
  {
   "cell_type": "code",
   "execution_count": null,
   "metadata": {},
   "outputs": [],
   "source": []
  },
  {
   "cell_type": "code",
   "execution_count": null,
   "metadata": {},
   "outputs": [],
   "source": []
  },
  {
   "cell_type": "code",
   "execution_count": null,
   "metadata": {},
   "outputs": [],
   "source": []
  },
  {
   "cell_type": "markdown",
   "metadata": {},
   "source": [
    "# Visualize"
   ]
  },
  {
   "cell_type": "markdown",
   "metadata": {},
   "source": [
    "### Sense vectors:"
   ]
  },
  {
   "cell_type": "code",
   "execution_count": 18,
   "metadata": {},
   "outputs": [
    {
     "data": {
      "image/png": "[encoded data removed]",
      "text/plain": [
       "<matplotlib.figure.Figure at 0x7faad3b32400>"
      ]
     },
     "metadata": {},
     "output_type": "display_data"
    }
   ],
   "source": [
    "plt.plot(net.sess.run(net.sense_comps).T)\n",
    "plt.show()"
   ]
  },
  {
   "cell_type": "markdown",
   "metadata": {},
   "source": [
    "### Attention:"
   ]
  },
  {
   "cell_type": "code",
   "execution_count": 19,
   "metadata": {},
   "outputs": [
    {
     "data": {
      "image/png": "[encoded data removed]",
      "text/plain": [
       "<matplotlib.figure.Figure at 0x7faad4046c50>"
      ]
     },
     "metadata": {},
     "output_type": "display_data"
    }
   ],
   "source": [
    "plt.plot(np.array(atts).squeeze(), alpha=0.6)\n",
    "plt.show()"
   ]
  },
  {
   "cell_type": "code",
   "execution_count": 150,
   "metadata": {},
   "outputs": [
    {
     "data": {
      "text/plain": [
       "(111462, 2)"
      ]
     },
     "execution_count": 150,
     "metadata": {},
     "output_type": "execute_result"
    }
   ],
   "source": [
    "np.array(atts).squeeze().shape"
   ]
  },
  {
   "cell_type": "markdown",
   "metadata": {},
   "source": [
    "### Losses:"
   ]
  },
  {
   "cell_type": "code",
   "execution_count": 22,
   "metadata": {},
   "outputs": [],
   "source": [
    "def window_average(arr, w_len=10):\n",
    "    return [np.mean(i) for i in np.split(arr, w_len,)]"
   ]
  },
  {
   "cell_type": "code",
   "execution_count": 23,
   "metadata": {},
   "outputs": [
    {
     "data": {
      "image/png": "[encoded data removed]",
      "text/plain": [
       "<matplotlib.figure.Figure at 0x7faab8f7f4e0>"
      ]
     },
     "metadata": {},
     "output_type": "display_data"
    }
   ],
   "source": [
    "plt.plot(np.array(losses).squeeze())\n",
    "plt.show()"
   ]
  },
  {
   "cell_type": "code",
   "execution_count": 24,
   "metadata": {},
   "outputs": [
    {
     "data": {
      "image/png": "[encoded data removed]",
      "text/plain": [
       "<matplotlib.figure.Figure at 0x7faab906e0f0>"
      ]
     },
     "metadata": {},
     "output_type": "display_data"
    }
   ],
   "source": [
    "kek = np.array(losses).squeeze()\n",
    "lol = window_average(kek, 26)\n",
    "plt.plot(lol)\n",
    "plt.show()"
   ]
  },
  {
   "cell_type": "markdown",
   "metadata": {},
   "source": [
    "### Word similarity"
   ]
  },
  {
   "cell_type": "code",
   "execution_count": 25,
   "metadata": {},
   "outputs": [],
   "source": [
    "vecs = net.sess.run(net.sense_comps)"
   ]
  },
  {
   "cell_type": "code",
   "execution_count": 28,
   "metadata": {},
   "outputs": [],
   "source": [
    "vecs_c = net.sess.run(net.centroids)"
   ]
  },
  {
   "cell_type": "code",
   "execution_count": 31,
   "metadata": {},
   "outputs": [
    {
     "data": {
      "text/plain": [
       "[('кауз', 0.3415049612522125),\n",
       " ('эйлен', 0.3207801282405853),\n",
       " ('чимборасо', 0.313777893781662),\n",
       " ('нэйл', 0.3128708600997925),\n",
       " ('сноудон', 0.30594849586486816),\n",
       " ('хараламбос', 0.2939973771572113),\n",
       " ('вестиндский', 0.2933153510093689),\n",
       " ('эклиптический', 0.29323050379753113),\n",
       " ('туаз', 0.2932237684726715),\n",
       " ('командорский', 0.2917476296424866),\n",
       " ('полуостровной', 0.2914634644985199),\n",
       " ('гвинейский', 0.2900417447090149),\n",
       " ('бхактапур', 0.287021279335022),\n",
       " ('тидда', 0.28628042340278625),\n",
       " ('кобурн', 0.28340357542037964)]"
      ]
     },
     "execution_count": 31,
     "metadata": {},
     "output_type": "execute_result"
    }
   ],
   "source": [
    "wv.similar_by_vector(vecs_c\\[0], 15)"
   ]
  },
  {
   "cell_type": "code",
   "execution_count": 32,
   "metadata": {},
   "outputs": [
    {
     "data": {
      "text/plain": [
       "[('эстебан', 0.3258054256439209),\n",
       " ('эрефнаис', 0.30462515354156494),\n",
       " ('шинг', 0.30212900042533875),\n",
       " ('робба', 0.3004550039768219),\n",
       " ('айук', 0.29747673869132996),\n",
       " ('хессеф', 0.2927086353302002),\n",
       " ('редондо', 0.2900630831718445),\n",
       " ('инхаглик', 0.2878236770629883),\n",
       " ('акунья', 0.28108373284339905),\n",
       " ('хаймес', 0.28070375323295593),\n",
       " ('фаргаш', 0.2794108986854553),\n",
       " ('метлаэн', 0.27684059739112854),\n",
       " ('олькотт', 0.2763954699039459),\n",
       " ('онофрио', 0.2750706970691681),\n",
       " ('слинктон', 0.2744033634662628),\n",
       " ('льягас', 0.27244123816490173),\n",
       " ('бэзил', 0.27138784527778625),\n",
       " ('дэмьен', 0.26907235383987427),\n",
       " ('жабры', 0.26837828755378723),\n",
       " ('тэйл', 0.26794642210006714)]"
      ]
     },
     "execution_count": 32,
     "metadata": {},
     "output_type": "execute_result"
    }
   ],
   "source": [
    "wv.similar_by_vector(vecs_c[1], 20)"
   ]
  },
  {
   "cell_type": "markdown",
   "metadata": {},
   "source": [
    "# Weighted similarities"
   ]
  },
  {
   "cell_type": "code",
   "execution_count": 151,
   "metadata": {},
   "outputs": [
    {
     "data": {
      "text/plain": [
       "[array([[0.59179115],\n",
       "        [0.40820885]], dtype=float32), array([[0.5793171 ],\n",
       "        [0.42068288]], dtype=float32), array([[0.5958263],\n",
       "        [0.4041736]], dtype=float32), array([[0.5720039 ],\n",
       "        [0.42799604]], dtype=float32), array([[0.6178629 ],\n",
       "        [0.38213718]], dtype=float32)]"
      ]
     },
     "execution_count": 151,
     "metadata": {},
     "output_type": "execute_result"
    }
   ],
   "source": [
    "p = atts[-5:]\n",
    "p"
   ]
  },
  {
   "cell_type": "code",
   "execution_count": 152,
   "metadata": {},
   "outputs": [
    {
     "name": "stdout",
     "output_type": "stream",
     "text": [
      "[[0.59179115]\n",
      " [0.40820885]]\n",
      "---\n",
      "[[0.5793171 ]\n",
      " [0.42068288]]\n",
      "---\n",
      "[[0.5958263]\n",
      " [0.4041736]]\n",
      "---\n",
      "[[0.5720039 ]\n",
      " [0.42799604]]\n",
      "---\n",
      "[[0.6178629 ]\n",
      " [0.38213718]]\n",
      "---\n"
     ]
    }
   ],
   "source": [
    "for p in atts[-5:]:\n",
    "    print(p)\n",
    "    print(\"---\")"
   ]
  },
  {
   "cell_type": "code",
   "execution_count": 118,
   "metadata": {},
   "outputs": [
    {
     "data": {
      "text/plain": [
       "(3, 100)"
      ]
     },
     "execution_count": 118,
     "metadata": {},
     "output_type": "execute_result"
    }
   ],
   "source": [
    "vecs.shape"
   ]
  },
  {
   "cell_type": "code",
   "execution_count": 119,
   "metadata": {},
   "outputs": [
    {
     "data": {
      "text/plain": [
       "(100,)"
      ]
     },
     "execution_count": 119,
     "metadata": {},
     "output_type": "execute_result"
    }
   ],
   "source": [
    "lol = np.sum(p*vecs, axis=0)\n",
    "lol.shape"
   ]
  },
  {
   "cell_type": "code",
   "execution_count": 116,
   "metadata": {},
   "outputs": [
    {
     "data": {
      "text/plain": [
       "[('от', 0.7358344197273254),\n",
       " ('который', 0.7354562282562256),\n",
       " ('из', 0.7353567481040955),\n",
       " ('как', 0.7331260442733765),\n",
       " ('один', 0.7306678891181946),\n",
       " ('во', 0.7306039333343506),\n",
       " ('со', 0.7302639484405518),\n",
       " ('самый', 0.7287554740905762),\n",
       " ('и', 0.7273545265197754),\n",
       " ('весь', 0.7255203723907471),\n",
       " ('когда', 0.7240930795669556),\n",
       " ('оно', 0.7240872383117676),\n",
       " ('в', 0.7235139012336731),\n",
       " ('тот', 0.7219510674476624),\n",
       " ('только', 0.7215321063995361),\n",
       " ('другой', 0.7211594581604004),\n",
       " ('оба', 0.7186580300331116),\n",
       " ('за', 0.7165206074714661),\n",
       " ('ни', 0.7142389416694641),\n",
       " ('перед', 0.7136077284812927),\n",
       " ('же', 0.7124976515769958),\n",
       " ('можно', 0.7106633186340332),\n",
       " ('место', 0.7095289826393127),\n",
       " ('так', 0.7073025703430176),\n",
       " ('треть', 0.7062292098999023),\n",
       " ('чем', 0.7061398029327393),\n",
       " ('мочь', 0.7058018445968628),\n",
       " ('большой', 0.705718457698822),\n",
       " ('то', 0.7053390145301819),\n",
       " ('нет', 0.7048940658569336),\n",
       " ('конец', 0.7036462426185608),\n",
       " ('раз', 0.7035396099090576),\n",
       " ('рано', 0.7030260562896729),\n",
       " ('видимый', 0.7024760246276855),\n",
       " ('точно', 0.7020991444587708),\n",
       " ('два', 0.7017590403556824),\n",
       " ('прежний', 0.7016382813453674),\n",
       " ('не', 0.7014889121055603),\n",
       " ('пока', 0.7009755373001099),\n",
       " ('до', 0.7005541324615479),\n",
       " ('этот', 0.6994566917419434),\n",
       " ('или', 0.6992218494415283),\n",
       " ('почти', 0.6991134881973267),\n",
       " ('полно', 0.6976580619812012),\n",
       " ('именно', 0.6967904567718506),\n",
       " ('мало', 0.6962965130805969),\n",
       " ('уже', 0.6956221461296082),\n",
       " ('малый', 0.6951566934585571),\n",
       " ('дом', 0.6951378583908081),\n",
       " ('должно', 0.6949352622032166),\n",
       " ('вести', 0.6940993666648865),\n",
       " ('при', 0.6938977241516113),\n",
       " ('они', 0.6936295032501221),\n",
       " ('скоро', 0.6935380697250366),\n",
       " ('но', 0.6933882832527161),\n",
       " ('тение', 0.6932574510574341),\n",
       " ('подобно', 0.6924213767051697),\n",
       " ('мера', 0.6922474503517151),\n",
       " ('становиться', 0.6921427845954895),\n",
       " ('быть', 0.6921009421348572),\n",
       " ('равно', 0.6919384598731995),\n",
       " ('первый', 0.6908263564109802),\n",
       " ('близкий', 0.6907045245170593),\n",
       " ('пора', 0.6902021169662476),\n",
       " ('несколько', 0.689561128616333),\n",
       " ('три', 0.6892837285995483),\n",
       " ('сторона', 0.6886903643608093),\n",
       " ('видимость', 0.688326895236969),\n",
       " ('единственный', 0.687126636505127),\n",
       " ('все', 0.6870630979537964),\n",
       " ('на', 0.6868330836296082),\n",
       " ('кой', 0.6864000558853149),\n",
       " ('находиться', 0.6858639717102051),\n",
       " ('теперь', 0.685144305229187),\n",
       " ('время', 0.6849406361579895),\n",
       " ('ненно', 0.6845790147781372),\n",
       " ('далеко', 0.6834226250648499),\n",
       " ('под', 0.6831038594245911),\n",
       " ('иной', 0.6830851435661316),\n",
       " ('настоящий', 0.6824858784675598),\n",
       " ('много', 0.6823500394821167),\n",
       " ('последний', 0.6822327375411987),\n",
       " ('видный', 0.6822219491004944),\n",
       " ('больший', 0.6810703277587891),\n",
       " ('зато', 0.6798011064529419),\n",
       " ('ко', 0.6797702312469482),\n",
       " ('предел', 0.6793391108512878),\n",
       " ('повой', 0.6790484189987183),\n",
       " ('тогда', 0.6789894700050354),\n",
       " ('половина', 0.6788953542709351),\n",
       " ('он', 0.678444504737854),\n",
       " ('однако', 0.6784023642539978),\n",
       " ('некогда', 0.6780563592910767),\n",
       " ('представлять', 0.6779862642288208),\n",
       " ('такой', 0.6778006553649902),\n",
       " ('ли', 0.6766599416732788),\n",
       " ('свой', 0.6762783527374268),\n",
       " ('оставлять', 0.675899863243103),\n",
       " ('где', 0.6753183603286743),\n",
       " ('нести', 0.6753092408180237),\n",
       " ('видеть', 0.6750809550285339),\n",
       " ('еще', 0.6750096082687378),\n",
       " ('должный', 0.6746727228164673),\n",
       " ('над', 0.6744165420532227),\n",
       " ('заменять', 0.6738995909690857),\n",
       " ('позволять', 0.6735419034957886),\n",
       " ('это', 0.6734220385551453),\n",
       " ('мир', 0.6718263626098633),\n",
       " ('что', 0.671444296836853),\n",
       " ('причем', 0.671198308467865),\n",
       " ('новый', 0.6710430979728699),\n",
       " ('открытый', 0.6697549819946289),\n",
       " ('кроме', 0.6694655418395996),\n",
       " ('ника', 0.6686489582061768),\n",
       " ('без', 0.6684916615486145),\n",
       " ('с', 0.6684117913246155),\n",
       " ('оставаться', 0.6679912805557251),\n",
       " ('прежде', 0.6677133440971375),\n",
       " ('там', 0.6670228242874146),\n",
       " ('окружаться', 0.6670150756835938),\n",
       " ('всего', 0.666570246219635),\n",
       " ('даже', 0.666375458240509),\n",
       " ('превращать', 0.6661748886108398),\n",
       " ('видно', 0.6660043597221375),\n",
       " ('напоминать', 0.6658045053482056),\n",
       " ('вероятно', 0.6652478575706482),\n",
       " ('поздно', 0.6647617220878601),\n",
       " ('здесь', 0.6642369031906128),\n",
       " ('прогоняться', 0.6641089916229248),\n",
       " ('появляться', 0.663322389125824),\n",
       " ('невозможный', 0.6632170677185059),\n",
       " ('огромный', 0.6632106304168701),\n",
       " ('обычный', 0.6631910800933838),\n",
       " ('крайний', 0.6631398797035217),\n",
       " ('оказываться', 0.6626222133636475),\n",
       " ('достаточно', 0.6623356342315674),\n",
       " ('перенный', 0.6622682213783264),\n",
       " ('середина', 0.6621137857437134),\n",
       " ('какой', 0.6619237661361694),\n",
       " ('довольно', 0.661776065826416),\n",
       " ('его', 0.6616397500038147),\n",
       " ('лишь', 0.6612867712974548),\n",
       " ('сам', 0.6612080335617065),\n",
       " ('трудно', 0.6610627174377441),\n",
       " ('казаться', 0.6609636545181274),\n",
       " ('через', 0.6601479649543762),\n",
       " ('прочий', 0.6600708365440369),\n",
       " ('наконец', 0.6600370407104492),\n",
       " ('к', 0.6591292023658752),\n",
       " ('момент', 0.658543050289154),\n",
       " ('куда', 0.658258855342865),\n",
       " ('загоняться', 0.6582033634185791),\n",
       " ('недавно', 0.6580009460449219),\n",
       " ('кон', 0.6580008268356323),\n",
       " ('заставлять', 0.6574084758758545),\n",
       " ('сильно', 0.6573441028594971),\n",
       " ('свет', 0.6567822694778442),\n",
       " ('направлять', 0.656645655632019),\n",
       " ('бы', 0.6566340327262878),\n",
       " ('окружать', 0.6563933491706848),\n",
       " ('миновать', 0.6563703417778015),\n",
       " ('возможно', 0.6563640236854553),\n",
       " ('гор', 0.6560022830963135),\n",
       " ('помин', 0.6559109091758728),\n",
       " ('для', 0.6557375192642212),\n",
       " ('тень', 0.6556345224380493),\n",
       " ('раскивать', 0.6554416418075562),\n",
       " ('второй', 0.6549814939498901),\n",
       " ('значительно', 0.6543468832969666),\n",
       " ('превращаться', 0.6537616848945618),\n",
       " ('никакой', 0.6537044048309326),\n",
       " ('мениться', 0.6534883379936218),\n",
       " ('некий', 0.6531419157981873),\n",
       " ('любой', 0.6527493596076965),\n",
       " ('а', 0.6527261734008789),\n",
       " ('меньший', 0.6526439189910889),\n",
       " ('ясно', 0.6522523760795593),\n",
       " ('бельный', 0.6519868969917297),\n",
       " ('часть', 0.6518938541412354),\n",
       " ('третий', 0.6517577171325684),\n",
       " ('остальной', 0.6516126394271851),\n",
       " ('естественно', 0.6515337228775024),\n",
       " ('проникать', 0.6511404514312744),\n",
       " ('сей', 0.6509009599685669),\n",
       " ('действительно', 0.650808572769165),\n",
       " ('пара', 0.6503552794456482),\n",
       " ('вместо', 0.6502334475517273),\n",
       " ('путь', 0.6499412655830383),\n",
       " ('рение', 0.6498150825500488),\n",
       " ('невозможно', 0.6497266292572021),\n",
       " ('следовать', 0.6493703126907349),\n",
       " ('целый', 0.6492582559585571),\n",
       " ('вот', 0.6489724516868591),\n",
       " ('касаться', 0.6487335562705994),\n",
       " ('мешать', 0.6487249135971069),\n",
       " ('начально', 0.6481939554214478),\n",
       " ('немой', 0.6481575965881348),\n",
       " ('образ', 0.6481133103370667),\n",
       " ('кладывать', 0.6481035351753235),\n",
       " ('стоять', 0.6480332612991333)]"
      ]
     },
     "execution_count": 116,
     "metadata": {},
     "output_type": "execute_result"
    }
   ],
   "source": [
    "wv.similar_by_vector(lol, 200)"
   ]
  },
  {
   "cell_type": "code",
   "execution_count": null,
   "metadata": {},
   "outputs": [],
   "source": []
  },
  {
   "cell_type": "code",
   "execution_count": null,
   "metadata": {},
   "outputs": [],
   "source": []
  },
  {
   "cell_type": "code",
   "execution_count": null,
   "metadata": {},
   "outputs": [],
   "source": []
  },
  {
   "cell_type": "code",
   "execution_count": null,
   "metadata": {},
   "outputs": [],
   "source": []
  }
 ],
 "metadata": {
  "kernelspec": {
   "display_name": "Python 3",
   "language": "python",
   "name": "python3"
  },
  "language_info": {
   "codemirror_mode": {
    "name": "ipython",
    "version": 3
   },
   "file_extension": ".py",
   "mimetype": "text/x-python",
   "name": "python",
   "nbconvert_exporter": "python",
   "pygments_lexer": "ipython3",
   "version": "3.6.3"
  }
 },
 "nbformat": 4,
 "nbformat_minor": 2
}

{
 "cells": [
  {
   "cell_type": "code",
   "execution_count": 1,
   "metadata": {},
   "outputs": [],
   "source": [
    "from tqdm import tqdm_notebook\n",
    "from matplotlib import pyplot as plt\n",
    "import tensorflow as tf\n",
    "import numpy as np\n",
    "\n",
    "%matplotlib inline"
   ]
  },
  {
   "cell_type": "code",
   "execution_count": 46,
   "metadata": {},
   "outputs": [],
   "source": [
    "class MultiComp:\n",
    "    def __init__(self, emb_size, n_comp, margin):\n",
    "        tf.reset_default_graph()\n",
    "        \n",
    "        self.pos = tf.placeholder(dtype=tf.float32, shape=[None, emb_size], name='pos_ph')\n",
    "        self.neg = tf.placeholder(dtype=tf.float32, shape=[None, emb_size], name='neg_ph')\n",
    "        self.lr = tf.placeholder(dtype=tf.float32, shape=[], name='learning_rate_ph')\n",
    "\n",
    "        comp_init = np.random.randn(n_comp, emb_size) / np.sqrt(emb_size * n_comp)\n",
    "        self.sense_comps = tf.Variable(comp_init, dtype=tf.float32, name='senses')\n",
    "\n",
    "        # Attention\n",
    "#         self.centroid = tf.get_variable(\"centroid\", shape=[1, emb_size],\n",
    "#                                 initializer=tf.contrib.layers.xavier_initializer())\n",
    "#         self.att_cont_weights = tf.matmul(self.pos, self.centroid, transpose_b=True, name='get_logits_context_att') # [None x 1]\n",
    "#         self.att_cont_weights = tf.nn.softmax(self.att_cont_weights, axis=0, name='softmax_context_att') # [? x 1]\n",
    "#         print(self.att_cont_weights)\n",
    "        \n",
    "#         mean_cont = tf.reduce_mean(self.pos, axis=0, keep_dims=True)\n",
    "#         mean_cont = tf.matmul(self.att_cont_weights, self.pos, transpose_a=True) # [1 x 100]\n",
    "        mean_cont = tf.reduce_mean(self.pos, axis=0, keep_dims=True)\n",
    "        mean_cont = tf.nn.l2_normalize(mean_cont, 1)  # 1 x 100\n",
    "        \n",
    "        norm_sens = tf.nn.l2_normalize(self.sense_comps, 1) # n_comp x 100\n",
    "        \n",
    "        att = tf.reduce_sum(mean_cont * norm_sens, axis=1, keep_dims=True)\n",
    "#         noise = tf.random_normal(att.get_shape()) * tf.reduce_mean(att) / 3\n",
    "#         att += noise\n",
    "        self.att = att\n",
    "#         self.att = tf.nn.softmax(att, dim=0)\n",
    "        word_emb = tf.reduce_sum(self.sense_comps * self.att, axis=0, keep_dims=True)\n",
    "        \n",
    "        \n",
    "        # Cosine loss\n",
    "        norm_pos = tf.nn.l2_normalize(self.pos, 1)\n",
    "        norm_neg = tf.nn.l2_normalize(self.neg, 1)\n",
    "        norm_word_emb = tf.nn.l2_normalize(word_emb, 1)\n",
    "        \n",
    "        pos_loss = tf.reduce_mean(tf.reduce_sum(norm_pos * norm_word_emb, axis=1))\n",
    "        neg_loss = tf.reduce_mean(tf.reduce_sum(norm_neg * norm_word_emb, axis=1))\n",
    "        \n",
    "        self.loss = -pos_loss + neg_loss# + 1e-3*tf.nn.l2_loss(self.sense_comps)\n",
    "#         opt = tf.train.AdamOptimizer(self.lr)\n",
    "        opt = tf.train.GradientDescentOptimizer(learning_rate=self.lr)\n",
    "        self.train_op = opt.minimize(self.loss)\n",
    "        \n",
    "        self.sess = tf.Session()\n",
    "        self.sess.run(tf.global_variables_initializer())\n",
    "        \n",
    "    def train_on_sample(self, pos_samp, neg_samp, learning_rate):\n",
    "        feed_dict = {self.pos: pos_samp, self.neg: neg_samp, self.lr: learning_rate}\n",
    "        loss, att, _ = self.sess.run([self.loss, self.att, self.train_op], feed_dict)\n",
    "        return loss, att\n",
    "    \n",
    "    def predict_on_sample(self, samp):\n",
    "        return self.sess.run(self.att, {self.pos: samp})\n",
    "    \n",
    "    def get_linear_combination(self, samp):\n",
    "        att,vecs = self.sess.run([self.att, self.sense_comps], {self.pos: samp})\n",
    "        return np.sum(att*vecs, axis=0)"
   ]
  },
  {
   "cell_type": "markdown",
   "metadata": {},
   "source": [
    "# Simple Test"
   ]
  },
  {
   "cell_type": "code",
   "execution_count": 26,
   "metadata": {},
   "outputs": [
    {
     "data": {
      "text/plain": [
       "(-0.0021544863, array([[-0.01839484],\n",
       "        [-0.11406198],\n",
       "        [ 0.03299395]], dtype=float32))"
      ]
     },
     "execution_count": 26,
     "metadata": {},
     "output_type": "execute_result"
    }
   ],
   "source": [
    "net = MultiComp(100, 3, 0.1)\n",
    "\n",
    "pos = np.random.randn(10, 100)\n",
    "neg = np.random.randn(10, 100)\n",
    "\n",
    "net.train_on_sample(pos, neg, 1e-3)"
   ]
  },
  {
   "cell_type": "code",
   "execution_count": 28,
   "metadata": {},
   "outputs": [],
   "source": [
    "import pandas as pd"
   ]
  },
  {
   "cell_type": "code",
   "execution_count": 29,
   "metadata": {},
   "outputs": [],
   "source": [
    "from pymystem3 import Mystem\n",
    "mystem = Mystem()"
   ]
  },
  {
   "cell_type": "markdown",
   "metadata": {},
   "source": [
    "# Train"
   ]
  },
  {
   "cell_type": "code",
   "execution_count": 27,
   "metadata": {},
   "outputs": [],
   "source": [
    "from gensim.models import KeyedVectors\n",
    "wv = KeyedVectors.load_word2vec_format(\"../models/model_big_one.vec\", binary=False)"
   ]
  },
  {
   "cell_type": "code",
   "execution_count": 31,
   "metadata": {},
   "outputs": [],
   "source": [
    "import nltk\n",
    "stop_words = nltk.corpus.stopwords.words('russian')"
   ]
  },
  {
   "cell_type": "code",
   "execution_count": 61,
   "metadata": {},
   "outputs": [],
   "source": [
    "def train_model(f, word, cmp=3, lr=1e-2, epoch_num=10, n_context=10, lr_decay=False, do_shuffle=False, lemmatize=False):\n",
    "    \n",
    "    n_comps = cmp\n",
    "    net = MultiComp(100, n_comps, 0.1)\n",
    "\n",
    "    n_samples = len(f)\n",
    "#     n_context = 10 # number of words in the context\n",
    "    emb_dim = 100\n",
    "    atts = list()\n",
    "#     epoch_num = 5\n",
    "    losses = []\n",
    "    for epoch in range(epoch_num):\n",
    "    #     batch_gen = generate_triplet_batch(lines, context_max_len=n_context)\n",
    "        batch_gen = generate_triplet_batch(f, context_max_len=n_context, word=word, \n",
    "                                           lemmatize=lemmatize, do_shuffle=do_shuffle)\n",
    "        pbar = tqdm_notebook(batch_gen, total = n_samples)\n",
    "        print(\"epoch_num: \", epoch)\n",
    "        for n, (sample_p, sample_n) in enumerate(pbar):\n",
    "            if len(sample_p)==0:\n",
    "                continue\n",
    "\n",
    "            loss, att = net.train_on_sample(sample_p, sample_n, lr)\n",
    "            atts.append(att)\n",
    "            losses.append(loss)\n",
    "\n",
    "            if n % 100 == 99:\n",
    "                pbar.set_description(\"loss {:.3f}\".format(float(np.mean(losses[-300:]))))\n",
    "        if lr_decay:\n",
    "            lr *= 0.707\n",
    "    return net"
   ]
  },
  {
   "cell_type": "code",
   "execution_count": 48,
   "metadata": {},
   "outputs": [],
   "source": [
    "from copy import deepcopy\n",
    "from random import shuffle\n",
    "\n",
    "def generate_triplet_batch(lines, context_max_len, word, lemmatize=False, tfidf=False, do_shuffle=False):\n",
    "    if tfidf:\n",
    "        tfidf_tr = TfidfVectorizer()\n",
    "        vals = tfidf.fit_transform(lines)\n",
    "        \n",
    "    voc_size = len(wv.vocab)\n",
    "    if do_shuffle:\n",
    "        lines = deepcopy(lines)\n",
    "        shuffle(lines)\n",
    "    for j, line in enumerate(lines):\n",
    "        if lemmatize:\n",
    "            line = mystem.lemmatize(line)\n",
    "            line = [t for t in line if t.isalnum()]\n",
    "        else:\n",
    "            line = line.split()\n",
    "        line = list(set(line)-set(stop_words + [word]))\n",
    "#         print(line)\n",
    "        embedd_ps = []\n",
    "        embedd_p = []\n",
    "#         context = np.random.choice(line, context_max_len)\n",
    "        context = line\n",
    "        for i, w in enumerate(context):\n",
    "            try:\n",
    "                if tfidf:\n",
    "                    num = tfidf_tr.vocabulary_[w]\n",
    "                    embedd_p.append(wv[w]*vals[j, num])\n",
    "                    print(w, vals[j, num],)\n",
    "                else:\n",
    "                    embedd_p.append(wv[w])\n",
    "            except KeyError:\n",
    "                continue\n",
    "        embedd_n = [wv[wv.index2word[i]] for i in np.random.random_integers(0, voc_size-1, len(embedd_p))]\n",
    "        yield np.array(embedd_p), np.array(embedd_n)"
   ]
  },
  {
   "cell_type": "code",
   "execution_count": 57,
   "metadata": {},
   "outputs": [
    {
     "data": {
      "application/vnd.jupyter.widget-view+json": {
       "model_id": "c5a5955a109048e68bd4d4ea709fabd9",
       "version_major": 2,
       "version_minor": 0
      },
      "text/html": [
       "<p>Failed to display Jupyter Widget of type <code>HBox</code>.</p>\n",
       "<p>\n",
       "  If you're reading this message in Jupyter Notebook or JupyterLab, it may mean\n",
       "  that the widgets JavaScript is still loading. If this message persists, it\n",
       "  likely means that the widgets JavaScript library is either not installed or\n",
       "  not enabled. See the <a href=\"https://ipywidgets.readthedocs.io/en/stable/user_install.html\">Jupyter\n",
       "  Widgets Documentation</a> for setup instructions.\n",
       "</p>\n",
       "<p>\n",
       "  If you're reading this message in another notebook frontend (for example, a static\n",
       "  rendering on GitHub or <a href=\"https://nbviewer.jupyter.org/\">NBViewer</a>),\n",
       "  it may mean that your frontend doesn't currently support widgets.\n",
       "</p>\n"
      ],
      "text/plain": [
       "HBox(children=(IntProgress(value=0, max=138), HTML(value='')))"
      ]
     },
     "metadata": {},
     "output_type": "display_data"
    },
    {
     "name": "stdout",
     "output_type": "stream",
     "text": [
      "epoch_num:  0\n"
     ]
    },
    {
     "name": "stderr",
     "output_type": "stream",
     "text": [
      "/home/fogside/virtualenvs/py3/lib/python3.6/site-packages/ipykernel_launcher.py:35: DeprecationWarning: This function is deprecated. Please call randint(0, 202435 + 1) instead\n"
     ]
    },
    {
     "name": "stdout",
     "output_type": "stream",
     "text": [
      "\n"
     ]
    },
    {
     "data": {
      "application/vnd.jupyter.widget-view+json": {
       "model_id": "9a8e2e7b20ce4873a35dfd23c477b633",
       "version_major": 2,
       "version_minor": 0
      },
      "text/html": [
       "<p>Failed to display Jupyter Widget of type <code>HBox</code>.</p>\n",
       "<p>\n",
       "  If you're reading this message in Jupyter Notebook or JupyterLab, it may mean\n",
       "  that the widgets JavaScript is still loading. If this message persists, it\n",
       "  likely means that the widgets JavaScript library is either not installed or\n",
       "  not enabled. See the <a href=\"https://ipywidgets.readthedocs.io/en/stable/user_install.html\">Jupyter\n",
       "  Widgets Documentation</a> for setup instructions.\n",
       "</p>\n",
       "<p>\n",
       "  If you're reading this message in another notebook frontend (for example, a static\n",
       "  rendering on GitHub or <a href=\"https://nbviewer.jupyter.org/\">NBViewer</a>),\n",
       "  it may mean that your frontend doesn't currently support widgets.\n",
       "</p>\n"
      ],
      "text/plain": [
       "HBox(children=(IntProgress(value=0, max=138), HTML(value='')))"
      ]
     },
     "metadata": {},
     "output_type": "display_data"
    },
    {
     "name": "stdout",
     "output_type": "stream",
     "text": [
      "epoch_num:  1\n",
      "\n"
     ]
    },
    {
     "data": {
      "application/vnd.jupyter.widget-view+json": {
       "model_id": "95f9429951024982a9fb60447935eb6c",
       "version_major": 2,
       "version_minor": 0
      },
      "text/html": [
       "<p>Failed to display Jupyter Widget of type <code>HBox</code>.</p>\n",
       "<p>\n",
       "  If you're reading this message in Jupyter Notebook or JupyterLab, it may mean\n",
       "  that the widgets JavaScript is still loading. If this message persists, it\n",
       "  likely means that the widgets JavaScript library is either not installed or\n",
       "  not enabled. See the <a href=\"https://ipywidgets.readthedocs.io/en/stable/user_install.html\">Jupyter\n",
       "  Widgets Documentation</a> for setup instructions.\n",
       "</p>\n",
       "<p>\n",
       "  If you're reading this message in another notebook frontend (for example, a static\n",
       "  rendering on GitHub or <a href=\"https://nbviewer.jupyter.org/\">NBViewer</a>),\n",
       "  it may mean that your frontend doesn't currently support widgets.\n",
       "</p>\n"
      ],
      "text/plain": [
       "HBox(children=(IntProgress(value=0, max=138), HTML(value='')))"
      ]
     },
     "metadata": {},
     "output_type": "display_data"
    },
    {
     "name": "stdout",
     "output_type": "stream",
     "text": [
      "epoch_num:  2\n",
      "\n"
     ]
    },
    {
     "data": {
      "application/vnd.jupyter.widget-view+json": {
       "model_id": "ef4c667a84a4490696d0e8797695d1db",
       "version_major": 2,
       "version_minor": 0
      },
      "text/html": [
       "<p>Failed to display Jupyter Widget of type <code>HBox</code>.</p>\n",
       "<p>\n",
       "  If you're reading this message in Jupyter Notebook or JupyterLab, it may mean\n",
       "  that the widgets JavaScript is still loading. If this message persists, it\n",
       "  likely means that the widgets JavaScript library is either not installed or\n",
       "  not enabled. See the <a href=\"https://ipywidgets.readthedocs.io/en/stable/user_install.html\">Jupyter\n",
       "  Widgets Documentation</a> for setup instructions.\n",
       "</p>\n",
       "<p>\n",
       "  If you're reading this message in another notebook frontend (for example, a static\n",
       "  rendering on GitHub or <a href=\"https://nbviewer.jupyter.org/\">NBViewer</a>),\n",
       "  it may mean that your frontend doesn't currently support widgets.\n",
       "</p>\n"
      ],
      "text/plain": [
       "HBox(children=(IntProgress(value=0, max=138), HTML(value='')))"
      ]
     },
     "metadata": {},
     "output_type": "display_data"
    },
    {
     "name": "stdout",
     "output_type": "stream",
     "text": [
      "epoch_num:  3\n",
      "\n"
     ]
    },
    {
     "data": {
      "application/vnd.jupyter.widget-view+json": {
       "model_id": "3ed0e9b08fcb428e90708aad4060d5d3",
       "version_major": 2,
       "version_minor": 0
      },
      "text/html": [
       "<p>Failed to display Jupyter Widget of type <code>HBox</code>.</p>\n",
       "<p>\n",
       "  If you're reading this message in Jupyter Notebook or JupyterLab, it may mean\n",
       "  that the widgets JavaScript is still loading. If this message persists, it\n",
       "  likely means that the widgets JavaScript library is either not installed or\n",
       "  not enabled. See the <a href=\"https://ipywidgets.readthedocs.io/en/stable/user_install.html\">Jupyter\n",
       "  Widgets Documentation</a> for setup instructions.\n",
       "</p>\n",
       "<p>\n",
       "  If you're reading this message in another notebook frontend (for example, a static\n",
       "  rendering on GitHub or <a href=\"https://nbviewer.jupyter.org/\">NBViewer</a>),\n",
       "  it may mean that your frontend doesn't currently support widgets.\n",
       "</p>\n"
      ],
      "text/plain": [
       "HBox(children=(IntProgress(value=0, max=138), HTML(value='')))"
      ]
     },
     "metadata": {},
     "output_type": "display_data"
    },
    {
     "name": "stdout",
     "output_type": "stream",
     "text": [
      "epoch_num:  4\n",
      "\n"
     ]
    },
    {
     "data": {
      "application/vnd.jupyter.widget-view+json": {
       "model_id": "24ddc03586aa4b8999dc364b30dca978",
       "version_major": 2,
       "version_minor": 0
      },
      "text/html": [
       "<p>Failed to display Jupyter Widget of type <code>HBox</code>.</p>\n",
       "<p>\n",
       "  If you're reading this message in Jupyter Notebook or JupyterLab, it may mean\n",
       "  that the widgets JavaScript is still loading. If this message persists, it\n",
       "  likely means that the widgets JavaScript library is either not installed or\n",
       "  not enabled. See the <a href=\"https://ipywidgets.readthedocs.io/en/stable/user_install.html\">Jupyter\n",
       "  Widgets Documentation</a> for setup instructions.\n",
       "</p>\n",
       "<p>\n",
       "  If you're reading this message in another notebook frontend (for example, a static\n",
       "  rendering on GitHub or <a href=\"https://nbviewer.jupyter.org/\">NBViewer</a>),\n",
       "  it may mean that your frontend doesn't currently support widgets.\n",
       "</p>\n"
      ],
      "text/plain": [
       "HBox(children=(IntProgress(value=0, max=138), HTML(value='')))"
      ]
     },
     "metadata": {},
     "output_type": "display_data"
    },
    {
     "name": "stdout",
     "output_type": "stream",
     "text": [
      "epoch_num:  5\n",
      "\n"
     ]
    },
    {
     "data": {
      "application/vnd.jupyter.widget-view+json": {
       "model_id": "143c05e48c8547719e4653b6a1d18465",
       "version_major": 2,
       "version_minor": 0
      },
      "text/html": [
       "<p>Failed to display Jupyter Widget of type <code>HBox</code>.</p>\n",
       "<p>\n",
       "  If you're reading this message in Jupyter Notebook or JupyterLab, it may mean\n",
       "  that the widgets JavaScript is still loading. If this message persists, it\n",
       "  likely means that the widgets JavaScript library is either not installed or\n",
       "  not enabled. See the <a href=\"https://ipywidgets.readthedocs.io/en/stable/user_install.html\">Jupyter\n",
       "  Widgets Documentation</a> for setup instructions.\n",
       "</p>\n",
       "<p>\n",
       "  If you're reading this message in another notebook frontend (for example, a static\n",
       "  rendering on GitHub or <a href=\"https://nbviewer.jupyter.org/\">NBViewer</a>),\n",
       "  it may mean that your frontend doesn't currently support widgets.\n",
       "</p>\n"
      ],
      "text/plain": [
       "HBox(children=(IntProgress(value=0, max=138), HTML(value='')))"
      ]
     },
     "metadata": {},
     "output_type": "display_data"
    },
    {
     "name": "stdout",
     "output_type": "stream",
     "text": [
      "epoch_num:  6\n",
      "\n"
     ]
    },
    {
     "data": {
      "application/vnd.jupyter.widget-view+json": {
       "model_id": "78211c5b136c4f008a64ae13ded6ac1a",
       "version_major": 2,
       "version_minor": 0
      },
      "text/html": [
       "<p>Failed to display Jupyter Widget of type <code>HBox</code>.</p>\n",
       "<p>\n",
       "  If you're reading this message in Jupyter Notebook or JupyterLab, it may mean\n",
       "  that the widgets JavaScript is still loading. If this message persists, it\n",
       "  likely means that the widgets JavaScript library is either not installed or\n",
       "  not enabled. See the <a href=\"https://ipywidgets.readthedocs.io/en/stable/user_install.html\">Jupyter\n",
       "  Widgets Documentation</a> for setup instructions.\n",
       "</p>\n",
       "<p>\n",
       "  If you're reading this message in another notebook frontend (for example, a static\n",
       "  rendering on GitHub or <a href=\"https://nbviewer.jupyter.org/\">NBViewer</a>),\n",
       "  it may mean that your frontend doesn't currently support widgets.\n",
       "</p>\n"
      ],
      "text/plain": [
       "HBox(children=(IntProgress(value=0, max=138), HTML(value='')))"
      ]
     },
     "metadata": {},
     "output_type": "display_data"
    },
    {
     "name": "stdout",
     "output_type": "stream",
     "text": [
      "epoch_num:  7\n",
      "\n"
     ]
    },
    {
     "data": {
      "application/vnd.jupyter.widget-view+json": {
       "model_id": "d485346367c246688e20844b4e5c6c97",
       "version_major": 2,
       "version_minor": 0
      },
      "text/html": [
       "<p>Failed to display Jupyter Widget of type <code>HBox</code>.</p>\n",
       "<p>\n",
       "  If you're reading this message in Jupyter Notebook or JupyterLab, it may mean\n",
       "  that the widgets JavaScript is still loading. If this message persists, it\n",
       "  likely means that the widgets JavaScript library is either not installed or\n",
       "  not enabled. See the <a href=\"https://ipywidgets.readthedocs.io/en/stable/user_install.html\">Jupyter\n",
       "  Widgets Documentation</a> for setup instructions.\n",
       "</p>\n",
       "<p>\n",
       "  If you're reading this message in another notebook frontend (for example, a static\n",
       "  rendering on GitHub or <a href=\"https://nbviewer.jupyter.org/\">NBViewer</a>),\n",
       "  it may mean that your frontend doesn't currently support widgets.\n",
       "</p>\n"
      ],
      "text/plain": [
       "HBox(children=(IntProgress(value=0, max=138), HTML(value='')))"
      ]
     },
     "metadata": {},
     "output_type": "display_data"
    },
    {
     "name": "stdout",
     "output_type": "stream",
     "text": [
      "epoch_num:  8\n",
      "\n"
     ]
    },
    {
     "data": {
      "application/vnd.jupyter.widget-view+json": {
       "model_id": "6678247c120f4566ad159a4cbb602b06",
       "version_major": 2,
       "version_minor": 0
      },
      "text/html": [
       "<p>Failed to display Jupyter Widget of type <code>HBox</code>.</p>\n",
       "<p>\n",
       "  If you're reading this message in Jupyter Notebook or JupyterLab, it may mean\n",
       "  that the widgets JavaScript is still loading. If this message persists, it\n",
       "  likely means that the widgets JavaScript library is either not installed or\n",
       "  not enabled. See the <a href=\"https://ipywidgets.readthedocs.io/en/stable/user_install.html\">Jupyter\n",
       "  Widgets Documentation</a> for setup instructions.\n",
       "</p>\n",
       "<p>\n",
       "  If you're reading this message in another notebook frontend (for example, a static\n",
       "  rendering on GitHub or <a href=\"https://nbviewer.jupyter.org/\">NBViewer</a>),\n",
       "  it may mean that your frontend doesn't currently support widgets.\n",
       "</p>\n"
      ],
      "text/plain": [
       "HBox(children=(IntProgress(value=0, max=138), HTML(value='')))"
      ]
     },
     "metadata": {},
     "output_type": "display_data"
    },
    {
     "name": "stdout",
     "output_type": "stream",
     "text": [
      "epoch_num:  9\n",
      "\n"
     ]
    },
    {
     "data": {
      "application/vnd.jupyter.widget-view+json": {
       "model_id": "dd54912ebc3541219ab53aeb945b702a",
       "version_major": 2,
       "version_minor": 0
      },
      "text/html": [
       "<p>Failed to display Jupyter Widget of type <code>HBox</code>.</p>\n",
       "<p>\n",
       "  If you're reading this message in Jupyter Notebook or JupyterLab, it may mean\n",
       "  that the widgets JavaScript is still loading. If this message persists, it\n",
       "  likely means that the widgets JavaScript library is either not installed or\n",
       "  not enabled. See the <a href=\"https://ipywidgets.readthedocs.io/en/stable/user_install.html\">Jupyter\n",
       "  Widgets Documentation</a> for setup instructions.\n",
       "</p>\n",
       "<p>\n",
       "  If you're reading this message in another notebook frontend (for example, a static\n",
       "  rendering on GitHub or <a href=\"https://nbviewer.jupyter.org/\">NBViewer</a>),\n",
       "  it may mean that your frontend doesn't currently support widgets.\n",
       "</p>\n"
      ],
      "text/plain": [
       "HBox(children=(IntProgress(value=0, max=138), HTML(value='')))"
      ]
     },
     "metadata": {},
     "output_type": "display_data"
    },
    {
     "name": "stdout",
     "output_type": "stream",
     "text": [
      "\n"
     ]
    },
    {
     "data": {
      "application/vnd.jupyter.widget-view+json": {
       "model_id": "273d82e08f4948dfa27ed28c4e2a43c1",
       "version_major": 2,
       "version_minor": 0
      },
      "text/html": [
       "<p>Failed to display Jupyter Widget of type <code>HBox</code>.</p>\n",
       "<p>\n",
       "  If you're reading this message in Jupyter Notebook or JupyterLab, it may mean\n",
       "  that the widgets JavaScript is still loading. If this message persists, it\n",
       "  likely means that the widgets JavaScript library is either not installed or\n",
       "  not enabled. See the <a href=\"https://ipywidgets.readthedocs.io/en/stable/user_install.html\">Jupyter\n",
       "  Widgets Documentation</a> for setup instructions.\n",
       "</p>\n",
       "<p>\n",
       "  If you're reading this message in another notebook frontend (for example, a static\n",
       "  rendering on GitHub or <a href=\"https://nbviewer.jupyter.org/\">NBViewer</a>),\n",
       "  it may mean that your frontend doesn't currently support widgets.\n",
       "</p>\n"
      ],
      "text/plain": [
       "HBox(children=(IntProgress(value=0, max=110), HTML(value='')))"
      ]
     },
     "metadata": {},
     "output_type": "display_data"
    },
    {
     "name": "stdout",
     "output_type": "stream",
     "text": [
      "epoch_num:  0\n",
      "\n"
     ]
    },
    {
     "data": {
      "application/vnd.jupyter.widget-view+json": {
       "model_id": "72557af6e26947e4b5670ba41d09fcc0",
       "version_major": 2,
       "version_minor": 0
      },
      "text/html": [
       "<p>Failed to display Jupyter Widget of type <code>HBox</code>.</p>\n",
       "<p>\n",
       "  If you're reading this message in Jupyter Notebook or JupyterLab, it may mean\n",
       "  that the widgets JavaScript is still loading. If this message persists, it\n",
       "  likely means that the widgets JavaScript library is either not installed or\n",
       "  not enabled. See the <a href=\"https://ipywidgets.readthedocs.io/en/stable/user_install.html\">Jupyter\n",
       "  Widgets Documentation</a> for setup instructions.\n",
       "</p>\n",
       "<p>\n",
       "  If you're reading this message in another notebook frontend (for example, a static\n",
       "  rendering on GitHub or <a href=\"https://nbviewer.jupyter.org/\">NBViewer</a>),\n",
       "  it may mean that your frontend doesn't currently support widgets.\n",
       "</p>\n"
      ],
      "text/plain": [
       "HBox(children=(IntProgress(value=0, max=110), HTML(value='')))"
      ]
     },
     "metadata": {},
     "output_type": "display_data"
    },
    {
     "name": "stdout",
     "output_type": "stream",
     "text": [
      "epoch_num:  1\n",
      "\n"
     ]
    },
    {
     "data": {
      "application/vnd.jupyter.widget-view+json": {
       "model_id": "d2909336500d47cc89be860f03d00428",
       "version_major": 2,
       "version_minor": 0
      },
      "text/html": [
       "<p>Failed to display Jupyter Widget of type <code>HBox</code>.</p>\n",
       "<p>\n",
       "  If you're reading this message in Jupyter Notebook or JupyterLab, it may mean\n",
       "  that the widgets JavaScript is still loading. If this message persists, it\n",
       "  likely means that the widgets JavaScript library is either not installed or\n",
       "  not enabled. See the <a href=\"https://ipywidgets.readthedocs.io/en/stable/user_install.html\">Jupyter\n",
       "  Widgets Documentation</a> for setup instructions.\n",
       "</p>\n",
       "<p>\n",
       "  If you're reading this message in another notebook frontend (for example, a static\n",
       "  rendering on GitHub or <a href=\"https://nbviewer.jupyter.org/\">NBViewer</a>),\n",
       "  it may mean that your frontend doesn't currently support widgets.\n",
       "</p>\n"
      ],
      "text/plain": [
       "HBox(children=(IntProgress(value=0, max=110), HTML(value='')))"
      ]
     },
     "metadata": {},
     "output_type": "display_data"
    },
    {
     "name": "stdout",
     "output_type": "stream",
     "text": [
      "epoch_num:  2\n",
      "\n"
     ]
    },
    {
     "data": {
      "application/vnd.jupyter.widget-view+json": {
       "model_id": "3a7233027c1544f1a77df204a97d371e",
       "version_major": 2,
       "version_minor": 0
      },
      "text/html": [
       "<p>Failed to display Jupyter Widget of type <code>HBox</code>.</p>\n",
       "<p>\n",
       "  If you're reading this message in Jupyter Notebook or JupyterLab, it may mean\n",
       "  that the widgets JavaScript is still loading. If this message persists, it\n",
       "  likely means that the widgets JavaScript library is either not installed or\n",
       "  not enabled. See the <a href=\"https://ipywidgets.readthedocs.io/en/stable/user_install.html\">Jupyter\n",
       "  Widgets Documentation</a> for setup instructions.\n",
       "</p>\n",
       "<p>\n",
       "  If you're reading this message in another notebook frontend (for example, a static\n",
       "  rendering on GitHub or <a href=\"https://nbviewer.jupyter.org/\">NBViewer</a>),\n",
       "  it may mean that your frontend doesn't currently support widgets.\n",
       "</p>\n"
      ],
      "text/plain": [
       "HBox(children=(IntProgress(value=0, max=110), HTML(value='')))"
      ]
     },
     "metadata": {},
     "output_type": "display_data"
    },
    {
     "name": "stdout",
     "output_type": "stream",
     "text": [
      "epoch_num:  3\n",
      "\n"
     ]
    },
    {
     "data": {
      "application/vnd.jupyter.widget-view+json": {
       "model_id": "e7d2c28f1941480ca13f181e769539a7",
       "version_major": 2,
       "version_minor": 0
      },
      "text/html": [
       "<p>Failed to display Jupyter Widget of type <code>HBox</code>.</p>\n",
       "<p>\n",
       "  If you're reading this message in Jupyter Notebook or JupyterLab, it may mean\n",
       "  that the widgets JavaScript is still loading. If this message persists, it\n",
       "  likely means that the widgets JavaScript library is either not installed or\n",
       "  not enabled. See the <a href=\"https://ipywidgets.readthedocs.io/en/stable/user_install.html\">Jupyter\n",
       "  Widgets Documentation</a> for setup instructions.\n",
       "</p>\n",
       "<p>\n",
       "  If you're reading this message in another notebook frontend (for example, a static\n",
       "  rendering on GitHub or <a href=\"https://nbviewer.jupyter.org/\">NBViewer</a>),\n",
       "  it may mean that your frontend doesn't currently support widgets.\n",
       "</p>\n"
      ],
      "text/plain": [
       "HBox(children=(IntProgress(value=0, max=110), HTML(value='')))"
      ]
     },
     "metadata": {},
     "output_type": "display_data"
    },
    {
     "name": "stdout",
     "output_type": "stream",
     "text": [
      "epoch_num:  4\n",
      "\n"
     ]
    },
    {
     "data": {
      "application/vnd.jupyter.widget-view+json": {
       "model_id": "53496d00316845c0ae97f049b4655d85",
       "version_major": 2,
       "version_minor": 0
      },
      "text/html": [
       "<p>Failed to display Jupyter Widget of type <code>HBox</code>.</p>\n",
       "<p>\n",
       "  If you're reading this message in Jupyter Notebook or JupyterLab, it may mean\n",
       "  that the widgets JavaScript is still loading. If this message persists, it\n",
       "  likely means that the widgets JavaScript library is either not installed or\n",
       "  not enabled. See the <a href=\"https://ipywidgets.readthedocs.io/en/stable/user_install.html\">Jupyter\n",
       "  Widgets Documentation</a> for setup instructions.\n",
       "</p>\n",
       "<p>\n",
       "  If you're reading this message in another notebook frontend (for example, a static\n",
       "  rendering on GitHub or <a href=\"https://nbviewer.jupyter.org/\">NBViewer</a>),\n",
       "  it may mean that your frontend doesn't currently support widgets.\n",
       "</p>\n"
      ],
      "text/plain": [
       "HBox(children=(IntProgress(value=0, max=110), HTML(value='')))"
      ]
     },
     "metadata": {},
     "output_type": "display_data"
    },
    {
     "name": "stdout",
     "output_type": "stream",
     "text": [
      "epoch_num:  5\n",
      "\n"
     ]
    },
    {
     "data": {
      "application/vnd.jupyter.widget-view+json": {
       "model_id": "af6fc54401f84ebdbb99348acfcd7005",
       "version_major": 2,
       "version_minor": 0
      },
      "text/html": [
       "<p>Failed to display Jupyter Widget of type <code>HBox</code>.</p>\n",
       "<p>\n",
       "  If you're reading this message in Jupyter Notebook or JupyterLab, it may mean\n",
       "  that the widgets JavaScript is still loading. If this message persists, it\n",
       "  likely means that the widgets JavaScript library is either not installed or\n",
       "  not enabled. See the <a href=\"https://ipywidgets.readthedocs.io/en/stable/user_install.html\">Jupyter\n",
       "  Widgets Documentation</a> for setup instructions.\n",
       "</p>\n",
       "<p>\n",
       "  If you're reading this message in another notebook frontend (for example, a static\n",
       "  rendering on GitHub or <a href=\"https://nbviewer.jupyter.org/\">NBViewer</a>),\n",
       "  it may mean that your frontend doesn't currently support widgets.\n",
       "</p>\n"
      ],
      "text/plain": [
       "HBox(children=(IntProgress(value=0, max=110), HTML(value='')))"
      ]
     },
     "metadata": {},
     "output_type": "display_data"
    },
    {
     "name": "stdout",
     "output_type": "stream",
     "text": [
      "epoch_num:  6\n",
      "\n"
     ]
    },
    {
     "data": {
      "application/vnd.jupyter.widget-view+json": {
       "model_id": "2d93de41903b4694974e31421b2efb97",
       "version_major": 2,
       "version_minor": 0
      },
      "text/html": [
       "<p>Failed to display Jupyter Widget of type <code>HBox</code>.</p>\n",
       "<p>\n",
       "  If you're reading this message in Jupyter Notebook or JupyterLab, it may mean\n",
       "  that the widgets JavaScript is still loading. If this message persists, it\n",
       "  likely means that the widgets JavaScript library is either not installed or\n",
       "  not enabled. See the <a href=\"https://ipywidgets.readthedocs.io/en/stable/user_install.html\">Jupyter\n",
       "  Widgets Documentation</a> for setup instructions.\n",
       "</p>\n",
       "<p>\n",
       "  If you're reading this message in another notebook frontend (for example, a static\n",
       "  rendering on GitHub or <a href=\"https://nbviewer.jupyter.org/\">NBViewer</a>),\n",
       "  it may mean that your frontend doesn't currently support widgets.\n",
       "</p>\n"
      ],
      "text/plain": [
       "HBox(children=(IntProgress(value=0, max=110), HTML(value='')))"
      ]
     },
     "metadata": {},
     "output_type": "display_data"
    },
    {
     "name": "stdout",
     "output_type": "stream",
     "text": [
      "epoch_num:  7\n",
      "\n"
     ]
    },
    {
     "data": {
      "application/vnd.jupyter.widget-view+json": {
       "model_id": "594c1a23a5f44e58bb61c6c4412847d7",
       "version_major": 2,
       "version_minor": 0
      },
      "text/html": [
       "<p>Failed to display Jupyter Widget of type <code>HBox</code>.</p>\n",
       "<p>\n",
       "  If you're reading this message in Jupyter Notebook or JupyterLab, it may mean\n",
       "  that the widgets JavaScript is still loading. If this message persists, it\n",
       "  likely means that the widgets JavaScript library is either not installed or\n",
       "  not enabled. See the <a href=\"https://ipywidgets.readthedocs.io/en/stable/user_install.html\">Jupyter\n",
       "  Widgets Documentation</a> for setup instructions.\n",
       "</p>\n",
       "<p>\n",
       "  If you're reading this message in another notebook frontend (for example, a static\n",
       "  rendering on GitHub or <a href=\"https://nbviewer.jupyter.org/\">NBViewer</a>),\n",
       "  it may mean that your frontend doesn't currently support widgets.\n",
       "</p>\n"
      ],
      "text/plain": [
       "HBox(children=(IntProgress(value=0, max=110), HTML(value='')))"
      ]
     },
     "metadata": {},
     "output_type": "display_data"
    },
    {
     "name": "stdout",
     "output_type": "stream",
     "text": [
      "epoch_num:  8\n",
      "\n"
     ]
    },
    {
     "data": {
      "application/vnd.jupyter.widget-view+json": {
       "model_id": "f7e8fb9fdf0040cc9bb60be242b18b4c",
       "version_major": 2,
       "version_minor": 0
      },
      "text/html": [
       "<p>Failed to display Jupyter Widget of type <code>HBox</code>.</p>\n",
       "<p>\n",
       "  If you're reading this message in Jupyter Notebook or JupyterLab, it may mean\n",
       "  that the widgets JavaScript is still loading. If this message persists, it\n",
       "  likely means that the widgets JavaScript library is either not installed or\n",
       "  not enabled. See the <a href=\"https://ipywidgets.readthedocs.io/en/stable/user_install.html\">Jupyter\n",
       "  Widgets Documentation</a> for setup instructions.\n",
       "</p>\n",
       "<p>\n",
       "  If you're reading this message in another notebook frontend (for example, a static\n",
       "  rendering on GitHub or <a href=\"https://nbviewer.jupyter.org/\">NBViewer</a>),\n",
       "  it may mean that your frontend doesn't currently support widgets.\n",
       "</p>\n"
      ],
      "text/plain": [
       "HBox(children=(IntProgress(value=0, max=110), HTML(value='')))"
      ]
     },
     "metadata": {},
     "output_type": "display_data"
    },
    {
     "name": "stdout",
     "output_type": "stream",
     "text": [
      "epoch_num:  9\n",
      "\n"
     ]
    },
    {
     "data": {
      "application/vnd.jupyter.widget-view+json": {
       "model_id": "b9ae2bd20c1b482b80b631da9f8cd2bf",
       "version_major": 2,
       "version_minor": 0
      },
      "text/html": [
       "<p>Failed to display Jupyter Widget of type <code>HBox</code>.</p>\n",
       "<p>\n",
       "  If you're reading this message in Jupyter Notebook or JupyterLab, it may mean\n",
       "  that the widgets JavaScript is still loading. If this message persists, it\n",
       "  likely means that the widgets JavaScript library is either not installed or\n",
       "  not enabled. See the <a href=\"https://ipywidgets.readthedocs.io/en/stable/user_install.html\">Jupyter\n",
       "  Widgets Documentation</a> for setup instructions.\n",
       "</p>\n",
       "<p>\n",
       "  If you're reading this message in another notebook frontend (for example, a static\n",
       "  rendering on GitHub or <a href=\"https://nbviewer.jupyter.org/\">NBViewer</a>),\n",
       "  it may mean that your frontend doesn't currently support widgets.\n",
       "</p>\n"
      ],
      "text/plain": [
       "HBox(children=(IntProgress(value=0, max=110), HTML(value='')))"
      ]
     },
     "metadata": {},
     "output_type": "display_data"
    },
    {
     "name": "stdout",
     "output_type": "stream",
     "text": [
      "\n"
     ]
    },
    {
     "data": {
      "application/vnd.jupyter.widget-view+json": {
       "model_id": "93d9843053fa4368a078d9c90488414a",
       "version_major": 2,
       "version_minor": 0
      },
      "text/html": [
       "<p>Failed to display Jupyter Widget of type <code>HBox</code>.</p>\n",
       "<p>\n",
       "  If you're reading this message in Jupyter Notebook or JupyterLab, it may mean\n",
       "  that the widgets JavaScript is still loading. If this message persists, it\n",
       "  likely means that the widgets JavaScript library is either not installed or\n",
       "  not enabled. See the <a href=\"https://ipywidgets.readthedocs.io/en/stable/user_install.html\">Jupyter\n",
       "  Widgets Documentation</a> for setup instructions.\n",
       "</p>\n",
       "<p>\n",
       "  If you're reading this message in another notebook frontend (for example, a static\n",
       "  rendering on GitHub or <a href=\"https://nbviewer.jupyter.org/\">NBViewer</a>),\n",
       "  it may mean that your frontend doesn't currently support widgets.\n",
       "</p>\n"
      ],
      "text/plain": [
       "HBox(children=(IntProgress(value=0, max=135), HTML(value='')))"
      ]
     },
     "metadata": {},
     "output_type": "display_data"
    },
    {
     "name": "stdout",
     "output_type": "stream",
     "text": [
      "epoch_num:  0\n",
      "\n"
     ]
    },
    {
     "data": {
      "application/vnd.jupyter.widget-view+json": {
       "model_id": "2eccb2b9848a4ca1986aff25135287c5",
       "version_major": 2,
       "version_minor": 0
      },
      "text/html": [
       "<p>Failed to display Jupyter Widget of type <code>HBox</code>.</p>\n",
       "<p>\n",
       "  If you're reading this message in Jupyter Notebook or JupyterLab, it may mean\n",
       "  that the widgets JavaScript is still loading. If this message persists, it\n",
       "  likely means that the widgets JavaScript library is either not installed or\n",
       "  not enabled. See the <a href=\"https://ipywidgets.readthedocs.io/en/stable/user_install.html\">Jupyter\n",
       "  Widgets Documentation</a> for setup instructions.\n",
       "</p>\n",
       "<p>\n",
       "  If you're reading this message in another notebook frontend (for example, a static\n",
       "  rendering on GitHub or <a href=\"https://nbviewer.jupyter.org/\">NBViewer</a>),\n",
       "  it may mean that your frontend doesn't currently support widgets.\n",
       "</p>\n"
      ],
      "text/plain": [
       "HBox(children=(IntProgress(value=0, max=135), HTML(value='')))"
      ]
     },
     "metadata": {},
     "output_type": "display_data"
    },
    {
     "name": "stdout",
     "output_type": "stream",
     "text": [
      "epoch_num:  1\n",
      "\n"
     ]
    },
    {
     "data": {
      "application/vnd.jupyter.widget-view+json": {
       "model_id": "d01526cfba2b47b9b4d4dff9274083c0",
       "version_major": 2,
       "version_minor": 0
      },
      "text/html": [
       "<p>Failed to display Jupyter Widget of type <code>HBox</code>.</p>\n",
       "<p>\n",
       "  If you're reading this message in Jupyter Notebook or JupyterLab, it may mean\n",
       "  that the widgets JavaScript is still loading. If this message persists, it\n",
       "  likely means that the widgets JavaScript library is either not installed or\n",
       "  not enabled. See the <a href=\"https://ipywidgets.readthedocs.io/en/stable/user_install.html\">Jupyter\n",
       "  Widgets Documentation</a> for setup instructions.\n",
       "</p>\n",
       "<p>\n",
       "  If you're reading this message in another notebook frontend (for example, a static\n",
       "  rendering on GitHub or <a href=\"https://nbviewer.jupyter.org/\">NBViewer</a>),\n",
       "  it may mean that your frontend doesn't currently support widgets.\n",
       "</p>\n"
      ],
      "text/plain": [
       "HBox(children=(IntProgress(value=0, max=135), HTML(value='')))"
      ]
     },
     "metadata": {},
     "output_type": "display_data"
    },
    {
     "name": "stdout",
     "output_type": "stream",
     "text": [
      "epoch_num:  2\n",
      "\n"
     ]
    },
    {
     "data": {
      "application/vnd.jupyter.widget-view+json": {
       "model_id": "0c716ef8e60f4d1993cb811a0ca7ec2f",
       "version_major": 2,
       "version_minor": 0
      },
      "text/html": [
       "<p>Failed to display Jupyter Widget of type <code>HBox</code>.</p>\n",
       "<p>\n",
       "  If you're reading this message in Jupyter Notebook or JupyterLab, it may mean\n",
       "  that the widgets JavaScript is still loading. If this message persists, it\n",
       "  likely means that the widgets JavaScript library is either not installed or\n",
       "  not enabled. See the <a href=\"https://ipywidgets.readthedocs.io/en/stable/user_install.html\">Jupyter\n",
       "  Widgets Documentation</a> for setup instructions.\n",
       "</p>\n",
       "<p>\n",
       "  If you're reading this message in another notebook frontend (for example, a static\n",
       "  rendering on GitHub or <a href=\"https://nbviewer.jupyter.org/\">NBViewer</a>),\n",
       "  it may mean that your frontend doesn't currently support widgets.\n",
       "</p>\n"
      ],
      "text/plain": [
       "HBox(children=(IntProgress(value=0, max=135), HTML(value='')))"
      ]
     },
     "metadata": {},
     "output_type": "display_data"
    },
    {
     "name": "stdout",
     "output_type": "stream",
     "text": [
      "epoch_num:  3\n",
      "\n"
     ]
    },
    {
     "data": {
      "application/vnd.jupyter.widget-view+json": {
       "model_id": "dc4402bd10e74eb09280e4be18654738",
       "version_major": 2,
       "version_minor": 0
      },
      "text/html": [
       "<p>Failed to display Jupyter Widget of type <code>HBox</code>.</p>\n",
       "<p>\n",
       "  If you're reading this message in Jupyter Notebook or JupyterLab, it may mean\n",
       "  that the widgets JavaScript is still loading. If this message persists, it\n",
       "  likely means that the widgets JavaScript library is either not installed or\n",
       "  not enabled. See the <a href=\"https://ipywidgets.readthedocs.io/en/stable/user_install.html\">Jupyter\n",
       "  Widgets Documentation</a> for setup instructions.\n",
       "</p>\n",
       "<p>\n",
       "  If you're reading this message in another notebook frontend (for example, a static\n",
       "  rendering on GitHub or <a href=\"https://nbviewer.jupyter.org/\">NBViewer</a>),\n",
       "  it may mean that your frontend doesn't currently support widgets.\n",
       "</p>\n"
      ],
      "text/plain": [
       "HBox(children=(IntProgress(value=0, max=135), HTML(value='')))"
      ]
     },
     "metadata": {},
     "output_type": "display_data"
    },
    {
     "name": "stdout",
     "output_type": "stream",
     "text": [
      "epoch_num:  4\n",
      "\n"
     ]
    },
    {
     "data": {
      "application/vnd.jupyter.widget-view+json": {
       "model_id": "bf0b55f409644c5a9287d9a92fc4bb4c",
       "version_major": 2,
       "version_minor": 0
      },
      "text/html": [
       "<p>Failed to display Jupyter Widget of type <code>HBox</code>.</p>\n",
       "<p>\n",
       "  If you're reading this message in Jupyter Notebook or JupyterLab, it may mean\n",
       "  that the widgets JavaScript is still loading. If this message persists, it\n",
       "  likely means that the widgets JavaScript library is either not installed or\n",
       "  not enabled. See the <a href=\"https://ipywidgets.readthedocs.io/en/stable/user_install.html\">Jupyter\n",
       "  Widgets Documentation</a> for setup instructions.\n",
       "</p>\n",
       "<p>\n",
       "  If you're reading this message in another notebook frontend (for example, a static\n",
       "  rendering on GitHub or <a href=\"https://nbviewer.jupyter.org/\">NBViewer</a>),\n",
       "  it may mean that your frontend doesn't currently support widgets.\n",
       "</p>\n"
      ],
      "text/plain": [
       "HBox(children=(IntProgress(value=0, max=135), HTML(value='')))"
      ]
     },
     "metadata": {},
     "output_type": "display_data"
    },
    {
     "name": "stdout",
     "output_type": "stream",
     "text": [
      "epoch_num:  5\n",
      "\n"
     ]
    },
    {
     "data": {
      "application/vnd.jupyter.widget-view+json": {
       "model_id": "11214af53bfa47d3b1145f484da4558e",
       "version_major": 2,
       "version_minor": 0
      },
      "text/html": [
       "<p>Failed to display Jupyter Widget of type <code>HBox</code>.</p>\n",
       "<p>\n",
       "  If you're reading this message in Jupyter Notebook or JupyterLab, it may mean\n",
       "  that the widgets JavaScript is still loading. If this message persists, it\n",
       "  likely means that the widgets JavaScript library is either not installed or\n",
       "  not enabled. See the <a href=\"https://ipywidgets.readthedocs.io/en/stable/user_install.html\">Jupyter\n",
       "  Widgets Documentation</a> for setup instructions.\n",
       "</p>\n",
       "<p>\n",
       "  If you're reading this message in another notebook frontend (for example, a static\n",
       "  rendering on GitHub or <a href=\"https://nbviewer.jupyter.org/\">NBViewer</a>),\n",
       "  it may mean that your frontend doesn't currently support widgets.\n",
       "</p>\n"
      ],
      "text/plain": [
       "HBox(children=(IntProgress(value=0, max=135), HTML(value='')))"
      ]
     },
     "metadata": {},
     "output_type": "display_data"
    },
    {
     "name": "stdout",
     "output_type": "stream",
     "text": [
      "epoch_num:  6\n",
      "\n"
     ]
    },
    {
     "data": {
      "application/vnd.jupyter.widget-view+json": {
       "model_id": "a47fd82bd9d247d08e06a23c01980765",
       "version_major": 2,
       "version_minor": 0
      },
      "text/html": [
       "<p>Failed to display Jupyter Widget of type <code>HBox</code>.</p>\n",
       "<p>\n",
       "  If you're reading this message in Jupyter Notebook or JupyterLab, it may mean\n",
       "  that the widgets JavaScript is still loading. If this message persists, it\n",
       "  likely means that the widgets JavaScript library is either not installed or\n",
       "  not enabled. See the <a href=\"https://ipywidgets.readthedocs.io/en/stable/user_install.html\">Jupyter\n",
       "  Widgets Documentation</a> for setup instructions.\n",
       "</p>\n",
       "<p>\n",
       "  If you're reading this message in another notebook frontend (for example, a static\n",
       "  rendering on GitHub or <a href=\"https://nbviewer.jupyter.org/\">NBViewer</a>),\n",
       "  it may mean that your frontend doesn't currently support widgets.\n",
       "</p>\n"
      ],
      "text/plain": [
       "HBox(children=(IntProgress(value=0, max=135), HTML(value='')))"
      ]
     },
     "metadata": {},
     "output_type": "display_data"
    },
    {
     "name": "stdout",
     "output_type": "stream",
     "text": [
      "epoch_num:  7\n",
      "\n"
     ]
    },
    {
     "data": {
      "application/vnd.jupyter.widget-view+json": {
       "model_id": "180ba411f38a4110860f87fddf31f016",
       "version_major": 2,
       "version_minor": 0
      },
      "text/html": [
       "<p>Failed to display Jupyter Widget of type <code>HBox</code>.</p>\n",
       "<p>\n",
       "  If you're reading this message in Jupyter Notebook or JupyterLab, it may mean\n",
       "  that the widgets JavaScript is still loading. If this message persists, it\n",
       "  likely means that the widgets JavaScript library is either not installed or\n",
       "  not enabled. See the <a href=\"https://ipywidgets.readthedocs.io/en/stable/user_install.html\">Jupyter\n",
       "  Widgets Documentation</a> for setup instructions.\n",
       "</p>\n",
       "<p>\n",
       "  If you're reading this message in another notebook frontend (for example, a static\n",
       "  rendering on GitHub or <a href=\"https://nbviewer.jupyter.org/\">NBViewer</a>),\n",
       "  it may mean that your frontend doesn't currently support widgets.\n",
       "</p>\n"
      ],
      "text/plain": [
       "HBox(children=(IntProgress(value=0, max=135), HTML(value='')))"
      ]
     },
     "metadata": {},
     "output_type": "display_data"
    },
    {
     "name": "stdout",
     "output_type": "stream",
     "text": [
      "epoch_num:  8\n",
      "\n"
     ]
    },
    {
     "data": {
      "application/vnd.jupyter.widget-view+json": {
       "model_id": "fb7dfe4839dd43089a08172eba0ba5bd",
       "version_major": 2,
       "version_minor": 0
      },
      "text/html": [
       "<p>Failed to display Jupyter Widget of type <code>HBox</code>.</p>\n",
       "<p>\n",
       "  If you're reading this message in Jupyter Notebook or JupyterLab, it may mean\n",
       "  that the widgets JavaScript is still loading. If this message persists, it\n",
       "  likely means that the widgets JavaScript library is either not installed or\n",
       "  not enabled. See the <a href=\"https://ipywidgets.readthedocs.io/en/stable/user_install.html\">Jupyter\n",
       "  Widgets Documentation</a> for setup instructions.\n",
       "</p>\n",
       "<p>\n",
       "  If you're reading this message in another notebook frontend (for example, a static\n",
       "  rendering on GitHub or <a href=\"https://nbviewer.jupyter.org/\">NBViewer</a>),\n",
       "  it may mean that your frontend doesn't currently support widgets.\n",
       "</p>\n"
      ],
      "text/plain": [
       "HBox(children=(IntProgress(value=0, max=135), HTML(value='')))"
      ]
     },
     "metadata": {},
     "output_type": "display_data"
    },
    {
     "name": "stdout",
     "output_type": "stream",
     "text": [
      "epoch_num:  9\n",
      "\n"
     ]
    },
    {
     "data": {
      "application/vnd.jupyter.widget-view+json": {
       "model_id": "0347bb4b1968443e92268f20c32b0f82",
       "version_major": 2,
       "version_minor": 0
      },
      "text/html": [
       "<p>Failed to display Jupyter Widget of type <code>HBox</code>.</p>\n",
       "<p>\n",
       "  If you're reading this message in Jupyter Notebook or JupyterLab, it may mean\n",
       "  that the widgets JavaScript is still loading. If this message persists, it\n",
       "  likely means that the widgets JavaScript library is either not installed or\n",
       "  not enabled. See the <a href=\"https://ipywidgets.readthedocs.io/en/stable/user_install.html\">Jupyter\n",
       "  Widgets Documentation</a> for setup instructions.\n",
       "</p>\n",
       "<p>\n",
       "  If you're reading this message in another notebook frontend (for example, a static\n",
       "  rendering on GitHub or <a href=\"https://nbviewer.jupyter.org/\">NBViewer</a>),\n",
       "  it may mean that your frontend doesn't currently support widgets.\n",
       "</p>\n"
      ],
      "text/plain": [
       "HBox(children=(IntProgress(value=0, max=135), HTML(value='')))"
      ]
     },
     "metadata": {},
     "output_type": "display_data"
    },
    {
     "name": "stdout",
     "output_type": "stream",
     "text": [
      "\n"
     ]
    },
    {
     "data": {
      "application/vnd.jupyter.widget-view+json": {
       "model_id": "f71656e8ddbd4212a8372c7e202f8fba",
       "version_major": 2,
       "version_minor": 0
      },
      "text/html": [
       "<p>Failed to display Jupyter Widget of type <code>HBox</code>.</p>\n",
       "<p>\n",
       "  If you're reading this message in Jupyter Notebook or JupyterLab, it may mean\n",
       "  that the widgets JavaScript is still loading. If this message persists, it\n",
       "  likely means that the widgets JavaScript library is either not installed or\n",
       "  not enabled. See the <a href=\"https://ipywidgets.readthedocs.io/en/stable/user_install.html\">Jupyter\n",
       "  Widgets Documentation</a> for setup instructions.\n",
       "</p>\n",
       "<p>\n",
       "  If you're reading this message in another notebook frontend (for example, a static\n",
       "  rendering on GitHub or <a href=\"https://nbviewer.jupyter.org/\">NBViewer</a>),\n",
       "  it may mean that your frontend doesn't currently support widgets.\n",
       "</p>\n"
      ],
      "text/plain": [
       "HBox(children=(IntProgress(value=0, max=56), HTML(value='')))"
      ]
     },
     "metadata": {},
     "output_type": "display_data"
    },
    {
     "name": "stdout",
     "output_type": "stream",
     "text": [
      "epoch_num:  0\n",
      "\n"
     ]
    },
    {
     "data": {
      "application/vnd.jupyter.widget-view+json": {
       "model_id": "30ae20e4578643b3b545231417edbd6e",
       "version_major": 2,
       "version_minor": 0
      },
      "text/html": [
       "<p>Failed to display Jupyter Widget of type <code>HBox</code>.</p>\n",
       "<p>\n",
       "  If you're reading this message in Jupyter Notebook or JupyterLab, it may mean\n",
       "  that the widgets JavaScript is still loading. If this message persists, it\n",
       "  likely means that the widgets JavaScript library is either not installed or\n",
       "  not enabled. See the <a href=\"https://ipywidgets.readthedocs.io/en/stable/user_install.html\">Jupyter\n",
       "  Widgets Documentation</a> for setup instructions.\n",
       "</p>\n",
       "<p>\n",
       "  If you're reading this message in another notebook frontend (for example, a static\n",
       "  rendering on GitHub or <a href=\"https://nbviewer.jupyter.org/\">NBViewer</a>),\n",
       "  it may mean that your frontend doesn't currently support widgets.\n",
       "</p>\n"
      ],
      "text/plain": [
       "HBox(children=(IntProgress(value=0, max=56), HTML(value='')))"
      ]
     },
     "metadata": {},
     "output_type": "display_data"
    },
    {
     "name": "stdout",
     "output_type": "stream",
     "text": [
      "epoch_num:  1\n",
      "\n"
     ]
    },
    {
     "data": {
      "application/vnd.jupyter.widget-view+json": {
       "model_id": "96356459ebe742c28af4547a8a86f047",
       "version_major": 2,
       "version_minor": 0
      },
      "text/html": [
       "<p>Failed to display Jupyter Widget of type <code>HBox</code>.</p>\n",
       "<p>\n",
       "  If you're reading this message in Jupyter Notebook or JupyterLab, it may mean\n",
       "  that the widgets JavaScript is still loading. If this message persists, it\n",
       "  likely means that the widgets JavaScript library is either not installed or\n",
       "  not enabled. See the <a href=\"https://ipywidgets.readthedocs.io/en/stable/user_install.html\">Jupyter\n",
       "  Widgets Documentation</a> for setup instructions.\n",
       "</p>\n",
       "<p>\n",
       "  If you're reading this message in another notebook frontend (for example, a static\n",
       "  rendering on GitHub or <a href=\"https://nbviewer.jupyter.org/\">NBViewer</a>),\n",
       "  it may mean that your frontend doesn't currently support widgets.\n",
       "</p>\n"
      ],
      "text/plain": [
       "HBox(children=(IntProgress(value=0, max=56), HTML(value='')))"
      ]
     },
     "metadata": {},
     "output_type": "display_data"
    },
    {
     "name": "stdout",
     "output_type": "stream",
     "text": [
      "epoch_num:  2\n",
      "\n"
     ]
    },
    {
     "data": {
      "application/vnd.jupyter.widget-view+json": {
       "model_id": "4a87bbc7f5bf4747a9087eda76e918f5",
       "version_major": 2,
       "version_minor": 0
      },
      "text/html": [
       "<p>Failed to display Jupyter Widget of type <code>HBox</code>.</p>\n",
       "<p>\n",
       "  If you're reading this message in Jupyter Notebook or JupyterLab, it may mean\n",
       "  that the widgets JavaScript is still loading. If this message persists, it\n",
       "  likely means that the widgets JavaScript library is either not installed or\n",
       "  not enabled. See the <a href=\"https://ipywidgets.readthedocs.io/en/stable/user_install.html\">Jupyter\n",
       "  Widgets Documentation</a> for setup instructions.\n",
       "</p>\n",
       "<p>\n",
       "  If you're reading this message in another notebook frontend (for example, a static\n",
       "  rendering on GitHub or <a href=\"https://nbviewer.jupyter.org/\">NBViewer</a>),\n",
       "  it may mean that your frontend doesn't currently support widgets.\n",
       "</p>\n"
      ],
      "text/plain": [
       "HBox(children=(IntProgress(value=0, max=56), HTML(value='')))"
      ]
     },
     "metadata": {},
     "output_type": "display_data"
    },
    {
     "name": "stdout",
     "output_type": "stream",
     "text": [
      "epoch_num:  3\n",
      "\n"
     ]
    },
    {
     "data": {
      "application/vnd.jupyter.widget-view+json": {
       "model_id": "1686c3289a104271824189a31140eb69",
       "version_major": 2,
       "version_minor": 0
      },
      "text/html": [
       "<p>Failed to display Jupyter Widget of type <code>HBox</code>.</p>\n",
       "<p>\n",
       "  If you're reading this message in Jupyter Notebook or JupyterLab, it may mean\n",
       "  that the widgets JavaScript is still loading. If this message persists, it\n",
       "  likely means that the widgets JavaScript library is either not installed or\n",
       "  not enabled. See the <a href=\"https://ipywidgets.readthedocs.io/en/stable/user_install.html\">Jupyter\n",
       "  Widgets Documentation</a> for setup instructions.\n",
       "</p>\n",
       "<p>\n",
       "  If you're reading this message in another notebook frontend (for example, a static\n",
       "  rendering on GitHub or <a href=\"https://nbviewer.jupyter.org/\">NBViewer</a>),\n",
       "  it may mean that your frontend doesn't currently support widgets.\n",
       "</p>\n"
      ],
      "text/plain": [
       "HBox(children=(IntProgress(value=0, max=56), HTML(value='')))"
      ]
     },
     "metadata": {},
     "output_type": "display_data"
    },
    {
     "name": "stdout",
     "output_type": "stream",
     "text": [
      "epoch_num:  4\n",
      "\n"
     ]
    },
    {
     "data": {
      "application/vnd.jupyter.widget-view+json": {
       "model_id": "d7c5dbc58b87407eb9e7e1347254c635",
       "version_major": 2,
       "version_minor": 0
      },
      "text/html": [
       "<p>Failed to display Jupyter Widget of type <code>HBox</code>.</p>\n",
       "<p>\n",
       "  If you're reading this message in Jupyter Notebook or JupyterLab, it may mean\n",
       "  that the widgets JavaScript is still loading. If this message persists, it\n",
       "  likely means that the widgets JavaScript library is either not installed or\n",
       "  not enabled. See the <a href=\"https://ipywidgets.readthedocs.io/en/stable/user_install.html\">Jupyter\n",
       "  Widgets Documentation</a> for setup instructions.\n",
       "</p>\n",
       "<p>\n",
       "  If you're reading this message in another notebook frontend (for example, a static\n",
       "  rendering on GitHub or <a href=\"https://nbviewer.jupyter.org/\">NBViewer</a>),\n",
       "  it may mean that your frontend doesn't currently support widgets.\n",
       "</p>\n"
      ],
      "text/plain": [
       "HBox(children=(IntProgress(value=0, max=56), HTML(value='')))"
      ]
     },
     "metadata": {},
     "output_type": "display_data"
    },
    {
     "name": "stdout",
     "output_type": "stream",
     "text": [
      "epoch_num:  5\n",
      "\n"
     ]
    },
    {
     "data": {
      "application/vnd.jupyter.widget-view+json": {
       "model_id": "6edd9fcea3ca441981ca9c637dde986b",
       "version_major": 2,
       "version_minor": 0
      },
      "text/html": [
       "<p>Failed to display Jupyter Widget of type <code>HBox</code>.</p>\n",
       "<p>\n",
       "  If you're reading this message in Jupyter Notebook or JupyterLab, it may mean\n",
       "  that the widgets JavaScript is still loading. If this message persists, it\n",
       "  likely means that the widgets JavaScript library is either not installed or\n",
       "  not enabled. See the <a href=\"https://ipywidgets.readthedocs.io/en/stable/user_install.html\">Jupyter\n",
       "  Widgets Documentation</a> for setup instructions.\n",
       "</p>\n",
       "<p>\n",
       "  If you're reading this message in another notebook frontend (for example, a static\n",
       "  rendering on GitHub or <a href=\"https://nbviewer.jupyter.org/\">NBViewer</a>),\n",
       "  it may mean that your frontend doesn't currently support widgets.\n",
       "</p>\n"
      ],
      "text/plain": [
       "HBox(children=(IntProgress(value=0, max=56), HTML(value='')))"
      ]
     },
     "metadata": {},
     "output_type": "display_data"
    },
    {
     "name": "stdout",
     "output_type": "stream",
     "text": [
      "epoch_num:  6\n",
      "\n"
     ]
    },
    {
     "data": {
      "application/vnd.jupyter.widget-view+json": {
       "model_id": "e571330c8ae54de8be66f1261d9a07c6",
       "version_major": 2,
       "version_minor": 0
      },
      "text/html": [
       "<p>Failed to display Jupyter Widget of type <code>HBox</code>.</p>\n",
       "<p>\n",
       "  If you're reading this message in Jupyter Notebook or JupyterLab, it may mean\n",
       "  that the widgets JavaScript is still loading. If this message persists, it\n",
       "  likely means that the widgets JavaScript library is either not installed or\n",
       "  not enabled. See the <a href=\"https://ipywidgets.readthedocs.io/en/stable/user_install.html\">Jupyter\n",
       "  Widgets Documentation</a> for setup instructions.\n",
       "</p>\n",
       "<p>\n",
       "  If you're reading this message in another notebook frontend (for example, a static\n",
       "  rendering on GitHub or <a href=\"https://nbviewer.jupyter.org/\">NBViewer</a>),\n",
       "  it may mean that your frontend doesn't currently support widgets.\n",
       "</p>\n"
      ],
      "text/plain": [
       "HBox(children=(IntProgress(value=0, max=56), HTML(value='')))"
      ]
     },
     "metadata": {},
     "output_type": "display_data"
    },
    {
     "name": "stdout",
     "output_type": "stream",
     "text": [
      "epoch_num:  7\n",
      "\n"
     ]
    },
    {
     "data": {
      "application/vnd.jupyter.widget-view+json": {
       "model_id": "956a8c6fc37d45b1befba220d78bf8b2",
       "version_major": 2,
       "version_minor": 0
      },
      "text/html": [
       "<p>Failed to display Jupyter Widget of type <code>HBox</code>.</p>\n",
       "<p>\n",
       "  If you're reading this message in Jupyter Notebook or JupyterLab, it may mean\n",
       "  that the widgets JavaScript is still loading. If this message persists, it\n",
       "  likely means that the widgets JavaScript library is either not installed or\n",
       "  not enabled. See the <a href=\"https://ipywidgets.readthedocs.io/en/stable/user_install.html\">Jupyter\n",
       "  Widgets Documentation</a> for setup instructions.\n",
       "</p>\n",
       "<p>\n",
       "  If you're reading this message in another notebook frontend (for example, a static\n",
       "  rendering on GitHub or <a href=\"https://nbviewer.jupyter.org/\">NBViewer</a>),\n",
       "  it may mean that your frontend doesn't currently support widgets.\n",
       "</p>\n"
      ],
      "text/plain": [
       "HBox(children=(IntProgress(value=0, max=56), HTML(value='')))"
      ]
     },
     "metadata": {},
     "output_type": "display_data"
    },
    {
     "name": "stdout",
     "output_type": "stream",
     "text": [
      "epoch_num:  8\n",
      "\n"
     ]
    },
    {
     "data": {
      "application/vnd.jupyter.widget-view+json": {
       "model_id": "9cce0ef48c95440cb32551712706ecce",
       "version_major": 2,
       "version_minor": 0
      },
      "text/html": [
       "<p>Failed to display Jupyter Widget of type <code>HBox</code>.</p>\n",
       "<p>\n",
       "  If you're reading this message in Jupyter Notebook or JupyterLab, it may mean\n",
       "  that the widgets JavaScript is still loading. If this message persists, it\n",
       "  likely means that the widgets JavaScript library is either not installed or\n",
       "  not enabled. See the <a href=\"https://ipywidgets.readthedocs.io/en/stable/user_install.html\">Jupyter\n",
       "  Widgets Documentation</a> for setup instructions.\n",
       "</p>\n",
       "<p>\n",
       "  If you're reading this message in another notebook frontend (for example, a static\n",
       "  rendering on GitHub or <a href=\"https://nbviewer.jupyter.org/\">NBViewer</a>),\n",
       "  it may mean that your frontend doesn't currently support widgets.\n",
       "</p>\n"
      ],
      "text/plain": [
       "HBox(children=(IntProgress(value=0, max=56), HTML(value='')))"
      ]
     },
     "metadata": {},
     "output_type": "display_data"
    },
    {
     "name": "stdout",
     "output_type": "stream",
     "text": [
      "epoch_num:  9\n",
      "\n"
     ]
    },
    {
     "data": {
      "application/vnd.jupyter.widget-view+json": {
       "model_id": "5559bab4e1b04093b90bdf14d6ba0cc5",
       "version_major": 2,
       "version_minor": 0
      },
      "text/html": [
       "<p>Failed to display Jupyter Widget of type <code>HBox</code>.</p>\n",
       "<p>\n",
       "  If you're reading this message in Jupyter Notebook or JupyterLab, it may mean\n",
       "  that the widgets JavaScript is still loading. If this message persists, it\n",
       "  likely means that the widgets JavaScript library is either not installed or\n",
       "  not enabled. See the <a href=\"https://ipywidgets.readthedocs.io/en/stable/user_install.html\">Jupyter\n",
       "  Widgets Documentation</a> for setup instructions.\n",
       "</p>\n",
       "<p>\n",
       "  If you're reading this message in another notebook frontend (for example, a static\n",
       "  rendering on GitHub or <a href=\"https://nbviewer.jupyter.org/\">NBViewer</a>),\n",
       "  it may mean that your frontend doesn't currently support widgets.\n",
       "</p>\n"
      ],
      "text/plain": [
       "HBox(children=(IntProgress(value=0, max=56), HTML(value='')))"
      ]
     },
     "metadata": {},
     "output_type": "display_data"
    },
    {
     "name": "stdout",
     "output_type": "stream",
     "text": [
      "\n"
     ]
    }
   ],
   "source": [
    "import sklearn\n",
    "from sklearn.cluster import KMeans\n",
    "df = pd.read_csv(\"../data/main/wiki-wiki/train.csv\", sep='\\t')\n",
    "\n",
    "true = df.gold_sense_id\n",
    "attens = []\n",
    "labels = []\n",
    "\n",
    "km = KMeans(n_clusters=3, random_state=23)\n",
    "\n",
    "wlist = []\n",
    "for w in df.word:\n",
    "    if w not in wlist:\n",
    "        wlist.append(w)\n",
    "\n",
    "for w in wlist:\n",
    "    f = df[df.word == w].context.values\n",
    "    # TODO: train model\n",
    "    pred_tmp = []\n",
    "    net = train_model(f, \"\", cmp=3, do_shuffle=True)\n",
    "    batch_gen = generate_triplet_batch(f, context_max_len=10, word=\"\", lemmatize=True)\n",
    "    \n",
    "    for b, _ in tqdm_notebook(batch_gen, total=len(f)):\n",
    "        if len(b) == 0:\n",
    "            b = np.random.randn(1, 100)\n",
    "        p = net.predict_on_sample(b)\n",
    "#         p = net.get_linear_combination(b)\n",
    "        pred_tmp.append(p)\n",
    "#     print(len(f), len(pred_tmp))\n",
    "    pred_tmp = np.array(pred_tmp).squeeze()\n",
    "#     print(len(pred_tmp))\n",
    "\n",
    "\n",
    "    k_pred = km.fit_predict(np.array(pred_tmp))\n",
    "#     k_pred = sk.fit_predict(pred_tmp)\n",
    "\n",
    "#     print(len(k_pred))\n",
    "    labels.extend(k_pred)\n",
    "    attens.append(pred_tmp)\n",
    "    \n",
    "attens = np.array(attens).squeeze()\n",
    "df.predict_sense_id = labels"
   ]
  },
  {
   "cell_type": "code",
   "execution_count": 580,
   "metadata": {},
   "outputs": [],
   "source": [
    "df.to_csv(\"../data/my_data/wiki/pred_3_all_shuffle.csv\", sep='\\t', index=False)"
   ]
  },
  {
   "cell_type": "code",
   "execution_count": 561,
   "metadata": {},
   "outputs": [],
   "source": [
    "df.to_csv(\"../data/my_data/bts/pred_3_all.csv\", sep='\\t', index=False)"
   ]
  },
  {
   "cell_type": "code",
   "execution_count": 12,
   "metadata": {},
   "outputs": [],
   "source": [
    "df.to_csv(\"../data/my_data/active/pred_2_all_spectra.csv\", sep='\\t', index=False)"
   ]
  },
  {
   "cell_type": "code",
   "execution_count": 16,
   "metadata": {},
   "outputs": [],
   "source": [
    "from testing_interface import evaluate_weighted_ari"
   ]
  },
  {
   "cell_type": "code",
   "execution_count": 490,
   "metadata": {
    "scrolled": false
   },
   "outputs": [
    {
     "name": "stdout",
     "output_type": "stream",
     "text": [
      "word\tari\tcount\n",
      "бор\t0.783191\t56\n",
      "замок\t0.341404\t138\n",
      "лук\t0.252247\t110\n",
      "суда\t0.288241\t135\n",
      "\t0.359071\t439\n"
     ]
    }
   ],
   "source": [
    "evaluate_weighted_ari(\"../data/my_data/train.csv\", labels)"
   ]
  },
  {
   "cell_type": "code",
   "execution_count": 50,
   "metadata": {},
   "outputs": [
    {
     "name": "stdout",
     "output_type": "stream",
     "text": [
      "word\tari\tcount\n",
      "бор\t0.671153\t56\n",
      "замок\t0.427237\t138\n",
      "лук\t0.383226\t110\n",
      "суда\t0.358348\t135\n",
      "\t0.426139\t439\n"
     ]
    }
   ],
   "source": [
    "evaluate_weighted_ari(\"../data/main/wiki-wiki/train.csv\", labels)\n",
    "#k=3, lr=1e-2, cmp=3, epoch=10, context_len=all, negative"
   ]
  },
  {
   "cell_type": "code",
   "execution_count": 54,
   "metadata": {},
   "outputs": [
    {
     "name": "stdout",
     "output_type": "stream",
     "text": [
      "word\tari\tcount\n",
      "бор\t0.096858\t56\n",
      "замок\t0.263784\t138\n",
      "лук\t0.262894\t110\n",
      "суда\t0.147997\t135\n",
      "\t0.206661\t439\n"
     ]
    }
   ],
   "source": [
    "evaluate_weighted_ari(\"../data/main/wiki-wiki/train.csv\", labels)\n",
    "#k=3, lr=1e-2, cmp=3, epoch=10, context_len=all, negative"
   ]
  },
  {
   "cell_type": "code",
   "execution_count": 56,
   "metadata": {},
   "outputs": [
    {
     "name": "stdout",
     "output_type": "stream",
     "text": [
      "word\tari\tcount\n",
      "бор\t0.357677\t56\n",
      "замок\t0.367693\t138\n",
      "лук\t0.033260\t110\n",
      "суда\t0.467207\t135\n",
      "\t0.313219\t439\n"
     ]
    }
   ],
   "source": [
    "evaluate_weighted_ari(\"../data/main/wiki-wiki/train.csv\", labels)\n",
    "#k=3, lr=1e-2, cmp=3, epoch=10, context_len=all, negative"
   ]
  },
  {
   "cell_type": "code",
   "execution_count": 58,
   "metadata": {},
   "outputs": [
    {
     "name": "stdout",
     "output_type": "stream",
     "text": [
      "word\tari\tcount\n",
      "бор\t0.278992\t56\n",
      "замок\t0.238596\t138\n",
      "лук\t0.415654\t110\n",
      "суда\t0.522262\t135\n",
      "\t0.375346\t439\n"
     ]
    }
   ],
   "source": [
    "evaluate_weighted_ari(\"../data/main/wiki-wiki/train.csv\", labels)\n",
    "#k=3, lr=1e-2, cmp=3, epoch=10, context_len=all, negative"
   ]
  },
  {
   "cell_type": "code",
   "execution_count": 45,
   "metadata": {},
   "outputs": [
    {
     "name": "stdout",
     "output_type": "stream",
     "text": [
      "word\tari\tcount\n",
      "бор\t0.470506\t56\n",
      "замок\t0.290316\t138\n",
      "лук\t0.789143\t110\n",
      "суда\t0.250502\t135\n",
      "\t0.426049\t439\n"
     ]
    }
   ],
   "source": [
    "evaluate_weighted_ari(\"../data/main/wiki-wiki/train.csv\", labels)\n",
    "#k=3, lr=1e-2, cmp=3, epoch=10, context_len=all, negative, +att2 #2"
   ]
  },
  {
   "cell_type": "code",
   "execution_count": 37,
   "metadata": {
    "scrolled": true
   },
   "outputs": [
    {
     "name": "stdout",
     "output_type": "stream",
     "text": [
      "word\tari\tcount\n",
      "дар\t0.023164\t36\n",
      "двигатель\t0.216275\t15\n",
      "двойник\t-0.000207\t25\n",
      "дворец\t-0.040000\t13\n",
      "девятка\t0.043040\t47\n",
      "дедушка\t0.307692\t9\n",
      "дежурная\t-0.084507\t12\n",
      "дежурный\t0.171315\t13\n",
      "декабрист\t0.341755\t11\n",
      "декрет\t0.287324\t12\n",
      "дело\t0.021741\t130\n",
      "демобилизация\t-0.089421\t14\n",
      "демократ\t0.087310\t18\n",
      "демонстрация\t0.020317\t38\n",
      "дерево\t0.361702\t21\n",
      "держава\t-0.088083\t15\n",
      "дерзость\t-0.013705\t37\n",
      "десятка\t0.089223\t36\n",
      "десяток\t0.022417\t21\n",
      "деятель\t0.365854\t14\n",
      "диалог\t0.097222\t14\n",
      "диаметр\t-0.062694\t18\n",
      "диплом\t0.108911\t25\n",
      "директор\t-0.098535\t11\n",
      "диск\t0.024751\t63\n",
      "дичь\t0.140794\t18\n",
      "длина\t-0.044313\t21\n",
      "доброволец\t0.037375\t12\n",
      "добыча\t0.178850\t35\n",
      "доказательство\t-0.024553\t24\n",
      "доктор\t0.369258\t17\n",
      "долгота\t0.164659\t13\n",
      "доля\t0.044422\t45\n",
      "дом\t0.089059\t38\n",
      "дорога\t0.003828\t47\n",
      "достижение\t0.122850\t22\n",
      "древесина\t0.014444\t16\n",
      "дупло\t0.383260\t15\n",
      "дура\t0.191329\t12\n",
      "дух\t0.053835\t77\n",
      "дым\t0.276496\t28\n",
      "дымка\t0.027821\t18\n",
      "дыхание\t0.217952\t56\n",
      "дьявол\t0.086285\t22\n",
      "евро\t-0.117647\t8\n",
      "езда\t0.122469\t14\n",
      "жаворонок\t0.246575\t11\n",
      "жало\t-0.096220\t11\n",
      "жертва\t0.037224\t37\n",
      "жестокость\t0.032154\t14\n",
      "жидкость\t-0.078431\t12\n",
      "жила\t-0.018664\t17\n",
      "жилец\t0.158957\t16\n",
      "жир\t0.035990\t15\n",
      "жребий\t-0.007752\t15\n",
      "заведение\t0.463918\t14\n",
      "завещание\t0.016667\t16\n",
      "зависимость\t-0.012862\t21\n",
      "заголовок\t0.198107\t22\n",
      "заготовка\t-0.025720\t26\n",
      "задание\t0.143422\t33\n",
      "задача\t0.027519\t36\n",
      "задержка\t0.042791\t60\n",
      "зажигалка\t0.313008\t13\n",
      "закон\t-0.023256\t56\n",
      "закрытие\t0.010857\t38\n",
      "заложник\t-0.052632\t13\n",
      "замена\t-0.058091\t18\n",
      "западня\t0.013289\t11\n",
      "запятая\t-0.051011\t14\n",
      "застой\t0.051282\t13\n",
      "затея\t0.099744\t12\n",
      "затишье\t0.343750\t16\n",
      "затмение\t-0.115493\t12\n",
      "затруднение\t-0.078108\t15\n",
      "захоронение\t-0.065197\t22\n",
      "звезда\t0.165017\t40\n",
      "звон\t0.014440\t14\n",
      "зеркало\t0.057143\t21\n",
      "зло\t-0.034802\t23\n",
      "злоупотребление\t0.008451\t12\n",
      "знак\t0.029408\t55\n",
      "знамя\t0.256250\t14\n",
      "значение\t0.046657\t30\n",
      "зонт\t0.181818\t9\n",
      "\t0.068545\t2073\n"
     ]
    }
   ],
   "source": [
    "evaluate_weighted_ari(\"../data/main/active-dict/train.csv\", labels)\n",
    "#k=3, lr=1e-2, cmp=3, epoch=10, context_len=all, negative, +att2 #2"
   ]
  },
  {
   "cell_type": "code",
   "execution_count": 35,
   "metadata": {
    "scrolled": true
   },
   "outputs": [
    {
     "name": "stdout",
     "output_type": "stream",
     "text": [
      "word\tari\tcount\n",
      "дар\t0.009626\t36\n",
      "двигатель\t-0.064061\t15\n",
      "двойник\t-0.017085\t25\n",
      "дворец\t-0.051282\t13\n",
      "девятка\t0.047144\t47\n",
      "дедушка\t0.307692\t9\n",
      "дежурная\t0.101408\t12\n",
      "дежурный\t0.048780\t13\n",
      "декабрист\t-0.017173\t11\n",
      "декрет\t0.101408\t12\n",
      "дело\t0.002838\t130\n",
      "демобилизация\t0.004376\t14\n",
      "демократ\t0.103064\t18\n",
      "демонстрация\t0.021958\t38\n",
      "дерево\t0.553191\t21\n",
      "держава\t0.020888\t15\n",
      "дерзость\t0.029673\t37\n",
      "десятка\t0.137839\t36\n",
      "десяток\t-0.065217\t21\n",
      "деятель\t0.374570\t14\n",
      "диалог\t0.187500\t14\n",
      "диаметр\t-0.052857\t18\n",
      "диплом\t-0.041466\t25\n",
      "директор\t-0.129887\t11\n",
      "диск\t0.004724\t63\n",
      "дичь\t0.181653\t18\n",
      "длина\t0.003063\t21\n",
      "доброволец\t0.318310\t12\n",
      "добыча\t0.020702\t35\n",
      "доказательство\t-0.071441\t24\n",
      "доктор\t0.518584\t17\n",
      "долгота\t0.036072\t13\n",
      "доля\t0.027380\t45\n",
      "дом\t0.025337\t38\n",
      "дорога\t0.076020\t47\n",
      "достижение\t0.092399\t22\n",
      "древесина\t0.000000\t16\n",
      "дупло\t0.151982\t15\n",
      "дура\t-0.041783\t12\n",
      "дух\t0.021356\t77\n",
      "дым\t0.053352\t28\n",
      "дымка\t-0.020000\t18\n",
      "дыхание\t0.162396\t56\n",
      "дьявол\t0.127586\t22\n",
      "евро\t-0.117647\t8\n",
      "езда\t0.035181\t14\n",
      "жаворонок\t0.508591\t11\n",
      "жало\t-0.085526\t11\n",
      "жертва\t0.133508\t37\n",
      "жестокость\t0.034542\t14\n",
      "жидкость\t-0.096866\t12\n",
      "жила\t0.037258\t17\n",
      "жилец\t0.200680\t16\n",
      "жир\t0.140625\t15\n",
      "жребий\t-0.041131\t15\n",
      "заведение\t0.325260\t14\n",
      "завещание\t-0.050000\t16\n",
      "зависимость\t0.017611\t21\n",
      "заголовок\t0.301191\t22\n",
      "заготовка\t0.096754\t26\n",
      "задание\t0.120400\t33\n",
      "задача\t0.067642\t36\n",
      "задержка\t0.011386\t60\n",
      "зажигалка\t0.133333\t13\n",
      "закон\t0.028470\t56\n",
      "закрытие\t0.142451\t38\n",
      "заложник\t-0.008163\t13\n",
      "замена\t-0.074569\t18\n",
      "западня\t0.340879\t11\n",
      "запятая\t0.255176\t14\n",
      "застой\t-0.105263\t13\n",
      "затея\t-0.044855\t12\n",
      "затишье\t0.180000\t16\n",
      "затмение\t-0.053521\t12\n",
      "затруднение\t-0.096756\t15\n",
      "захоронение\t-0.036597\t22\n",
      "звезда\t0.026031\t40\n",
      "звон\t-0.093750\t14\n",
      "зеркало\t0.138408\t21\n",
      "зло\t0.050757\t23\n",
      "злоупотребление\t0.566197\t12\n",
      "знак\t0.050881\t55\n",
      "знамя\t0.037037\t14\n",
      "значение\t0.195721\t30\n",
      "зонт\t0.076923\t9\n",
      "\t0.066416\t2073\n"
     ]
    }
   ],
   "source": [
    "evaluate_weighted_ari(\"../data/main/active-dict/train.csv\", labels)\n",
    "#k=2, lr=1e-2, cmp=3, epoch=10, context_len=all, negative, +att2"
   ]
  },
  {
   "cell_type": "code",
   "execution_count": 17,
   "metadata": {
    "scrolled": true
   },
   "outputs": [
    {
     "name": "stdout",
     "output_type": "stream",
     "text": [
      "word\tari\tcount\n",
      "дар\t0.004962\t36\n",
      "двигатель\t0.084967\t15\n",
      "двойник\t-0.028152\t25\n",
      "дворец\t-0.004065\t13\n",
      "девятка\t0.061349\t47\n",
      "дедушка\t0.192308\t9\n",
      "дежурная\t-0.103152\t12\n",
      "дежурный\t0.008032\t13\n",
      "декабрист\t0.122340\t11\n",
      "декрет\t-0.022535\t12\n",
      "дело\t0.018822\t130\n",
      "демобилизация\t0.171302\t14\n",
      "демократ\t0.083310\t18\n",
      "демонстрация\t0.031437\t38\n",
      "дерево\t0.252308\t21\n",
      "держава\t0.005202\t15\n",
      "дерзость\t-0.040885\t37\n",
      "десятка\t0.017862\t36\n",
      "десяток\t-0.016650\t21\n",
      "деятель\t0.166378\t14\n",
      "диалог\t-0.041812\t14\n",
      "диаметр\t0.017459\t18\n",
      "диплом\t-0.038354\t25\n",
      "директор\t-0.100000\t11\n",
      "диск\t0.098442\t63\n",
      "дичь\t-0.069088\t18\n",
      "длина\t0.001517\t21\n",
      "доброволец\t0.041237\t12\n",
      "добыча\t0.133256\t35\n",
      "доказательство\t-0.027805\t24\n",
      "доктор\t0.533215\t17\n",
      "долгота\t0.416327\t13\n",
      "доля\t0.057058\t45\n",
      "дом\t0.085274\t38\n",
      "дорога\t0.101381\t47\n",
      "достижение\t0.178771\t22\n",
      "древесина\t0.014444\t16\n",
      "дупло\t-0.037322\t15\n",
      "дура\t0.226804\t12\n",
      "дух\t0.030464\t77\n",
      "дым\t0.380388\t28\n",
      "дымка\t0.733542\t18\n",
      "дыхание\t0.132477\t56\n",
      "дьявол\t0.159236\t22\n",
      "евро\t-0.028571\t8\n",
      "езда\t-0.052023\t14\n",
      "жаворонок\t0.089655\t11\n",
      "жало\t0.027211\t11\n",
      "жертва\t0.184360\t37\n",
      "жестокость\t-0.100173\t14\n",
      "жидкость\t-0.022535\t12\n",
      "жила\t0.335775\t17\n",
      "жилец\t-0.048183\t16\n",
      "жир\t0.083225\t15\n",
      "жребий\t0.035990\t15\n",
      "заведение\t0.065068\t14\n",
      "завещание\t0.016667\t16\n",
      "зависимость\t0.056136\t21\n",
      "заголовок\t0.257516\t22\n",
      "заготовка\t0.232595\t26\n",
      "задание\t0.046732\t33\n",
      "задача\t0.055379\t36\n",
      "задержка\t-0.009638\t60\n",
      "зажигалка\t0.207317\t13\n",
      "закон\t0.007027\t56\n",
      "закрытие\t0.068548\t38\n",
      "заложник\t0.048780\t13\n",
      "замена\t-0.070670\t18\n",
      "западня\t0.010660\t11\n",
      "запятая\t0.124579\t14\n",
      "застой\t-0.114286\t13\n",
      "затея\t-0.012788\t12\n",
      "затишье\t0.330233\t16\n",
      "затмение\t0.070423\t12\n",
      "затруднение\t-0.078108\t15\n",
      "захоронение\t-0.065197\t22\n",
      "звезда\t0.086729\t40\n",
      "звон\t0.015388\t14\n",
      "зеркало\t0.126316\t21\n",
      "зло\t0.195723\t23\n",
      "злоупотребление\t0.148387\t12\n",
      "знак\t0.048596\t55\n",
      "знамя\t0.427119\t14\n",
      "значение\t0.204460\t30\n",
      "зонт\t0.181818\t9\n",
      "\t0.078148\t2073\n"
     ]
    }
   ],
   "source": [
    "evaluate_weighted_ari(\"../data/main/active-dict/train.csv\", labels)\n",
    "#k=2, lr=1e-2, cmp=3, epoch=10, context_len=all, negative"
   ]
  },
  {
   "cell_type": "code",
   "execution_count": 16,
   "metadata": {
    "scrolled": true
   },
   "outputs": [
    {
     "name": "stdout",
     "output_type": "stream",
     "text": [
      "word\tari\tcount\n",
      "дар\t-0.030799\t36\n",
      "двигатель\t-0.013948\t15\n",
      "двойник\t0.026266\t25\n",
      "дворец\t-0.079051\t13\n",
      "девятка\t0.051190\t47\n",
      "дедушка\t0.212500\t9\n",
      "дежурная\t-0.043360\t12\n",
      "дежурный\t-0.027668\t13\n",
      "декабрист\t0.126984\t11\n",
      "декрет\t0.177285\t12\n",
      "дело\t-0.001582\t130\n",
      "демобилизация\t-0.058140\t14\n",
      "демократ\t0.062712\t18\n",
      "демонстрация\t-0.012505\t38\n",
      "дерево\t0.386364\t21\n",
      "держава\t-0.071429\t15\n",
      "дерзость\t0.008920\t37\n",
      "десятка\t-0.025616\t36\n",
      "десяток\t-0.028292\t21\n",
      "деятель\t0.020101\t14\n",
      "диалог\t0.472973\t14\n",
      "диаметр\t-0.078496\t18\n",
      "диплом\t-0.031332\t25\n",
      "директор\t-0.091270\t11\n",
      "диск\t0.017262\t63\n",
      "дичь\t0.043177\t18\n",
      "длина\t0.102069\t21\n",
      "доброволец\t-0.058662\t12\n",
      "добыча\t-0.033658\t35\n",
      "доказательство\t-0.042951\t24\n",
      "доктор\t0.129693\t17\n",
      "долгота\t0.071429\t13\n",
      "доля\t0.054910\t45\n",
      "дом\t0.016929\t38\n",
      "дорога\t0.042419\t47\n",
      "достижение\t0.140909\t22\n",
      "древесина\t-0.062241\t16\n",
      "дупло\t-0.030534\t15\n",
      "дура\t0.485793\t12\n",
      "дух\t0.022918\t77\n",
      "дым\t0.215293\t28\n",
      "дымка\t0.067073\t18\n",
      "дыхание\t0.114461\t56\n",
      "дьявол\t-0.031516\t22\n",
      "евро\t-0.153846\t8\n",
      "езда\t0.011586\t14\n",
      "жаворонок\t0.125828\t11\n",
      "жало\t-0.026667\t11\n",
      "жертва\t0.108287\t37\n",
      "жестокость\t-0.047985\t14\n",
      "жидкость\t-0.066482\t12\n",
      "жила\t-0.084316\t17\n",
      "жилец\t0.197995\t16\n",
      "жир\t-0.068702\t15\n",
      "жребий\t0.321608\t15\n",
      "заведение\t0.380952\t14\n",
      "завещание\t-0.066667\t16\n",
      "зависимость\t-0.009242\t21\n",
      "заголовок\t0.093141\t22\n",
      "заготовка\t0.054079\t26\n",
      "задание\t0.016245\t33\n",
      "задача\t0.014467\t36\n",
      "задержка\t0.005842\t60\n",
      "зажигалка\t0.229249\t13\n",
      "закон\t0.004215\t56\n",
      "закрытие\t0.049028\t38\n",
      "заложник\t0.082353\t13\n",
      "замена\t0.150073\t18\n",
      "западня\t0.126984\t11\n",
      "запятая\t0.011586\t14\n",
      "застой\t-0.019608\t13\n",
      "затея\t-0.002849\t12\n",
      "затишье\t0.283333\t16\n",
      "затмение\t-0.058662\t12\n",
      "затруднение\t-0.029412\t15\n",
      "захоронение\t-0.022436\t22\n",
      "звезда\t0.123636\t40\n",
      "звон\t0.009674\t14\n",
      "зеркало\t0.218182\t21\n",
      "зло\t-0.023726\t23\n",
      "злоупотребление\t0.391705\t12\n",
      "знак\t0.002261\t55\n",
      "знамя\t0.470930\t14\n",
      "значение\t0.040431\t30\n",
      "зонт\t0.240964\t9\n",
      "\t0.048215\t2073\n"
     ]
    }
   ],
   "source": [
    "evaluate_weighted_ari(\"../data/my_data/active/train.csv\", labels)\n",
    "#k=2, lr=1e-2, cmp=3, epoch=10, context_len=all, negative"
   ]
  },
  {
   "cell_type": "code",
   "execution_count": 549,
   "metadata": {
    "scrolled": true
   },
   "outputs": [
    {
     "name": "stdout",
     "output_type": "stream",
     "text": [
      "word\tari\tcount\n",
      "балка\t0.002072\t119\n",
      "вид\t0.283706\t77\n",
      "винт\t0.155165\t123\n",
      "горн\t0.209156\t51\n",
      "губа\t0.082658\t137\n",
      "жаба\t0.055646\t121\n",
      "клетка\t0.629040\t150\n",
      "крыло\t0.077090\t91\n",
      "купюра\t-0.003149\t150\n",
      "курица\t0.009681\t93\n",
      "лавка\t-0.003129\t149\n",
      "лайка\t0.012233\t99\n",
      "лев\t-0.005271\t44\n",
      "лира\t0.688581\t49\n",
      "мина\t0.058054\t65\n",
      "мишень\t0.172076\t121\n",
      "обед\t0.031373\t100\n",
      "оклад\t0.053367\t146\n",
      "опушка\t0.034448\t148\n",
      "полис\t0.000025\t142\n",
      "пост\t0.521725\t144\n",
      "поток\t0.097323\t136\n",
      "проказа\t0.155213\t146\n",
      "пропасть\t0.108086\t127\n",
      "проспект\t0.035526\t139\n",
      "пытка\t-0.022363\t143\n",
      "рысь\t0.371960\t120\n",
      "среда\t0.268228\t144\n",
      "хвост\t0.180156\t121\n",
      "штамп\t0.015123\t96\n",
      "\t0.137377\t3491\n"
     ]
    }
   ],
   "source": [
    "evaluate_weighted_ari(\"../data/my_data/bts/train.csv\", labels)\n",
    "#k=2, lr=1e-2, cmp=3, epoch=10, context_len=all, negative"
   ]
  },
  {
   "cell_type": "code",
   "execution_count": 546,
   "metadata": {
    "scrolled": true
   },
   "outputs": [
    {
     "name": "stdout",
     "output_type": "stream",
     "text": [
      "word\tari\tcount\n",
      "балка\t-0.012111\t119\n",
      "вид\t0.237229\t77\n",
      "винт\t0.154154\t123\n",
      "горн\t0.052534\t51\n",
      "губа\t0.064499\t137\n",
      "жаба\t-0.000708\t121\n",
      "клетка\t0.482290\t150\n",
      "крыло\t-0.011320\t91\n",
      "купюра\t-0.000662\t150\n",
      "курица\t-0.006606\t93\n",
      "лавка\t-0.004643\t149\n",
      "лайка\t0.058116\t99\n",
      "лев\t-0.057430\t44\n",
      "лира\t-0.025630\t49\n",
      "мина\t0.212305\t65\n",
      "мишень\t-0.022472\t121\n",
      "обед\t0.058038\t100\n",
      "оклад\t0.045042\t146\n",
      "опушка\t0.055015\t148\n",
      "полис\t0.031891\t142\n",
      "пост\t0.269474\t144\n",
      "поток\t0.012038\t136\n",
      "проказа\t0.008986\t146\n",
      "пропасть\t0.187896\t127\n",
      "проспект\t0.015365\t139\n",
      "пытка\t-0.000092\t143\n",
      "рысь\t-0.011402\t120\n",
      "среда\t0.057026\t144\n",
      "хвост\t0.290903\t121\n",
      "штамп\t-0.021312\t96\n",
      "\t0.075326\t3491\n"
     ]
    }
   ],
   "source": [
    "evaluate_weighted_ari(\"../data/my_data/bts/train.csv\", labels)\n",
    "#k=2, lr=1e-2, cmp=3, epoch=10, context_len=10, negative, lr_decay, predict_context_len=10"
   ]
  },
  {
   "cell_type": "code",
   "execution_count": 543,
   "metadata": {
    "scrolled": true
   },
   "outputs": [
    {
     "name": "stdout",
     "output_type": "stream",
     "text": [
      "word\tari\tcount\n",
      "балка\t-0.002176\t119\n",
      "вид\t0.086227\t77\n",
      "винт\t0.252054\t123\n",
      "горн\t0.005108\t51\n",
      "губа\t0.152273\t137\n",
      "жаба\t0.017884\t121\n",
      "клетка\t0.593031\t150\n",
      "крыло\t0.113548\t91\n",
      "купюра\t0.011372\t150\n",
      "курица\t-0.005552\t93\n",
      "лавка\t0.130438\t149\n",
      "лайка\t-0.014729\t99\n",
      "лев\t0.045097\t44\n",
      "лира\t0.335813\t49\n",
      "мина\t0.153446\t65\n",
      "мишень\t-0.018710\t121\n",
      "обед\t0.031373\t100\n",
      "оклад\t0.066689\t146\n",
      "опушка\t0.074239\t148\n",
      "полис\t0.031891\t142\n",
      "пост\t0.300207\t144\n",
      "поток\t0.081865\t136\n",
      "проказа\t0.009352\t146\n",
      "пропасть\t0.059358\t127\n",
      "проспект\t0.029162\t139\n",
      "пытка\t0.019241\t143\n",
      "рысь\t0.101401\t120\n",
      "среда\t0.205964\t144\n",
      "хвост\t0.125584\t121\n",
      "штамп\t0.006813\t96\n",
      "\t0.103527\t3491\n"
     ]
    }
   ],
   "source": [
    "evaluate_weighted_ari(\"../data/my_data/bts/train.csv\", labels)\n",
    "#k=2, lr=1e-2, cmp=2, epoch=5, context_len=23, negative"
   ]
  },
  {
   "cell_type": "code",
   "execution_count": 539,
   "metadata": {
    "scrolled": true
   },
   "outputs": [
    {
     "name": "stdout",
     "output_type": "stream",
     "text": [
      "word\tari\tcount\n",
      "балка\t-0.000037\t119\n",
      "вид\t0.321025\t77\n",
      "винт\t0.024633\t123\n",
      "горн\t-0.013536\t51\n",
      "губа\t0.008543\t137\n",
      "жаба\t0.001717\t121\n",
      "клетка\t0.584510\t150\n",
      "крыло\t0.072995\t91\n",
      "купюра\t-0.014698\t150\n",
      "курица\t0.113593\t93\n",
      "лавка\t0.262116\t149\n",
      "лайка\t0.011865\t99\n",
      "лев\t-0.006633\t44\n",
      "лира\t-0.023606\t49\n",
      "мина\t0.112530\t65\n",
      "мишень\t0.093422\t121\n",
      "обед\t-0.000947\t100\n",
      "оклад\t0.007899\t146\n",
      "опушка\t0.005118\t148\n",
      "полис\t0.001093\t142\n",
      "пост\t0.309175\t144\n",
      "поток\t0.062716\t136\n",
      "проказа\t0.004919\t146\n",
      "пропасть\t0.068208\t127\n",
      "проспект\t0.005369\t139\n",
      "пытка\t0.040682\t143\n",
      "рысь\t0.053392\t120\n",
      "среда\t0.043050\t144\n",
      "хвост\t0.211353\t121\n",
      "штамп\t0.099551\t96\n",
      "\t0.088002\t3491\n"
     ]
    }
   ],
   "source": [
    "evaluate_weighted_ari(\"../data/my_data/bts/train.csv\", labels)\n",
    "#k=2, lr=1e-2, cmp=5, epoch=5, context_len=23, negative"
   ]
  },
  {
   "cell_type": "code",
   "execution_count": 536,
   "metadata": {
    "scrolled": true
   },
   "outputs": [
    {
     "name": "stdout",
     "output_type": "stream",
     "text": [
      "word\tari\tcount\n",
      "балка\t-0.004016\t119\n",
      "вид\t0.215312\t77\n",
      "винт\t0.102094\t123\n",
      "горн\t0.046788\t51\n",
      "губа\t0.056449\t137\n",
      "жаба\t0.064675\t121\n",
      "клетка\t0.719539\t150\n",
      "крыло\t0.040589\t91\n",
      "купюра\t-0.010637\t150\n",
      "курица\t-0.022696\t93\n",
      "лавка\t0.209154\t149\n",
      "лайка\t0.029001\t99\n",
      "лев\t-0.076686\t44\n",
      "лира\t0.075792\t49\n",
      "мина\t0.128287\t65\n",
      "мишень\t0.008823\t121\n",
      "обед\t-0.006786\t100\n",
      "оклад\t0.057071\t146\n",
      "опушка\t0.112750\t148\n",
      "полис\t0.112117\t142\n",
      "пост\t0.274908\t144\n",
      "поток\t0.078746\t136\n",
      "проказа\t-0.005463\t146\n",
      "пропасть\t0.149782\t127\n",
      "проспект\t-0.001821\t139\n",
      "пытка\t0.054960\t143\n",
      "рысь\t0.306263\t120\n",
      "среда\t0.107032\t144\n",
      "хвост\t0.082919\t121\n",
      "штамп\t-0.021289\t96\n",
      "\t0.107375\t3491\n"
     ]
    }
   ],
   "source": [
    "evaluate_weighted_ari(\"../data/my_data/bts/train.csv\", labels)\n",
    "#k=2, lr=1e-2, cmp=3, epoch=5, context_len=23, negative, word"
   ]
  },
  {
   "cell_type": "code",
   "execution_count": 529,
   "metadata": {
    "scrolled": true
   },
   "outputs": [
    {
     "name": "stdout",
     "output_type": "stream",
     "text": [
      "word\tari\tcount\n",
      "балка\t-0.008772\t119\n",
      "вид\t0.039929\t77\n",
      "винт\t0.044993\t123\n",
      "горн\t-0.020000\t51\n",
      "губа\t0.008543\t137\n",
      "жаба\t0.018013\t121\n",
      "клетка\t0.083131\t150\n",
      "крыло\t0.089044\t91\n",
      "купюра\t-0.006521\t150\n",
      "курица\t0.077934\t93\n",
      "лавка\t0.077048\t149\n",
      "лайка\t0.263394\t99\n",
      "лев\t-0.076686\t44\n",
      "лира\t-0.018640\t49\n",
      "мина\t-0.016998\t65\n",
      "мишень\t-0.024075\t121\n",
      "обед\t0.055909\t100\n",
      "оклад\t0.173586\t146\n",
      "опушка\t-0.006647\t148\n",
      "полис\t0.000534\t142\n",
      "пост\t0.190654\t144\n",
      "поток\t-0.001759\t136\n",
      "проказа\t0.054133\t146\n",
      "пропасть\t0.003374\t127\n",
      "проспект\t0.017893\t139\n",
      "пытка\t0.042847\t143\n",
      "рысь\t0.019398\t120\n",
      "среда\t0.062170\t144\n",
      "хвост\t-0.001278\t121\n",
      "штамп\t0.010619\t96\n",
      "\t0.043632\t3491\n"
     ]
    }
   ],
   "source": [
    "evaluate_weighted_ari(\"../data/my_data/bts/train.csv\", labels)\n",
    "#k=2, softmax, lr=1e-2, cmp=3, epoch=5, context_len=23, negative"
   ]
  },
  {
   "cell_type": "code",
   "execution_count": 526,
   "metadata": {
    "scrolled": true
   },
   "outputs": [
    {
     "name": "stdout",
     "output_type": "stream",
     "text": [
      "word\tari\tcount\n",
      "балка\t0.006066\t119\n",
      "вид\t0.055137\t77\n",
      "винт\t0.152681\t123\n",
      "горн\t-0.000984\t51\n",
      "губа\t0.098343\t137\n",
      "жаба\t0.010082\t121\n",
      "клетка\t0.583796\t150\n",
      "крыло\t0.080789\t91\n",
      "купюра\t0.001347\t150\n",
      "курица\t0.107221\t93\n",
      "лавка\t0.161953\t149\n",
      "лайка\t0.073785\t99\n",
      "лев\t0.201730\t44\n",
      "лира\t0.204082\t49\n",
      "мина\t0.206523\t65\n",
      "мишень\t-0.041824\t121\n",
      "обед\t0.017744\t100\n",
      "оклад\t0.023572\t146\n",
      "опушка\t0.058669\t148\n",
      "полис\t0.077004\t142\n",
      "пост\t0.364604\t144\n",
      "поток\t0.057809\t136\n",
      "проказа\t-0.008275\t146\n",
      "пропасть\t0.062690\t127\n",
      "проспект\t0.198985\t139\n",
      "пытка\t-0.012273\t143\n",
      "рысь\t0.312615\t120\n",
      "среда\t0.065303\t144\n",
      "хвост\t0.204442\t121\n",
      "штамп\t-0.017112\t96\n",
      "\t0.111724\t3491\n"
     ]
    }
   ],
   "source": [
    "evaluate_weighted_ari(\"../data/my_data/bts/train.csv\", labels)\n",
    "#k=2, no_softmax, lr=1e-2, cmp=3, epoch=5, context_len=23, negative"
   ]
  },
  {
   "cell_type": "code",
   "execution_count": 451,
   "metadata": {},
   "outputs": [],
   "source": [
    "from sklearn.cluster import KMeans\n",
    "import hdbscan"
   ]
  },
  {
   "cell_type": "code",
   "execution_count": 453,
   "metadata": {},
   "outputs": [
    {
     "data": {
      "text/plain": [
       "(439, 3)"
      ]
     },
     "execution_count": 453,
     "metadata": {},
     "output_type": "execute_result"
    }
   ],
   "source": [
    "pred.shape"
   ]
  },
  {
   "cell_type": "code",
   "execution_count": 483,
   "metadata": {},
   "outputs": [],
   "source": [
    "n = len(df[df.word == 'замок'])"
   ]
  },
  {
   "cell_type": "code",
   "execution_count": 484,
   "metadata": {},
   "outputs": [],
   "source": [
    "km_pred = km.fit_predict(pred[:n])"
   ]
  },
  {
   "cell_type": "code",
   "execution_count": 485,
   "metadata": {},
   "outputs": [],
   "source": [
    "from sklearn.metrics import adjusted_rand_score"
   ]
  },
  {
   "cell_type": "code",
   "execution_count": 487,
   "metadata": {},
   "outputs": [
    {
     "data": {
      "text/plain": [
       "0.13572141027203435"
      ]
     },
     "execution_count": 487,
     "metadata": {},
     "output_type": "execute_result"
    }
   ],
   "source": [
    "adjusted_rand_score(labels[:n], km_pred)"
   ]
  },
  {
   "cell_type": "code",
   "execution_count": 464,
   "metadata": {},
   "outputs": [
    {
     "data": {
      "text/plain": [
       "(138,)"
      ]
     },
     "execution_count": 464,
     "metadata": {},
     "output_type": "execute_result"
    }
   ],
   "source": [
    "hdb_pred.shape"
   ]
  },
  {
   "cell_type": "code",
   "execution_count": 468,
   "metadata": {},
   "outputs": [],
   "source": [
    "clusterer = hdbscan.HDBSCAN(min_cluster_size=10)\n",
    "hdb_pred = clusterer.fit_predict(pred[:n])\n",
    "# cluster_labels = clusterer.fit_predict(data)"
   ]
  },
  {
   "cell_type": "code",
   "execution_count": 470,
   "metadata": {},
   "outputs": [],
   "source": []
  },
  {
   "cell_type": "code",
   "execution_count": 471,
   "metadata": {},
   "outputs": [
    {
     "name": "stderr",
     "output_type": "stream",
     "text": [
      "/home/fogside/virtens/py3/lib/python3.6/site-packages/ipykernel_launcher.py:2: MatplotlibDeprecationWarning: pyplot.hold is deprecated.\n",
      "    Future behavior will be consistent with the long-time default:\n",
      "    plot commands add elements without first clearing the\n",
      "    Axes and/or Figure.\n",
      "  \n",
      "/home/fogside/virtens/py3/lib/python3.6/site-packages/matplotlib/__init__.py:805: MatplotlibDeprecationWarning: axes.hold is deprecated. Please remove it from your matplotlibrc and/or style files.\n",
      "  mplDeprecation)\n",
      "/home/fogside/virtens/py3/lib/python3.6/site-packages/matplotlib/rcsetup.py:155: MatplotlibDeprecationWarning: axes.hold is deprecated, will be removed in 3.0\n",
      "  mplDeprecation)\n",
      "/home/fogside/virtens/py3/lib/python3.6/site-packages/ipykernel_launcher.py:4: MatplotlibDeprecationWarning: pyplot.hold is deprecated.\n",
      "    Future behavior will be consistent with the long-time default:\n",
      "    plot commands add elements without first clearing the\n",
      "    Axes and/or Figure.\n",
      "  after removing the cwd from sys.path.\n"
     ]
    },
    {
     "data": {
      "image/png": "[encoded data removed]",
      "text/plain": [
       "<matplotlib.figure.Figure at 0x7ff03c2ef828>"
      ]
     },
     "metadata": {},
     "output_type": "display_data"
    }
   ],
   "source": [
    "# plt.scatter(pred[:n, 1], pred[:n, 2], c=(true[:n] + 1) % 2, marker='o')\n",
    "plt.hold(True)\n",
    "plt.scatter(pred[:n, 1], pred[:n, 2], marker='x', c=hdb_pred)\n",
    "plt.hold(False)"
   ]
  },
  {
   "cell_type": "code",
   "execution_count": 439,
   "metadata": {},
   "outputs": [],
   "source": [
    "plt.scatter?"
   ]
  },
  {
   "cell_type": "code",
   "execution_count": 413,
   "metadata": {},
   "outputs": [
    {
     "data": {
      "text/plain": [
       "(138, 3, 1)"
      ]
     },
     "execution_count": 413,
     "metadata": {},
     "output_type": "execute_result"
    }
   ],
   "source": [
    "pred.shape"
   ]
  },
  {
   "cell_type": "code",
   "execution_count": null,
   "metadata": {},
   "outputs": [],
   "source": []
  },
  {
   "cell_type": "code",
   "execution_count": 382,
   "metadata": {},
   "outputs": [
    {
     "name": "stderr",
     "output_type": "stream",
     "text": [
      "/home/fogside/virtens/py3/lib/python3.6/site-packages/ipykernel_launcher.py:28: DeprecationWarning: This function is deprecated. Please call randint(0, 202435 + 1) instead\n"
     ]
    }
   ],
   "source": [
    "p, n = next(batch_gen)"
   ]
  },
  {
   "cell_type": "code",
   "execution_count": 275,
   "metadata": {},
   "outputs": [],
   "source": [
    "p = np.sum(p, axis=0)\n",
    "n = np.sum(n, axis=0)"
   ]
  },
  {
   "cell_type": "code",
   "execution_count": 276,
   "metadata": {},
   "outputs": [
    {
     "data": {
      "text/plain": [
       "[('а', 0.8541556596755981),\n",
       " ('г', 0.8488138914108276),\n",
       " ('н', 0.8453353643417358),\n",
       " ('же', 0.8379328846931458),\n",
       " ('о', 0.8367843627929688),\n",
       " ('константинова', 0.8338011503219604),\n",
       " ('покойный', 0.8336784839630127),\n",
       " ('сам', 0.8316569924354553),\n",
       " ('тот', 0.8305151462554932),\n",
       " ('тогда', 0.8270591497421265)]"
      ]
     },
     "execution_count": 276,
     "metadata": {},
     "output_type": "execute_result"
    }
   ],
   "source": [
    "wv.similar_by_vector(p)"
   ]
  },
  {
   "cell_type": "code",
   "execution_count": 200,
   "metadata": {},
   "outputs": [
    {
     "data": {
      "text/plain": [
       "[('предмет', 0.8658064603805542),\n",
       " ('изделие', 0.8496578335762024),\n",
       " ('изготовляться', 0.8273499608039856),\n",
       " ('неполированный', 0.8218017220497131),\n",
       " ('изготовление', 0.8217644095420837),\n",
       " ('ткань', 0.8210477828979492),\n",
       " ('остальное', 0.8169079422950745),\n",
       " ('вещь', 0.8153163194656372),\n",
       " ('керамика', 0.8123542070388794),\n",
       " ('пластика', 0.8065093755722046)]"
      ]
     },
     "execution_count": 200,
     "metadata": {},
     "output_type": "execute_result"
    }
   ],
   "source": [
    "wv.similar_by_vector(s)"
   ]
  },
  {
   "cell_type": "code",
   "execution_count": 540,
   "metadata": {
    "scrolled": false
   },
   "outputs": [],
   "source": [
    "def train_model(f, word, cmp=3):\n",
    "\n",
    "    tf.reset_default_graph()\n",
    "    lr = 1e-2\n",
    "    n_comps = cmp\n",
    "    net = MultiComp(100, n_comps, 0.1)\n",
    "\n",
    "\n",
    "    n_samples = len(f)\n",
    "    n_context = 10 # number of words in the context\n",
    "    emb_dim = 100\n",
    "    atts = list()\n",
    "    epoch_num = 5\n",
    "    losses = []\n",
    "    for epoch in range(epoch_num):\n",
    "    #     batch_gen = generate_triplet_batch(lines, context_max_len=n_context)\n",
    "        batch_gen = generate_triplet_batch(f, context_max_len=10, word=word, lemmatize=True)\n",
    "        pbar = tqdm_notebook(batch_gen, total = n_samples)\n",
    "        print(\"epoch_num: \", epoch)\n",
    "        for n, (sample_p, sample_n) in enumerate(pbar):\n",
    "            if len(sample_p)==0:\n",
    "                continue\n",
    "\n",
    "            loss, att = net.train_on_sample(sample_p, sample_n, lr)\n",
    "            atts.append(att)\n",
    "            losses.append(loss)\n",
    "\n",
    "            if n % 100 == 99:\n",
    "                pbar.set_description(\"loss {:.3f}\".format(float(np.mean(losses[-300:]))))\n",
    "    return net"
   ]
  },
  {
   "cell_type": "code",
   "execution_count": 353,
   "metadata": {},
   "outputs": [
    {
     "data": {
      "text/plain": [
       "(1380, 10)"
      ]
     },
     "execution_count": 353,
     "metadata": {},
     "output_type": "execute_result"
    }
   ],
   "source": [
    "a.shape"
   ]
  },
  {
   "cell_type": "code",
   "execution_count": 355,
   "metadata": {},
   "outputs": [
    {
     "name": "stderr",
     "output_type": "stream",
     "text": [
      "/home/fogside/virtens/py3/lib/python3.6/site-packages/seaborn/distributions.py:645: UserWarning: Passing a 2D dataset for a bivariate plot is deprecated in favor of kdeplot(x, y), and it will cause an error in future versions. Please update your code.\n",
      "  warnings.warn(warn_msg, UserWarning)\n"
     ]
    },
    {
     "data": {
      "text/plain": [
       "<matplotlib.axes._subplots.AxesSubplot at 0x7ff06dd4f518>"
      ]
     },
     "execution_count": 355,
     "metadata": {},
     "output_type": "execute_result"
    },
    {
     "data": {
      "image/png": "[encoded data removed]",
      "text/plain": [
       "<matplotlib.figure.Figure at 0x7ff06d73fd68>"
      ]
     },
     "metadata": {},
     "output_type": "display_data"
    }
   ],
   "source": [
    "sns.kdeplot(a[:,2:4])"
   ]
  },
  {
   "cell_type": "code",
   "execution_count": 384,
   "metadata": {
    "scrolled": true
   },
   "outputs": [
    {
     "data": {
      "text/plain": [
       "<seaborn.axisgrid.JointGrid at 0x7ff064390908>"
      ]
     },
     "execution_count": 384,
     "metadata": {},
     "output_type": "execute_result"
    },
    {
     "data": {
      "image/png": "[encoded data removed]",
      "text/plain": [
       "<matplotlib.figure.Figure at 0x7ff06e01ac50>"
      ]
     },
     "metadata": {},
     "output_type": "display_data"
    },
    {
     "data": {
      "image/png": "[encoded data removed]",
      "text/plain": [
       "<matplotlib.figure.Figure at 0x7ff06de94dd8>"
      ]
     },
     "metadata": {},
     "output_type": "display_data"
    },
    {
     "data": {
      "image/png": "[encoded data removed]",
      "text/plain": [
       "<matplotlib.figure.Figure at 0x7ff06441f048>"
      ]
     },
     "metadata": {},
     "output_type": "display_data"
    }
   ],
   "source": [
    "import seaborn as sns\n",
    "\n",
    "a = np.array(atts).squeeze()\n",
    "a.shape\n",
    "sns.jointplot(a[:, 0], a[:, 1], kind=\"hex\")\n",
    "sns.jointplot(a[:, 1], a[:, 2], kind=\"hex\")\n",
    "sns.jointplot(a[:, 0], a[:, 2], kind=\"hex\")"
   ]
  },
  {
   "cell_type": "markdown",
   "metadata": {},
   "source": [
    "# CENTROIDS"
   ]
  },
  {
   "cell_type": "code",
   "execution_count": 1,
   "metadata": {},
   "outputs": [],
   "source": [
    "class MultiCompCentroids:\n",
    "    def __init__(self, emb_size, n_comp, margin):\n",
    "        self.pos = tf.placeholder(dtype=tf.float32, shape=[None, emb_size], name='pos_ph')\n",
    "        self.neg = tf.placeholder(dtype=tf.float32, shape=[None, emb_size], name='neg_ph')\n",
    "        self.lr = tf.placeholder(dtype=tf.float32, shape=[], name='learning_rate_ph')\n",
    "\n",
    "        comp_init = np.random.randn(n_comp, emb_size) / np.sqrt(emb_size * n_comp)\n",
    "        self.sense_comps = tf.Variable(comp_init, dtype=tf.float32, name='senses')\n",
    "        self.centroids = tf.Variable(comp_init, dtype=tf.float32, name='centroids')\n",
    "        \n",
    "        # Attention\n",
    "        mean_cont = tf.reduce_mean(self.pos, axis=0, keep_dims=True)\n",
    "        mean_cont = tf.nn.l2_normalize(mean_cont, 1)  # 1 x 100\n",
    "        \n",
    "        norm_centroids = tf.nn.l2_normalize(self.centroids, 1) # n_comp x 100\n",
    "        \n",
    "        att = tf.reduce_sum(mean_cont * norm_centroids, axis=1, keep_dims=True)\n",
    "#         self.att = tf.nn.softmax(att, dim=0)\n",
    "        \n",
    "        max_index = tf.cast(tf.argmax(self.att)[0], tf.int32)\n",
    "#         print(max_index)\n",
    "#         print(mean_cont)\n",
    "#         print(self.centroids[max_index[0]])\n",
    "        # Update centroids\n",
    "        self.centroids[max_index].assign(mean_cont + self.centroids[max_index])\n",
    "#         self.centroids[max_index[0]]+= mean_cont\n",
    "        \n",
    "        \n",
    "#         word_emb = self.sense_comps * self.att, axis=0, keep_dims=True)\n",
    "#         word_emb = tf.reduce_sum(self.sense_comps * self.att, axis=0, keep_dims=True)\n",
    "        \n",
    "        \n",
    "        # Cosine loss\n",
    "        norm_pos = tf.nn.l2_normalize(self.pos, 1)\n",
    "        norm_neg = tf.nn.l2_normalize(self.neg, 1)\n",
    "        norm_word_emb = tf.nn.l2_normalize(self.sense_comps[max_index], dim=0)\n",
    "        \n",
    "        pos_loss = tf.reduce_mean(tf.reduce_sum(norm_pos * norm_word_emb, axis=1))\n",
    "        neg_loss = tf.reduce_mean(tf.reduce_sum(norm_neg * norm_word_emb, axis=1))\n",
    "        \n",
    "        self.loss = -pos_loss # + neg_loss + 1e-3*tf.nn.l2_loss(self.sense_comps)\n",
    "        opt = tf.train.AdamOptimizer(self.lr)\n",
    "        self.train_op = opt.minimize(self.loss)\n",
    "        \n",
    "        self.sess = tf.Session()\n",
    "        self.sess.run(tf.global_variables_initializer())\n",
    "        \n",
    "    def train_on_sample(self, pos_samp, neg_samp, learning_rate):\n",
    "        feed_dict = {self.pos: pos_samp, self.neg: neg_samp, self.lr: learning_rate}\n",
    "        loss, att, _ = self.sess.run([self.loss, self.att, self.train_op], feed_dict)\n",
    "        return loss, att"
   ]
  },
  {
   "cell_type": "markdown",
   "metadata": {},
   "source": [
    "# Train"
   ]
  },
  {
   "cell_type": "code",
   "execution_count": 2,
   "metadata": {},
   "outputs": [
    {
     "ename": "NameError",
     "evalue": "name 'tf' is not defined",
     "output_type": "error",
     "traceback": [
      "\u001b[0;31m---------------------------------------------------------------------------\u001b[0m",
      "\u001b[0;31mNameError\u001b[0m                                 Traceback (most recent call last)",
      "\u001b[0;32m<ipython-input-2-7b98ae6abb17>\u001b[0m in \u001b[0;36m<module>\u001b[0;34m()\u001b[0m\n\u001b[0;32m----> 1\u001b[0;31m \u001b[0mtf\u001b[0m\u001b[0;34m.\u001b[0m\u001b[0mreset_default_graph\u001b[0m\u001b[0;34m(\u001b[0m\u001b[0;34m)\u001b[0m\u001b[0;34m\u001b[0m\u001b[0m\n\u001b[0m\u001b[1;32m      2\u001b[0m \u001b[0;31m# w_emb = wv['замок'].reshape((1,100))\u001b[0m\u001b[0;34m\u001b[0m\u001b[0;34m\u001b[0m\u001b[0m\n\u001b[1;32m      3\u001b[0m \u001b[0mlr\u001b[0m \u001b[0;34m=\u001b[0m \u001b[0;36m1e-2\u001b[0m\u001b[0;34m\u001b[0m\u001b[0m\n\u001b[1;32m      4\u001b[0m \u001b[0mn_comps\u001b[0m \u001b[0;34m=\u001b[0m \u001b[0;36m2\u001b[0m\u001b[0;34m\u001b[0m\u001b[0m\n\u001b[1;32m      5\u001b[0m \u001b[0mnet\u001b[0m \u001b[0;34m=\u001b[0m \u001b[0mMultiCompCentroids\u001b[0m\u001b[0;34m(\u001b[0m\u001b[0;36m100\u001b[0m\u001b[0;34m,\u001b[0m \u001b[0mn_comps\u001b[0m\u001b[0;34m,\u001b[0m \u001b[0;36m0.1\u001b[0m\u001b[0;34m)\u001b[0m\u001b[0;34m\u001b[0m\u001b[0m\n",
      "\u001b[0;31mNameError\u001b[0m: name 'tf' is not defined"
     ]
    }
   ],
   "source": [
    "tf.reset_default_graph()\n",
    "# w_emb = wv['замок'].reshape((1,100))\n",
    "lr = 1e-2\n",
    "n_comps = 2\n",
    "net = MultiCompCentroids(100, n_comps, 0.1)\n",
    "\n",
    "\n",
    "n_samples = len(lines)\n",
    "n_context = 10 # number of words in the context\n",
    "emb_dim = 100\n",
    "atts = list()\n",
    "epoch_num = 1\n",
    "losses = []\n",
    "for epoch in range(epoch_num):\n",
    "    batch_gen = generate_triplet_batch(lines, context_max_len=n_context)\n",
    "    pbar = tqdm_notebook(batch_gen, total = n_samples)\n",
    "    print(\"epoch_num: \", epoch)\n",
    "    for n, (sample_p, sample_n) in enumerate(pbar):\n",
    "        if len(sample_p)==0:\n",
    "            continue\n",
    "        \n",
    "        loss, att = net.train_on_sample(sample_p, sample_n, lr)\n",
    "        atts.append(att)\n",
    "        losses.append(loss)\n",
    "        \n",
    "        if n % 100 == 99:\n",
    "            pbar.set_description(\"loss {:.3f}\".format(float(np.mean(losses[-300:]))))"
   ]
  },
  {
   "cell_type": "code",
   "execution_count": 9,
   "metadata": {},
   "outputs": [
    {
     "data": {
      "text/plain": [
       "'1.5.0'"
      ]
     },
     "execution_count": 9,
     "metadata": {},
     "output_type": "execute_result"
    }
   ],
   "source": [
    "tf.__version__"
   ]
  },
  {
   "cell_type": "code",
   "execution_count": 8,
   "metadata": {},
   "outputs": [],
   "source": [
    "from sklearn.feature_extraction.text import TfidfVectorizer"
   ]
  },
  {
   "cell_type": "code",
   "execution_count": 17,
   "metadata": {},
   "outputs": [],
   "source": [
    "tfidf = TfidfVectorizer()\n",
    "vals = tfidf.fit_transform(lines)\n",
    "num = tfidf.vocabulary_['замок']\n",
    "vals[1, num]"
   ]
  },
  {
   "cell_type": "code",
   "execution_count": 139,
   "metadata": {},
   "outputs": [
    {
     "name": "stdout",
     "output_type": "stream",
     "text": [
      "лен и льняной ткань серебряный вещь пряслица из розовый шифер замок резной кость и пр а предмет ввоз быть предмет\r\n",
      "к юг от кисловодск в number number км высоко от замок один из местный достопримечательность здесь выходить на поверхность розовый\r\n",
      "город становиться классицизм основной архитектор этот стиль в и баженов замок ж б валлен деламот здание академия художество большой гостиный\r\n",
      "правление франциск i во французский архитектура наступать эпоха возрождение хорошо замок в долина луара шамбор шенонсо шевертывать блуа азэ ле\r\n",
      "становиться фактический столица в number год когда после пожар в замок в краков король сигизмунд iii перенести свой резиденция сюда\r\n",
      "город быть уничтожать в частность исторический место стар мястый и замок\r\n",
      "граница с калининградский область россия основывать в number год как замок мариенбург население number житель number\r\n",
      "замок мариенбург самый большой в мир кирпичный замок служить резиденция магистр тевтонский орден занимать площадь свыше number гектар в number замок быть включать в список всемирный наследие замок мариенбург самый большой в мир кирпичный замок служить резиденция\r\n",
      "замок мариенбург самый большой в мир замок служить резиденция магистр тевтонский орден занимать площадь свыше number\r\n",
      "резиденция магистр тевтонский орден занимать площадь свыше number гектар в замок быть включать в список всемирный наследие юнеско\r\n",
      "время в венеция уже не быть привычный для средневековый европа замок и крепостной стена здесь море служить защита а вместо\r\n",
      "никакой внимание наследие немецкий культура старый город не восстанавливаться а замок быть снести в конец number х год несмотря на\r\n",
      "массовый передача здание бывший лютеранский и католический кирха и старинный замок в собственность рпц с number г финансирование содержание часть\r\n",
      "центральный квартал альтштадт и кнайпхоф и строительство на старый фундамент замок итог семинар становиться консолидированный решение о проведение международный конкурс\r\n",
      "кенигсберг быть основывать замок и оставаться город крепость вплоть до конец второй мировой\r\n",
      "иной сценарий рыцарский орден тевтонский ливонский меченосец возводить на территория замок как опорный пункт колонизация языческий племя подвергаться насильственный христианизация\r\n",
      "от устье на следующий год он уже приглашать каменотес для замок это быть полагать начало епископство ливонский первый в ливония\r\n",
      "не всегда например в number год упоминаться городской волнение против замок курфюрст фридрих ii железный однако этот протест не увенчиваться\r\n",
      "период не сохраняться с приход норманн каменный строительство возобновляться появляться замок аббатство и собор однако в большинство свой средневековый застройка\r\n",
      "город нередко разрастаться на место оборонительный замок крепость и т п и вокруг они это отражать\r\n"
     ]
    }
   ],
   "source": [
    "!head -n 20 ../data/my_data/замок_out.txt"
   ]
  },
  {
   "cell_type": "markdown",
   "metadata": {},
   "source": [
    "# One word test"
   ]
  },
  {
   "cell_type": "code",
   "execution_count": 68,
   "metadata": {},
   "outputs": [],
   "source": [
    "%load_ext autoreload\n",
    "%autoreload 2"
   ]
  },
  {
   "cell_type": "code",
   "execution_count": 113,
   "metadata": {},
   "outputs": [],
   "source": [
    "from utils import make_dataset"
   ]
  },
  {
   "cell_type": "code",
   "execution_count": 145,
   "metadata": {},
   "outputs": [],
   "source": [
    "w = 'суда'"
   ]
  },
  {
   "cell_type": "code",
   "execution_count": 146,
   "metadata": {},
   "outputs": [
    {
     "data": {
      "application/vnd.jupyter.widget-view+json": {
       "model_id": "d2b890eee11b40c1b2da0cc4a7889558",
       "version_major": 2,
       "version_minor": 0
      },
      "text/html": [
       "<p>Failed to display Jupyter Widget of type <code>HBox</code>.</p>\n",
       "<p>\n",
       "  If you're reading this message in Jupyter Notebook or JupyterLab, it may mean\n",
       "  that the widgets JavaScript is still loading. If this message persists, it\n",
       "  likely means that the widgets JavaScript library is either not installed or\n",
       "  not enabled. See the <a href=\"https://ipywidgets.readthedocs.io/en/stable/user_install.html\">Jupyter\n",
       "  Widgets Documentation</a> for setup instructions.\n",
       "</p>\n",
       "<p>\n",
       "  If you're reading this message in another notebook frontend (for example, a static\n",
       "  rendering on GitHub or <a href=\"https://nbviewer.jupyter.org/\">NBViewer</a>),\n",
       "  it may mean that your frontend doesn't currently support widgets.\n",
       "</p>\n"
      ],
      "text/plain": [
       "HBox(children=(IntProgress(value=0, max=1669868), HTML(value='')))"
      ]
     },
     "metadata": {},
     "output_type": "display_data"
    },
    {
     "name": "stdout",
     "output_type": "stream",
     "text": [
      "\n"
     ]
    },
    {
     "data": {
      "text/plain": [
       "54677"
      ]
     },
     "execution_count": 146,
     "metadata": {},
     "output_type": "execute_result"
    }
   ],
   "source": [
    "make_dataset(word=w, window=10)"
   ]
  },
  {
   "cell_type": "code",
   "execution_count": 147,
   "metadata": {},
   "outputs": [],
   "source": [
    "with open(\"../data/my_data/{}_out.txt\".format(w), 'r') as f:\n",
    "    lines = f.readlines()"
   ]
  },
  {
   "cell_type": "code",
   "execution_count": 148,
   "metadata": {},
   "outputs": [],
   "source": [
    "mystem = Mystem()"
   ]
  },
  {
   "cell_type": "code",
   "execution_count": 149,
   "metadata": {},
   "outputs": [
    {
     "data": {
      "application/vnd.jupyter.widget-view+json": {
       "model_id": "6329a830776c4dee8a2ad6b3f7948d19",
       "version_major": 2,
       "version_minor": 0
      },
      "text/html": [
       "<p>Failed to display Jupyter Widget of type <code>HBox</code>.</p>\n",
       "<p>\n",
       "  If you're reading this message in Jupyter Notebook or JupyterLab, it may mean\n",
       "  that the widgets JavaScript is still loading. If this message persists, it\n",
       "  likely means that the widgets JavaScript library is either not installed or\n",
       "  not enabled. See the <a href=\"https://ipywidgets.readthedocs.io/en/stable/user_install.html\">Jupyter\n",
       "  Widgets Documentation</a> for setup instructions.\n",
       "</p>\n",
       "<p>\n",
       "  If you're reading this message in another notebook frontend (for example, a static\n",
       "  rendering on GitHub or <a href=\"https://nbviewer.jupyter.org/\">NBViewer</a>),\n",
       "  it may mean that your frontend doesn't currently support widgets.\n",
       "</p>\n"
      ],
      "text/plain": [
       "HBox(children=(IntProgress(value=0, max=54677), HTML(value='')))"
      ]
     },
     "metadata": {},
     "output_type": "display_data"
    },
    {
     "name": "stdout",
     "output_type": "stream",
     "text": [
      "epoch_num:  0\n"
     ]
    },
    {
     "name": "stderr",
     "output_type": "stream",
     "text": [
      "/home/fogside/virtualenvs/py3/lib/python3.6/site-packages/ipykernel_launcher.py:35: DeprecationWarning: This function is deprecated. Please call randint(0, 202435 + 1) instead\n"
     ]
    },
    {
     "name": "stdout",
     "output_type": "stream",
     "text": [
      "\n"
     ]
    }
   ],
   "source": [
    "net = train_model(lines, word=\"\", cmp=3, lr=1e-2,\\\n",
    "                  epoch_num=1, n_context=-1, lr_decay=False, do_shuffle=False, lemmatize=False)"
   ]
  },
  {
   "cell_type": "code",
   "execution_count": 138,
   "metadata": {},
   "outputs": [
    {
     "data": {
      "text/plain": [
       "array(['замок', 'лук', 'суда', 'бор'], dtype=object)"
      ]
     },
     "execution_count": 138,
     "metadata": {},
     "output_type": "execute_result"
    }
   ],
   "source": [
    "df.word.unique()"
   ]
  },
  {
   "cell_type": "code",
   "execution_count": 150,
   "metadata": {},
   "outputs": [
    {
     "data": {
      "application/vnd.jupyter.widget-view+json": {
       "model_id": "555ed9d30b6a49828831afafea10db1d",
       "version_major": 2,
       "version_minor": 0
      },
      "text/html": [
       "<p>Failed to display Jupyter Widget of type <code>HBox</code>.</p>\n",
       "<p>\n",
       "  If you're reading this message in Jupyter Notebook or JupyterLab, it may mean\n",
       "  that the widgets JavaScript is still loading. If this message persists, it\n",
       "  likely means that the widgets JavaScript library is either not installed or\n",
       "  not enabled. See the <a href=\"https://ipywidgets.readthedocs.io/en/stable/user_install.html\">Jupyter\n",
       "  Widgets Documentation</a> for setup instructions.\n",
       "</p>\n",
       "<p>\n",
       "  If you're reading this message in another notebook frontend (for example, a static\n",
       "  rendering on GitHub or <a href=\"https://nbviewer.jupyter.org/\">NBViewer</a>),\n",
       "  it may mean that your frontend doesn't currently support widgets.\n",
       "</p>\n"
      ],
      "text/plain": [
       "HBox(children=(IntProgress(value=0, max=135), HTML(value='')))"
      ]
     },
     "metadata": {},
     "output_type": "display_data"
    },
    {
     "name": "stderr",
     "output_type": "stream",
     "text": [
      "/home/fogside/virtualenvs/py3/lib/python3.6/site-packages/ipykernel_launcher.py:35: DeprecationWarning: This function is deprecated. Please call randint(0, 202435 + 1) instead\n"
     ]
    },
    {
     "name": "stdout",
     "output_type": "stream",
     "text": [
      "\n"
     ]
    }
   ],
   "source": [
    "import sklearn\n",
    "from sklearn.cluster import KMeans\n",
    "df = pd.read_csv(\"../data/main/wiki-wiki/train.csv\", sep='\\t')\n",
    "\n",
    "true = df[df.word == w].gold_sense_id\n",
    "f = df[df.word == w].context.values\n",
    "\n",
    "attens = []\n",
    "km = KMeans(n_clusters=2, random_state=23)\n",
    "\n",
    "batch_gen = generate_triplet_batch(f, context_max_len=10, word=\"\", lemmatize=True)\n",
    "\n",
    "for b, _ in tqdm_notebook(batch_gen, total=len(f)):\n",
    "#     if len(b) == 0:\n",
    "#         b = np.random.randn(1, 100)\n",
    "    p = net.predict_on_sample(b)\n",
    "    attens.append(p)\n",
    "    \n",
    "\n",
    "\n",
    "attens = np.array(attens).squeeze()\n",
    "k_pred = km.fit_predict(attens)"
   ]
  },
  {
   "cell_type": "code",
   "execution_count": 151,
   "metadata": {},
   "outputs": [],
   "source": [
    "pred = attens"
   ]
  },
  {
   "cell_type": "code",
   "execution_count": 152,
   "metadata": {},
   "outputs": [
    {
     "data": {
      "image/png": "[encoded data removed]",
      "text/plain": [
       "<matplotlib.figure.Figure at 0x7efbc1f64fd0>"
      ]
     },
     "metadata": {},
     "output_type": "display_data"
    }
   ],
   "source": [
    "plt.scatter(pred[:, 0], pred[:, 2], c=true, marker='o')\n",
    "plt.title(\"Components 0,2\\nword={}\".format(w))\n",
    "plt.show()"
   ]
  },
  {
   "cell_type": "code",
   "execution_count": 153,
   "metadata": {},
   "outputs": [
    {
     "data": {
      "image/png": "[encoded data removed]",
      "text/plain": [
       "<matplotlib.figure.Figure at 0x7efbc1f64d68>"
      ]
     },
     "metadata": {},
     "output_type": "display_data"
    }
   ],
   "source": [
    "plt.scatter(pred[:, 0], pred[:, 2], c=k_pred, marker='o')\n",
    "plt.title(\"Components 0,2, knn \\nword={}\".format(w))\n",
    "plt.show()"
   ]
  },
  {
   "cell_type": "code",
   "execution_count": 154,
   "metadata": {},
   "outputs": [
    {
     "data": {
      "image/png": "[encoded data removed]",
      "text/plain": [
       "<matplotlib.figure.Figure at 0x7ef8cc910b38>"
      ]
     },
     "metadata": {},
     "output_type": "display_data"
    }
   ],
   "source": [
    "plt.scatter(pred[:, 0], pred[:, 1], c=true, marker='o')\n",
    "plt.title(\"Components 0,1\\nword={}\".format(w))\n",
    "plt.show()"
   ]
  },
  {
   "cell_type": "code",
   "execution_count": 155,
   "metadata": {},
   "outputs": [
    {
     "data": {
      "image/png": "[encoded data removed]",
      "text/plain": [
       "<matplotlib.figure.Figure at 0x7ef8446eb470>"
      ]
     },
     "metadata": {},
     "output_type": "display_data"
    }
   ],
   "source": [
    "plt.scatter(pred[:, 1], pred[:, 2], c=true, marker='o')\n",
    "plt.title(\"Components 1,2\\nword={}\".format(w))\n",
    "plt.show()"
   ]
  },
  {
   "cell_type": "code",
   "execution_count": 158,
   "metadata": {},
   "outputs": [],
   "source": [
    "import os"
   ]
  },
  {
   "cell_type": "markdown",
   "metadata": {},
   "source": [
    "# alternative scorer"
   ]
  },
  {
   "cell_type": "code",
   "execution_count": 159,
   "metadata": {},
   "outputs": [
    {
     "data": {
      "application/vnd.jupyter.widget-view+json": {
       "model_id": "ee702b49390649d29999da3f953a9e12",
       "version_major": 2,
       "version_minor": 0
      },
      "text/html": [
       "<p>Failed to display Jupyter Widget of type <code>HBox</code>.</p>\n",
       "<p>\n",
       "  If you're reading this message in Jupyter Notebook or JupyterLab, it may mean\n",
       "  that the widgets JavaScript is still loading. If this message persists, it\n",
       "  likely means that the widgets JavaScript library is either not installed or\n",
       "  not enabled. See the <a href=\"https://ipywidgets.readthedocs.io/en/stable/user_install.html\">Jupyter\n",
       "  Widgets Documentation</a> for setup instructions.\n",
       "</p>\n",
       "<p>\n",
       "  If you're reading this message in another notebook frontend (for example, a static\n",
       "  rendering on GitHub or <a href=\"https://nbviewer.jupyter.org/\">NBViewer</a>),\n",
       "  it may mean that your frontend doesn't currently support widgets.\n",
       "</p>\n"
      ],
      "text/plain": [
       "HBox(children=(IntProgress(value=0, max=116825), HTML(value='')))"
      ]
     },
     "metadata": {},
     "output_type": "display_data"
    },
    {
     "name": "stdout",
     "output_type": "stream",
     "text": [
      "epoch_num:  0\n"
     ]
    },
    {
     "name": "stderr",
     "output_type": "stream",
     "text": [
      "/home/fogside/virtualenvs/py3/lib/python3.6/site-packages/ipykernel_launcher.py:35: DeprecationWarning: This function is deprecated. Please call randint(0, 202435 + 1) instead\n"
     ]
    },
    {
     "name": "stdout",
     "output_type": "stream",
     "text": [
      "\n"
     ]
    },
    {
     "data": {
      "application/vnd.jupyter.widget-view+json": {
       "model_id": "eb69c387a23d49dc97223edd183e7330",
       "version_major": 2,
       "version_minor": 0
      },
      "text/html": [
       "<p>Failed to display Jupyter Widget of type <code>HBox</code>.</p>\n",
       "<p>\n",
       "  If you're reading this message in Jupyter Notebook or JupyterLab, it may mean\n",
       "  that the widgets JavaScript is still loading. If this message persists, it\n",
       "  likely means that the widgets JavaScript library is either not installed or\n",
       "  not enabled. See the <a href=\"https://ipywidgets.readthedocs.io/en/stable/user_install.html\">Jupyter\n",
       "  Widgets Documentation</a> for setup instructions.\n",
       "</p>\n",
       "<p>\n",
       "  If you're reading this message in another notebook frontend (for example, a static\n",
       "  rendering on GitHub or <a href=\"https://nbviewer.jupyter.org/\">NBViewer</a>),\n",
       "  it may mean that your frontend doesn't currently support widgets.\n",
       "</p>\n"
      ],
      "text/plain": [
       "HBox(children=(IntProgress(value=0, max=138), HTML(value='')))"
      ]
     },
     "metadata": {},
     "output_type": "display_data"
    },
    {
     "name": "stdout",
     "output_type": "stream",
     "text": [
      "\n"
     ]
    },
    {
     "data": {
      "application/vnd.jupyter.widget-view+json": {
       "model_id": "733fa5b5029a4eaab8bfa4666971306e",
       "version_major": 2,
       "version_minor": 0
      },
      "text/html": [
       "<p>Failed to display Jupyter Widget of type <code>HBox</code>.</p>\n",
       "<p>\n",
       "  If you're reading this message in Jupyter Notebook or JupyterLab, it may mean\n",
       "  that the widgets JavaScript is still loading. If this message persists, it\n",
       "  likely means that the widgets JavaScript library is either not installed or\n",
       "  not enabled. See the <a href=\"https://ipywidgets.readthedocs.io/en/stable/user_install.html\">Jupyter\n",
       "  Widgets Documentation</a> for setup instructions.\n",
       "</p>\n",
       "<p>\n",
       "  If you're reading this message in another notebook frontend (for example, a static\n",
       "  rendering on GitHub or <a href=\"https://nbviewer.jupyter.org/\">NBViewer</a>),\n",
       "  it may mean that your frontend doesn't currently support widgets.\n",
       "</p>\n"
      ],
      "text/plain": [
       "HBox(children=(IntProgress(value=0, max=30192), HTML(value='')))"
      ]
     },
     "metadata": {},
     "output_type": "display_data"
    },
    {
     "name": "stdout",
     "output_type": "stream",
     "text": [
      "epoch_num:  0\n",
      "\n"
     ]
    },
    {
     "data": {
      "application/vnd.jupyter.widget-view+json": {
       "model_id": "84c9821975e24cae80e728d843b4090b",
       "version_major": 2,
       "version_minor": 0
      },
      "text/html": [
       "<p>Failed to display Jupyter Widget of type <code>HBox</code>.</p>\n",
       "<p>\n",
       "  If you're reading this message in Jupyter Notebook or JupyterLab, it may mean\n",
       "  that the widgets JavaScript is still loading. If this message persists, it\n",
       "  likely means that the widgets JavaScript library is either not installed or\n",
       "  not enabled. See the <a href=\"https://ipywidgets.readthedocs.io/en/stable/user_install.html\">Jupyter\n",
       "  Widgets Documentation</a> for setup instructions.\n",
       "</p>\n",
       "<p>\n",
       "  If you're reading this message in another notebook frontend (for example, a static\n",
       "  rendering on GitHub or <a href=\"https://nbviewer.jupyter.org/\">NBViewer</a>),\n",
       "  it may mean that your frontend doesn't currently support widgets.\n",
       "</p>\n"
      ],
      "text/plain": [
       "HBox(children=(IntProgress(value=0, max=110), HTML(value='')))"
      ]
     },
     "metadata": {},
     "output_type": "display_data"
    },
    {
     "name": "stdout",
     "output_type": "stream",
     "text": [
      "\n"
     ]
    },
    {
     "data": {
      "application/vnd.jupyter.widget-view+json": {
       "model_id": "621cfb52f4c440fd93defb7a72527d41",
       "version_major": 2,
       "version_minor": 0
      },
      "text/html": [
       "<p>Failed to display Jupyter Widget of type <code>HBox</code>.</p>\n",
       "<p>\n",
       "  If you're reading this message in Jupyter Notebook or JupyterLab, it may mean\n",
       "  that the widgets JavaScript is still loading. If this message persists, it\n",
       "  likely means that the widgets JavaScript library is either not installed or\n",
       "  not enabled. See the <a href=\"https://ipywidgets.readthedocs.io/en/stable/user_install.html\">Jupyter\n",
       "  Widgets Documentation</a> for setup instructions.\n",
       "</p>\n",
       "<p>\n",
       "  If you're reading this message in another notebook frontend (for example, a static\n",
       "  rendering on GitHub or <a href=\"https://nbviewer.jupyter.org/\">NBViewer</a>),\n",
       "  it may mean that your frontend doesn't currently support widgets.\n",
       "</p>\n"
      ],
      "text/plain": [
       "HBox(children=(IntProgress(value=0, max=54677), HTML(value='')))"
      ]
     },
     "metadata": {},
     "output_type": "display_data"
    },
    {
     "name": "stdout",
     "output_type": "stream",
     "text": [
      "epoch_num:  0\n",
      "\n"
     ]
    },
    {
     "data": {
      "application/vnd.jupyter.widget-view+json": {
       "model_id": "dcd60707602d47a19ccf3f6b676f29bc",
       "version_major": 2,
       "version_minor": 0
      },
      "text/html": [
       "<p>Failed to display Jupyter Widget of type <code>HBox</code>.</p>\n",
       "<p>\n",
       "  If you're reading this message in Jupyter Notebook or JupyterLab, it may mean\n",
       "  that the widgets JavaScript is still loading. If this message persists, it\n",
       "  likely means that the widgets JavaScript library is either not installed or\n",
       "  not enabled. See the <a href=\"https://ipywidgets.readthedocs.io/en/stable/user_install.html\">Jupyter\n",
       "  Widgets Documentation</a> for setup instructions.\n",
       "</p>\n",
       "<p>\n",
       "  If you're reading this message in another notebook frontend (for example, a static\n",
       "  rendering on GitHub or <a href=\"https://nbviewer.jupyter.org/\">NBViewer</a>),\n",
       "  it may mean that your frontend doesn't currently support widgets.\n",
       "</p>\n"
      ],
      "text/plain": [
       "HBox(children=(IntProgress(value=0, max=135), HTML(value='')))"
      ]
     },
     "metadata": {},
     "output_type": "display_data"
    },
    {
     "name": "stdout",
     "output_type": "stream",
     "text": [
      "\n"
     ]
    },
    {
     "data": {
      "application/vnd.jupyter.widget-view+json": {
       "model_id": "b92ae43ba8eb42028008cd863ca47a33",
       "version_major": 2,
       "version_minor": 0
      },
      "text/html": [
       "<p>Failed to display Jupyter Widget of type <code>HBox</code>.</p>\n",
       "<p>\n",
       "  If you're reading this message in Jupyter Notebook or JupyterLab, it may mean\n",
       "  that the widgets JavaScript is still loading. If this message persists, it\n",
       "  likely means that the widgets JavaScript library is either not installed or\n",
       "  not enabled. See the <a href=\"https://ipywidgets.readthedocs.io/en/stable/user_install.html\">Jupyter\n",
       "  Widgets Documentation</a> for setup instructions.\n",
       "</p>\n",
       "<p>\n",
       "  If you're reading this message in another notebook frontend (for example, a static\n",
       "  rendering on GitHub or <a href=\"https://nbviewer.jupyter.org/\">NBViewer</a>),\n",
       "  it may mean that your frontend doesn't currently support widgets.\n",
       "</p>\n"
      ],
      "text/plain": [
       "HBox(children=(IntProgress(value=0, max=10177), HTML(value='')))"
      ]
     },
     "metadata": {},
     "output_type": "display_data"
    },
    {
     "name": "stdout",
     "output_type": "stream",
     "text": [
      "epoch_num:  0\n",
      "\n"
     ]
    },
    {
     "data": {
      "application/vnd.jupyter.widget-view+json": {
       "model_id": "cf7e3ddd45884c3b8f76a0ad482090f3",
       "version_major": 2,
       "version_minor": 0
      },
      "text/html": [
       "<p>Failed to display Jupyter Widget of type <code>HBox</code>.</p>\n",
       "<p>\n",
       "  If you're reading this message in Jupyter Notebook or JupyterLab, it may mean\n",
       "  that the widgets JavaScript is still loading. If this message persists, it\n",
       "  likely means that the widgets JavaScript library is either not installed or\n",
       "  not enabled. See the <a href=\"https://ipywidgets.readthedocs.io/en/stable/user_install.html\">Jupyter\n",
       "  Widgets Documentation</a> for setup instructions.\n",
       "</p>\n",
       "<p>\n",
       "  If you're reading this message in another notebook frontend (for example, a static\n",
       "  rendering on GitHub or <a href=\"https://nbviewer.jupyter.org/\">NBViewer</a>),\n",
       "  it may mean that your frontend doesn't currently support widgets.\n",
       "</p>\n"
      ],
      "text/plain": [
       "HBox(children=(IntProgress(value=0, max=56), HTML(value='')))"
      ]
     },
     "metadata": {},
     "output_type": "display_data"
    },
    {
     "name": "stdout",
     "output_type": "stream",
     "text": [
      "\n"
     ]
    }
   ],
   "source": [
    "import sklearn\n",
    "import os\n",
    "from sklearn.cluster import KMeans\n",
    "\n",
    "DATASET = \"../data/main/wiki-wiki/train.csv\"\n",
    "df = pd.read_csv(DATASET, sep='\\t')\n",
    "\n",
    "true = df.gold_sense_id\n",
    "attens = []\n",
    "labels = []\n",
    "nets = {}\n",
    "\n",
    "km = KMeans(n_clusters=3, random_state=23)\n",
    "\n",
    "wlist = []\n",
    "for w in df.word:\n",
    "    if w not in wlist:\n",
    "        wlist.append(w)\n",
    "\n",
    "for w in wlist:\n",
    "    \n",
    "    path = \"../data/my_data/{}_out.txt\".format(w)\n",
    "    if not os.path.exists(path):\n",
    "        make_dataset(word=w, window=10)\n",
    "    \n",
    "    \n",
    "    with open(path, 'r') as f:\n",
    "        lines = f.readlines()\n",
    "        \n",
    "    net = train_model(lines, word=\"\", cmp=3, lr=1e-2,\\\n",
    "                      epoch_num=1, n_context=-1, lr_decay=False, do_shuffle=False, lemmatize=False)\n",
    "    nets[w]=net\n",
    "    \n",
    "    pred_tmp = []\n",
    "    f = df[df.word == w].context.values    \n",
    "    batch_gen = generate_triplet_batch(f, context_max_len=10, word=\"\", lemmatize=True)\n",
    "\n",
    "    for b, _ in tqdm_notebook(batch_gen, total=len(f)):\n",
    "        if len(b) == 0:\n",
    "            b = np.random.randn(1, 100)\n",
    "        p = net.predict_on_sample(b)\n",
    "#         p = net.get_linear_combination(b)\n",
    "        pred_tmp.append(p)\n",
    "#     print(len(f), len(pred_tmp))\n",
    "    pred_tmp = np.array(pred_tmp).squeeze()\n",
    "#     print(len(pred_tmp))\n",
    "\n",
    "\n",
    "    k_pred = km.fit_predict(np.array(pred_tmp))\n",
    "#     k_pred = sk.fit_predict(pred_tmp)\n",
    "\n",
    "#     print(len(k_pred))\n",
    "    labels.extend(k_pred)\n",
    "    attens.append(pred_tmp)\n",
    "    \n",
    "attens = np.array(attens).squeeze()\n",
    "df.predict_sense_id = labels"
   ]
  },
  {
   "cell_type": "code",
   "execution_count": 160,
   "metadata": {},
   "outputs": [
    {
     "name": "stdout",
     "output_type": "stream",
     "text": [
      "word\tari\tcount\n",
      "бор\t0.193154\t56\n",
      "замок\t0.070542\t138\n",
      "лук\t0.385328\t110\n",
      "суда\t0.496190\t135\n",
      "\t0.295953\t439\n"
     ]
    }
   ],
   "source": [
    "evaluate_weighted_ari(\"../data/main/wiki-wiki/train.csv\", labels)"
   ]
  },
  {
   "cell_type": "code",
   "execution_count": 157,
   "metadata": {},
   "outputs": [
    {
     "name": "stdout",
     "output_type": "stream",
     "text": [
      "word\tari\tcount\n",
      "бор\t0.316384\t56\n",
      "замок\t0.071108\t138\n",
      "лук\t0.695929\t110\n",
      "суда\t0.938423\t135\n",
      "\t0.525671\t439\n"
     ]
    }
   ],
   "source": [
    "evaluate_weighted_ari(\"../data/main/wiki-wiki/train.csv\", labels)"
   ]
  },
  {
   "cell_type": "code",
   "execution_count": 165,
   "metadata": {},
   "outputs": [
    {
     "data": {
      "application/vnd.jupyter.widget-view+json": {
       "model_id": "87b41fa97e1c449c8947360485560d3e",
       "version_major": 2,
       "version_minor": 0
      },
      "text/html": [
       "<p>Failed to display Jupyter Widget of type <code>HBox</code>.</p>\n",
       "<p>\n",
       "  If you're reading this message in Jupyter Notebook or JupyterLab, it may mean\n",
       "  that the widgets JavaScript is still loading. If this message persists, it\n",
       "  likely means that the widgets JavaScript library is either not installed or\n",
       "  not enabled. See the <a href=\"https://ipywidgets.readthedocs.io/en/stable/user_install.html\">Jupyter\n",
       "  Widgets Documentation</a> for setup instructions.\n",
       "</p>\n",
       "<p>\n",
       "  If you're reading this message in another notebook frontend (for example, a static\n",
       "  rendering on GitHub or <a href=\"https://nbviewer.jupyter.org/\">NBViewer</a>),\n",
       "  it may mean that your frontend doesn't currently support widgets.\n",
       "</p>\n"
      ],
      "text/plain": [
       "HBox(children=(IntProgress(value=0, max=138), HTML(value='')))"
      ]
     },
     "metadata": {},
     "output_type": "display_data"
    },
    {
     "name": "stderr",
     "output_type": "stream",
     "text": [
      "/home/fogside/virtualenvs/py3/lib/python3.6/site-packages/ipykernel_launcher.py:35: DeprecationWarning: This function is deprecated. Please call randint(0, 202435 + 1) instead\n"
     ]
    },
    {
     "name": "stdout",
     "output_type": "stream",
     "text": [
      "\n"
     ]
    },
    {
     "data": {
      "image/png": "[encoded data removed]",
      "text/plain": [
       "<matplotlib.figure.Figure at 0x7ef8fbd318d0>"
      ]
     },
     "metadata": {},
     "output_type": "display_data"
    },
    {
     "data": {
      "image/png": "[encoded data removed]",
      "text/plain": [
       "<matplotlib.figure.Figure at 0x7ef8846c0ac8>"
      ]
     },
     "metadata": {},
     "output_type": "display_data"
    },
    {
     "name": "stdout",
     "output_type": "stream",
     "text": [
      "----------\n"
     ]
    },
    {
     "data": {
      "application/vnd.jupyter.widget-view+json": {
       "model_id": "2e1a1ee46be9419cb5bc6622556d05c5",
       "version_major": 2,
       "version_minor": 0
      },
      "text/html": [
       "<p>Failed to display Jupyter Widget of type <code>HBox</code>.</p>\n",
       "<p>\n",
       "  If you're reading this message in Jupyter Notebook or JupyterLab, it may mean\n",
       "  that the widgets JavaScript is still loading. If this message persists, it\n",
       "  likely means that the widgets JavaScript library is either not installed or\n",
       "  not enabled. See the <a href=\"https://ipywidgets.readthedocs.io/en/stable/user_install.html\">Jupyter\n",
       "  Widgets Documentation</a> for setup instructions.\n",
       "</p>\n",
       "<p>\n",
       "  If you're reading this message in another notebook frontend (for example, a static\n",
       "  rendering on GitHub or <a href=\"https://nbviewer.jupyter.org/\">NBViewer</a>),\n",
       "  it may mean that your frontend doesn't currently support widgets.\n",
       "</p>\n"
      ],
      "text/plain": [
       "HBox(children=(IntProgress(value=0, max=110), HTML(value='')))"
      ]
     },
     "metadata": {},
     "output_type": "display_data"
    },
    {
     "name": "stdout",
     "output_type": "stream",
     "text": [
      "\n"
     ]
    },
    {
     "data": {
      "image/png": "[encoded data removed]",
      "text/plain": [
       "<matplotlib.figure.Figure at 0x7efbc04bcda0>"
      ]
     },
     "metadata": {},
     "output_type": "display_data"
    },
    {
     "data": {
      "image/png": "[encoded data removed]",
      "text/plain": [
       "<matplotlib.figure.Figure at 0x7ef8448b5978>"
      ]
     },
     "metadata": {},
     "output_type": "display_data"
    },
    {
     "name": "stdout",
     "output_type": "stream",
     "text": [
      "----------\n"
     ]
    },
    {
     "data": {
      "application/vnd.jupyter.widget-view+json": {
       "model_id": "f596e30dfc7f4a6ab77daa342d82f0e2",
       "version_major": 2,
       "version_minor": 0
      },
      "text/html": [
       "<p>Failed to display Jupyter Widget of type <code>HBox</code>.</p>\n",
       "<p>\n",
       "  If you're reading this message in Jupyter Notebook or JupyterLab, it may mean\n",
       "  that the widgets JavaScript is still loading. If this message persists, it\n",
       "  likely means that the widgets JavaScript library is either not installed or\n",
       "  not enabled. See the <a href=\"https://ipywidgets.readthedocs.io/en/stable/user_install.html\">Jupyter\n",
       "  Widgets Documentation</a> for setup instructions.\n",
       "</p>\n",
       "<p>\n",
       "  If you're reading this message in another notebook frontend (for example, a static\n",
       "  rendering on GitHub or <a href=\"https://nbviewer.jupyter.org/\">NBViewer</a>),\n",
       "  it may mean that your frontend doesn't currently support widgets.\n",
       "</p>\n"
      ],
      "text/plain": [
       "HBox(children=(IntProgress(value=0, max=135), HTML(value='')))"
      ]
     },
     "metadata": {},
     "output_type": "display_data"
    },
    {
     "name": "stdout",
     "output_type": "stream",
     "text": [
      "\n"
     ]
    },
    {
     "data": {
      "image/png": "[encoded data removed]",
      "text/plain": [
       "<matplotlib.figure.Figure at 0x7ef8fab45780>"
      ]
     },
     "metadata": {},
     "output_type": "display_data"
    },
    {
     "data": {
      "image/png": "[encoded data removed]",
      "text/plain": [
       "<matplotlib.figure.Figure at 0x7ef90048cf60>"
      ]
     },
     "metadata": {},
     "output_type": "display_data"
    },
    {
     "name": "stdout",
     "output_type": "stream",
     "text": [
      "----------\n"
     ]
    },
    {
     "data": {
      "application/vnd.jupyter.widget-view+json": {
       "model_id": "1d53ebcfe84c414a959c294b0a590d66",
       "version_major": 2,
       "version_minor": 0
      },
      "text/html": [
       "<p>Failed to display Jupyter Widget of type <code>HBox</code>.</p>\n",
       "<p>\n",
       "  If you're reading this message in Jupyter Notebook or JupyterLab, it may mean\n",
       "  that the widgets JavaScript is still loading. If this message persists, it\n",
       "  likely means that the widgets JavaScript library is either not installed or\n",
       "  not enabled. See the <a href=\"https://ipywidgets.readthedocs.io/en/stable/user_install.html\">Jupyter\n",
       "  Widgets Documentation</a> for setup instructions.\n",
       "</p>\n",
       "<p>\n",
       "  If you're reading this message in another notebook frontend (for example, a static\n",
       "  rendering on GitHub or <a href=\"https://nbviewer.jupyter.org/\">NBViewer</a>),\n",
       "  it may mean that your frontend doesn't currently support widgets.\n",
       "</p>\n"
      ],
      "text/plain": [
       "HBox(children=(IntProgress(value=0, max=56), HTML(value='')))"
      ]
     },
     "metadata": {},
     "output_type": "display_data"
    },
    {
     "name": "stdout",
     "output_type": "stream",
     "text": [
      "\n"
     ]
    },
    {
     "data": {
      "image/png": "[encoded data removed]",
      "text/plain": [
       "<matplotlib.figure.Figure at 0x7efbc0539be0>"
      ]
     },
     "metadata": {},
     "output_type": "display_data"
    },
    {
     "data": {
      "image/png": "[encoded data removed]",
      "text/plain": [
       "<matplotlib.figure.Figure at 0x7efbd486da20>"
      ]
     },
     "metadata": {},
     "output_type": "display_data"
    },
    {
     "name": "stdout",
     "output_type": "stream",
     "text": [
      "----------\n"
     ]
    }
   ],
   "source": [
    "import sklearn\n",
    "from sklearn.cluster import KMeans\n",
    "df = pd.read_csv(\"../data/main/wiki-wiki/train.csv\", sep='\\t')\n",
    "\n",
    "labels = []\n",
    "\n",
    "for w in wlist:\n",
    "    net = nets[w]\n",
    "    true = df[df.word == w].gold_sense_id\n",
    "    f = df[df.word == w].context.values\n",
    "\n",
    "    attens = []\n",
    "    km = KMeans(n_clusters=2, random_state=23)\n",
    "\n",
    "    batch_gen = generate_triplet_batch(f, context_max_len=10, word=\"\", lemmatize=True)\n",
    "\n",
    "    for b, _ in tqdm_notebook(batch_gen, total=len(f)):\n",
    "    #     if len(b) == 0:\n",
    "    #         b = np.random.randn(1, 100)\n",
    "        p = net.predict_on_sample(b)\n",
    "        attens.append(p)\n",
    "\n",
    "    pred = np.array(attens).squeeze()\n",
    "    k_pred = km.fit_predict(pred)\n",
    "    \n",
    "    labels.extend(k_pred)\n",
    "    \n",
    "    plt.scatter(pred[:, 0], pred[:, 2], c=true, marker='o')\n",
    "    plt.title(\"Components 0,2\\nword={}\".format(w))\n",
    "    plt.show()\n",
    "    \n",
    "    plt.scatter(pred[:, 0], pred[:, 2], c=(k_pred+1)%2, marker='o')\n",
    "    plt.title(\"Components 0,2, KNN \\nword={}\".format(w))\n",
    "    plt.show()\n",
    "    print('-'*10)\n",
    "df.predict_sense_id = labels"
   ]
  },
  {
   "cell_type": "code",
   "execution_count": 164,
   "metadata": {},
   "outputs": [
    {
     "name": "stdout",
     "output_type": "stream",
     "text": [
      "word\tari\tcount\n",
      "бор\t0.239631\t56\n",
      "замок\t0.071108\t138\n",
      "лук\t0.696106\t110\n",
      "суда\t0.908616\t135\n",
      "\t0.506759\t439\n"
     ]
    }
   ],
   "source": [
    "evaluate_weighted_ari(\"../data/main/wiki-wiki/train.csv\", labels)"
   ]
  },
  {
   "cell_type": "code",
   "execution_count": 166,
   "metadata": {},
   "outputs": [
    {
     "name": "stdout",
     "output_type": "stream",
     "text": [
      "word\tari\tcount\n",
      "бор\t0.239631\t56\n",
      "замок\t0.071108\t138\n",
      "лук\t0.696106\t110\n",
      "суда\t0.908616\t135\n",
      "\t0.506759\t439\n"
     ]
    }
   ],
   "source": [
    "evaluate_weighted_ari(\"../data/main/wiki-wiki/train.csv\", labels)"
   ]
  },
  {
   "cell_type": "code",
   "execution_count": null,
   "metadata": {},
   "outputs": [],
   "source": []
  },
  {
   "cell_type": "code",
   "execution_count": null,
   "metadata": {},
   "outputs": [],
   "source": []
  },
  {
   "cell_type": "code",
   "execution_count": null,
   "metadata": {},
   "outputs": [],
   "source": []
  },
  {
   "cell_type": "code",
   "execution_count": null,
   "metadata": {},
   "outputs": [],
   "source": []
  },
  {
   "cell_type": "code",
   "execution_count": null,
   "metadata": {},
   "outputs": [],
   "source": []
  },
  {
   "cell_type": "code",
   "execution_count": null,
   "metadata": {},
   "outputs": [],
   "source": []
  },
  {
   "cell_type": "code",
   "execution_count": null,
   "metadata": {},
   "outputs": [],
   "source": []
  },
  {
   "cell_type": "markdown",
   "metadata": {},
   "source": [
    "# Visualize"
   ]
  },
  {
   "cell_type": "markdown",
   "metadata": {},
   "source": [
    "### Sense vectors:"
   ]
  },
  {
   "cell_type": "code",
   "execution_count": 87,
   "metadata": {},
   "outputs": [
    {
     "data": {
      "text/plain": [
       "(3, 100)"
      ]
     },
     "execution_count": 87,
     "metadata": {},
     "output_type": "execute_result"
    }
   ],
   "source": [
    "vecs = net.sess.run(net.sense_comps)\n",
    "vecs.shape"
   ]
  },
  {
   "cell_type": "code",
   "execution_count": 88,
   "metadata": {},
   "outputs": [
    {
     "data": {
      "image/png": "[encoded data removed]",
      "text/plain": [
       "<matplotlib.figure.Figure at 0x7efbc06e8470>"
      ]
     },
     "metadata": {},
     "output_type": "display_data"
    }
   ],
   "source": [
    "plt.plot(vecs[0])\n",
    "plt.plot(vecs[1])\n",
    "plt.plot(vecs[2])\n",
    "\n",
    "# plt.plot(wv['замок']/wv['замок'].std(), label='замок')\n",
    "# plt.legend()\n",
    "plt.show()"
   ]
  },
  {
   "cell_type": "markdown",
   "metadata": {},
   "source": [
    "### Attention:"
   ]
  },
  {
   "cell_type": "code",
   "execution_count": 90,
   "metadata": {},
   "outputs": [
    {
     "data": {
      "image/png": "[encoded data removed]",
      "text/plain": [
       "<matplotlib.figure.Figure at 0x7efba42849b0>"
      ]
     },
     "metadata": {},
     "output_type": "display_data"
    }
   ],
   "source": [
    "plt.plot(attens, alpha=0.6)\n",
    "plt.show()"
   ]
  },
  {
   "cell_type": "markdown",
   "metadata": {},
   "source": [
    "### Losses:"
   ]
  },
  {
   "cell_type": "code",
   "execution_count": 82,
   "metadata": {},
   "outputs": [],
   "source": [
    "def window_average(arr, w_len=10):\n",
    "    return [np.mean(i) for i in np.split(arr, w_len,)]"
   ]
  },
  {
   "cell_type": "code",
   "execution_count": 390,
   "metadata": {},
   "outputs": [
    {
     "data": {
      "image/png": "[encoded data removed]",
      "text/plain": [
       "<matplotlib.figure.Figure at 0x7ff066373dd8>"
      ]
     },
     "metadata": {},
     "output_type": "display_data"
    }
   ],
   "source": [
    "plt.plot(np.array(losses[:600]).squeeze())\n",
    "plt.show()"
   ]
  },
  {
   "cell_type": "code",
   "execution_count": 288,
   "metadata": {},
   "outputs": [
    {
     "ename": "ValueError",
     "evalue": "array split does not result in an equal division",
     "output_type": "error",
     "traceback": [
      "\u001b[0;31m---------------------------------------------------------------------------\u001b[0m",
      "\u001b[0;31mTypeError\u001b[0m                                 Traceback (most recent call last)",
      "\u001b[0;32m~/virtens/py3/lib/python3.6/site-packages/numpy/lib/shape_base.py\u001b[0m in \u001b[0;36msplit\u001b[0;34m(ary, indices_or_sections, axis)\u001b[0m\n\u001b[1;32m    552\u001b[0m     \u001b[0;32mtry\u001b[0m\u001b[0;34m:\u001b[0m\u001b[0;34m\u001b[0m\u001b[0m\n\u001b[0;32m--> 553\u001b[0;31m         \u001b[0mlen\u001b[0m\u001b[0;34m(\u001b[0m\u001b[0mindices_or_sections\u001b[0m\u001b[0;34m)\u001b[0m\u001b[0;34m\u001b[0m\u001b[0m\n\u001b[0m\u001b[1;32m    554\u001b[0m     \u001b[0;32mexcept\u001b[0m \u001b[0mTypeError\u001b[0m\u001b[0;34m:\u001b[0m\u001b[0;34m\u001b[0m\u001b[0m\n",
      "\u001b[0;31mTypeError\u001b[0m: object of type 'int' has no len()",
      "\nDuring handling of the above exception, another exception occurred:\n",
      "\u001b[0;31mValueError\u001b[0m                                Traceback (most recent call last)",
      "\u001b[0;32m<ipython-input-288-78a0430b7085>\u001b[0m in \u001b[0;36m<module>\u001b[0;34m()\u001b[0m\n\u001b[1;32m      1\u001b[0m \u001b[0mkek\u001b[0m \u001b[0;34m=\u001b[0m \u001b[0mnp\u001b[0m\u001b[0;34m.\u001b[0m\u001b[0marray\u001b[0m\u001b[0;34m(\u001b[0m\u001b[0mlosses\u001b[0m\u001b[0;34m)\u001b[0m\u001b[0;34m.\u001b[0m\u001b[0msqueeze\u001b[0m\u001b[0;34m(\u001b[0m\u001b[0;34m)\u001b[0m\u001b[0;34m\u001b[0m\u001b[0m\n\u001b[0;32m----> 2\u001b[0;31m \u001b[0mlol\u001b[0m \u001b[0;34m=\u001b[0m \u001b[0mwindow_average\u001b[0m\u001b[0;34m(\u001b[0m\u001b[0mkek\u001b[0m\u001b[0;34m,\u001b[0m \u001b[0;36m26\u001b[0m\u001b[0;34m)\u001b[0m\u001b[0;34m\u001b[0m\u001b[0m\n\u001b[0m\u001b[1;32m      3\u001b[0m \u001b[0mplt\u001b[0m\u001b[0;34m.\u001b[0m\u001b[0mplot\u001b[0m\u001b[0;34m(\u001b[0m\u001b[0mlol\u001b[0m\u001b[0;34m)\u001b[0m\u001b[0;34m\u001b[0m\u001b[0m\n\u001b[1;32m      4\u001b[0m \u001b[0mplt\u001b[0m\u001b[0;34m.\u001b[0m\u001b[0mshow\u001b[0m\u001b[0;34m(\u001b[0m\u001b[0;34m)\u001b[0m\u001b[0;34m\u001b[0m\u001b[0m\n",
      "\u001b[0;32m<ipython-input-82-b975fd42351c>\u001b[0m in \u001b[0;36mwindow_average\u001b[0;34m(arr, w_len)\u001b[0m\n\u001b[1;32m      1\u001b[0m \u001b[0;32mdef\u001b[0m \u001b[0mwindow_average\u001b[0m\u001b[0;34m(\u001b[0m\u001b[0marr\u001b[0m\u001b[0;34m,\u001b[0m \u001b[0mw_len\u001b[0m\u001b[0;34m=\u001b[0m\u001b[0;36m10\u001b[0m\u001b[0;34m)\u001b[0m\u001b[0;34m:\u001b[0m\u001b[0;34m\u001b[0m\u001b[0m\n\u001b[0;32m----> 2\u001b[0;31m     \u001b[0;32mreturn\u001b[0m \u001b[0;34m[\u001b[0m\u001b[0mnp\u001b[0m\u001b[0;34m.\u001b[0m\u001b[0mmean\u001b[0m\u001b[0;34m(\u001b[0m\u001b[0mi\u001b[0m\u001b[0;34m)\u001b[0m \u001b[0;32mfor\u001b[0m \u001b[0mi\u001b[0m \u001b[0;32min\u001b[0m \u001b[0mnp\u001b[0m\u001b[0;34m.\u001b[0m\u001b[0msplit\u001b[0m\u001b[0;34m(\u001b[0m\u001b[0marr\u001b[0m\u001b[0;34m,\u001b[0m \u001b[0mw_len\u001b[0m\u001b[0;34m,\u001b[0m\u001b[0;34m)\u001b[0m\u001b[0;34m]\u001b[0m\u001b[0;34m\u001b[0m\u001b[0m\n\u001b[0m",
      "\u001b[0;32m~/virtens/py3/lib/python3.6/site-packages/numpy/lib/shape_base.py\u001b[0m in \u001b[0;36msplit\u001b[0;34m(ary, indices_or_sections, axis)\u001b[0m\n\u001b[1;32m    557\u001b[0m         \u001b[0;32mif\u001b[0m \u001b[0mN\u001b[0m \u001b[0;34m%\u001b[0m \u001b[0msections\u001b[0m\u001b[0;34m:\u001b[0m\u001b[0;34m\u001b[0m\u001b[0m\n\u001b[1;32m    558\u001b[0m             raise ValueError(\n\u001b[0;32m--> 559\u001b[0;31m                 'array split does not result in an equal division')\n\u001b[0m\u001b[1;32m    560\u001b[0m     \u001b[0mres\u001b[0m \u001b[0;34m=\u001b[0m \u001b[0marray_split\u001b[0m\u001b[0;34m(\u001b[0m\u001b[0mary\u001b[0m\u001b[0;34m,\u001b[0m \u001b[0mindices_or_sections\u001b[0m\u001b[0;34m,\u001b[0m \u001b[0maxis\u001b[0m\u001b[0;34m)\u001b[0m\u001b[0;34m\u001b[0m\u001b[0m\n\u001b[1;32m    561\u001b[0m     \u001b[0;32mreturn\u001b[0m \u001b[0mres\u001b[0m\u001b[0;34m\u001b[0m\u001b[0m\n",
      "\u001b[0;31mValueError\u001b[0m: array split does not result in an equal division"
     ]
    }
   ],
   "source": [
    "kek = np.array(losses).squeeze()\n",
    "lol = window_average(kek, 26)\n",
    "plt.plot(lol)\n",
    "plt.show()"
   ]
  },
  {
   "cell_type": "markdown",
   "metadata": {},
   "source": [
    "### Word similarity"
   ]
  },
  {
   "cell_type": "code",
   "execution_count": 91,
   "metadata": {},
   "outputs": [],
   "source": [
    "vecs = net.sess.run(net.sense_comps)"
   ]
  },
  {
   "cell_type": "code",
   "execution_count": 93,
   "metadata": {},
   "outputs": [
    {
     "ename": "ValueError",
     "evalue": "operands could not be broadcast together with shapes (3,100) (3,) ",
     "output_type": "error",
     "traceback": [
      "\u001b[0;31m---------------------------------------------------------------------------\u001b[0m",
      "\u001b[0;31mValueError\u001b[0m                                Traceback (most recent call last)",
      "\u001b[0;32m<ipython-input-93-08a498a08515>\u001b[0m in \u001b[0;36m<module>\u001b[0;34m()\u001b[0m\n\u001b[0;32m----> 1\u001b[0;31m \u001b[0mv\u001b[0m \u001b[0;34m=\u001b[0m \u001b[0mnp\u001b[0m\u001b[0;34m.\u001b[0m\u001b[0msum\u001b[0m\u001b[0;34m(\u001b[0m\u001b[0mvecs\u001b[0m \u001b[0;34m*\u001b[0m \u001b[0mattens\u001b[0m\u001b[0;34m[\u001b[0m\u001b[0;34m-\u001b[0m\u001b[0;36m1\u001b[0m\u001b[0;34m]\u001b[0m\u001b[0;34m,\u001b[0m \u001b[0;36m0\u001b[0m\u001b[0;34m)\u001b[0m\u001b[0;34m\u001b[0m\u001b[0m\n\u001b[0m\u001b[1;32m      2\u001b[0m \u001b[0;31m# v = vecs[2]\u001b[0m\u001b[0;34m\u001b[0m\u001b[0;34m\u001b[0m\u001b[0m\n\u001b[1;32m      3\u001b[0m \u001b[0mz\u001b[0m \u001b[0;34m=\u001b[0m \u001b[0mwv\u001b[0m\u001b[0;34m[\u001b[0m\u001b[0;34m'замок'\u001b[0m\u001b[0;34m]\u001b[0m\u001b[0;34m\u001b[0m\u001b[0m\n\u001b[1;32m      4\u001b[0m \u001b[0;34m\u001b[0m\u001b[0m\n\u001b[1;32m      5\u001b[0m \u001b[0mprint\u001b[0m\u001b[0;34m(\u001b[0m\u001b[0mnp\u001b[0m\u001b[0;34m.\u001b[0m\u001b[0mdot\u001b[0m\u001b[0;34m(\u001b[0m\u001b[0mv\u001b[0m\u001b[0;34m,\u001b[0m \u001b[0mz\u001b[0m\u001b[0;34m)\u001b[0m \u001b[0;34m/\u001b[0m \u001b[0mnp\u001b[0m\u001b[0;34m.\u001b[0m\u001b[0mlinalg\u001b[0m\u001b[0;34m.\u001b[0m\u001b[0mnorm\u001b[0m\u001b[0;34m(\u001b[0m\u001b[0mv\u001b[0m\u001b[0;34m,\u001b[0m \u001b[0;36m2\u001b[0m\u001b[0;34m)\u001b[0m \u001b[0;34m/\u001b[0m \u001b[0mnp\u001b[0m\u001b[0;34m.\u001b[0m\u001b[0mlinalg\u001b[0m\u001b[0;34m.\u001b[0m\u001b[0mnorm\u001b[0m\u001b[0;34m(\u001b[0m\u001b[0mz\u001b[0m\u001b[0;34m,\u001b[0m \u001b[0;36m2\u001b[0m\u001b[0;34m)\u001b[0m \u001b[0;34m)\u001b[0m\u001b[0;34m\u001b[0m\u001b[0m\n",
      "\u001b[0;31mValueError\u001b[0m: operands could not be broadcast together with shapes (3,100) (3,) "
     ]
    }
   ],
   "source": [
    "v = np.sum(vecs * attens[-1], 0)\n",
    "# v = vecs[2]\n",
    "z = wv['замок']\n",
    "\n",
    "print(np.dot(v, z) / np.linalg.norm(v, 2) / np.linalg.norm(z, 2) )"
   ]
  },
  {
   "cell_type": "code",
   "execution_count": 94,
   "metadata": {},
   "outputs": [
    {
     "data": {
      "text/plain": [
       "[('шепнуть', 0.6100239157676697),\n",
       " ('извинять', 0.5982067584991455),\n",
       " ('пожалуйста', 0.5980291962623596),\n",
       " ('извиняться', 0.5934385061264038),\n",
       " ('прошенька', 0.5919817090034485),\n",
       " ('глупить', 0.5864459276199341),\n",
       " ('прикрикивать', 0.5857172012329102),\n",
       " ('секундочка', 0.5822108387947083),\n",
       " ('спохватываться', 0.5797414779663086),\n",
       " ('цыкнуть', 0.5787352919578552)]"
      ]
     },
     "execution_count": 94,
     "metadata": {},
     "output_type": "execute_result"
    }
   ],
   "source": [
    "wv.similar_by_vector(-vecs[2])"
   ]
  },
  {
   "cell_type": "code",
   "execution_count": 361,
   "metadata": {},
   "outputs": [
    {
     "data": {
      "text/plain": [
       "[('и', 0.9365314245223999),\n",
       " ('этот', 0.933408260345459),\n",
       " ('в', 0.9333837628364563),\n",
       " ('который', 0.9295867085456848),\n",
       " ('другой', 0.9287702441215515),\n",
       " ('тот', 0.9251302480697632),\n",
       " ('только', 0.9192702770233154),\n",
       " ('весь', 0.9190534353256226),\n",
       " ('время', 0.9141498804092407),\n",
       " ('один', 0.9134024381637573),\n",
       " ('однако', 0.9095531702041626),\n",
       " ('как', 0.9085384607315063),\n",
       " ('с', 0.9081577658653259),\n",
       " ('причем', 0.9075477719306946),\n",
       " ('же', 0.9050619602203369),\n",
       " ('из', 0.9038644433021545),\n",
       " ('самый', 0.902309775352478),\n",
       " ('уже', 0.9016097784042358),\n",
       " ('некоторый', 0.9008409976959229),\n",
       " ('они', 0.900243878364563),\n",
       " ('естественно', 0.9001370072364807),\n",
       " ('можно', 0.8993648886680603),\n",
       " ('а', 0.8974071741104126),\n",
       " ('наш', 0.8947985172271729),\n",
       " ('поскольку', 0.8947714567184448),\n",
       " ('даже', 0.8946974277496338),\n",
       " ('последний', 0.8945205211639404),\n",
       " ('еще', 0.8941351175308228),\n",
       " ('первый', 0.8937762975692749),\n",
       " ('или', 0.893467903137207)]"
      ]
     },
     "execution_count": 361,
     "metadata": {},
     "output_type": "execute_result"
    }
   ],
   "source": [
    "v = np.sum(vecs * atts[-1], 0)\n",
    "wv.similar_by_vector(v, 30)"
   ]
  },
  {
   "cell_type": "code",
   "execution_count": 95,
   "metadata": {},
   "outputs": [
    {
     "data": {
      "text/plain": [
       "[('хлющ', 0.4784129559993744),\n",
       " ('энглиха', 0.4371131956577301),\n",
       " ('нях', 0.43669968843460083),\n",
       " ('гшись', 0.42596563696861267),\n",
       " ('хлюпає', 0.4259449541568756),\n",
       " ('шлепанье', 0.4221239387989044),\n",
       " ('дверц', 0.42038294672966003),\n",
       " ('шнур', 0.41814011335372925),\n",
       " ('грюк', 0.4168435037136078),\n",
       " ('зюм', 0.41453447937965393),\n",
       " ('жалюзи', 0.40608343482017517),\n",
       " ('шарпнувся', 0.40592828392982483),\n",
       " ('жовтим', 0.40568166971206665),\n",
       " ('рвуч', 0.40306249260902405),\n",
       " ('заиндевевший', 0.4005613625049591),\n",
       " ('жгут', 0.40023913979530334),\n",
       " ('закраек', 0.39955735206604004),\n",
       " ('лочку', 0.39830848574638367),\n",
       " ('крутнувся', 0.39823293685913086),\n",
       " ('хвоя', 0.3972933888435364),\n",
       " ('суглоб', 0.39513203501701355),\n",
       " ('олз', 0.39407414197921753),\n",
       " ('чмоканье', 0.39316263794898987),\n",
       " ('заскрип', 0.392872154712677),\n",
       " ('ляск', 0.39285939931869507),\n",
       " ('шланг', 0.3924824893474579),\n",
       " ('льцями', 0.39183756709098816),\n",
       " ('перильце', 0.38869935274124146),\n",
       " ('шлеп', 0.38841941952705383),\n",
       " ('сенцы', 0.3878704309463501),\n",
       " ('рикигур', 0.3873696029186249),\n",
       " ('пнувся', 0.3872472643852234),\n",
       " ('чирк', 0.3869487941265106),\n",
       " ('нагнувся', 0.38613882660865784),\n",
       " ('зашлепать', 0.3857112526893616),\n",
       " ('абажур', 0.38546833395957947),\n",
       " ('пнулася', 0.38489723205566406),\n",
       " ('гутул', 0.38467881083488464),\n",
       " ('розчеп', 0.3838459253311157),\n",
       " ('зши', 0.38166579604148865)]"
      ]
     },
     "execution_count": 95,
     "metadata": {},
     "output_type": "execute_result"
    }
   ],
   "source": [
    "wv.similar_by_vector(vecs[0], 40)"
   ]
  },
  {
   "cell_type": "code",
   "execution_count": 96,
   "metadata": {},
   "outputs": [
    {
     "data": {
      "text/plain": [
       "[('злюб', 0.42474666237831116),\n",
       " ('пишучи', 0.4101361930370331),\n",
       " ('злюбу', 0.38018906116485596),\n",
       " ('шкодуй', 0.37640565633773804),\n",
       " ('нгв', 0.37390458583831787),\n",
       " ('єсмь', 0.3737161457538605),\n",
       " ('аргументи', 0.3717406988143921),\n",
       " ('пхе', 0.3709387183189392),\n",
       " ('онопра', 0.36380240321159363),\n",
       " ('аяп', 0.3626074194908142),\n",
       " ('їжте', 0.36251622438430786),\n",
       " ('мотиви', 0.36231786012649536),\n",
       " ('умн', 0.35953158140182495),\n",
       " ('нєт', 0.35839149355888367),\n",
       " ('хнув', 0.35810837149620056),\n",
       " ('шавкун', 0.3578227162361145),\n",
       " ('енгельгардт', 0.3571772277355194),\n",
       " ('поведенц', 0.35666772723197937),\n",
       " ('цяю', 0.3537575900554657),\n",
       " ('великодушн', 0.3509235382080078)]"
      ]
     },
     "execution_count": 96,
     "metadata": {},
     "output_type": "execute_result"
    }
   ],
   "source": [
    "wv.similar_by_vector(vecs[1], 20)"
   ]
  },
  {
   "cell_type": "code",
   "execution_count": 396,
   "metadata": {},
   "outputs": [
    {
     "data": {
      "text/plain": [
       "[('кодированный', 0.5629267692565918),\n",
       " ('передаваемый', 0.5241020917892456),\n",
       " ('биометрический', 0.5236515402793884),\n",
       " ('радиочастота', 0.5182679891586304),\n",
       " ('радиосистема', 0.515855073928833),\n",
       " ('коротковолновый', 0.5158207416534424),\n",
       " ('фоновый', 0.5154492855072021),\n",
       " ('мониторный', 0.5092576742172241),\n",
       " ('широкополосный', 0.5061536431312561),\n",
       " ('радиочастотный', 0.5050608515739441),\n",
       " ('передача', 0.5047511458396912),\n",
       " ('частота', 0.5045921802520752),\n",
       " ('диапазон', 0.5029609203338623),\n",
       " ('факсовый', 0.5029041767120361),\n",
       " ('скремблер', 0.5025793313980103),\n",
       " ('кодирование', 0.5024082660675049),\n",
       " ('радиообмен', 0.4997626543045044),\n",
       " ('спутниковый', 0.49775099754333496),\n",
       " ('распечатка', 0.49635058641433716),\n",
       " ('лингафонный', 0.49525463581085205)]"
      ]
     },
     "execution_count": 396,
     "metadata": {},
     "output_type": "execute_result"
    }
   ],
   "source": [
    "wv.similar_by_vector(vecs[2], 20)"
   ]
  },
  {
   "cell_type": "markdown",
   "metadata": {},
   "source": [
    "# Weighted similarities"
   ]
  },
  {
   "cell_type": "code",
   "execution_count": 151,
   "metadata": {},
   "outputs": [
    {
     "data": {
      "text/plain": [
       "[array([[0.59179115],\n",
       "        [0.40820885]], dtype=float32), array([[0.5793171 ],\n",
       "        [0.42068288]], dtype=float32), array([[0.5958263],\n",
       "        [0.4041736]], dtype=float32), array([[0.5720039 ],\n",
       "        [0.42799604]], dtype=float32), array([[0.6178629 ],\n",
       "        [0.38213718]], dtype=float32)]"
      ]
     },
     "execution_count": 151,
     "metadata": {},
     "output_type": "execute_result"
    }
   ],
   "source": [
    "p = atts[-5:]\n",
    "p"
   ]
  },
  {
   "cell_type": "code",
   "execution_count": 152,
   "metadata": {},
   "outputs": [
    {
     "name": "stdout",
     "output_type": "stream",
     "text": [
      "[[0.59179115]\n",
      " [0.40820885]]\n",
      "---\n",
      "[[0.5793171 ]\n",
      " [0.42068288]]\n",
      "---\n",
      "[[0.5958263]\n",
      " [0.4041736]]\n",
      "---\n",
      "[[0.5720039 ]\n",
      " [0.42799604]]\n",
      "---\n",
      "[[0.6178629 ]\n",
      " [0.38213718]]\n",
      "---\n"
     ]
    }
   ],
   "source": [
    "for p in atts[-5:]:\n",
    "    print(p)\n",
    "    print(\"---\")"
   ]
  },
  {
   "cell_type": "code",
   "execution_count": 118,
   "metadata": {},
   "outputs": [
    {
     "data": {
      "text/plain": [
       "(3, 100)"
      ]
     },
     "execution_count": 118,
     "metadata": {},
     "output_type": "execute_result"
    }
   ],
   "source": [
    "vecs.shape"
   ]
  },
  {
   "cell_type": "code",
   "execution_count": 119,
   "metadata": {},
   "outputs": [
    {
     "data": {
      "text/plain": [
       "(100,)"
      ]
     },
     "execution_count": 119,
     "metadata": {},
     "output_type": "execute_result"
    }
   ],
   "source": [
    "lol = np.sum(p*vecs, axis=0)\n",
    "lol.shape"
   ]
  },
  {
   "cell_type": "code",
   "execution_count": 116,
   "metadata": {},
   "outputs": [
    {
     "data": {
      "text/plain": [
       "[('от', 0.7358344197273254),\n",
       " ('который', 0.7354562282562256),\n",
       " ('из', 0.7353567481040955),\n",
       " ('как', 0.7331260442733765),\n",
       " ('один', 0.7306678891181946),\n",
       " ('во', 0.7306039333343506),\n",
       " ('со', 0.7302639484405518),\n",
       " ('самый', 0.7287554740905762),\n",
       " ('и', 0.7273545265197754),\n",
       " ('весь', 0.7255203723907471),\n",
       " ('когда', 0.7240930795669556),\n",
       " ('оно', 0.7240872383117676),\n",
       " ('в', 0.7235139012336731),\n",
       " ('тот', 0.7219510674476624),\n",
       " ('только', 0.7215321063995361),\n",
       " ('другой', 0.7211594581604004),\n",
       " ('оба', 0.7186580300331116),\n",
       " ('за', 0.7165206074714661),\n",
       " ('ни', 0.7142389416694641),\n",
       " ('перед', 0.7136077284812927),\n",
       " ('же', 0.7124976515769958),\n",
       " ('можно', 0.7106633186340332),\n",
       " ('место', 0.7095289826393127),\n",
       " ('так', 0.7073025703430176),\n",
       " ('треть', 0.7062292098999023),\n",
       " ('чем', 0.7061398029327393),\n",
       " ('мочь', 0.7058018445968628),\n",
       " ('большой', 0.705718457698822),\n",
       " ('то', 0.7053390145301819),\n",
       " ('нет', 0.7048940658569336),\n",
       " ('конец', 0.7036462426185608),\n",
       " ('раз', 0.7035396099090576),\n",
       " ('рано', 0.7030260562896729),\n",
       " ('видимый', 0.7024760246276855),\n",
       " ('точно', 0.7020991444587708),\n",
       " ('два', 0.7017590403556824),\n",
       " ('прежний', 0.7016382813453674),\n",
       " ('не', 0.7014889121055603),\n",
       " ('пока', 0.7009755373001099),\n",
       " ('до', 0.7005541324615479),\n",
       " ('этот', 0.6994566917419434),\n",
       " ('или', 0.6992218494415283),\n",
       " ('почти', 0.6991134881973267),\n",
       " ('полно', 0.6976580619812012),\n",
       " ('именно', 0.6967904567718506),\n",
       " ('мало', 0.6962965130805969),\n",
       " ('уже', 0.6956221461296082),\n",
       " ('малый', 0.6951566934585571),\n",
       " ('дом', 0.6951378583908081),\n",
       " ('должно', 0.6949352622032166),\n",
       " ('вести', 0.6940993666648865),\n",
       " ('при', 0.6938977241516113),\n",
       " ('они', 0.6936295032501221),\n",
       " ('скоро', 0.6935380697250366),\n",
       " ('но', 0.6933882832527161),\n",
       " ('тение', 0.6932574510574341),\n",
       " ('подобно', 0.6924213767051697),\n",
       " ('мера', 0.6922474503517151),\n",
       " ('становиться', 0.6921427845954895),\n",
       " ('быть', 0.6921009421348572),\n",
       " ('равно', 0.6919384598731995),\n",
       " ('первый', 0.6908263564109802),\n",
       " ('близкий', 0.6907045245170593),\n",
       " ('пора', 0.6902021169662476),\n",
       " ('несколько', 0.689561128616333),\n",
       " ('три', 0.6892837285995483),\n",
       " ('сторона', 0.6886903643608093),\n",
       " ('видимость', 0.688326895236969),\n",
       " ('единственный', 0.687126636505127),\n",
       " ('все', 0.6870630979537964),\n",
       " ('на', 0.6868330836296082),\n",
       " ('кой', 0.6864000558853149),\n",
       " ('находиться', 0.6858639717102051),\n",
       " ('теперь', 0.685144305229187),\n",
       " ('время', 0.6849406361579895),\n",
       " ('ненно', 0.6845790147781372),\n",
       " ('далеко', 0.6834226250648499),\n",
       " ('под', 0.6831038594245911),\n",
       " ('иной', 0.6830851435661316),\n",
       " ('настоящий', 0.6824858784675598),\n",
       " ('много', 0.6823500394821167),\n",
       " ('последний', 0.6822327375411987),\n",
       " ('видный', 0.6822219491004944),\n",
       " ('больший', 0.6810703277587891),\n",
       " ('зато', 0.6798011064529419),\n",
       " ('ко', 0.6797702312469482),\n",
       " ('предел', 0.6793391108512878),\n",
       " ('повой', 0.6790484189987183),\n",
       " ('тогда', 0.6789894700050354),\n",
       " ('половина', 0.6788953542709351),\n",
       " ('он', 0.678444504737854),\n",
       " ('однако', 0.6784023642539978),\n",
       " ('некогда', 0.6780563592910767),\n",
       " ('представлять', 0.6779862642288208),\n",
       " ('такой', 0.6778006553649902),\n",
       " ('ли', 0.6766599416732788),\n",
       " ('свой', 0.6762783527374268),\n",
       " ('оставлять', 0.675899863243103),\n",
       " ('где', 0.6753183603286743),\n",
       " ('нести', 0.6753092408180237),\n",
       " ('видеть', 0.6750809550285339),\n",
       " ('еще', 0.6750096082687378),\n",
       " ('должный', 0.6746727228164673),\n",
       " ('над', 0.6744165420532227),\n",
       " ('заменять', 0.6738995909690857),\n",
       " ('позволять', 0.6735419034957886),\n",
       " ('это', 0.6734220385551453),\n",
       " ('мир', 0.6718263626098633),\n",
       " ('что', 0.671444296836853),\n",
       " ('причем', 0.671198308467865),\n",
       " ('новый', 0.6710430979728699),\n",
       " ('открытый', 0.6697549819946289),\n",
       " ('кроме', 0.6694655418395996),\n",
       " ('ника', 0.6686489582061768),\n",
       " ('без', 0.6684916615486145),\n",
       " ('с', 0.6684117913246155),\n",
       " ('оставаться', 0.6679912805557251),\n",
       " ('прежде', 0.6677133440971375),\n",
       " ('там', 0.6670228242874146),\n",
       " ('окружаться', 0.6670150756835938),\n",
       " ('всего', 0.666570246219635),\n",
       " ('даже', 0.666375458240509),\n",
       " ('превращать', 0.6661748886108398),\n",
       " ('видно', 0.6660043597221375),\n",
       " ('напоминать', 0.6658045053482056),\n",
       " ('вероятно', 0.6652478575706482),\n",
       " ('поздно', 0.6647617220878601),\n",
       " ('здесь', 0.6642369031906128),\n",
       " ('прогоняться', 0.6641089916229248),\n",
       " ('появляться', 0.663322389125824),\n",
       " ('невозможный', 0.6632170677185059),\n",
       " ('огромный', 0.6632106304168701),\n",
       " ('обычный', 0.6631910800933838),\n",
       " ('крайний', 0.6631398797035217),\n",
       " ('оказываться', 0.6626222133636475),\n",
       " ('достаточно', 0.6623356342315674),\n",
       " ('перенный', 0.6622682213783264),\n",
       " ('середина', 0.6621137857437134),\n",
       " ('какой', 0.6619237661361694),\n",
       " ('довольно', 0.661776065826416),\n",
       " ('его', 0.6616397500038147),\n",
       " ('лишь', 0.6612867712974548),\n",
       " ('сам', 0.6612080335617065),\n",
       " ('трудно', 0.6610627174377441),\n",
       " ('казаться', 0.6609636545181274),\n",
       " ('через', 0.6601479649543762),\n",
       " ('прочий', 0.6600708365440369),\n",
       " ('наконец', 0.6600370407104492),\n",
       " ('к', 0.6591292023658752),\n",
       " ('момент', 0.658543050289154),\n",
       " ('куда', 0.658258855342865),\n",
       " ('загоняться', 0.6582033634185791),\n",
       " ('недавно', 0.6580009460449219),\n",
       " ('кон', 0.6580008268356323),\n",
       " ('заставлять', 0.6574084758758545),\n",
       " ('сильно', 0.6573441028594971),\n",
       " ('свет', 0.6567822694778442),\n",
       " ('направлять', 0.656645655632019),\n",
       " ('бы', 0.6566340327262878),\n",
       " ('окружать', 0.6563933491706848),\n",
       " ('миновать', 0.6563703417778015),\n",
       " ('возможно', 0.6563640236854553),\n",
       " ('гор', 0.6560022830963135),\n",
       " ('помин', 0.6559109091758728),\n",
       " ('для', 0.6557375192642212),\n",
       " ('тень', 0.6556345224380493),\n",
       " ('раскивать', 0.6554416418075562),\n",
       " ('второй', 0.6549814939498901),\n",
       " ('значительно', 0.6543468832969666),\n",
       " ('превращаться', 0.6537616848945618),\n",
       " ('никакой', 0.6537044048309326),\n",
       " ('мениться', 0.6534883379936218),\n",
       " ('некий', 0.6531419157981873),\n",
       " ('любой', 0.6527493596076965),\n",
       " ('а', 0.6527261734008789),\n",
       " ('меньший', 0.6526439189910889),\n",
       " ('ясно', 0.6522523760795593),\n",
       " ('бельный', 0.6519868969917297),\n",
       " ('часть', 0.6518938541412354),\n",
       " ('третий', 0.6517577171325684),\n",
       " ('остальной', 0.6516126394271851),\n",
       " ('естественно', 0.6515337228775024),\n",
       " ('проникать', 0.6511404514312744),\n",
       " ('сей', 0.6509009599685669),\n",
       " ('действительно', 0.650808572769165),\n",
       " ('пара', 0.6503552794456482),\n",
       " ('вместо', 0.6502334475517273),\n",
       " ('путь', 0.6499412655830383),\n",
       " ('рение', 0.6498150825500488),\n",
       " ('невозможно', 0.6497266292572021),\n",
       " ('следовать', 0.6493703126907349),\n",
       " ('целый', 0.6492582559585571),\n",
       " ('вот', 0.6489724516868591),\n",
       " ('касаться', 0.6487335562705994),\n",
       " ('мешать', 0.6487249135971069),\n",
       " ('начально', 0.6481939554214478),\n",
       " ('немой', 0.6481575965881348),\n",
       " ('образ', 0.6481133103370667),\n",
       " ('кладывать', 0.6481035351753235),\n",
       " ('стоять', 0.6480332612991333)]"
      ]
     },
     "execution_count": 116,
     "metadata": {},
     "output_type": "execute_result"
    }
   ],
   "source": [
    "wv.similar_by_vector(lol, 200)"
   ]
  },
  {
   "cell_type": "code",
   "execution_count": null,
   "metadata": {},
   "outputs": [],
   "source": []
  },
  {
   "cell_type": "code",
   "execution_count": null,
   "metadata": {},
   "outputs": [],
   "source": []
  },
  {
   "cell_type": "markdown",
   "metadata": {},
   "source": [
    "# Overfit"
   ]
  },
  {
   "cell_type": "code",
   "execution_count": 105,
   "metadata": {},
   "outputs": [],
   "source": [
    "class MultiCompOvertrain:\n",
    "    def __init__(self, emb_size, n_comp, margin):\n",
    "        self.pos = tf.placeholder(dtype=tf.float32, shape=[None, emb_size], name='pos_ph')\n",
    "#         self.neg = tf.placeholder(dtype=tf.float32, shape=[None, emb_size], name='neg_ph')\n",
    "        self.lr = tf.placeholder(dtype=tf.float32, shape=[], name='learning_rate_ph')\n",
    "\n",
    "        comp_init = np.random.randn(n_comp, emb_size) / np.sqrt(emb_size * n_comp)\n",
    "        self.sense_comps = tf.Variable(comp_init, dtype=tf.float32, name='senses')\n",
    "        \n",
    "        # Attention\n",
    "        mean_cont = tf.reduce_mean(self.pos, axis=0, keep_dims=True)\n",
    "        mean_cont = tf.nn.l2_normalize(mean_cont, 1)  # 1 x 100\n",
    "        \n",
    "        norm_sens = tf.nn.l2_normalize(self.sense_comps, 1) # n_comp x 100\n",
    "        \n",
    "        att = tf.reduce_sum(mean_cont * norm_sens, axis=1, keep_dims=True)\n",
    "        self.att = tf.nn.softmax(att, dim=0)\n",
    "        word_emb = tf.reduce_sum(self.sense_comps * self.att, axis=0, keep_dims=True)\n",
    "        \n",
    "        \n",
    "        # Cosine loss\n",
    "        norm_pos = tf.nn.l2_normalize(self.pos, 1)\n",
    "#         norm_neg = tf.nn.l2_normalize(self.neg, 1)\n",
    "        norm_word_emb = tf.nn.l2_normalize(word_emb, 1)\n",
    "        \n",
    "        pos_loss = tf.reduce_mean(tf.reduce_sum(norm_pos * norm_word_emb, axis=1))\n",
    "#         neg_loss = tf.reduce_mean(tf.reduce_sum(norm_neg * norm_word_emb, axis=1))\n",
    "        \n",
    "        self.loss = -pos_loss #+ 1e-3*tf.nn.l2_loss(self.sense_comps)\n",
    "#         opt = tf.train.AdamOptimizer(self.lr)\n",
    "        opt = tf.train.GradientDescentOptimizer(learning_rate=self.lr)\n",
    "        self.grads_and_vars = opt.compute_gradients(self.loss)\n",
    "        self.train_op = opt.apply_gradients(self.grads_and_vars)\n",
    "        \n",
    "        self.sess = tf.Session()\n",
    "        self.sess.run(tf.global_variables_initializer())\n",
    "        \n",
    "    def train_on_sample(self, pos_samp, learning_rate):\n",
    "        feed_dict = {self.pos: pos_samp, self.lr: learning_rate}\n",
    "        loss, att, _ = self.sess.run([self.loss, self.att, self.train_op], feed_dict)\n",
    "        gradvar = self.sess.run(self.grads_and_vars, feed_dict)\n",
    "        return loss, att, gradvar"
   ]
  },
  {
   "cell_type": "code",
   "execution_count": 106,
   "metadata": {},
   "outputs": [
    {
     "name": "stdout",
     "output_type": "stream",
     "text": [
      "[<tf.Variable 'senses:0' shape=(2, 100) dtype=float32_ref>]\n",
      "-0.023266569\n"
     ]
    }
   ],
   "source": [
    "tf.reset_default_graph()\n",
    "net = MultiCompOvertrain(100, n_comps, 0.1)\n",
    "\n",
    "print(tf.trainable_variables())\n",
    "l,_, gv = net.train_on_sample(sample_p, 1)\n",
    "print(l)"
   ]
  },
  {
   "cell_type": "code",
   "execution_count": 107,
   "metadata": {},
   "outputs": [
    {
     "name": "stdout",
     "output_type": "stream",
     "text": [
      "-0.7820913\n"
     ]
    }
   ],
   "source": [
    "l,_, gv = net.train_on_sample(sample_p, 1)\n",
    "print(l)"
   ]
  },
  {
   "cell_type": "code",
   "execution_count": 108,
   "metadata": {},
   "outputs": [
    {
     "name": "stdout",
     "output_type": "stream",
     "text": [
      "[[-0.18851432  0.21875733 -0.06706028 -0.13663545 -0.12154876 -0.04777572\n",
      "   0.06399444  0.06880708 -0.10984476 -0.05064923  0.00717373 -0.11175838\n",
      "  -0.01792912  0.03080618 -0.03327873 -0.12629704 -0.13660094 -0.05163753\n",
      "   0.0446002   0.08272374  0.07438624  0.18066257 -0.06388314 -0.00513199\n",
      "  -0.01538289 -0.1217225   0.12070465  0.14994213  0.09723291  0.04533161\n",
      "   0.13186687  0.0892374   0.01157376 -0.25128204 -0.03162968  0.01206909\n",
      "  -0.09524553 -0.02607945  0.15684846 -0.05309853 -0.09015401  0.11796028\n",
      "   0.00362326 -0.02660781 -0.1504022   0.05854211  0.22595127 -0.02572927\n",
      "  -0.10819298 -0.03715308 -0.15439323 -0.03692684  0.0200675   0.19425777\n",
      "  -0.00510252  0.04842892 -0.2884487  -0.02709235 -0.06462163  0.05031693\n",
      "   0.01522227  0.00533152 -0.1467613  -0.09653531 -0.07696746  0.00713161\n",
      "  -0.0205721  -0.03807064  0.08686125  0.23606153 -0.08108035 -0.13647327\n",
      "  -0.13768734 -0.12157448 -0.00035132 -0.08121265  0.03659559  0.08409844\n",
      "  -0.15819387  0.07890879 -0.03334813  0.02158342  0.02692309 -0.002282\n",
      "  -0.07379287  0.04751442 -0.07218023 -0.0476976  -0.00930957 -0.02557546\n",
      "   0.08307343 -0.02061729 -0.09653148  0.003325   -0.02360915 -0.07888566\n",
      "  -0.09009703 -0.01457929 -0.0574307  -0.03020942]\n",
      " [ 0.15421629 -0.2369951  -0.02833319 -0.08297223  0.02330761  0.04156257\n",
      "  -0.12237829 -0.01397535  0.0139459  -0.04463625 -0.12296848  0.07126593\n",
      "   0.08827078 -0.01613621 -0.05904546  0.1417821  -0.0389711   0.06903052\n",
      "   0.12797074  0.16552144  0.15110865  0.1268995  -0.05350892  0.050354\n",
      "   0.14654905  0.06872322  0.12982975  0.19648668  0.00343788  0.10719904\n",
      "   0.06694131  0.08383255 -0.02600588  0.06193769 -0.00514203  0.03467914\n",
      "   0.14447361 -0.06454584 -0.08667162  0.02465663  0.04667411  0.01507854\n",
      "  -0.05996401  0.2788813  -0.08489271 -0.18641621 -0.06742167 -0.09750432\n",
      "  -0.0244641  -0.00170913 -0.27331996  0.22015113 -0.02399196  0.0995223\n",
      "   0.10123619  0.06833905 -0.1882351  -0.13266325 -0.16983764  0.14317666\n",
      "  -0.00662658  0.07499868  0.08993286  0.05394449 -0.03652134 -0.05465513\n",
      "   0.04870963 -0.09811105  0.01711351 -0.14060959 -0.07951868  0.02543587\n",
      "   0.034662    0.02216822  0.18285504 -0.0245492   0.05334544  0.08231241\n",
      "  -0.06150315  0.14569676  0.07134974 -0.30972123 -0.02462034  0.20507339\n",
      "   0.13127257 -0.0460476   0.18339136 -0.02915838  0.0024441  -0.08828371\n",
      "  -0.047862   -0.0298541   0.00410486  0.11003558  0.02649568 -0.10779485\n",
      "   0.09240955 -0.05924155  0.13697241  0.098125  ]]\n"
     ]
    }
   ],
   "source": [
    "print(gv[0][1] - var1)"
   ]
  },
  {
   "cell_type": "code",
   "execution_count": 51,
   "metadata": {},
   "outputs": [
    {
     "data": {
      "text/plain": [
       "[(<tf.Tensor 'gradients/AddN_1:0' shape=(2, 100) dtype=float32>,\n",
       "  <tf.Variable 'senses:0' shape=(2, 100) dtype=float32_ref>)]"
      ]
     },
     "execution_count": 51,
     "metadata": {},
     "output_type": "execute_result"
    }
   ],
   "source": [
    "net.grads_and_vars"
   ]
  },
  {
   "cell_type": "code",
   "execution_count": 149,
   "metadata": {},
   "outputs": [
    {
     "data": {
      "application/vnd.jupyter.widget-view+json": {
       "model_id": "9d49015a01574e3a9faa31be885646cc",
       "version_major": 2,
       "version_minor": 0
      },
      "text/html": [
       "<p>Failed to display Jupyter Widget of type <code>HBox</code>.</p>\n",
       "<p>\n",
       "  If you're reading this message in Jupyter Notebook or JupyterLab, it may mean\n",
       "  that the widgets JavaScript is still loading. If this message persists, it\n",
       "  likely means that the widgets JavaScript library is either not installed or\n",
       "  not enabled. See the <a href=\"https://ipywidgets.readthedocs.io/en/stable/user_install.html\">Jupyter\n",
       "  Widgets Documentation</a> for setup instructions.\n",
       "</p>\n",
       "<p>\n",
       "  If you're reading this message in another notebook frontend (for example, a static\n",
       "  rendering on GitHub or <a href=\"https://nbviewer.jupyter.org/\">NBViewer</a>),\n",
       "  it may mean that your frontend doesn't currently support widgets.\n",
       "</p>\n"
      ],
      "text/plain": [
       "HBox(children=(IntProgress(value=0, max=111462), HTML(value='')))"
      ]
     },
     "metadata": {},
     "output_type": "display_data"
    },
    {
     "name": "stdout",
     "output_type": "stream",
     "text": [
      "epoch_num:  0\n"
     ]
    },
    {
     "ename": "KeyboardInterrupt",
     "evalue": "",
     "output_type": "error",
     "traceback": [
      "\u001b[0;31m---------------------------------------------------------------------------\u001b[0m",
      "\u001b[0;31mKeyboardInterrupt\u001b[0m                         Traceback (most recent call last)",
      "\u001b[0;32m<ipython-input-149-ff8b4b4f0db5>\u001b[0m in \u001b[0;36m<module>\u001b[0;34m()\u001b[0m\n\u001b[1;32m     20\u001b[0m     \u001b[0;32mfor\u001b[0m \u001b[0mn\u001b[0m \u001b[0;32min\u001b[0m \u001b[0mpbar\u001b[0m\u001b[0;34m:\u001b[0m\u001b[0;34m\u001b[0m\u001b[0m\n\u001b[1;32m     21\u001b[0m \u001b[0;34m\u001b[0m\u001b[0m\n\u001b[0;32m---> 22\u001b[0;31m         \u001b[0mloss\u001b[0m\u001b[0;34m,\u001b[0m \u001b[0matt\u001b[0m\u001b[0;34m,\u001b[0m \u001b[0m_\u001b[0m \u001b[0;34m=\u001b[0m \u001b[0mnet\u001b[0m\u001b[0;34m.\u001b[0m\u001b[0mtrain_on_sample\u001b[0m\u001b[0;34m(\u001b[0m\u001b[0;34m[\u001b[0m\u001b[0mwv\u001b[0m\u001b[0;34m[\u001b[0m\u001b[0;34m'замок'\u001b[0m\u001b[0;34m]\u001b[0m\u001b[0;34m]\u001b[0m\u001b[0;34m,\u001b[0m \u001b[0mlr\u001b[0m\u001b[0;34m)\u001b[0m\u001b[0;34m\u001b[0m\u001b[0m\n\u001b[0m\u001b[1;32m     23\u001b[0m         \u001b[0matts\u001b[0m\u001b[0;34m.\u001b[0m\u001b[0mappend\u001b[0m\u001b[0;34m(\u001b[0m\u001b[0matt\u001b[0m\u001b[0;34m)\u001b[0m\u001b[0;34m\u001b[0m\u001b[0m\n\u001b[1;32m     24\u001b[0m         \u001b[0mlosses\u001b[0m\u001b[0;34m.\u001b[0m\u001b[0mappend\u001b[0m\u001b[0;34m(\u001b[0m\u001b[0mloss\u001b[0m\u001b[0;34m)\u001b[0m\u001b[0;34m\u001b[0m\u001b[0m\n",
      "\u001b[0;32m<ipython-input-105-75bd2ba86d53>\u001b[0m in \u001b[0;36mtrain_on_sample\u001b[0;34m(self, pos_samp, learning_rate)\u001b[0m\n\u001b[1;32m     38\u001b[0m     \u001b[0;32mdef\u001b[0m \u001b[0mtrain_on_sample\u001b[0m\u001b[0;34m(\u001b[0m\u001b[0mself\u001b[0m\u001b[0;34m,\u001b[0m \u001b[0mpos_samp\u001b[0m\u001b[0;34m,\u001b[0m \u001b[0mlearning_rate\u001b[0m\u001b[0;34m)\u001b[0m\u001b[0;34m:\u001b[0m\u001b[0;34m\u001b[0m\u001b[0m\n\u001b[1;32m     39\u001b[0m         \u001b[0mfeed_dict\u001b[0m \u001b[0;34m=\u001b[0m \u001b[0;34m{\u001b[0m\u001b[0mself\u001b[0m\u001b[0;34m.\u001b[0m\u001b[0mpos\u001b[0m\u001b[0;34m:\u001b[0m \u001b[0mpos_samp\u001b[0m\u001b[0;34m,\u001b[0m \u001b[0mself\u001b[0m\u001b[0;34m.\u001b[0m\u001b[0mlr\u001b[0m\u001b[0;34m:\u001b[0m \u001b[0mlearning_rate\u001b[0m\u001b[0;34m}\u001b[0m\u001b[0;34m\u001b[0m\u001b[0m\n\u001b[0;32m---> 40\u001b[0;31m         \u001b[0mloss\u001b[0m\u001b[0;34m,\u001b[0m \u001b[0matt\u001b[0m\u001b[0;34m,\u001b[0m \u001b[0m_\u001b[0m \u001b[0;34m=\u001b[0m \u001b[0mself\u001b[0m\u001b[0;34m.\u001b[0m\u001b[0msess\u001b[0m\u001b[0;34m.\u001b[0m\u001b[0mrun\u001b[0m\u001b[0;34m(\u001b[0m\u001b[0;34m[\u001b[0m\u001b[0mself\u001b[0m\u001b[0;34m.\u001b[0m\u001b[0mloss\u001b[0m\u001b[0;34m,\u001b[0m \u001b[0mself\u001b[0m\u001b[0;34m.\u001b[0m\u001b[0matt\u001b[0m\u001b[0;34m,\u001b[0m \u001b[0mself\u001b[0m\u001b[0;34m.\u001b[0m\u001b[0mtrain_op\u001b[0m\u001b[0;34m]\u001b[0m\u001b[0;34m,\u001b[0m \u001b[0mfeed_dict\u001b[0m\u001b[0;34m)\u001b[0m\u001b[0;34m\u001b[0m\u001b[0m\n\u001b[0m\u001b[1;32m     41\u001b[0m         \u001b[0mgradvar\u001b[0m \u001b[0;34m=\u001b[0m \u001b[0mself\u001b[0m\u001b[0;34m.\u001b[0m\u001b[0msess\u001b[0m\u001b[0;34m.\u001b[0m\u001b[0mrun\u001b[0m\u001b[0;34m(\u001b[0m\u001b[0mself\u001b[0m\u001b[0;34m.\u001b[0m\u001b[0mgrads_and_vars\u001b[0m\u001b[0;34m,\u001b[0m \u001b[0mfeed_dict\u001b[0m\u001b[0;34m)\u001b[0m\u001b[0;34m\u001b[0m\u001b[0m\n\u001b[1;32m     42\u001b[0m         \u001b[0;32mreturn\u001b[0m \u001b[0mloss\u001b[0m\u001b[0;34m,\u001b[0m \u001b[0matt\u001b[0m\u001b[0;34m,\u001b[0m \u001b[0mgradvar\u001b[0m\u001b[0;34m\u001b[0m\u001b[0m\n",
      "\u001b[0;32m~/virtualenvs/py3/lib/python3.6/site-packages/tensorflow/python/client/session.py\u001b[0m in \u001b[0;36mrun\u001b[0;34m(self, fetches, feed_dict, options, run_metadata)\u001b[0m\n\u001b[1;32m    893\u001b[0m     \u001b[0;32mtry\u001b[0m\u001b[0;34m:\u001b[0m\u001b[0;34m\u001b[0m\u001b[0m\n\u001b[1;32m    894\u001b[0m       result = self._run(None, fetches, feed_dict, options_ptr,\n\u001b[0;32m--> 895\u001b[0;31m                          run_metadata_ptr)\n\u001b[0m\u001b[1;32m    896\u001b[0m       \u001b[0;32mif\u001b[0m \u001b[0mrun_metadata\u001b[0m\u001b[0;34m:\u001b[0m\u001b[0;34m\u001b[0m\u001b[0m\n\u001b[1;32m    897\u001b[0m         \u001b[0mproto_data\u001b[0m \u001b[0;34m=\u001b[0m \u001b[0mtf_session\u001b[0m\u001b[0;34m.\u001b[0m\u001b[0mTF_GetBuffer\u001b[0m\u001b[0;34m(\u001b[0m\u001b[0mrun_metadata_ptr\u001b[0m\u001b[0;34m)\u001b[0m\u001b[0;34m\u001b[0m\u001b[0m\n",
      "\u001b[0;32m~/virtualenvs/py3/lib/python3.6/site-packages/tensorflow/python/client/session.py\u001b[0m in \u001b[0;36m_run\u001b[0;34m(self, handle, fetches, feed_dict, options, run_metadata)\u001b[0m\n\u001b[1;32m   1126\u001b[0m     \u001b[0;32mif\u001b[0m \u001b[0mfinal_fetches\u001b[0m \u001b[0;32mor\u001b[0m \u001b[0mfinal_targets\u001b[0m \u001b[0;32mor\u001b[0m \u001b[0;34m(\u001b[0m\u001b[0mhandle\u001b[0m \u001b[0;32mand\u001b[0m \u001b[0mfeed_dict_tensor\u001b[0m\u001b[0;34m)\u001b[0m\u001b[0;34m:\u001b[0m\u001b[0;34m\u001b[0m\u001b[0m\n\u001b[1;32m   1127\u001b[0m       results = self._do_run(handle, final_targets, final_fetches,\n\u001b[0;32m-> 1128\u001b[0;31m                              feed_dict_tensor, options, run_metadata)\n\u001b[0m\u001b[1;32m   1129\u001b[0m     \u001b[0;32melse\u001b[0m\u001b[0;34m:\u001b[0m\u001b[0;34m\u001b[0m\u001b[0m\n\u001b[1;32m   1130\u001b[0m       \u001b[0mresults\u001b[0m \u001b[0;34m=\u001b[0m \u001b[0;34m[\u001b[0m\u001b[0;34m]\u001b[0m\u001b[0;34m\u001b[0m\u001b[0m\n",
      "\u001b[0;32m~/virtualenvs/py3/lib/python3.6/site-packages/tensorflow/python/client/session.py\u001b[0m in \u001b[0;36m_do_run\u001b[0;34m(self, handle, target_list, fetch_list, feed_dict, options, run_metadata)\u001b[0m\n\u001b[1;32m   1342\u001b[0m     \u001b[0;32mif\u001b[0m \u001b[0mhandle\u001b[0m \u001b[0;32mis\u001b[0m \u001b[0;32mNone\u001b[0m\u001b[0;34m:\u001b[0m\u001b[0;34m\u001b[0m\u001b[0m\n\u001b[1;32m   1343\u001b[0m       return self._do_call(_run_fn, self._session, feeds, fetches, targets,\n\u001b[0;32m-> 1344\u001b[0;31m                            options, run_metadata)\n\u001b[0m\u001b[1;32m   1345\u001b[0m     \u001b[0;32melse\u001b[0m\u001b[0;34m:\u001b[0m\u001b[0;34m\u001b[0m\u001b[0m\n\u001b[1;32m   1346\u001b[0m       \u001b[0;32mreturn\u001b[0m \u001b[0mself\u001b[0m\u001b[0;34m.\u001b[0m\u001b[0m_do_call\u001b[0m\u001b[0;34m(\u001b[0m\u001b[0m_prun_fn\u001b[0m\u001b[0;34m,\u001b[0m \u001b[0mself\u001b[0m\u001b[0;34m.\u001b[0m\u001b[0m_session\u001b[0m\u001b[0;34m,\u001b[0m \u001b[0mhandle\u001b[0m\u001b[0;34m,\u001b[0m \u001b[0mfeeds\u001b[0m\u001b[0;34m,\u001b[0m \u001b[0mfetches\u001b[0m\u001b[0;34m)\u001b[0m\u001b[0;34m\u001b[0m\u001b[0m\n",
      "\u001b[0;32m~/virtualenvs/py3/lib/python3.6/site-packages/tensorflow/python/client/session.py\u001b[0m in \u001b[0;36m_do_call\u001b[0;34m(self, fn, *args)\u001b[0m\n\u001b[1;32m   1348\u001b[0m   \u001b[0;32mdef\u001b[0m \u001b[0m_do_call\u001b[0m\u001b[0;34m(\u001b[0m\u001b[0mself\u001b[0m\u001b[0;34m,\u001b[0m \u001b[0mfn\u001b[0m\u001b[0;34m,\u001b[0m \u001b[0;34m*\u001b[0m\u001b[0margs\u001b[0m\u001b[0;34m)\u001b[0m\u001b[0;34m:\u001b[0m\u001b[0;34m\u001b[0m\u001b[0m\n\u001b[1;32m   1349\u001b[0m     \u001b[0;32mtry\u001b[0m\u001b[0;34m:\u001b[0m\u001b[0;34m\u001b[0m\u001b[0m\n\u001b[0;32m-> 1350\u001b[0;31m       \u001b[0;32mreturn\u001b[0m \u001b[0mfn\u001b[0m\u001b[0;34m(\u001b[0m\u001b[0;34m*\u001b[0m\u001b[0margs\u001b[0m\u001b[0;34m)\u001b[0m\u001b[0;34m\u001b[0m\u001b[0m\n\u001b[0m\u001b[1;32m   1351\u001b[0m     \u001b[0;32mexcept\u001b[0m \u001b[0merrors\u001b[0m\u001b[0;34m.\u001b[0m\u001b[0mOpError\u001b[0m \u001b[0;32mas\u001b[0m \u001b[0me\u001b[0m\u001b[0;34m:\u001b[0m\u001b[0;34m\u001b[0m\u001b[0m\n\u001b[1;32m   1352\u001b[0m       \u001b[0mmessage\u001b[0m \u001b[0;34m=\u001b[0m \u001b[0mcompat\u001b[0m\u001b[0;34m.\u001b[0m\u001b[0mas_text\u001b[0m\u001b[0;34m(\u001b[0m\u001b[0me\u001b[0m\u001b[0;34m.\u001b[0m\u001b[0mmessage\u001b[0m\u001b[0;34m)\u001b[0m\u001b[0;34m\u001b[0m\u001b[0m\n",
      "\u001b[0;32m~/virtualenvs/py3/lib/python3.6/site-packages/tensorflow/python/client/session.py\u001b[0m in \u001b[0;36m_run_fn\u001b[0;34m(session, feed_dict, fetch_list, target_list, options, run_metadata)\u001b[0m\n\u001b[1;32m   1327\u001b[0m           return tf_session.TF_Run(session, options,\n\u001b[1;32m   1328\u001b[0m                                    \u001b[0mfeed_dict\u001b[0m\u001b[0;34m,\u001b[0m \u001b[0mfetch_list\u001b[0m\u001b[0;34m,\u001b[0m \u001b[0mtarget_list\u001b[0m\u001b[0;34m,\u001b[0m\u001b[0;34m\u001b[0m\u001b[0m\n\u001b[0;32m-> 1329\u001b[0;31m                                    status, run_metadata)\n\u001b[0m\u001b[1;32m   1330\u001b[0m \u001b[0;34m\u001b[0m\u001b[0m\n\u001b[1;32m   1331\u001b[0m     \u001b[0;32mdef\u001b[0m \u001b[0m_prun_fn\u001b[0m\u001b[0;34m(\u001b[0m\u001b[0msession\u001b[0m\u001b[0;34m,\u001b[0m \u001b[0mhandle\u001b[0m\u001b[0;34m,\u001b[0m \u001b[0mfeed_dict\u001b[0m\u001b[0;34m,\u001b[0m \u001b[0mfetch_list\u001b[0m\u001b[0;34m)\u001b[0m\u001b[0;34m:\u001b[0m\u001b[0;34m\u001b[0m\u001b[0m\n",
      "\u001b[0;31mKeyboardInterrupt\u001b[0m: "
     ]
    }
   ],
   "source": [
    "tf.reset_default_graph()\n",
    "\n",
    "lr = 1e-2\n",
    "n_comps = 1\n",
    "net = MultiCompOvertrain(100, n_comps, 0.1)\n",
    "\n",
    "\n",
    "n_samples = len(lines)\n",
    "n_context = 10 # number of words in the context\n",
    "emb_dim = 100\n",
    "atts = list()\n",
    "epoch_num = 1\n",
    "losses = []\n",
    "batch_gen = generate_triplet_batch(lines, context_max_len=n_context)\n",
    "# pbar = tqdm_notebook(batch_gen, total = n_samples)\n",
    "pbar = tqdm_notebook(range(n_samples))\n",
    "\n",
    "for epoch in range(epoch_num):\n",
    "    print(\"epoch_num: \", epoch)\n",
    "    for n in pbar:\n",
    "        \n",
    "        loss, att, _ = net.train_on_sample([wv['замок']], lr)\n",
    "        atts.append(att)\n",
    "        losses.append(loss)\n",
    "        \n",
    "        if n % 100 == 99:\n",
    "            pbar.set_description(\"loss {:.3f}\".format(float(loss)))"
   ]
  },
  {
   "cell_type": "code",
   "execution_count": 36,
   "metadata": {},
   "outputs": [],
   "source": [
    "batch_gen = generate_triplet_batch(lines, context_max_len=n_context)"
   ]
  },
  {
   "cell_type": "code",
   "execution_count": 38,
   "metadata": {},
   "outputs": [
    {
     "name": "stderr",
     "output_type": "stream",
     "text": [
      "/home/fogside/virtualenvs/py3/lib/python3.6/site-packages/ipykernel_launcher.py:13: DeprecationWarning: This function is deprecated. Please call randint(0, 202435 + 1) instead\n",
      "  del sys.path[0]\n"
     ]
    }
   ],
   "source": [
    "sample_p, sample_n = next(batch_gen)"
   ]
  },
  {
   "cell_type": "code",
   "execution_count": 39,
   "metadata": {},
   "outputs": [
    {
     "data": {
      "text/plain": [
       "array([[-5.6586e-02, -4.3405e-01,  5.7687e-02,  9.4219e-02,  1.8545e-01,\n",
       "         2.1660e-02,  2.0502e-01, -1.2822e-01, -1.0966e-01,  8.4513e-02,\n",
       "        -5.0039e-01, -1.7734e-02,  1.4663e-01, -4.9800e-01, -3.5856e-01,\n",
       "         1.5300e-01, -5.0116e-01,  2.5637e-01, -7.3133e-02, -1.5731e-01,\n",
       "         5.2461e-01, -6.6332e-02,  3.8662e-01,  2.0060e-02, -1.4579e-01,\n",
       "        -4.6512e-02,  2.7343e-02, -1.2710e-01, -7.1486e-02,  6.4479e-01,\n",
       "         2.2555e-01,  2.0896e-01,  1.1489e-01, -2.1602e-01,  1.4261e-01,\n",
       "         2.4632e-01,  2.7624e-01, -1.3323e-01, -1.5254e-01, -2.3404e-01,\n",
       "        -1.0259e-01, -1.6554e-02, -7.9704e-02, -1.5958e-02,  2.9684e-01,\n",
       "        -1.5963e-01, -7.1483e-02,  3.1222e-02, -1.4836e-01,  2.5009e-01,\n",
       "        -6.3984e-01,  2.2365e-01, -3.6046e-01,  9.4387e-02,  6.8341e-01,\n",
       "         2.4043e-01, -7.7723e-02, -2.3697e-01, -1.3673e-01, -4.2327e-02,\n",
       "        -2.4044e-01,  2.5731e-01,  1.0817e-01,  7.0586e-03,  2.0710e-01,\n",
       "        -3.6737e-02,  2.1166e-01, -1.1527e-01,  2.4531e-01,  3.1337e-02,\n",
       "        -9.7279e-02,  1.2927e-01, -4.0099e-02, -1.9793e-01,  3.8274e-01,\n",
       "        -2.9313e-01, -8.7779e-03,  4.8424e-02,  2.0557e-01, -6.7968e-02,\n",
       "         2.2948e-01, -3.5665e-01, -2.5752e-01, -2.6375e-01,  1.4036e-01,\n",
       "        -2.7036e-01, -1.3713e-01,  9.2075e-03, -1.6903e-01, -8.7151e-02,\n",
       "        -2.0328e-01,  2.0653e-01, -2.0579e-01,  1.7760e-01, -7.6761e-02,\n",
       "        -4.7241e-01,  1.3356e-01, -1.5073e-01,  1.0460e-01,  8.3470e-03],\n",
       "       [-1.3723e-01, -2.8254e-01, -5.0269e-02, -1.1660e-01,  1.8616e-01,\n",
       "         4.9114e-03,  3.5672e-01, -8.9311e-02, -7.1320e-02, -3.6984e-02,\n",
       "        -4.1165e-01, -2.2451e-01,  5.0393e-02, -5.0155e-01, -3.7507e-01,\n",
       "        -3.8480e-02, -4.7435e-01,  4.6005e-01, -1.3710e-01, -3.0254e-01,\n",
       "         6.0066e-01, -2.3073e-01,  4.4685e-01, -1.2090e-01,  1.5702e-02,\n",
       "         1.0707e-02, -4.7652e-02,  1.4232e-01, -8.9812e-02,  5.7768e-01,\n",
       "         2.2900e-01,  1.9977e-01, -3.0917e-02,  1.6517e-02,  4.4859e-02,\n",
       "         2.8211e-01,  3.6378e-01, -4.1494e-01, -7.2548e-02, -2.7995e-01,\n",
       "         2.1281e-01,  9.3515e-02,  4.8424e-02,  4.0997e-03, -1.8908e-02,\n",
       "        -2.0446e-01,  1.3956e-02, -1.2564e-01, -2.4998e-01,  3.5035e-01,\n",
       "        -5.2965e-01,  1.2467e-01, -4.8213e-01,  1.2370e-01,  5.2337e-01,\n",
       "         3.1511e-01, -3.8028e-01, -6.4381e-01,  5.9309e-03, -6.1390e-02,\n",
       "        -1.7075e-01,  2.7217e-01, -1.2722e-03, -1.6098e-01,  1.1515e-01,\n",
       "         1.2518e-01,  2.9414e-01,  3.2810e-02,  2.5631e-01, -1.5932e-01,\n",
       "        -1.3162e-01,  2.9336e-01, -6.0286e-02, -2.1601e-01,  2.7061e-01,\n",
       "        -5.8871e-02, -1.5235e-01,  4.0592e-02, -6.5629e-02,  7.8503e-02,\n",
       "         2.4267e-02, -3.1454e-01, -2.6140e-01, -4.1062e-02,  3.7169e-01,\n",
       "        -3.6831e-01, -1.2976e-01, -1.4653e-01, -4.2010e-02,  7.3211e-02,\n",
       "        -1.5613e-01,  1.3349e-01, -8.9968e-02, -5.9058e-02,  8.5178e-03,\n",
       "        -3.0789e-01,  3.8887e-02, -2.6009e-01, -1.9043e-02, -3.3251e-02],\n",
       "       [ 1.6225e-01, -5.5280e-01,  1.4017e-01, -2.4189e-02,  2.1051e-01,\n",
       "         6.5614e-02,  3.4071e-01,  2.3613e-02, -6.8805e-02,  2.4284e-01,\n",
       "        -5.1944e-01, -1.3584e-01,  3.5212e-01, -6.8725e-01, -7.6436e-01,\n",
       "        -3.1634e-02, -5.2179e-01,  5.6811e-02, -6.4958e-02, -1.4787e-01,\n",
       "         6.4952e-01, -1.6194e-01,  3.4906e-01, -1.0704e-01,  1.6733e-02,\n",
       "        -6.9160e-02, -7.4710e-02,  1.9455e-01,  8.2900e-02,  4.9238e-01,\n",
       "        -5.6220e-02,  2.6021e-01, -3.8961e-02, -1.1217e-01,  4.7239e-02,\n",
       "         1.0155e-01,  2.7043e-01, -1.5232e-01, -8.0205e-02, -2.5495e-01,\n",
       "         1.3402e-01,  1.2853e-01, -9.0109e-02,  1.3042e-01,  2.9488e-01,\n",
       "        -5.9425e-02, -4.1154e-02, -1.2464e-02, -6.2954e-02,  5.0702e-03,\n",
       "        -5.5672e-01,  2.8481e-01, -5.5475e-01, -4.8020e-02,  6.1544e-01,\n",
       "         1.4610e-01, -5.1245e-01, -5.6865e-01, -2.9280e-01,  8.2854e-02,\n",
       "        -1.9230e-01,  7.3646e-02,  6.5052e-01,  8.2019e-03,  7.6623e-02,\n",
       "        -1.4657e-02,  9.7655e-02, -1.0671e-01,  3.2907e-01, -9.8373e-03,\n",
       "         4.6445e-02,  1.0939e-01, -5.2719e-01,  2.4169e-01,  4.3653e-01,\n",
       "         1.1184e-01, -4.1211e-02,  1.1044e-01, -1.3955e-01, -8.6004e-02,\n",
       "         3.1312e-01, -3.5941e-01, -1.1905e-01, -3.9098e-02,  3.5384e-01,\n",
       "        -1.3606e-01, -3.5539e-01,  1.3445e-01, -3.1434e-01, -7.3028e-02,\n",
       "        -8.5285e-02,  3.3520e-01, -9.1789e-02, -2.7329e-01,  9.6713e-02,\n",
       "        -6.3991e-01,  1.3336e-01,  1.5735e-01,  2.5817e-01, -1.2801e-01],\n",
       "       [-1.3723e-01, -2.8254e-01, -5.0269e-02, -1.1660e-01,  1.8616e-01,\n",
       "         4.9114e-03,  3.5672e-01, -8.9311e-02, -7.1320e-02, -3.6984e-02,\n",
       "        -4.1165e-01, -2.2451e-01,  5.0393e-02, -5.0155e-01, -3.7507e-01,\n",
       "        -3.8480e-02, -4.7435e-01,  4.6005e-01, -1.3710e-01, -3.0254e-01,\n",
       "         6.0066e-01, -2.3073e-01,  4.4685e-01, -1.2090e-01,  1.5702e-02,\n",
       "         1.0707e-02, -4.7652e-02,  1.4232e-01, -8.9812e-02,  5.7768e-01,\n",
       "         2.2900e-01,  1.9977e-01, -3.0917e-02,  1.6517e-02,  4.4859e-02,\n",
       "         2.8211e-01,  3.6378e-01, -4.1494e-01, -7.2548e-02, -2.7995e-01,\n",
       "         2.1281e-01,  9.3515e-02,  4.8424e-02,  4.0997e-03, -1.8908e-02,\n",
       "        -2.0446e-01,  1.3956e-02, -1.2564e-01, -2.4998e-01,  3.5035e-01,\n",
       "        -5.2965e-01,  1.2467e-01, -4.8213e-01,  1.2370e-01,  5.2337e-01,\n",
       "         3.1511e-01, -3.8028e-01, -6.4381e-01,  5.9309e-03, -6.1390e-02,\n",
       "        -1.7075e-01,  2.7217e-01, -1.2722e-03, -1.6098e-01,  1.1515e-01,\n",
       "         1.2518e-01,  2.9414e-01,  3.2810e-02,  2.5631e-01, -1.5932e-01,\n",
       "        -1.3162e-01,  2.9336e-01, -6.0286e-02, -2.1601e-01,  2.7061e-01,\n",
       "        -5.8871e-02, -1.5235e-01,  4.0592e-02, -6.5629e-02,  7.8503e-02,\n",
       "         2.4267e-02, -3.1454e-01, -2.6140e-01, -4.1062e-02,  3.7169e-01,\n",
       "        -3.6831e-01, -1.2976e-01, -1.4653e-01, -4.2010e-02,  7.3211e-02,\n",
       "        -1.5613e-01,  1.3349e-01, -8.9968e-02, -5.9058e-02,  8.5178e-03,\n",
       "        -3.0789e-01,  3.8887e-02, -2.6009e-01, -1.9043e-02, -3.3251e-02],\n",
       "       [-5.0273e-01, -5.2573e-01, -8.4635e-02, -2.0744e-01, -6.9207e-02,\n",
       "        -4.3341e-02,  6.1327e-01, -4.0197e-01, -2.9807e-01,  4.8983e-03,\n",
       "         3.6643e-03,  1.9644e-02,  4.1073e-01, -1.8497e-01, -3.3735e-01,\n",
       "         6.7016e-02, -2.2104e-02,  7.7229e-01,  1.0861e-01,  2.3305e-01,\n",
       "         6.1234e-01, -5.1566e-02, -1.2205e-02,  4.7839e-02,  3.2342e-02,\n",
       "        -1.4213e-01,  4.4048e-01,  4.9203e-02, -4.2048e-02,  4.5985e-01,\n",
       "         4.1425e-01, -8.4745e-02, -1.9718e-01, -4.3954e-01,  2.0912e-01,\n",
       "         3.5844e-01,  4.6214e-01, -5.0927e-01, -1.7667e-01, -3.3519e-01,\n",
       "         2.1857e-01, -1.7714e-01, -2.3327e-01,  5.8074e-02, -2.2332e-01,\n",
       "        -2.3633e-02, -9.4166e-02,  5.5657e-02, -1.6908e-01, -2.3667e-01,\n",
       "        -2.9185e-01,  2.4661e-01, -3.4110e-01,  6.6216e-02,  7.8534e-01,\n",
       "        -2.7688e-01, -3.7720e-02, -8.6117e-01, -5.4391e-02, -1.3434e-01,\n",
       "         1.3821e-01,  2.1593e-01, -1.3063e-01,  3.8468e-01, -3.5673e-02,\n",
       "        -2.1709e-01,  1.2041e-01,  1.3685e-01,  4.3873e-01, -1.9411e-01,\n",
       "        -3.0420e-02,  1.0470e-01, -1.7281e-01,  1.5113e-01,  3.5551e-01,\n",
       "         3.0118e-02, -1.2826e-01,  1.6026e-01, -2.2259e-01,  3.6566e-01,\n",
       "         2.5022e-01,  1.1633e-02, -1.6315e-02,  2.1131e-01,  3.5609e-01,\n",
       "        -2.9787e-01, -1.3739e-01,  1.2909e-01, -3.9846e-01,  5.0119e-02,\n",
       "        -2.9471e-01,  2.8095e-01,  1.8733e-01,  2.3345e-01, -3.8518e-01,\n",
       "        -3.0838e-01, -2.0997e-01, -2.0929e-01,  2.3742e-02, -2.6999e-01],\n",
       "       [-3.5913e-01, -4.6070e-01, -4.8310e-02, -1.3244e-01,  1.8644e-02,\n",
       "        -5.9489e-02,  1.6760e-01, -3.7941e-01, -1.7956e-02,  3.1812e-02,\n",
       "        -1.4039e-01, -3.9622e-01,  2.2292e-01, -5.3222e-01, -3.0665e-01,\n",
       "        -1.4135e-02, -1.9875e-01,  2.8945e-01, -5.7776e-02, -9.5087e-02,\n",
       "         5.3086e-01, -1.2906e-02,  2.7553e-01,  1.5065e-01, -2.4057e-01,\n",
       "        -2.4490e-02,  7.7648e-02,  5.2572e-02,  1.9193e-02,  2.5337e-01,\n",
       "         1.2148e-01,  4.6606e-01,  1.1759e-01,  8.6831e-02,  1.4998e-01,\n",
       "         4.2348e-01,  4.6108e-01, -2.4984e-01, -1.7173e-01, -1.7461e-01,\n",
       "         5.0674e-01,  1.4940e-01, -8.3412e-02,  8.1701e-02, -4.3277e-01,\n",
       "        -7.4723e-02, -2.0605e-01, -3.7747e-02, -3.4032e-01,  2.0323e-01,\n",
       "        -2.8678e-01,  5.2792e-02, -3.2588e-01,  4.6365e-02,  6.1800e-01,\n",
       "        -7.3419e-03, -5.3537e-01, -8.9993e-02, -2.4171e-01, -1.8000e-01,\n",
       "        -3.9452e-02,  4.1127e-01, -4.3591e-01,  1.5919e-01, -1.5694e-01,\n",
       "        -1.9918e-01,  2.6378e-01,  4.5977e-01,  9.5184e-02, -1.6847e-01,\n",
       "        -4.3527e-01,  2.1358e-01,  1.0829e-01, -3.0638e-01,  2.5685e-01,\n",
       "        -2.5219e-01, -9.8196e-02,  2.2346e-03,  3.7013e-02,  1.3575e-01,\n",
       "         4.2773e-01, -5.9495e-01, -2.6618e-01,  2.0239e-01,  1.9811e-01,\n",
       "         2.7071e-01,  2.4537e-02,  1.3325e-01,  4.9785e-02,  6.4213e-02,\n",
       "         1.4819e-01,  3.6691e-01, -2.5016e-01,  3.6331e-01,  3.5005e-02,\n",
       "        -4.5037e-01,  1.6178e-01, -6.3603e-02,  2.7472e-01, -1.6450e-01],\n",
       "       [-1.8771e-01, -3.1575e-01, -8.1386e-02, -2.8853e-01,  2.0797e-01,\n",
       "        -6.5623e-02,  1.0682e-01, -2.0617e-01, -9.9409e-02, -3.8913e-02,\n",
       "        -2.6435e-01, -1.8168e-01,  2.4605e-02, -4.1833e-01, -2.2884e-01,\n",
       "        -2.6773e-02, -5.2122e-01,  3.6891e-01, -1.8409e-02, -1.7893e-01,\n",
       "         4.4228e-01, -1.8423e-01,  2.6987e-01, -6.5314e-02, -4.2486e-02,\n",
       "        -9.9022e-03,  1.3014e-01,  2.4486e-01, -7.8835e-04,  4.2364e-01,\n",
       "         2.6502e-01,  2.9853e-01,  6.7337e-02, -1.9772e-01,  1.8446e-01,\n",
       "         3.2882e-01,  3.2986e-01, -2.9841e-01, -1.4635e-01, -2.5587e-01,\n",
       "         1.3705e-01, -1.1519e-01,  2.2178e-02,  9.2351e-02, -8.4250e-03,\n",
       "        -1.0248e-01,  1.3920e-02, -4.0518e-02,  2.1629e-02,  1.4268e-01,\n",
       "        -4.8450e-01,  2.2879e-01, -4.4044e-01,  9.4290e-02,  5.3566e-01,\n",
       "         3.9696e-02, -3.7373e-01, -4.6345e-01, -1.9713e-01, -2.2060e-01,\n",
       "        -2.8148e-02,  2.8567e-01,  1.3107e-01,  1.5925e-01,  4.6215e-02,\n",
       "        -1.1341e-01,  2.3500e-01,  5.8362e-02,  2.4653e-01, -4.9335e-02,\n",
       "        -1.3100e-01,  9.5918e-02, -1.1066e-02, -3.5047e-02,  2.9275e-01,\n",
       "        -7.1234e-02, -3.0130e-02, -1.0197e-01,  3.5032e-02, -1.3733e-01,\n",
       "         1.8830e-01, -6.4576e-02, -2.0077e-01, -3.6218e-03,  1.6078e-01,\n",
       "        -1.0893e-01, -5.1517e-02,  3.0542e-03, -1.0004e-01,  7.2126e-02,\n",
       "        -8.0219e-02,  9.4291e-02, -1.8287e-01,  1.8023e-01, -1.5367e-01,\n",
       "        -3.9994e-01,  1.1082e-01, -7.3458e-02,  5.4414e-02, -9.1295e-02],\n",
       "       [-2.0774e-01,  3.6222e-01, -1.5511e-01, -4.5799e-01, -1.5724e-01,\n",
       "        -2.8984e-01,  2.3536e-01,  5.8064e-01,  2.4280e-01, -5.6650e-02,\n",
       "        -5.4440e-01, -3.1642e-01, -1.3538e-01, -6.3047e-01,  1.4403e-02,\n",
       "         2.3026e-01, -5.2353e-01,  2.4581e-01,  1.0963e-02, -2.8971e-01,\n",
       "         1.8522e-01, -6.8640e-01, -7.5724e-02,  2.4632e-01, -1.7583e-01,\n",
       "         6.6411e-02, -2.1957e-01,  3.0690e-01,  1.3784e-01,  5.6153e-01,\n",
       "         3.5163e-02,  4.9091e-01,  2.8299e-01, -3.1373e-01,  2.2329e-01,\n",
       "         2.6034e-01,  3.9233e-01, -2.0251e-01, -3.2148e-01,  1.4028e-01,\n",
       "         2.8747e-02,  9.9553e-02,  7.7314e-03,  5.4755e-01,  1.5020e-01,\n",
       "        -5.5218e-02,  6.8176e-02,  5.1225e-01,  3.9290e-02, -5.2034e-01,\n",
       "        -5.9916e-01, -1.4865e-01, -7.0499e-01, -4.7886e-01,  6.9181e-01,\n",
       "         2.2662e-02, -7.1938e-01, -3.2817e-01, -1.2086e-02,  2.6718e-01,\n",
       "        -1.7514e-01,  2.4843e-01,  5.3979e-01,  8.8319e-01,  1.1114e-01,\n",
       "        -1.7327e-01,  2.4413e-01,  9.2014e-03,  3.3340e-01,  1.7284e-01,\n",
       "        -5.6868e-01,  6.0375e-01,  5.5769e-02,  3.1042e-01,  3.5413e-01,\n",
       "         5.9214e-02,  2.1390e-01, -4.9226e-01, -1.6202e-01,  1.3952e-01,\n",
       "         2.2269e-01,  5.4439e-02, -2.4317e-01,  2.3949e-01,  4.4102e-01,\n",
       "        -3.6623e-01, -9.6720e-02, -5.4611e-02,  4.9947e-01, -4.2226e-02,\n",
       "        -4.6676e-02,  3.2764e-01, -1.7497e-02, -2.8662e-01, -1.0996e-01,\n",
       "        -7.5050e-01,  5.6883e-01, -1.4577e-01,  3.4980e-01,  2.7740e-01],\n",
       "       [-2.1091e-01, -4.7835e-01,  1.7087e-02, -2.9745e-01,  2.2503e-01,\n",
       "         5.0373e-02,  3.3716e-01, -1.0230e-01,  4.1552e-02,  5.9029e-02,\n",
       "        -4.4243e-01, -1.7387e-01,  4.0694e-03, -3.3838e-01, -2.6204e-01,\n",
       "         2.9267e-02, -5.3783e-01,  4.1425e-01,  2.9599e-03, -1.8468e-01,\n",
       "         4.0662e-01, -1.3031e-01,  3.4439e-01, -5.4327e-02,  4.2199e-02,\n",
       "        -5.4338e-02,  1.5944e-01,  2.4880e-01, -2.1869e-02,  4.4556e-01,\n",
       "         1.7321e-01,  2.4976e-01, -9.0670e-02, -2.5553e-01,  1.7730e-01,\n",
       "         3.0494e-01,  2.9443e-01, -3.1962e-01, -6.4239e-02, -2.3435e-01,\n",
       "         2.0906e-01, -6.9568e-02, -3.1201e-02, -3.4487e-02, -1.1413e-01,\n",
       "        -1.8465e-01, -2.8673e-02, -6.3085e-02, -8.8425e-02,  1.6502e-01,\n",
       "        -3.7583e-01,  2.5030e-01, -3.1804e-01,  9.5566e-02,  5.1218e-01,\n",
       "         7.7895e-02, -3.7224e-01, -4.9924e-01, -3.3914e-01, -2.0374e-01,\n",
       "        -2.2747e-02,  4.2563e-01,  2.2255e-01,  9.2634e-02,  9.9373e-02,\n",
       "        -1.9384e-01,  2.9251e-01,  1.3543e-01,  2.5434e-01,  2.7554e-02,\n",
       "        -9.0613e-02,  9.0109e-02, -1.0323e-01, -4.9976e-02,  3.0214e-01,\n",
       "        -4.2207e-02, -1.0552e-01, -3.3953e-02, -3.6848e-02, -4.1970e-02,\n",
       "         3.2810e-01, -1.0081e-01, -3.0893e-01, -3.5102e-02,  1.4590e-01,\n",
       "        -1.3133e-01, -1.9456e-01,  3.3168e-02, -2.5209e-01, -7.8093e-02,\n",
       "        -1.3704e-01,  2.0212e-02, -9.4941e-02,  1.8099e-01,  3.0744e-02,\n",
       "        -4.2195e-01,  4.0120e-02,  4.3318e-02,  1.1839e-02, -1.8160e-01],\n",
       "       [ 1.2934e-01, -3.5495e-01,  2.3112e-01, -2.2908e-01,  2.4559e-01,\n",
       "        -5.6337e-02,  2.0938e-01, -2.5846e-01, -2.4353e-01, -8.1585e-02,\n",
       "        -2.3724e-01, -2.2631e-02, -2.2002e-02, -2.8533e-01, -3.7974e-01,\n",
       "         7.2696e-02, -4.1057e-01,  4.2331e-01,  1.3902e-01, -9.4944e-02,\n",
       "         6.4092e-01,  1.6743e-01,  1.8588e-01,  2.0312e-01, -5.8690e-02,\n",
       "        -8.1682e-02,  1.8434e-01, -5.6929e-02,  2.1138e-02,  5.0848e-01,\n",
       "         2.2743e-01,  1.1016e-01, -4.7575e-02, -5.0381e-01,  2.3780e-01,\n",
       "         9.3241e-02,  4.0625e-01, -4.4712e-01, -1.2500e-01, -1.2208e-01,\n",
       "         9.2274e-02, -1.4740e-01, -1.4753e-01, -6.2062e-02, -5.1643e-02,\n",
       "        -1.7988e-01, -5.7541e-02, -1.1711e-01, -1.0501e-01,  1.2401e-01,\n",
       "        -3.2704e-01,  3.2485e-01, -3.5148e-01,  6.9147e-02,  5.0103e-01,\n",
       "        -6.2880e-02, -5.3520e-02, -4.8069e-01, -2.0631e-01, -2.4017e-02,\n",
       "        -2.2051e-01,  2.5726e-01,  2.5961e-01,  2.9487e-02,  1.9338e-01,\n",
       "        -2.6369e-01,  3.8562e-01,  5.2515e-02,  2.5775e-01,  5.0978e-02,\n",
       "        -1.3257e-01,  2.5849e-02,  1.0851e-02, -6.6891e-02,  1.2276e-01,\n",
       "        -7.6903e-02, -1.0532e-01,  6.5871e-03,  1.0836e-01, -1.5172e-01,\n",
       "         1.3982e-01, -2.8215e-01, -3.2097e-01,  7.3350e-02,  1.3208e-01,\n",
       "        -3.8875e-01, -1.2493e-01,  2.4437e-01, -1.3221e-01, -1.1559e-01,\n",
       "        -5.8645e-02,  1.1271e-01,  6.2328e-02,  3.0710e-01, -1.5795e-01,\n",
       "        -4.3654e-01,  3.1504e-01, -2.6553e-02, -7.5916e-02, -8.8148e-02]],\n",
       "      dtype=float32)"
      ]
     },
     "execution_count": 39,
     "metadata": {},
     "output_type": "execute_result"
    }
   ],
   "source": [
    "sample_p"
   ]
  },
  {
   "cell_type": "code",
   "execution_count": null,
   "metadata": {},
   "outputs": [],
   "source": []
  },
  {
   "cell_type": "code",
   "execution_count": null,
   "metadata": {},
   "outputs": [],
   "source": []
  },
  {
   "cell_type": "code",
   "execution_count": null,
   "metadata": {},
   "outputs": [],
   "source": []
  },
  {
   "cell_type": "code",
   "execution_count": null,
   "metadata": {},
   "outputs": [],
   "source": []
  },
  {
   "cell_type": "code",
   "execution_count": null,
   "metadata": {},
   "outputs": [],
   "source": []
  },
  {
   "cell_type": "code",
   "execution_count": null,
   "metadata": {},
   "outputs": [],
   "source": []
  },
  {
   "cell_type": "code",
   "execution_count": null,
   "metadata": {},
   "outputs": [],
   "source": []
  },
  {
   "cell_type": "code",
   "execution_count": null,
   "metadata": {},
   "outputs": [],
   "source": []
  },
  {
   "cell_type": "code",
   "execution_count": null,
   "metadata": {},
   "outputs": [],
   "source": []
  },
  {
   "cell_type": "code",
   "execution_count": null,
   "metadata": {},
   "outputs": [],
   "source": []
  },
  {
   "cell_type": "code",
   "execution_count": null,
   "metadata": {},
   "outputs": [],
   "source": []
  },
  {
   "cell_type": "code",
   "execution_count": null,
   "metadata": {},
   "outputs": [],
   "source": []
  },
  {
   "cell_type": "code",
   "execution_count": null,
   "metadata": {},
   "outputs": [],
   "source": []
  }
 ],
 "metadata": {
  "kernelspec": {
   "display_name": "Python 3",
   "language": "python",
   "name": "python3"
  },
  "language_info": {
   "codemirror_mode": {
    "name": "ipython",
    "version": 3
   },
   "file_extension": ".py",
   "mimetype": "text/x-python",
   "name": "python",
   "nbconvert_exporter": "python",
   "pygments_lexer": "ipython3",
   "version": "3.6.3"
  }
 },
 "nbformat": 4,
 "nbformat_minor": 2
}

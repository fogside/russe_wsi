{
 "cells": [
  {
   "cell_type": "code",
   "execution_count": 21,
   "metadata": {},
   "outputs": [],
   "source": [
    "from __future__ import print_function\n",
    "\n",
    "import pandas as pd\n",
    "import numpy as np\n",
    "import re\n",
    "from sklearn.datasets import fetch_20newsgroups\n",
    "from sklearn.decomposition import TruncatedSVD\n",
    "from sklearn.feature_extraction.text import TfidfVectorizer\n",
    "\n",
    "from sklearn.pipeline import make_pipeline\n",
    "from sklearn.preprocessing import Normalizer\n",
    "from sklearn import metrics\n",
    "from matplotlib import pyplot as plt\n",
    "from sklearn.cluster import KMeans, MiniBatchKMeans\n",
    "from pymystem3 import Mystem\n",
    "import tqdm\n",
    "\n",
    "%matplotlib inline"
   ]
  },
  {
   "cell_type": "markdown",
   "metadata": {},
   "source": [
    "# Data"
   ]
  },
  {
   "cell_type": "markdown",
   "metadata": {},
   "source": [
    "### The table below summarizes the dataset \n",
    "\n",
    "|Dataset|Type|Inventory|Corpus|Split|Num. of words|Num. of senses|Avg. num. of senses|Num. of contexts|\n",
    "|-----|-----|---------|-----|------|:---------:|:----------:|:----------:|:----------:|\n",
    "|wiki-wiki|main|Wikipedia|Wikipedia|train|4|8|2.0|439\n",
    "|bts-rnc|main|Gramota.ru|RNC|train|30|96|3.2|3491\n",
    "|active-dict|main|Active Dict.|Active Dict.|train|85|312|3.7|2073\n",
    "|active-rnc|additional|Active Dict.|RNC|train|20|71|3.6|1829\n",
    "|active-rutenten|additional|Active Dict.|ruTenTen|train|21|71|3.4|3671\n",
    "|bts-rutenten|additional|Gramota.ru|ruTenTen|train|11|25|2.3|956"
   ]
  },
  {
   "cell_type": "code",
   "execution_count": 45,
   "metadata": {},
   "outputs": [
    {
     "data": {
      "text/html": [
       "<div>\n",
       "<style scoped>\n",
       "    .dataframe tbody tr th:only-of-type {\n",
       "        vertical-align: middle;\n",
       "    }\n",
       "\n",
       "    .dataframe tbody tr th {\n",
       "        vertical-align: top;\n",
       "    }\n",
       "\n",
       "    .dataframe thead th {\n",
       "        text-align: right;\n",
       "    }\n",
       "</style>\n",
       "<table border=\"1\" class=\"dataframe\">\n",
       "  <thead>\n",
       "    <tr style=\"text-align: right;\">\n",
       "      <th></th>\n",
       "      <th>context_id</th>\n",
       "      <th>word</th>\n",
       "      <th>gold_sense_id</th>\n",
       "      <th>predict_sense_id</th>\n",
       "      <th>positions</th>\n",
       "      <th>context</th>\n",
       "    </tr>\n",
       "  </thead>\n",
       "  <tbody>\n",
       "    <tr>\n",
       "      <th>0</th>\n",
       "      <td>1</td>\n",
       "      <td>балка</td>\n",
       "      <td>1</td>\n",
       "      <td>NaN</td>\n",
       "      <td>90-94</td>\n",
       "      <td>маленькой комнаты. Он был очень высок, наклони...</td>\n",
       "    </tr>\n",
       "    <tr>\n",
       "      <th>1</th>\n",
       "      <td>2</td>\n",
       "      <td>балка</td>\n",
       "      <td>1</td>\n",
       "      <td>NaN</td>\n",
       "      <td>69-73</td>\n",
       "      <td>Пантюхин в Склифе сейчас. Он выползти на улицу...</td>\n",
       "    </tr>\n",
       "    <tr>\n",
       "      <th>2</th>\n",
       "      <td>3</td>\n",
       "      <td>балка</td>\n",
       "      <td>1</td>\n",
       "      <td>NaN</td>\n",
       "      <td>115-121</td>\n",
       "      <td>равнозначно обеспечивает и меланхоличную езду....</td>\n",
       "    </tr>\n",
       "    <tr>\n",
       "      <th>3</th>\n",
       "      <td>4</td>\n",
       "      <td>балка</td>\n",
       "      <td>1</td>\n",
       "      <td>NaN</td>\n",
       "      <td>85-90</td>\n",
       "      <td>верхняя часть закрыта, замкнута, многократно о...</td>\n",
       "    </tr>\n",
       "    <tr>\n",
       "      <th>4</th>\n",
       "      <td>5</td>\n",
       "      <td>балка</td>\n",
       "      <td>1</td>\n",
       "      <td>NaN</td>\n",
       "      <td>66-70</td>\n",
       "      <td>по телевизору: наши гол забили, я вскочил от р...</td>\n",
       "    </tr>\n",
       "  </tbody>\n",
       "</table>\n",
       "</div>"
      ],
      "text/plain": [
       "   context_id   word gold_sense_id predict_sense_id positions  \\\n",
       "0           1  балка             1              NaN     90-94   \n",
       "1           2  балка             1              NaN     69-73   \n",
       "2           3  балка             1              NaN   115-121   \n",
       "3           4  балка             1              NaN     85-90   \n",
       "4           5  балка             1              NaN     66-70   \n",
       "\n",
       "                                             context  \n",
       "0  маленькой комнаты. Он был очень высок, наклони...  \n",
       "1  Пантюхин в Склифе сейчас. Он выползти на улицу...  \n",
       "2  равнозначно обеспечивает и меланхоличную езду....  \n",
       "3  верхняя часть закрыта, замкнута, многократно о...  \n",
       "4  по телевизору: наши гол забили, я вскочил от р...  "
      ]
     },
     "execution_count": 45,
     "metadata": {},
     "output_type": "execute_result"
    }
   ],
   "source": [
    "data = pd.read_csv(\"../data/main/bts-rnc/train.csv\", sep='\\t',\n",
    "                   dtype={'gold_sense_id': str, 'predict_sense_id': str})\n",
    "data.head()"
   ]
  },
  {
   "cell_type": "code",
   "execution_count": 114,
   "metadata": {},
   "outputs": [
    {
     "data": {
      "text/html": [
       "<div>\n",
       "<style scoped>\n",
       "    .dataframe tbody tr th:only-of-type {\n",
       "        vertical-align: middle;\n",
       "    }\n",
       "\n",
       "    .dataframe tbody tr th {\n",
       "        vertical-align: top;\n",
       "    }\n",
       "\n",
       "    .dataframe thead th {\n",
       "        text-align: right;\n",
       "    }\n",
       "</style>\n",
       "<table border=\"1\" class=\"dataframe\">\n",
       "  <thead>\n",
       "    <tr style=\"text-align: right;\">\n",
       "      <th></th>\n",
       "      <th>context_id</th>\n",
       "      <th>word</th>\n",
       "      <th>gold_sense_id</th>\n",
       "      <th>predict_sense_id</th>\n",
       "      <th>positions</th>\n",
       "      <th>context</th>\n",
       "    </tr>\n",
       "  </thead>\n",
       "  <tbody>\n",
       "    <tr>\n",
       "      <th>0</th>\n",
       "      <td>1</td>\n",
       "      <td>балка</td>\n",
       "      <td>1</td>\n",
       "      <td>3</td>\n",
       "      <td>90-94</td>\n",
       "      <td>маленькой комнаты. Он был очень высок, наклони...</td>\n",
       "    </tr>\n",
       "    <tr>\n",
       "      <th>1</th>\n",
       "      <td>2</td>\n",
       "      <td>балка</td>\n",
       "      <td>1</td>\n",
       "      <td>4</td>\n",
       "      <td>69-73</td>\n",
       "      <td>Пантюхин в Склифе сейчас. Он выползти на улицу...</td>\n",
       "    </tr>\n",
       "    <tr>\n",
       "      <th>2</th>\n",
       "      <td>3</td>\n",
       "      <td>балка</td>\n",
       "      <td>1</td>\n",
       "      <td>1</td>\n",
       "      <td>115-121</td>\n",
       "      <td>равнозначно обеспечивает и меланхоличную езду....</td>\n",
       "    </tr>\n",
       "    <tr>\n",
       "      <th>3</th>\n",
       "      <td>4</td>\n",
       "      <td>балка</td>\n",
       "      <td>1</td>\n",
       "      <td>3</td>\n",
       "      <td>85-90</td>\n",
       "      <td>верхняя часть закрыта, замкнута, многократно о...</td>\n",
       "    </tr>\n",
       "    <tr>\n",
       "      <th>4</th>\n",
       "      <td>5</td>\n",
       "      <td>балка</td>\n",
       "      <td>1</td>\n",
       "      <td>4</td>\n",
       "      <td>66-70</td>\n",
       "      <td>по телевизору: наши гол забили, я вскочил от р...</td>\n",
       "    </tr>\n",
       "  </tbody>\n",
       "</table>\n",
       "</div>"
      ],
      "text/plain": [
       "   context_id   word gold_sense_id predict_sense_id positions  \\\n",
       "0           1  балка             1                3     90-94   \n",
       "1           2  балка             1                4     69-73   \n",
       "2           3  балка             1                1   115-121   \n",
       "3           4  балка             1                3     85-90   \n",
       "4           5  балка             1                4     66-70   \n",
       "\n",
       "                                             context  \n",
       "0  маленькой комнаты. Он был очень высок, наклони...  \n",
       "1  Пантюхин в Склифе сейчас. Он выползти на улицу...  \n",
       "2  равнозначно обеспечивает и меланхоличную езду....  \n",
       "3  верхняя часть закрыта, замкнута, многократно о...  \n",
       "4  по телевизору: наши гол забили, я вскочил от р...  "
      ]
     },
     "execution_count": 114,
     "metadata": {},
     "output_type": "execute_result"
    }
   ],
   "source": [
    "data_adagram = pd.read_csv(\"../data/main/bts-rnc/train.baseline-adagram.csv\", sep='\\t',\n",
    "                   dtype={'gold_sense_id': str, 'predict_sense_id': str})\n",
    "data_adagram.head()"
   ]
  },
  {
   "cell_type": "markdown",
   "metadata": {},
   "source": [
    "### Show how many contexts correspond to one word meaning"
   ]
  },
  {
   "cell_type": "code",
   "execution_count": 59,
   "metadata": {},
   "outputs": [
    {
     "name": "stdout",
     "output_type": "stream",
     "text": [
      "num of unique words:  30\n"
     ]
    },
    {
     "data": {
      "text/html": [
       "<div>\n",
       "<style scoped>\n",
       "    .dataframe tbody tr th:only-of-type {\n",
       "        vertical-align: middle;\n",
       "    }\n",
       "\n",
       "    .dataframe tbody tr th {\n",
       "        vertical-align: top;\n",
       "    }\n",
       "\n",
       "    .dataframe thead th {\n",
       "        text-align: right;\n",
       "    }\n",
       "</style>\n",
       "<table border=\"1\" class=\"dataframe\">\n",
       "  <thead>\n",
       "    <tr style=\"text-align: right;\">\n",
       "      <th></th>\n",
       "      <th></th>\n",
       "      <th>context</th>\n",
       "    </tr>\n",
       "    <tr>\n",
       "      <th>word</th>\n",
       "      <th>gold_sense_id</th>\n",
       "      <th></th>\n",
       "    </tr>\n",
       "  </thead>\n",
       "  <tbody>\n",
       "    <tr>\n",
       "      <th rowspan=\"2\" valign=\"top\">балка</th>\n",
       "      <th>1</th>\n",
       "      <td>81</td>\n",
       "    </tr>\n",
       "    <tr>\n",
       "      <th>2</th>\n",
       "      <td>38</td>\n",
       "    </tr>\n",
       "    <tr>\n",
       "      <th rowspan=\"3\" valign=\"top\">вид</th>\n",
       "      <th>1</th>\n",
       "      <td>38</td>\n",
       "    </tr>\n",
       "    <tr>\n",
       "      <th>2</th>\n",
       "      <td>3</td>\n",
       "    </tr>\n",
       "    <tr>\n",
       "      <th>5</th>\n",
       "      <td>36</td>\n",
       "    </tr>\n",
       "    <tr>\n",
       "      <th rowspan=\"4\" valign=\"top\">винт</th>\n",
       "      <th>1</th>\n",
       "      <td>39</td>\n",
       "    </tr>\n",
       "    <tr>\n",
       "      <th>2</th>\n",
       "      <td>67</td>\n",
       "    </tr>\n",
       "    <tr>\n",
       "      <th>3</th>\n",
       "      <td>1</td>\n",
       "    </tr>\n",
       "    <tr>\n",
       "      <th>5</th>\n",
       "      <td>16</td>\n",
       "    </tr>\n",
       "    <tr>\n",
       "      <th rowspan=\"3\" valign=\"top\">горн</th>\n",
       "      <th>1</th>\n",
       "      <td>20</td>\n",
       "    </tr>\n",
       "    <tr>\n",
       "      <th>2</th>\n",
       "      <td>1</td>\n",
       "    </tr>\n",
       "    <tr>\n",
       "      <th>3</th>\n",
       "      <td>30</td>\n",
       "    </tr>\n",
       "    <tr>\n",
       "      <th rowspan=\"3\" valign=\"top\">губа</th>\n",
       "      <th>1</th>\n",
       "      <td>132</td>\n",
       "    </tr>\n",
       "    <tr>\n",
       "      <th>3</th>\n",
       "      <td>3</td>\n",
       "    </tr>\n",
       "    <tr>\n",
       "      <th>4</th>\n",
       "      <td>2</td>\n",
       "    </tr>\n",
       "  </tbody>\n",
       "</table>\n",
       "</div>"
      ],
      "text/plain": [
       "                     context\n",
       "word  gold_sense_id         \n",
       "балка 1                   81\n",
       "      2                   38\n",
       "вид   1                   38\n",
       "      2                    3\n",
       "      5                   36\n",
       "винт  1                   39\n",
       "      2                   67\n",
       "      3                    1\n",
       "      5                   16\n",
       "горн  1                   20\n",
       "      2                    1\n",
       "      3                   30\n",
       "губа  1                  132\n",
       "      3                    3\n",
       "      4                    2"
      ]
     },
     "execution_count": 59,
     "metadata": {},
     "output_type": "execute_result"
    }
   ],
   "source": [
    "print('num of unique words: ', len(data.word.unique()))\n",
    "data.loc[:,['word', 'gold_sense_id', 'context']].groupby(['word', 'gold_sense_id']).count().head(15)"
   ]
  },
  {
   "cell_type": "code",
   "execution_count": 56,
   "metadata": {},
   "outputs": [
    {
     "data": {
      "image/png": "[encoded data removed]",
      "text/plain": [
       "<matplotlib.figure.Figure at 0x7fc63cd06f28>"
      ]
     },
     "metadata": {},
     "output_type": "display_data"
    }
   ],
   "source": [
    "count_per_sense = data.loc[:,['word', 'gold_sense_id', 'context']]\\\n",
    ".groupby(['word', 'gold_sense_id']).['context']\n",
    "\n",
    "plt.hist(count_per_sense)\n",
    "plt.title(\"Number of contexts per one word sense\")\n",
    "plt.show()"
   ]
  },
  {
   "cell_type": "code",
   "execution_count": 225,
   "metadata": {},
   "outputs": [
    {
     "data": {
      "image/png": "[encoded data removed]",
      "text/plain": [
       "<matplotlib.figure.Figure at 0x7fc6330e4ba8>"
      ]
     },
     "metadata": {},
     "output_type": "display_data"
    }
   ],
   "source": [
    "count_senses_per_word = data.loc[:,['word', 'gold_sense_id']]\\\n",
    ".groupby(['word']).nunique()['gold_sense_id']\n",
    "\n",
    "plt.hist(count_senses_per_word)\n",
    "plt.title(\"Number of senses per one word\")\n",
    "plt.show()"
   ]
  },
  {
   "cell_type": "markdown",
   "metadata": {},
   "source": [
    "# TF IDF + Clustering baseline"
   ]
  },
  {
   "cell_type": "code",
   "execution_count": 40,
   "metadata": {},
   "outputs": [],
   "source": [
    "from sklearn.model_selection import train_test_split\n",
    "from sklearn.cluster import AffinityPropagation"
   ]
  },
  {
   "cell_type": "code",
   "execution_count": 89,
   "metadata": {},
   "outputs": [],
   "source": [
    "mystem = Mystem()\n",
    "\n",
    "def lemmatized_context(s, target_word=None):\n",
    "    # lemmatize all words and words with '-'\n",
    "    if target_word is None:\n",
    "        return [w.lower() for w in mystem.lemmatize(s) if re.match('[\\w\\-]+$', w)]\n",
    "    else:\n",
    "        return [w.lower() for w in mystem.lemmatize(s) if\\\n",
    "                (re.match('[\\w\\-]+$', w) and w.lower()!=target_word)]"
   ]
  },
  {
   "cell_type": "code",
   "execution_count": 90,
   "metadata": {},
   "outputs": [
    {
     "name": "stdout",
     "output_type": "stream",
     "text": [
      "['балка' 'вид' 'винт' 'горн' 'губа' 'жаба' 'клетка' 'крыло' 'купюра'\n",
      " 'курица' 'лавка' 'лайка' 'лев' 'лира' 'мина' 'мишень' 'обед' 'оклад'\n",
      " 'опушка' 'полис' 'пост' 'поток' 'проказа' 'пропасть' 'проспект' 'пытка'\n",
      " 'рысь' 'среда' 'хвост' 'штамп']\n"
     ]
    }
   ],
   "source": [
    "words = data.word.unique()\n",
    "print(words)"
   ]
  },
  {
   "cell_type": "code",
   "execution_count": 91,
   "metadata": {},
   "outputs": [],
   "source": [
    "X_train, X_test = train_test_split(words, test_size=0.3, random_state=42)"
   ]
  },
  {
   "cell_type": "code",
   "execution_count": 92,
   "metadata": {},
   "outputs": [
    {
     "data": {
      "text/plain": [
       "array(['балка', 'губа', 'обед', 'жаба', 'лира', 'лайка', 'проказа', 'вид',\n",
       "       'винт', 'пытка', 'горн', 'поток', 'рысь', 'опушка', 'штамп', 'пост',\n",
       "       'крыло', 'лавка', 'мина', 'полис', 'клетка'], dtype=object)"
      ]
     },
     "execution_count": 92,
     "metadata": {},
     "output_type": "execute_result"
    }
   ],
   "source": [
    "X_train"
   ]
  },
  {
   "cell_type": "code",
   "execution_count": 93,
   "metadata": {},
   "outputs": [
    {
     "data": {
      "text/plain": [
       "array(['среда', 'мишень', 'пропасть', 'оклад', 'купюра', 'курица', 'хвост',\n",
       "       'проспект', 'лев'], dtype=object)"
      ]
     },
     "execution_count": 93,
     "metadata": {},
     "output_type": "execute_result"
    }
   ],
   "source": [
    "X_test"
   ]
  },
  {
   "cell_type": "code",
   "execution_count": 102,
   "metadata": {},
   "outputs": [],
   "source": [
    "vectorizer = TfidfVectorizer(max_df=0.5, min_df=2, token_pattern='[\\w\\-]+$')"
   ]
  },
  {
   "cell_type": "markdown",
   "metadata": {},
   "source": [
    "# TF-IDF fit all contexts"
   ]
  },
  {
   "cell_type": "code",
   "execution_count": 100,
   "metadata": {},
   "outputs": [
    {
     "data": {
      "text/plain": [
       "'маленький комната он быть очень высокий наклонять голова словно подпирать плечо потолочный балка посмотреть на сьянов серьезный черный глаз я из москва быть испытывать здесь'"
      ]
     },
     "execution_count": 100,
     "metadata": {},
     "output_type": "execute_result"
    }
   ],
   "source": [
    "# contexts with target_word\n",
    "all_contexts = [\" \".join(lemmatized_context(c)) for c in data.context]\n",
    "all_contexts[0]"
   ]
  },
  {
   "cell_type": "code",
   "execution_count": 107,
   "metadata": {},
   "outputs": [
    {
     "data": {
      "text/plain": [
       "'маленький комната он быть очень высокий наклонять голова словно подпирать плечо потолочный посмотреть на сьянов серьезный черный глаз я из москва быть испытывать здесь'"
      ]
     },
     "execution_count": 107,
     "metadata": {},
     "output_type": "execute_result"
    }
   ],
   "source": [
    "# contexts without target_word\n",
    "contexts_without_tword = np.array([\" \".join(lemmatized_context(c,w)) for w,c in zip(data.word, data.context)])\n",
    "contexts_without_tword[0]"
   ]
  },
  {
   "cell_type": "markdown",
   "metadata": {},
   "source": [
    "### tf-idf, contexts without target word"
   ]
  },
  {
   "cell_type": "code",
   "execution_count": 108,
   "metadata": {},
   "outputs": [],
   "source": [
    "contexts_without_tword_transformed = vectorizer.fit_transform(contexts_without_tword)"
   ]
  },
  {
   "cell_type": "code",
   "execution_count": 109,
   "metadata": {},
   "outputs": [
    {
     "data": {
      "text/plain": [
       "382"
      ]
     },
     "execution_count": 109,
     "metadata": {},
     "output_type": "execute_result"
    }
   ],
   "source": [
    "len(vectorizer.get_feature_names())"
   ]
  },
  {
   "cell_type": "markdown",
   "metadata": {},
   "source": [
    "### Predict fun"
   ]
  },
  {
   "cell_type": "code",
   "execution_count": 136,
   "metadata": {},
   "outputs": [],
   "source": [
    "def get_labels_for_word(word, all_contexts_vectorized, cluster_model):\n",
    "    ids = list(data[data.word == word].index)\n",
    "    X = all_contexts_vectorized[ids]\n",
    "    golden_labels = data[data.word == word].gold_sense_id\n",
    "    baseline_labels = data_adagram[data_adagram.word == word].predict_sense_id\n",
    "    cluster_model.fit(X)\n",
    "    print('WORD: ', word)\n",
    "    print(\"This models ari: \", metrics.adjusted_rand_score(golden_labels, cluster_model.labels_))\n",
    "    print(\"Adagram models ari: \", metrics.adjusted_rand_score(golden_labels, baseline_labels))\n",
    "    print('\\n')\n",
    "    return X, cluster_model.labels_, golden_labels"
   ]
  },
  {
   "cell_type": "markdown",
   "metadata": {},
   "source": [
    "# DBSCAN"
   ]
  },
  {
   "cell_type": "code",
   "execution_count": 125,
   "metadata": {},
   "outputs": [],
   "source": [
    "from sklearn.cluster import DBSCAN"
   ]
  },
  {
   "cell_type": "code",
   "execution_count": 165,
   "metadata": {},
   "outputs": [
    {
     "data": {
      "text/plain": [
       "{'algorithm': 'auto',\n",
       " 'eps': 0.9,\n",
       " 'leaf_size': 30,\n",
       " 'metric': 'euclidean',\n",
       " 'metric_params': None,\n",
       " 'min_samples': 5,\n",
       " 'n_jobs': 1,\n",
       " 'p': None}"
      ]
     },
     "execution_count": 165,
     "metadata": {},
     "output_type": "execute_result"
    }
   ],
   "source": [
    "db = DBSCAN(eps=0.9,)\n",
    "db.get_params()"
   ]
  },
  {
   "cell_type": "code",
   "execution_count": 196,
   "metadata": {},
   "outputs": [
    {
     "data": {
      "text/html": [
       "<div>\n",
       "<style scoped>\n",
       "    .dataframe tbody tr th:only-of-type {\n",
       "        vertical-align: middle;\n",
       "    }\n",
       "\n",
       "    .dataframe tbody tr th {\n",
       "        vertical-align: top;\n",
       "    }\n",
       "\n",
       "    .dataframe thead th {\n",
       "        text-align: right;\n",
       "    }\n",
       "</style>\n",
       "<table border=\"1\" class=\"dataframe\">\n",
       "  <thead>\n",
       "    <tr style=\"text-align: right;\">\n",
       "      <th></th>\n",
       "      <th>context_id</th>\n",
       "      <th>word</th>\n",
       "      <th>gold_sense_id</th>\n",
       "      <th>predict_sense_id</th>\n",
       "      <th>positions</th>\n",
       "      <th>context</th>\n",
       "    </tr>\n",
       "  </thead>\n",
       "  <tbody>\n",
       "    <tr>\n",
       "      <th>0</th>\n",
       "      <td>1</td>\n",
       "      <td>балка</td>\n",
       "      <td>1</td>\n",
       "      <td>NaN</td>\n",
       "      <td>90-94</td>\n",
       "      <td>маленькой комнаты. Он был очень высок, наклони...</td>\n",
       "    </tr>\n",
       "    <tr>\n",
       "      <th>1</th>\n",
       "      <td>2</td>\n",
       "      <td>балка</td>\n",
       "      <td>1</td>\n",
       "      <td>NaN</td>\n",
       "      <td>69-73</td>\n",
       "      <td>Пантюхин в Склифе сейчас. Он выползти на улицу...</td>\n",
       "    </tr>\n",
       "    <tr>\n",
       "      <th>2</th>\n",
       "      <td>3</td>\n",
       "      <td>балка</td>\n",
       "      <td>1</td>\n",
       "      <td>NaN</td>\n",
       "      <td>115-121</td>\n",
       "      <td>равнозначно обеспечивает и меланхоличную езду....</td>\n",
       "    </tr>\n",
       "    <tr>\n",
       "      <th>3</th>\n",
       "      <td>4</td>\n",
       "      <td>балка</td>\n",
       "      <td>1</td>\n",
       "      <td>NaN</td>\n",
       "      <td>85-90</td>\n",
       "      <td>верхняя часть закрыта, замкнута, многократно о...</td>\n",
       "    </tr>\n",
       "    <tr>\n",
       "      <th>4</th>\n",
       "      <td>5</td>\n",
       "      <td>балка</td>\n",
       "      <td>1</td>\n",
       "      <td>NaN</td>\n",
       "      <td>66-70</td>\n",
       "      <td>по телевизору: наши гол забили, я вскочил от р...</td>\n",
       "    </tr>\n",
       "  </tbody>\n",
       "</table>\n",
       "</div>"
      ],
      "text/plain": [
       "   context_id   word gold_sense_id predict_sense_id positions  \\\n",
       "0           1  балка             1              NaN     90-94   \n",
       "1           2  балка             1              NaN     69-73   \n",
       "2           3  балка             1              NaN   115-121   \n",
       "3           4  балка             1              NaN     85-90   \n",
       "4           5  балка             1              NaN     66-70   \n",
       "\n",
       "                                             context  \n",
       "0  маленькой комнаты. Он был очень высок, наклони...  \n",
       "1  Пантюхин в Склифе сейчас. Он выползти на улицу...  \n",
       "2  равнозначно обеспечивает и меланхоличную езду....  \n",
       "3  верхняя часть закрыта, замкнута, многократно о...  \n",
       "4  по телевизору: наши гол забили, я вскочил от р...  "
      ]
     },
     "execution_count": 196,
     "metadata": {},
     "output_type": "execute_result"
    }
   ],
   "source": [
    "tmp = data[data.word.isin(X_train)]\n",
    "tmp.head()"
   ]
  },
  {
   "cell_type": "code",
   "execution_count": 203,
   "metadata": {},
   "outputs": [
    {
     "data": {
      "text/plain": [
       "'балка'"
      ]
     },
     "execution_count": 203,
     "metadata": {},
     "output_type": "execute_result"
    }
   ],
   "source": [
    "X_train[0]"
   ]
  },
  {
   "cell_type": "code",
   "execution_count": 211,
   "metadata": {},
   "outputs": [],
   "source": [
    "import warnings\n",
    "warnings.simplefilter('ignore')"
   ]
  },
  {
   "cell_type": "code",
   "execution_count": 212,
   "metadata": {},
   "outputs": [
    {
     "name": "stdout",
     "output_type": "stream",
     "text": [
      "WORD:  балка\n",
      "This models ari:  -0.0149682340721\n",
      "Adagram models ari:  0.219333489332\n",
      "\n",
      "\n",
      "WORD:  губа\n",
      "This models ari:  -0.00790558743572\n",
      "Adagram models ari:  0.0115319590965\n",
      "\n",
      "\n",
      "WORD:  обед\n",
      "This models ari:  -0.0409023281082\n",
      "Adagram models ari:  0.109923377765\n",
      "\n",
      "\n",
      "WORD:  жаба\n",
      "This models ari:  0.0111378529531\n",
      "Adagram models ari:  0.153283825274\n",
      "\n",
      "\n",
      "WORD:  лира\n",
      "This models ari:  0.0316205533597\n",
      "Adagram models ari:  0.624677947218\n",
      "\n",
      "\n",
      "WORD:  лайка\n",
      "This models ari:  0.0323031882436\n",
      "Adagram models ari:  -0.0286259541985\n",
      "\n",
      "\n",
      "WORD:  проказа\n",
      "This models ari:  -0.0126600733053\n",
      "Adagram models ari:  0.49553256338\n",
      "\n",
      "\n",
      "WORD:  вид\n",
      "This models ari:  -0.0175631247147\n",
      "Adagram models ari:  0.174318665765\n",
      "\n",
      "\n",
      "WORD:  винт\n",
      "This models ari:  0.0108950106824\n",
      "Adagram models ari:  0.278357151237\n",
      "\n",
      "\n",
      "WORD:  пытка\n",
      "This models ari:  0.031770911911\n",
      "Adagram models ari:  0.0263722039155\n",
      "\n",
      "\n",
      "WORD:  горн\n",
      "This models ari:  -0.0199372346317\n",
      "Adagram models ari:  0.148054197859\n",
      "\n",
      "\n",
      "WORD:  поток\n",
      "This models ari:  0.00728145242565\n",
      "Adagram models ari:  0.0590943613372\n",
      "\n",
      "\n",
      "WORD:  рысь\n",
      "This models ari:  -0.00988506685266\n",
      "Adagram models ari:  0.64151296985\n",
      "\n",
      "\n",
      "WORD:  опушка\n",
      "This models ari:  -0.0171833148413\n",
      "Adagram models ari:  0.141431200872\n",
      "\n",
      "\n",
      "WORD:  штамп\n",
      "This models ari:  -0.0110775899944\n",
      "Adagram models ari:  0.432813280977\n",
      "\n",
      "\n",
      "WORD:  пост\n",
      "This models ari:  -0.0220606015681\n",
      "Adagram models ari:  0.653151623199\n",
      "\n",
      "\n",
      "WORD:  крыло\n",
      "This models ari:  -0.00882287233909\n",
      "Adagram models ari:  0.232676909262\n",
      "\n",
      "\n",
      "WORD:  лавка\n",
      "This models ari:  -0.00238338110279\n",
      "Adagram models ari:  0.275709766651\n",
      "\n",
      "\n",
      "WORD:  мина\n",
      "This models ari:  0.00827663397249\n",
      "Adagram models ari:  0.34228340958\n",
      "\n",
      "\n",
      "WORD:  полис\n",
      "This models ari:  0.000773460894953\n",
      "Adagram models ari:  0.0577070244493\n",
      "\n",
      "\n",
      "WORD:  клетка\n",
      "This models ari:  0.0154419050876\n",
      "Adagram models ari:  0.253547723726\n",
      "\n",
      "\n"
     ]
    }
   ],
   "source": [
    "for word in X_train:\n",
    "    X, pred_labels, golden_labels = get_labels_for_word(word, contexts_without_tword_transformed, db)\n",
    "    tmp.loc[tmp.word == word,'predict_sense_id'] = pred_labels"
   ]
  },
  {
   "cell_type": "code",
   "execution_count": 207,
   "metadata": {
    "collapsed": true
   },
   "outputs": [
    {
     "data": {
      "text/html": [
       "<div>\n",
       "<style scoped>\n",
       "    .dataframe tbody tr th:only-of-type {\n",
       "        vertical-align: middle;\n",
       "    }\n",
       "\n",
       "    .dataframe tbody tr th {\n",
       "        vertical-align: top;\n",
       "    }\n",
       "\n",
       "    .dataframe thead th {\n",
       "        text-align: right;\n",
       "    }\n",
       "</style>\n",
       "<table border=\"1\" class=\"dataframe\">\n",
       "  <thead>\n",
       "    <tr style=\"text-align: right;\">\n",
       "      <th></th>\n",
       "      <th>context_id</th>\n",
       "      <th>word</th>\n",
       "      <th>gold_sense_id</th>\n",
       "      <th>predict_sense_id</th>\n",
       "      <th>positions</th>\n",
       "      <th>context</th>\n",
       "    </tr>\n",
       "  </thead>\n",
       "  <tbody>\n",
       "    <tr>\n",
       "      <th>0</th>\n",
       "      <td>1</td>\n",
       "      <td>балка</td>\n",
       "      <td>1</td>\n",
       "      <td>-1</td>\n",
       "      <td>90-94</td>\n",
       "      <td>маленькой комнаты. Он был очень высок, наклони...</td>\n",
       "    </tr>\n",
       "    <tr>\n",
       "      <th>1</th>\n",
       "      <td>2</td>\n",
       "      <td>балка</td>\n",
       "      <td>1</td>\n",
       "      <td>-1</td>\n",
       "      <td>69-73</td>\n",
       "      <td>Пантюхин в Склифе сейчас. Он выползти на улицу...</td>\n",
       "    </tr>\n",
       "    <tr>\n",
       "      <th>2</th>\n",
       "      <td>3</td>\n",
       "      <td>балка</td>\n",
       "      <td>1</td>\n",
       "      <td>0</td>\n",
       "      <td>115-121</td>\n",
       "      <td>равнозначно обеспечивает и меланхоличную езду....</td>\n",
       "    </tr>\n",
       "    <tr>\n",
       "      <th>3</th>\n",
       "      <td>4</td>\n",
       "      <td>балка</td>\n",
       "      <td>1</td>\n",
       "      <td>1</td>\n",
       "      <td>85-90</td>\n",
       "      <td>верхняя часть закрыта, замкнута, многократно о...</td>\n",
       "    </tr>\n",
       "    <tr>\n",
       "      <th>4</th>\n",
       "      <td>5</td>\n",
       "      <td>балка</td>\n",
       "      <td>1</td>\n",
       "      <td>-1</td>\n",
       "      <td>66-70</td>\n",
       "      <td>по телевизору: наши гол забили, я вскочил от р...</td>\n",
       "    </tr>\n",
       "    <tr>\n",
       "      <th>5</th>\n",
       "      <td>6</td>\n",
       "      <td>балка</td>\n",
       "      <td>1</td>\n",
       "      <td>-1</td>\n",
       "      <td>77-81</td>\n",
       "      <td>вы взглянете на стену нашего театра возле ЦУМа...</td>\n",
       "    </tr>\n",
       "    <tr>\n",
       "      <th>6</th>\n",
       "      <td>7</td>\n",
       "      <td>балка</td>\n",
       "      <td>1</td>\n",
       "      <td>-1</td>\n",
       "      <td>85-89</td>\n",
       "      <td>плите приварены стойки 13, на которых смонтиро...</td>\n",
       "    </tr>\n",
       "    <tr>\n",
       "      <th>7</th>\n",
       "      <td>8</td>\n",
       "      <td>балка</td>\n",
       "      <td>1</td>\n",
       "      <td>1</td>\n",
       "      <td>57-61</td>\n",
       "      <td>засунуть свой сверток? Да в одни и те же места...</td>\n",
       "    </tr>\n",
       "    <tr>\n",
       "      <th>8</th>\n",
       "      <td>9</td>\n",
       "      <td>балка</td>\n",
       "      <td>1</td>\n",
       "      <td>-1</td>\n",
       "      <td>100-104</td>\n",
       "      <td>активно шла работа по переработке металлолома,...</td>\n",
       "    </tr>\n",
       "    <tr>\n",
       "      <th>9</th>\n",
       "      <td>10</td>\n",
       "      <td>балка</td>\n",
       "      <td>1</td>\n",
       "      <td>-1</td>\n",
       "      <td>101-106</td>\n",
       "      <td>основания, находится место, где частенько соби...</td>\n",
       "    </tr>\n",
       "    <tr>\n",
       "      <th>10</th>\n",
       "      <td>11</td>\n",
       "      <td>балка</td>\n",
       "      <td>1</td>\n",
       "      <td>-1</td>\n",
       "      <td>97-101</td>\n",
       "      <td>ценим историческую архитектуру и бережно подхо...</td>\n",
       "    </tr>\n",
       "    <tr>\n",
       "      <th>11</th>\n",
       "      <td>12</td>\n",
       "      <td>балка</td>\n",
       "      <td>1</td>\n",
       "      <td>-1</td>\n",
       "      <td>90-95</td>\n",
       "      <td>деле следствие перехода к конкурентном рынку. ...</td>\n",
       "    </tr>\n",
       "    <tr>\n",
       "      <th>12</th>\n",
       "      <td>13</td>\n",
       "      <td>балка</td>\n",
       "      <td>1</td>\n",
       "      <td>1</td>\n",
       "      <td>103-107</td>\n",
       "      <td>доме, упакованы все проблемы современной биохи...</td>\n",
       "    </tr>\n",
       "    <tr>\n",
       "      <th>13</th>\n",
       "      <td>14</td>\n",
       "      <td>балка</td>\n",
       "      <td>1</td>\n",
       "      <td>1</td>\n",
       "      <td>74-78</td>\n",
       "      <td>, удары колёс о стыки рельсов стали звонче , и...</td>\n",
       "    </tr>\n",
       "    <tr>\n",
       "      <th>14</th>\n",
       "      <td>15</td>\n",
       "      <td>балка</td>\n",
       "      <td>1</td>\n",
       "      <td>1</td>\n",
       "      <td>90-94</td>\n",
       "      <td>. Глушков работал с безумным исступлением , и ...</td>\n",
       "    </tr>\n",
       "    <tr>\n",
       "      <th>15</th>\n",
       "      <td>16</td>\n",
       "      <td>балка</td>\n",
       "      <td>1</td>\n",
       "      <td>1</td>\n",
       "      <td>80-84</td>\n",
       "      <td>!.. Дрок упорно таскал к месту, облюбованному ...</td>\n",
       "    </tr>\n",
       "    <tr>\n",
       "      <th>16</th>\n",
       "      <td>17</td>\n",
       "      <td>балка</td>\n",
       "      <td>1</td>\n",
       "      <td>1</td>\n",
       "      <td>97-101</td>\n",
       "      <td>-Рига, через реку Вазуза, местный житель, спус...</td>\n",
       "    </tr>\n",
       "    <tr>\n",
       "      <th>17</th>\n",
       "      <td>18</td>\n",
       "      <td>балка</td>\n",
       "      <td>1</td>\n",
       "      <td>1</td>\n",
       "      <td>82-86</td>\n",
       "      <td>при чем. Основной на сегодня является версия, ...</td>\n",
       "    </tr>\n",
       "    <tr>\n",
       "      <th>18</th>\n",
       "      <td>19</td>\n",
       "      <td>балка</td>\n",
       "      <td>1</td>\n",
       "      <td>-1</td>\n",
       "      <td>94-98</td>\n",
       "      <td>видно небо. Есть дома, особенно небольшие, с р...</td>\n",
       "    </tr>\n",
       "    <tr>\n",
       "      <th>19</th>\n",
       "      <td>20</td>\n",
       "      <td>балка</td>\n",
       "      <td>1</td>\n",
       "      <td>1</td>\n",
       "      <td>63-69</td>\n",
       "      <td>на Пресне ломали старинный дом: с третьего яру...</td>\n",
       "    </tr>\n",
       "    <tr>\n",
       "      <th>20</th>\n",
       "      <td>21</td>\n",
       "      <td>балка</td>\n",
       "      <td>1</td>\n",
       "      <td>0</td>\n",
       "      <td>80-85</td>\n",
       "      <td>, лазил на горящие здания; огнем опалило ему в...</td>\n",
       "    </tr>\n",
       "    <tr>\n",
       "      <th>21</th>\n",
       "      <td>22</td>\n",
       "      <td>балка</td>\n",
       "      <td>1</td>\n",
       "      <td>-1</td>\n",
       "      <td>64-68</td>\n",
       "      <td>-- Добавить балку ко второму концу балки E 1 и...</td>\n",
       "    </tr>\n",
       "    <tr>\n",
       "      <th>22</th>\n",
       "      <td>23</td>\n",
       "      <td>балка</td>\n",
       "      <td>1</td>\n",
       "      <td>1</td>\n",
       "      <td>91-95</td>\n",
       "      <td>при надобности и битая бутылка . Жёлтая электр...</td>\n",
       "    </tr>\n",
       "    <tr>\n",
       "      <th>23</th>\n",
       "      <td>24</td>\n",
       "      <td>балка</td>\n",
       "      <td>1</td>\n",
       "      <td>-1</td>\n",
       "      <td>78-82</td>\n",
       "      <td>во весь рост только в таком случае, если предв...</td>\n",
       "    </tr>\n",
       "    <tr>\n",
       "      <th>24</th>\n",
       "      <td>25</td>\n",
       "      <td>балка</td>\n",
       "      <td>1</td>\n",
       "      <td>1</td>\n",
       "      <td>74-78</td>\n",
       "      <td>Э.Г.Отиса. Небоскреб состоит из фундамента, ст...</td>\n",
       "    </tr>\n",
       "    <tr>\n",
       "      <th>25</th>\n",
       "      <td>26</td>\n",
       "      <td>балка</td>\n",
       "      <td>1</td>\n",
       "      <td>-1</td>\n",
       "      <td>64-69</td>\n",
       "      <td>из колонн и балок над землей и стен на завесах...</td>\n",
       "    </tr>\n",
       "    <tr>\n",
       "      <th>26</th>\n",
       "      <td>27</td>\n",
       "      <td>балка</td>\n",
       "      <td>1</td>\n",
       "      <td>-1</td>\n",
       "      <td>92-96</td>\n",
       "      <td>мины. По словам губернатора, такой вывод можно...</td>\n",
       "    </tr>\n",
       "    <tr>\n",
       "      <th>27</th>\n",
       "      <td>28</td>\n",
       "      <td>балка</td>\n",
       "      <td>1</td>\n",
       "      <td>1</td>\n",
       "      <td>69-75</td>\n",
       "      <td>домов – полностью снесен шифер с крыш, с одног...</td>\n",
       "    </tr>\n",
       "    <tr>\n",
       "      <th>28</th>\n",
       "      <td>29</td>\n",
       "      <td>балка</td>\n",
       "      <td>1</td>\n",
       "      <td>-1</td>\n",
       "      <td>94-98</td>\n",
       "      <td>, едва озарявшими взволнованные лица. При их т...</td>\n",
       "    </tr>\n",
       "    <tr>\n",
       "      <th>29</th>\n",
       "      <td>30</td>\n",
       "      <td>балка</td>\n",
       "      <td>1</td>\n",
       "      <td>0</td>\n",
       "      <td>93-97</td>\n",
       "      <td>мимо Гашека. Талисман «Металлурга» лисенок что...</td>\n",
       "    </tr>\n",
       "    <tr>\n",
       "      <th>...</th>\n",
       "      <td>...</td>\n",
       "      <td>...</td>\n",
       "      <td>...</td>\n",
       "      <td>...</td>\n",
       "      <td>...</td>\n",
       "      <td>...</td>\n",
       "    </tr>\n",
       "    <tr>\n",
       "      <th>3461</th>\n",
       "      <td>3462</td>\n",
       "      <td>штамп</td>\n",
       "      <td>4</td>\n",
       "      <td>0</td>\n",
       "      <td>78-83</td>\n",
       "      <td>способностей обычно устанавливаются годам к 14...</td>\n",
       "    </tr>\n",
       "    <tr>\n",
       "      <th>3462</th>\n",
       "      <td>3463</td>\n",
       "      <td>штамп</td>\n",
       "      <td>4</td>\n",
       "      <td>0</td>\n",
       "      <td>90-96</td>\n",
       "      <td>-иностранца, пейдодна-пейдодна-пейдодна, к нам...</td>\n",
       "    </tr>\n",
       "    <tr>\n",
       "      <th>3463</th>\n",
       "      <td>3464</td>\n",
       "      <td>штамп</td>\n",
       "      <td>4</td>\n",
       "      <td>0</td>\n",
       "      <td>84-89</td>\n",
       "      <td>местами неряшлив (9), в описаниях имеются проб...</td>\n",
       "    </tr>\n",
       "    <tr>\n",
       "      <th>3464</th>\n",
       "      <td>3465</td>\n",
       "      <td>штамп</td>\n",
       "      <td>4</td>\n",
       "      <td>-1</td>\n",
       "      <td>0-4</td>\n",
       "      <td>Штамп«они были первыми» идеален для Людмилы Бе...</td>\n",
       "    </tr>\n",
       "    <tr>\n",
       "      <th>3465</th>\n",
       "      <td>3466</td>\n",
       "      <td>штамп</td>\n",
       "      <td>4</td>\n",
       "      <td>0</td>\n",
       "      <td>98-104</td>\n",
       "      <td>португальскую копию под аккомпанемент благодар...</td>\n",
       "    </tr>\n",
       "    <tr>\n",
       "      <th>3466</th>\n",
       "      <td>3467</td>\n",
       "      <td>штамп</td>\n",
       "      <td>4</td>\n",
       "      <td>0</td>\n",
       "      <td>100-105</td>\n",
       "      <td>-- к ограниченности. Античный саркофаг -- к ис...</td>\n",
       "    </tr>\n",
       "    <tr>\n",
       "      <th>3467</th>\n",
       "      <td>3468</td>\n",
       "      <td>штамп</td>\n",
       "      <td>4</td>\n",
       "      <td>0</td>\n",
       "      <td>87-93</td>\n",
       "      <td>ценный хоккеист лиги потянул мышцы «верхней ча...</td>\n",
       "    </tr>\n",
       "    <tr>\n",
       "      <th>3468</th>\n",
       "      <td>3469</td>\n",
       "      <td>штамп</td>\n",
       "      <td>4</td>\n",
       "      <td>0</td>\n",
       "      <td>86-91</td>\n",
       "      <td>делу -- энтузиазмом горячего сердца. И, конечн...</td>\n",
       "    </tr>\n",
       "    <tr>\n",
       "      <th>3469</th>\n",
       "      <td>3470</td>\n",
       "      <td>штамп</td>\n",
       "      <td>4</td>\n",
       "      <td>0</td>\n",
       "      <td>91-96</td>\n",
       "      <td>неудачного музыкального воплощения. Так, З. Ко...</td>\n",
       "    </tr>\n",
       "    <tr>\n",
       "      <th>3470</th>\n",
       "      <td>3471</td>\n",
       "      <td>штамп</td>\n",
       "      <td>4</td>\n",
       "      <td>0</td>\n",
       "      <td>99-105</td>\n",
       "      <td>нередко зачисляли в драмоделы елизаветинских в...</td>\n",
       "    </tr>\n",
       "    <tr>\n",
       "      <th>3471</th>\n",
       "      <td>3472</td>\n",
       "      <td>штамп</td>\n",
       "      <td>4</td>\n",
       "      <td>-1</td>\n",
       "      <td>77-82</td>\n",
       "      <td>лист бумаги фосфоресцировать в ночи в ожидании...</td>\n",
       "    </tr>\n",
       "    <tr>\n",
       "      <th>3472</th>\n",
       "      <td>3473</td>\n",
       "      <td>штамп</td>\n",
       "      <td>4</td>\n",
       "      <td>0</td>\n",
       "      <td>85-92</td>\n",
       "      <td>, и разборки в мужском коллективе (Андерсон сн...</td>\n",
       "    </tr>\n",
       "    <tr>\n",
       "      <th>3473</th>\n",
       "      <td>3474</td>\n",
       "      <td>штамп</td>\n",
       "      <td>4</td>\n",
       "      <td>-1</td>\n",
       "      <td>89-94</td>\n",
       "      <td>вспомнить трудно, но среагировать на качествен...</td>\n",
       "    </tr>\n",
       "    <tr>\n",
       "      <th>3474</th>\n",
       "      <td>3475</td>\n",
       "      <td>штамп</td>\n",
       "      <td>4</td>\n",
       "      <td>-1</td>\n",
       "      <td>98-103</td>\n",
       "      <td>, обладающего такой же способностью, как и она...</td>\n",
       "    </tr>\n",
       "    <tr>\n",
       "      <th>3475</th>\n",
       "      <td>3476</td>\n",
       "      <td>штамп</td>\n",
       "      <td>4</td>\n",
       "      <td>-1</td>\n",
       "      <td>76-82</td>\n",
       "      <td>порождает своих монстров и своих штампов? - А ...</td>\n",
       "    </tr>\n",
       "    <tr>\n",
       "      <th>3476</th>\n",
       "      <td>3477</td>\n",
       "      <td>штамп</td>\n",
       "      <td>4</td>\n",
       "      <td>-1</td>\n",
       "      <td>102-109</td>\n",
       "      <td>, что наша публикация, как минимум, содержател...</td>\n",
       "    </tr>\n",
       "    <tr>\n",
       "      <th>3477</th>\n",
       "      <td>3478</td>\n",
       "      <td>штамп</td>\n",
       "      <td>4</td>\n",
       "      <td>-1</td>\n",
       "      <td>101-105</td>\n",
       "      <td>» Ларина на работе государственного характера....</td>\n",
       "    </tr>\n",
       "    <tr>\n",
       "      <th>3478</th>\n",
       "      <td>3479</td>\n",
       "      <td>штамп</td>\n",
       "      <td>4</td>\n",
       "      <td>-1</td>\n",
       "      <td>72-76</td>\n",
       "      <td>, на экране, все здорово. Или хотя бы есть на ...</td>\n",
       "    </tr>\n",
       "    <tr>\n",
       "      <th>3479</th>\n",
       "      <td>3480</td>\n",
       "      <td>штамп</td>\n",
       "      <td>4</td>\n",
       "      <td>-1</td>\n",
       "      <td>86-90</td>\n",
       "      <td>Вахтанговском театре у меня не было возможност...</td>\n",
       "    </tr>\n",
       "    <tr>\n",
       "      <th>3480</th>\n",
       "      <td>3481</td>\n",
       "      <td>штамп</td>\n",
       "      <td>4</td>\n",
       "      <td>-1</td>\n",
       "      <td>108-115</td>\n",
       "      <td>ритуальными, но и представляли собой основу по...</td>\n",
       "    </tr>\n",
       "    <tr>\n",
       "      <th>3481</th>\n",
       "      <td>3482</td>\n",
       "      <td>штамп</td>\n",
       "      <td>4</td>\n",
       "      <td>0</td>\n",
       "      <td>102-107</td>\n",
       "      <td>объясняются недостаточным овладением мелодикой...</td>\n",
       "    </tr>\n",
       "    <tr>\n",
       "      <th>3482</th>\n",
       "      <td>3483</td>\n",
       "      <td>штамп</td>\n",
       "      <td>4</td>\n",
       "      <td>0</td>\n",
       "      <td>94-101</td>\n",
       "      <td>не хватает в Дагестане. Адаптация «лесных» Офи...</td>\n",
       "    </tr>\n",
       "    <tr>\n",
       "      <th>3483</th>\n",
       "      <td>3484</td>\n",
       "      <td>штамп</td>\n",
       "      <td>4</td>\n",
       "      <td>0</td>\n",
       "      <td>99-105</td>\n",
       "      <td>коллектива \"Блестящие\", даже облаченные в воен...</td>\n",
       "    </tr>\n",
       "    <tr>\n",
       "      <th>3484</th>\n",
       "      <td>3485</td>\n",
       "      <td>штамп</td>\n",
       "      <td>4</td>\n",
       "      <td>-1</td>\n",
       "      <td>84-90</td>\n",
       "      <td>роль личности всячески ущемляется, так как она...</td>\n",
       "    </tr>\n",
       "    <tr>\n",
       "      <th>3485</th>\n",
       "      <td>3486</td>\n",
       "      <td>штамп</td>\n",
       "      <td>4</td>\n",
       "      <td>-1</td>\n",
       "      <td>98-104</td>\n",
       "      <td>одновременно типично русской страстностью. В П...</td>\n",
       "    </tr>\n",
       "    <tr>\n",
       "      <th>3486</th>\n",
       "      <td>3487</td>\n",
       "      <td>штамп</td>\n",
       "      <td>4</td>\n",
       "      <td>1</td>\n",
       "      <td>81-86</td>\n",
       "      <td>дурак, но партию свою отрабатывал точно, по ус...</td>\n",
       "    </tr>\n",
       "    <tr>\n",
       "      <th>3487</th>\n",
       "      <td>3488</td>\n",
       "      <td>штамп</td>\n",
       "      <td>4</td>\n",
       "      <td>-1</td>\n",
       "      <td>85-90</td>\n",
       "      <td>дело... получается, мыслить и выражать свое мн...</td>\n",
       "    </tr>\n",
       "    <tr>\n",
       "      <th>3488</th>\n",
       "      <td>3489</td>\n",
       "      <td>штамп</td>\n",
       "      <td>4</td>\n",
       "      <td>-1</td>\n",
       "      <td>71-77</td>\n",
       "      <td>, что актер должен иметь пять штампов-клише \"п...</td>\n",
       "    </tr>\n",
       "    <tr>\n",
       "      <th>3489</th>\n",
       "      <td>3490</td>\n",
       "      <td>штамп</td>\n",
       "      <td>4</td>\n",
       "      <td>1</td>\n",
       "      <td>107-112</td>\n",
       "      <td>сегодняшний день в системе негосударственного ...</td>\n",
       "    </tr>\n",
       "    <tr>\n",
       "      <th>3490</th>\n",
       "      <td>3491</td>\n",
       "      <td>штамп</td>\n",
       "      <td>4</td>\n",
       "      <td>-1</td>\n",
       "      <td>95-100</td>\n",
       "      <td>молиться на Брукхаймера… …В «Пираты Карибского...</td>\n",
       "    </tr>\n",
       "  </tbody>\n",
       "</table>\n",
       "<p>2406 rows × 6 columns</p>\n",
       "</div>"
      ],
      "text/plain": [
       "      context_id   word gold_sense_id  predict_sense_id positions  \\\n",
       "0              1  балка             1                -1     90-94   \n",
       "1              2  балка             1                -1     69-73   \n",
       "2              3  балка             1                 0   115-121   \n",
       "3              4  балка             1                 1     85-90   \n",
       "4              5  балка             1                -1     66-70   \n",
       "5              6  балка             1                -1     77-81   \n",
       "6              7  балка             1                -1     85-89   \n",
       "7              8  балка             1                 1     57-61   \n",
       "8              9  балка             1                -1   100-104   \n",
       "9             10  балка             1                -1   101-106   \n",
       "10            11  балка             1                -1    97-101   \n",
       "11            12  балка             1                -1     90-95   \n",
       "12            13  балка             1                 1   103-107   \n",
       "13            14  балка             1                 1     74-78   \n",
       "14            15  балка             1                 1     90-94   \n",
       "15            16  балка             1                 1     80-84   \n",
       "16            17  балка             1                 1    97-101   \n",
       "17            18  балка             1                 1     82-86   \n",
       "18            19  балка             1                -1     94-98   \n",
       "19            20  балка             1                 1     63-69   \n",
       "20            21  балка             1                 0     80-85   \n",
       "21            22  балка             1                -1     64-68   \n",
       "22            23  балка             1                 1     91-95   \n",
       "23            24  балка             1                -1     78-82   \n",
       "24            25  балка             1                 1     74-78   \n",
       "25            26  балка             1                -1     64-69   \n",
       "26            27  балка             1                -1     92-96   \n",
       "27            28  балка             1                 1     69-75   \n",
       "28            29  балка             1                -1     94-98   \n",
       "29            30  балка             1                 0     93-97   \n",
       "...          ...    ...           ...               ...       ...   \n",
       "3461        3462  штамп             4                 0     78-83   \n",
       "3462        3463  штамп             4                 0     90-96   \n",
       "3463        3464  штамп             4                 0     84-89   \n",
       "3464        3465  штамп             4                -1       0-4   \n",
       "3465        3466  штамп             4                 0    98-104   \n",
       "3466        3467  штамп             4                 0   100-105   \n",
       "3467        3468  штамп             4                 0     87-93   \n",
       "3468        3469  штамп             4                 0     86-91   \n",
       "3469        3470  штамп             4                 0     91-96   \n",
       "3470        3471  штамп             4                 0    99-105   \n",
       "3471        3472  штамп             4                -1     77-82   \n",
       "3472        3473  штамп             4                 0     85-92   \n",
       "3473        3474  штамп             4                -1     89-94   \n",
       "3474        3475  штамп             4                -1    98-103   \n",
       "3475        3476  штамп             4                -1     76-82   \n",
       "3476        3477  штамп             4                -1   102-109   \n",
       "3477        3478  штамп             4                -1   101-105   \n",
       "3478        3479  штамп             4                -1     72-76   \n",
       "3479        3480  штамп             4                -1     86-90   \n",
       "3480        3481  штамп             4                -1   108-115   \n",
       "3481        3482  штамп             4                 0   102-107   \n",
       "3482        3483  штамп             4                 0    94-101   \n",
       "3483        3484  штамп             4                 0    99-105   \n",
       "3484        3485  штамп             4                -1     84-90   \n",
       "3485        3486  штамп             4                -1    98-104   \n",
       "3486        3487  штамп             4                 1     81-86   \n",
       "3487        3488  штамп             4                -1     85-90   \n",
       "3488        3489  штамп             4                -1     71-77   \n",
       "3489        3490  штамп             4                 1   107-112   \n",
       "3490        3491  штамп             4                -1    95-100   \n",
       "\n",
       "                                                context  \n",
       "0     маленькой комнаты. Он был очень высок, наклони...  \n",
       "1     Пантюхин в Склифе сейчас. Он выползти на улицу...  \n",
       "2     равнозначно обеспечивает и меланхоличную езду....  \n",
       "3     верхняя часть закрыта, замкнута, многократно о...  \n",
       "4     по телевизору: наши гол забили, я вскочил от р...  \n",
       "5     вы взглянете на стену нашего театра возле ЦУМа...  \n",
       "6     плите приварены стойки 13, на которых смонтиро...  \n",
       "7     засунуть свой сверток? Да в одни и те же места...  \n",
       "8     активно шла работа по переработке металлолома,...  \n",
       "9     основания, находится место, где частенько соби...  \n",
       "10    ценим историческую архитектуру и бережно подхо...  \n",
       "11    деле следствие перехода к конкурентном рынку. ...  \n",
       "12    доме, упакованы все проблемы современной биохи...  \n",
       "13    , удары колёс о стыки рельсов стали звонче , и...  \n",
       "14    . Глушков работал с безумным исступлением , и ...  \n",
       "15    !.. Дрок упорно таскал к месту, облюбованному ...  \n",
       "16    -Рига, через реку Вазуза, местный житель, спус...  \n",
       "17    при чем. Основной на сегодня является версия, ...  \n",
       "18    видно небо. Есть дома, особенно небольшие, с р...  \n",
       "19    на Пресне ломали старинный дом: с третьего яру...  \n",
       "20    , лазил на горящие здания; огнем опалило ему в...  \n",
       "21    -- Добавить балку ко второму концу балки E 1 и...  \n",
       "22    при надобности и битая бутылка . Жёлтая электр...  \n",
       "23    во весь рост только в таком случае, если предв...  \n",
       "24    Э.Г.Отиса. Небоскреб состоит из фундамента, ст...  \n",
       "25    из колонн и балок над землей и стен на завесах...  \n",
       "26    мины. По словам губернатора, такой вывод можно...  \n",
       "27    домов – полностью снесен шифер с крыш, с одног...  \n",
       "28    , едва озарявшими взволнованные лица. При их т...  \n",
       "29    мимо Гашека. Талисман «Металлурга» лисенок что...  \n",
       "...                                                 ...  \n",
       "3461  способностей обычно устанавливаются годам к 14...  \n",
       "3462  -иностранца, пейдодна-пейдодна-пейдодна, к нам...  \n",
       "3463  местами неряшлив (9), в описаниях имеются проб...  \n",
       "3464  Штамп«они были первыми» идеален для Людмилы Бе...  \n",
       "3465  португальскую копию под аккомпанемент благодар...  \n",
       "3466  -- к ограниченности. Античный саркофаг -- к ис...  \n",
       "3467  ценный хоккеист лиги потянул мышцы «верхней ча...  \n",
       "3468  делу -- энтузиазмом горячего сердца. И, конечн...  \n",
       "3469  неудачного музыкального воплощения. Так, З. Ко...  \n",
       "3470  нередко зачисляли в драмоделы елизаветинских в...  \n",
       "3471  лист бумаги фосфоресцировать в ночи в ожидании...  \n",
       "3472  , и разборки в мужском коллективе (Андерсон сн...  \n",
       "3473  вспомнить трудно, но среагировать на качествен...  \n",
       "3474  , обладающего такой же способностью, как и она...  \n",
       "3475  порождает своих монстров и своих штампов? - А ...  \n",
       "3476  , что наша публикация, как минимум, содержател...  \n",
       "3477  » Ларина на работе государственного характера....  \n",
       "3478  , на экране, все здорово. Или хотя бы есть на ...  \n",
       "3479  Вахтанговском театре у меня не было возможност...  \n",
       "3480  ритуальными, но и представляли собой основу по...  \n",
       "3481  объясняются недостаточным овладением мелодикой...  \n",
       "3482  не хватает в Дагестане. Адаптация «лесных» Офи...  \n",
       "3483  коллектива \"Блестящие\", даже облаченные в воен...  \n",
       "3484  роль личности всячески ущемляется, так как она...  \n",
       "3485  одновременно типично русской страстностью. В П...  \n",
       "3486  дурак, но партию свою отрабатывал точно, по ус...  \n",
       "3487  дело... получается, мыслить и выражать свое мн...  \n",
       "3488  , что актер должен иметь пять штампов-клише \"п...  \n",
       "3489  сегодняшний день в системе негосударственного ...  \n",
       "3490  молиться на Брукхаймера… …В «Пираты Карибского...  \n",
       "\n",
       "[2406 rows x 6 columns]"
      ]
     },
     "execution_count": 207,
     "metadata": {},
     "output_type": "execute_result"
    }
   ],
   "source": [
    "tmp"
   ]
  },
  {
   "cell_type": "markdown",
   "metadata": {},
   "source": [
    "# Visualization"
   ]
  },
  {
   "cell_type": "code",
   "execution_count": 168,
   "metadata": {},
   "outputs": [
    {
     "name": "stdout",
     "output_type": "stream",
     "text": [
      "WORD:  поток\n",
      "This models ari:  0.00728145242565\n",
      "Adagram models ari:  0.0590943613372\n",
      "\n",
      "\n"
     ]
    },
    {
     "data": {
      "text/plain": [
       "array([-1, -1,  0,  0,  0, -1,  0,  0,  0, -1,  1, -1,  0, -1,  1,  0,  0,\n",
       "       -1, -1,  1, -1,  0,  0,  0, -1,  0,  0, -1,  0,  0, -1, -1,  0, -1,\n",
       "       -1,  0, -1, -1, -1, -1, -1, -1,  0, -1,  0, -1, -1, -1, -1,  0, -1,\n",
       "       -1, -1, -1,  0, -1,  0,  0, -1, -1,  0,  0,  0,  1,  0, -1,  0,  0,\n",
       "        0, -1, -1, -1,  0,  0, -1, -1,  0,  0,  0, -1,  0, -1,  0,  0,  0,\n",
       "        0,  0, -1, -1,  0,  1,  0,  0,  0, -1,  0, -1,  0,  0, -1,  0,  0,\n",
       "       -1,  0, -1,  0, -1,  0, -1, -1,  0,  0, -1, -1, -1, -1,  0,  0, -1,\n",
       "        0,  0, -1, -1, -1,  0, -1,  0, -1,  0,  0,  1,  0, -1, -1, -1, -1])"
      ]
     },
     "execution_count": 168,
     "metadata": {},
     "output_type": "execute_result"
    }
   ],
   "source": [
    "X, pred_labels, golden_labels = get_labels_for_word('поток', contexts_without_tword_transformed, db)\n",
    "pred_labels"
   ]
  },
  {
   "cell_type": "code",
   "execution_count": 169,
   "metadata": {},
   "outputs": [
    {
     "data": {
      "text/plain": [
       "(array([ 65.,   0.,   0.,   0.,   0.,  65.,   0.,   0.,   0.,   6.]),\n",
       " array([-1. , -0.8, -0.6, -0.4, -0.2,  0. ,  0.2,  0.4,  0.6,  0.8,  1. ]),\n",
       " <a list of 10 Patch objects>)"
      ]
     },
     "execution_count": 169,
     "metadata": {},
     "output_type": "execute_result"
    },
    {
     "data": {
      "image/png": "[encoded data removed]",
      "text/plain": [
       "<matplotlib.figure.Figure at 0x7fc632d4b748>"
      ]
     },
     "metadata": {},
     "output_type": "display_data"
    }
   ],
   "source": [
    "plt.hist(pred_labels)"
   ]
  },
  {
   "cell_type": "code",
   "execution_count": 170,
   "metadata": {},
   "outputs": [],
   "source": [
    "from sklearn.manifold import TSNE\n",
    "from sklearn.decomposition import PCA"
   ]
  },
  {
   "cell_type": "code",
   "execution_count": 179,
   "metadata": {},
   "outputs": [],
   "source": [
    "def visualize(pred_labels, golden_labels, X):\n",
    "    pca = PCA(n_components=2, random_state=42)\n",
    "    viz_x = pca.fit_transform(X.toarray())\n",
    "    plt.scatter(viz_x[:,0], viz_x[:,1], c=pred_labels, alpha=0.2)\n",
    "    plt.title(\"PCA, Predicted labels\")\n",
    "    plt.colorbar()\n",
    "    plt.show()\n",
    "    # -----\n",
    "    plt.scatter(viz_x[:,0], viz_x[:,1], c=golden_labels, alpha=0.2)\n",
    "    plt.title(\"PCA, golden labels\")\n",
    "    plt.colorbar()\n",
    "    plt.show()\n",
    "    # -----\n",
    "    tsne = TSNE()\n",
    "    viz_tsne = tsne.fit_transform(X.toarray())\n",
    "    plt.scatter(viz_tsne[:,0], viz_tsne[:,1], c=pred_labels, alpha=0.2)\n",
    "    plt.title(\"TSNE, Predicted labels\")\n",
    "    plt.colorbar()\n",
    "    plt.show()\n",
    "    # -----\n",
    "    plt.scatter(viz_tsne[:,0], viz_tsne[:,1], c=golden_labels, alpha=0.2)\n",
    "    plt.title(\"TSNE, golden labels\")\n",
    "    plt.colorbar()\n",
    "    plt.show()"
   ]
  },
  {
   "cell_type": "code",
   "execution_count": 180,
   "metadata": {},
   "outputs": [
    {
     "data": {
      "image/png": "[encoded data removed]",
      "text/plain": [
       "<matplotlib.figure.Figure at 0x7fc63358aac8>"
      ]
     },
     "metadata": {},
     "output_type": "display_data"
    },
    {
     "data": {
      "image/png": "[encoded data removed]",
      "text/plain": [
       "<matplotlib.figure.Figure at 0x7fc6132463c8>"
      ]
     },
     "metadata": {},
     "output_type": "display_data"
    },
    {
     "data": {
      "image/png": "[encoded data removed]",
      "text/plain": [
       "<matplotlib.figure.Figure at 0x7fc6336db860>"
      ]
     },
     "metadata": {},
     "output_type": "display_data"
    },
    {
     "data": {
      "image/png": "[encoded data removed]",
      "text/plain": [
       "<matplotlib.figure.Figure at 0x7fc632cf3898>"
      ]
     },
     "metadata": {},
     "output_type": "display_data"
    }
   ],
   "source": [
    "visualize(pred_labels=pred_labels, golden_labels=golden_labels, X=X)"
   ]
  },
  {
   "cell_type": "markdown",
   "metadata": {},
   "source": [
    "# AffinityPropagation"
   ]
  },
  {
   "cell_type": "code",
   "execution_count": 213,
   "metadata": {},
   "outputs": [],
   "source": [
    "af = AffinityPropagation()"
   ]
  },
  {
   "cell_type": "code",
   "execution_count": 214,
   "metadata": {
    "collapsed": true
   },
   "outputs": [
    {
     "name": "stdout",
     "output_type": "stream",
     "text": [
      "WORD:  балка\n",
      "This models ari:  0.000334744581675\n",
      "Adagram models ari:  0.219333489332\n",
      "\n",
      "\n",
      "WORD:  губа\n",
      "This models ari:  0.00222342434433\n",
      "Adagram models ari:  0.0115319590965\n",
      "\n",
      "\n",
      "WORD:  обед\n",
      "This models ari:  0.00434456813363\n",
      "Adagram models ari:  0.109923377765\n",
      "\n",
      "\n",
      "WORD:  жаба\n",
      "This models ari:  -0.000749661563429\n",
      "Adagram models ari:  0.153283825274\n",
      "\n",
      "\n",
      "WORD:  лира\n",
      "This models ari:  -0.0054212500394\n",
      "Adagram models ari:  0.624677947218\n",
      "\n",
      "\n",
      "WORD:  лайка\n",
      "This models ari:  0.000129562337327\n",
      "Adagram models ari:  -0.0286259541985\n",
      "\n",
      "\n",
      "WORD:  проказа\n",
      "This models ari:  0.00123727493778\n",
      "Adagram models ari:  0.49553256338\n",
      "\n",
      "\n",
      "WORD:  вид\n",
      "This models ari:  -0.00113965821497\n",
      "Adagram models ari:  0.174318665765\n",
      "\n",
      "\n",
      "WORD:  винт\n",
      "This models ari:  -0.000685613029143\n",
      "Adagram models ari:  0.278357151237\n",
      "\n",
      "\n",
      "WORD:  пытка\n",
      "This models ari:  -0.000338029831076\n",
      "Adagram models ari:  0.0263722039155\n",
      "\n",
      "\n",
      "WORD:  горн\n",
      "This models ari:  -0.00156857824068\n",
      "Adagram models ari:  0.148054197859\n",
      "\n",
      "\n",
      "WORD:  поток\n",
      "This models ari:  -0.000875292481916\n",
      "Adagram models ari:  0.0590943613372\n",
      "\n",
      "\n",
      "WORD:  рысь\n",
      "This models ari:  0.000471838597736\n",
      "Adagram models ari:  0.64151296985\n",
      "\n",
      "\n",
      "WORD:  опушка\n",
      "This models ari:  0.000199235776646\n",
      "Adagram models ari:  0.141431200872\n",
      "\n",
      "\n",
      "WORD:  штамп\n",
      "This models ari:  0.000863770039592\n",
      "Adagram models ari:  0.432813280977\n",
      "\n",
      "\n",
      "WORD:  пост\n",
      "This models ari:  -0.0011017070149\n",
      "Adagram models ari:  0.653151623199\n",
      "\n",
      "\n",
      "WORD:  крыло\n",
      "This models ari:  0.00514001612972\n",
      "Adagram models ari:  0.232676909262\n",
      "\n",
      "\n",
      "WORD:  лавка\n",
      "This models ari:  -0.000754238962656\n",
      "Adagram models ari:  0.275709766651\n",
      "\n",
      "\n",
      "WORD:  мина\n",
      "This models ari:  0.0108685338063\n",
      "Adagram models ari:  0.34228340958\n",
      "\n",
      "\n",
      "WORD:  полис\n",
      "This models ari:  -0.00112615286529\n",
      "Adagram models ari:  0.0577070244493\n",
      "\n",
      "\n",
      "WORD:  клетка\n",
      "This models ari:  -0.000799240729751\n",
      "Adagram models ari:  0.253547723726\n",
      "\n",
      "\n"
     ]
    }
   ],
   "source": [
    "for word in X_train:\n",
    "    X, pred_labels, golden_labels = get_labels_for_word(word, contexts_without_tword_transformed, af)\n",
    "    tmp.loc[tmp.word == word,'predict_sense_id'] = pred_labels"
   ]
  },
  {
   "cell_type": "code",
   "execution_count": 219,
   "metadata": {},
   "outputs": [
    {
     "name": "stdout",
     "output_type": "stream",
     "text": [
      "WORD:  поток\n",
      "This models ari:  -0.000875292481916\n",
      "Adagram models ari:  0.0590943613372\n",
      "\n",
      "\n"
     ]
    },
    {
     "data": {
      "text/plain": [
       "array([  0,   1,   2,   3,   4,   5,   6,   7,   8,  83,  75,   9,  10,\n",
       "        54,  75,  11,  12,  13,  14,  75,  15,  16,  17,  18,  19,  20,\n",
       "        21,   7,  22,  23,   2,  24,  25,  26,  27,  28,  29,  54,  30,\n",
       "        31,  83,  32,  33,  34,  35,  36,  37,  38,  39,  40,  41,  42,\n",
       "        43,  44,  45,  46,  47,  48,  89,  49,  50,  51,  52,  75,  53,\n",
       "        54,  55,  56,  57,  18,  58,  59,  60,  61, 104,  58,  62,  63,\n",
       "        64,  65,  66,  67,  68,  69,  70,  71,  72,  73,  13,  74,  75,\n",
       "        76,  77,  78,  79,  80,  30,  81,  82,  83,  84,  85,  86,  87,\n",
       "        30,  88,  89,  90,  91,  38,  92,  93,  94,  95,  48,  96,  97,\n",
       "        98,  99, 100, 101, 102, 103, 104, 105,  13, 106, 107, 108, 109,\n",
       "        75, 110,  13,  83, 111, 112])"
      ]
     },
     "execution_count": 219,
     "metadata": {},
     "output_type": "execute_result"
    }
   ],
   "source": [
    "X, pred_labels, golden_labels = get_labels_for_word('поток', contexts_without_tword_transformed, af)\n",
    "pred_labels"
   ]
  },
  {
   "cell_type": "code",
   "execution_count": 221,
   "metadata": {},
   "outputs": [
    {
     "data": {
      "image/png": "[encoded data removed]",
      "text/plain": [
       "<matplotlib.figure.Figure at 0x7fc633571dd8>"
      ]
     },
     "metadata": {},
     "output_type": "display_data"
    },
    {
     "data": {
      "image/png": "[encoded data removed]",
      "text/plain": [
       "<matplotlib.figure.Figure at 0x7fc6331c2e10>"
      ]
     },
     "metadata": {},
     "output_type": "display_data"
    },
    {
     "data": {
      "image/png": "[encoded data removed]",
      "text/plain": [
       "<matplotlib.figure.Figure at 0x7fc632d05d30>"
      ]
     },
     "metadata": {},
     "output_type": "display_data"
    },
    {
     "data": {
      "image/png": "[encoded data removed]",
      "text/plain": [
       "<matplotlib.figure.Figure at 0x7fc63cdc6198>"
      ]
     },
     "metadata": {},
     "output_type": "display_data"
    }
   ],
   "source": [
    "visualize(pred_labels=pred_labels, golden_labels=golden_labels, X=X)"
   ]
  },
  {
   "cell_type": "markdown",
   "metadata": {},
   "source": [
    "# 4 classes KMeans"
   ]
  },
  {
   "cell_type": "code",
   "execution_count": 227,
   "metadata": {},
   "outputs": [],
   "source": [
    "from sklearn.cluster import KMeans"
   ]
  },
  {
   "cell_type": "code",
   "execution_count": 233,
   "metadata": {},
   "outputs": [],
   "source": [
    "km = KMeans(n_clusters=4)"
   ]
  },
  {
   "cell_type": "code",
   "execution_count": 234,
   "metadata": {
    "scrolled": true
   },
   "outputs": [
    {
     "name": "stdout",
     "output_type": "stream",
     "text": [
      "WORD:  балка\n",
      "This models ari:  -0.0327544164703\n",
      "Adagram models ari:  0.219333489332\n",
      "\n",
      "\n",
      "WORD:  губа\n",
      "This models ari:  -0.0497265435791\n",
      "Adagram models ari:  0.0115319590965\n",
      "\n",
      "\n",
      "WORD:  обед\n",
      "This models ari:  -0.024084536235\n",
      "Adagram models ari:  0.109923377765\n",
      "\n",
      "\n",
      "WORD:  жаба\n",
      "This models ari:  0.0261326437373\n",
      "Adagram models ari:  0.153283825274\n",
      "\n",
      "\n",
      "WORD:  лира\n",
      "This models ari:  0.116030422163\n",
      "Adagram models ari:  0.624677947218\n",
      "\n",
      "\n",
      "WORD:  лайка\n",
      "This models ari:  -0.0128029891958\n",
      "Adagram models ari:  -0.0286259541985\n",
      "\n",
      "\n",
      "WORD:  проказа\n",
      "This models ari:  -0.0193226808286\n",
      "Adagram models ari:  0.49553256338\n",
      "\n",
      "\n",
      "WORD:  вид\n",
      "This models ari:  -0.0193017992252\n",
      "Adagram models ari:  0.174318665765\n",
      "\n",
      "\n",
      "WORD:  винт\n",
      "This models ari:  0.0194261509055\n",
      "Adagram models ari:  0.278357151237\n",
      "\n",
      "\n",
      "WORD:  пытка\n",
      "This models ari:  0.0963804601948\n",
      "Adagram models ari:  0.0263722039155\n",
      "\n",
      "\n",
      "WORD:  горн\n",
      "This models ari:  -0.0259732378554\n",
      "Adagram models ari:  0.148054197859\n",
      "\n",
      "\n",
      "WORD:  поток\n",
      "This models ari:  0.0541966585607\n",
      "Adagram models ari:  0.0590943613372\n",
      "\n",
      "\n",
      "WORD:  рысь\n",
      "This models ari:  -0.0274397674515\n",
      "Adagram models ari:  0.64151296985\n",
      "\n",
      "\n",
      "WORD:  опушка\n",
      "This models ari:  0.0428777265143\n",
      "Adagram models ari:  0.141431200872\n",
      "\n",
      "\n",
      "WORD:  штамп\n",
      "This models ari:  -0.0176538546842\n",
      "Adagram models ari:  0.432813280977\n",
      "\n",
      "\n",
      "WORD:  пост\n",
      "This models ari:  -0.00715496801018\n",
      "Adagram models ari:  0.653151623199\n",
      "\n",
      "\n",
      "WORD:  крыло\n",
      "This models ari:  -0.0354030762111\n",
      "Adagram models ari:  0.232676909262\n",
      "\n",
      "\n",
      "WORD:  лавка\n",
      "This models ari:  -0.00279554220644\n",
      "Adagram models ari:  0.275709766651\n",
      "\n",
      "\n",
      "WORD:  мина\n",
      "This models ari:  0.00654786061292\n",
      "Adagram models ari:  0.34228340958\n",
      "\n",
      "\n",
      "WORD:  полис\n",
      "This models ari:  0.110292207033\n",
      "Adagram models ari:  0.0577070244493\n",
      "\n",
      "\n",
      "WORD:  клетка\n",
      "This models ari:  0.0435060741804\n",
      "Adagram models ari:  0.253547723726\n",
      "\n",
      "\n"
     ]
    }
   ],
   "source": [
    "for word in X_train:\n",
    "    X, pred_labels, golden_labels = get_labels_for_word(word, contexts_without_tword_transformed, km)\n",
    "    tmp.loc[tmp.word == word,'predict_sense_id'] = pred_labels"
   ]
  },
  {
   "cell_type": "code",
   "execution_count": 238,
   "metadata": {},
   "outputs": [
    {
     "name": "stdout",
     "output_type": "stream",
     "text": [
      "WORD:  поток\n",
      "This models ari:  -0.00672439161191\n",
      "Adagram models ari:  0.0590943613372\n",
      "\n",
      "\n"
     ]
    },
    {
     "data": {
      "text/plain": [
       "array([1, 1, 1, 1, 1, 1, 1, 1, 1, 1, 0, 1, 1, 3, 0, 1, 1, 1, 1, 0, 1, 1, 1,\n",
       "       1, 1, 1, 1, 1, 1, 1, 1, 1, 1, 1, 1, 1, 1, 3, 2, 1, 1, 1, 1, 1, 1, 1,\n",
       "       1, 1, 1, 1, 1, 1, 1, 1, 1, 1, 1, 1, 1, 1, 1, 1, 1, 0, 1, 3, 1, 1, 1,\n",
       "       1, 1, 1, 1, 1, 1, 1, 1, 1, 1, 1, 1, 1, 1, 1, 1, 1, 1, 1, 1, 1, 0, 1,\n",
       "       1, 1, 1, 1, 2, 1, 1, 1, 1, 1, 1, 1, 2, 1, 1, 1, 1, 1, 1, 1, 1, 1, 1,\n",
       "       1, 1, 1, 1, 1, 1, 1, 1, 1, 1, 1, 1, 1, 1, 1, 0, 1, 1, 1, 1, 1], dtype=int32)"
      ]
     },
     "execution_count": 238,
     "metadata": {},
     "output_type": "execute_result"
    }
   ],
   "source": [
    "X, pred_labels, golden_labels = get_labels_for_word('поток', contexts_without_tword_transformed, km)\n",
    "pred_labels"
   ]
  },
  {
   "cell_type": "code",
   "execution_count": 239,
   "metadata": {},
   "outputs": [
    {
     "data": {
      "image/png": "[encoded data removed]",
      "text/plain": [
       "<matplotlib.figure.Figure at 0x7fc60f47b470>"
      ]
     },
     "metadata": {},
     "output_type": "display_data"
    },
    {
     "data": {
      "image/png": "[encoded data removed]",
      "text/plain": [
       "<matplotlib.figure.Figure at 0x7fc63c9dfc50>"
      ]
     },
     "metadata": {},
     "output_type": "display_data"
    },
    {
     "data": {
      "image/png": "[encoded data removed]",
      "text/plain": [
       "<matplotlib.figure.Figure at 0x7fc632d05438>"
      ]
     },
     "metadata": {},
     "output_type": "display_data"
    },
    {
     "data": {
      "image/png": "[encoded data removed]",
      "text/plain": [
       "<matplotlib.figure.Figure at 0x7fc6332c7080>"
      ]
     },
     "metadata": {},
     "output_type": "display_data"
    }
   ],
   "source": [
    "visualize(pred_labels=pred_labels, golden_labels=golden_labels, X=X)"
   ]
  },
  {
   "cell_type": "markdown",
   "metadata": {},
   "source": [
    "## Compare with adagram"
   ]
  },
  {
   "cell_type": "code",
   "execution_count": 240,
   "metadata": {},
   "outputs": [
    {
     "data": {
      "text/html": [
       "<div>\n",
       "<style scoped>\n",
       "    .dataframe tbody tr th:only-of-type {\n",
       "        vertical-align: middle;\n",
       "    }\n",
       "\n",
       "    .dataframe tbody tr th {\n",
       "        vertical-align: top;\n",
       "    }\n",
       "\n",
       "    .dataframe thead th {\n",
       "        text-align: right;\n",
       "    }\n",
       "</style>\n",
       "<table border=\"1\" class=\"dataframe\">\n",
       "  <thead>\n",
       "    <tr style=\"text-align: right;\">\n",
       "      <th></th>\n",
       "      <th>context_id</th>\n",
       "      <th>word</th>\n",
       "      <th>gold_sense_id</th>\n",
       "      <th>predict_sense_id</th>\n",
       "      <th>positions</th>\n",
       "      <th>context</th>\n",
       "    </tr>\n",
       "  </thead>\n",
       "  <tbody>\n",
       "    <tr>\n",
       "      <th>0</th>\n",
       "      <td>1</td>\n",
       "      <td>балка</td>\n",
       "      <td>1</td>\n",
       "      <td>3</td>\n",
       "      <td>90-94</td>\n",
       "      <td>маленькой комнаты. Он был очень высок, наклони...</td>\n",
       "    </tr>\n",
       "    <tr>\n",
       "      <th>1</th>\n",
       "      <td>2</td>\n",
       "      <td>балка</td>\n",
       "      <td>1</td>\n",
       "      <td>4</td>\n",
       "      <td>69-73</td>\n",
       "      <td>Пантюхин в Склифе сейчас. Он выползти на улицу...</td>\n",
       "    </tr>\n",
       "    <tr>\n",
       "      <th>2</th>\n",
       "      <td>3</td>\n",
       "      <td>балка</td>\n",
       "      <td>1</td>\n",
       "      <td>1</td>\n",
       "      <td>115-121</td>\n",
       "      <td>равнозначно обеспечивает и меланхоличную езду....</td>\n",
       "    </tr>\n",
       "    <tr>\n",
       "      <th>3</th>\n",
       "      <td>4</td>\n",
       "      <td>балка</td>\n",
       "      <td>1</td>\n",
       "      <td>3</td>\n",
       "      <td>85-90</td>\n",
       "      <td>верхняя часть закрыта, замкнута, многократно о...</td>\n",
       "    </tr>\n",
       "    <tr>\n",
       "      <th>4</th>\n",
       "      <td>5</td>\n",
       "      <td>балка</td>\n",
       "      <td>1</td>\n",
       "      <td>4</td>\n",
       "      <td>66-70</td>\n",
       "      <td>по телевизору: наши гол забили, я вскочил от р...</td>\n",
       "    </tr>\n",
       "  </tbody>\n",
       "</table>\n",
       "</div>"
      ],
      "text/plain": [
       "   context_id   word gold_sense_id predict_sense_id positions  \\\n",
       "0           1  балка             1                3     90-94   \n",
       "1           2  балка             1                4     69-73   \n",
       "2           3  балка             1                1   115-121   \n",
       "3           4  балка             1                3     85-90   \n",
       "4           5  балка             1                4     66-70   \n",
       "\n",
       "                                             context  \n",
       "0  маленькой комнаты. Он был очень высок, наклони...  \n",
       "1  Пантюхин в Склифе сейчас. Он выползти на улицу...  \n",
       "2  равнозначно обеспечивает и меланхоличную езду....  \n",
       "3  верхняя часть закрыта, замкнута, многократно о...  \n",
       "4  по телевизору: наши гол забили, я вскочил от р...  "
      ]
     },
     "execution_count": 240,
     "metadata": {},
     "output_type": "execute_result"
    }
   ],
   "source": [
    "lol = data_adagram[data_adagram.word.isin(X_train)]\n",
    "lol.head()"
   ]
  },
  {
   "cell_type": "code",
   "execution_count": 241,
   "metadata": {},
   "outputs": [],
   "source": [
    "lol.to_csv(\"../tmp_res/adagrad.csv\", sep='\\t', index=False)"
   ]
  },
  {
   "cell_type": "markdown",
   "metadata": {},
   "source": [
    "## Alternative metrics currently drafted"
   ]
  },
  {
   "cell_type": "code",
   "execution_count": null,
   "metadata": {},
   "outputs": [],
   "source": [
    "print(\"Homogeneity: %0.3f\" % metrics.homogeneity_score(labels, km.labels_))\n",
    "print(\"Completeness: %0.3f\" % metrics.completeness_score(labels, km.labels_))\n",
    "print(\"V-measure: %0.3f\" % metrics.v_measure_score(labels, km.labels_))\n",
    "print(\"Adjusted Rand-Index: %.3f\"\n",
    "      % metrics.adjusted_rand_score(labels, km.labels_))\n",
    "print(\"Silhouette Coefficient: %0.3f\"\n",
    "      % metrics.silhouette_score(X, km.labels_, sample_size=1000))"
   ]
  },
  {
   "cell_type": "markdown",
   "metadata": {},
   "source": [
    "# Evaluation"
   ]
  },
  {
   "cell_type": "markdown",
   "metadata": {},
   "source": [
    "### baseline evaluation"
   ]
  },
  {
   "cell_type": "code",
   "execution_count": 242,
   "metadata": {},
   "outputs": [
    {
     "name": "stdout",
     "output_type": "stream",
     "text": [
      "word\tari\tcount\r\n",
      "балка\t0.219333\t119\r\n",
      "вид\t0.174319\t77\r\n",
      "винт\t0.278357\t123\r\n",
      "горн\t0.148054\t51\r\n",
      "губа\t0.011532\t137\r\n",
      "жаба\t0.153284\t121\r\n",
      "клетка\t0.253548\t150\r\n",
      "крыло\t0.232677\t91\r\n",
      "лавка\t0.275710\t149\r\n",
      "лайка\t-0.028626\t99\r\n",
      "лира\t0.624678\t49\r\n",
      "мина\t0.342283\t65\r\n",
      "обед\t0.109923\t100\r\n",
      "опушка\t0.141431\t148\r\n",
      "полис\t0.057707\t142\r\n",
      "пост\t0.653152\t144\r\n",
      "поток\t0.059094\t136\r\n",
      "проказа\t0.495533\t146\r\n",
      "пытка\t0.026372\t143\r\n",
      "рысь\t0.641513\t120\r\n",
      "штамп\t0.432813\t96\r\n",
      "\t0.244642\t2406\r\n"
     ]
    }
   ],
   "source": [
    "!python3 ../evaluate.py ../tmp_res/adagrad.csv"
   ]
  },
  {
   "cell_type": "code",
   "execution_count": 208,
   "metadata": {},
   "outputs": [],
   "source": [
    "tmp.to_csv(\"../tmp_res/dbscan.csv\", sep='\\t', index=False)"
   ]
  },
  {
   "cell_type": "code",
   "execution_count": 209,
   "metadata": {},
   "outputs": [
    {
     "name": "stdout",
     "output_type": "stream",
     "text": [
      "word\tari\tcount\r\n",
      "балка\t-0.014968\t119\r\n",
      "вид\t-0.017563\t77\r\n",
      "винт\t0.010895\t123\r\n",
      "горн\t-0.019937\t51\r\n",
      "губа\t-0.007906\t137\r\n",
      "жаба\t0.011138\t121\r\n",
      "клетка\t0.015442\t150\r\n",
      "крыло\t-0.008823\t91\r\n",
      "лавка\t-0.002383\t149\r\n",
      "лайка\t0.032303\t99\r\n",
      "лира\t0.031621\t49\r\n",
      "мина\t0.008277\t65\r\n",
      "обед\t-0.040902\t100\r\n",
      "опушка\t-0.017183\t148\r\n",
      "полис\t0.000773\t142\r\n",
      "пост\t-0.022061\t144\r\n",
      "поток\t0.007281\t136\r\n",
      "проказа\t-0.012660\t146\r\n",
      "пытка\t0.031771\t143\r\n",
      "рысь\t-0.009885\t120\r\n",
      "штамп\t-0.011078\t96\r\n",
      "\t-0.001815\t2406\r\n"
     ]
    }
   ],
   "source": [
    "!python3 ../evaluate.py ../tmp_res/dbscan.csv"
   ]
  },
  {
   "cell_type": "code",
   "execution_count": 215,
   "metadata": {},
   "outputs": [],
   "source": [
    "tmp.to_csv(\"../tmp_res/affProp.csv\", sep='\\t', index=False)"
   ]
  },
  {
   "cell_type": "code",
   "execution_count": 216,
   "metadata": {},
   "outputs": [
    {
     "name": "stdout",
     "output_type": "stream",
     "text": [
      "word\tari\tcount\r\n",
      "балка\t0.000335\t119\r\n",
      "вид\t-0.001140\t77\r\n",
      "винт\t-0.000686\t123\r\n",
      "горн\t-0.001569\t51\r\n",
      "губа\t0.002223\t137\r\n",
      "жаба\t-0.000750\t121\r\n",
      "клетка\t-0.000799\t150\r\n",
      "крыло\t0.005140\t91\r\n",
      "лавка\t-0.000754\t149\r\n",
      "лайка\t0.000130\t99\r\n",
      "лира\t-0.005421\t49\r\n",
      "мина\t0.010869\t65\r\n",
      "обед\t0.004345\t100\r\n",
      "опушка\t0.000199\t148\r\n",
      "полис\t-0.001126\t142\r\n",
      "пост\t-0.001102\t144\r\n",
      "поток\t-0.000875\t136\r\n",
      "проказа\t0.001237\t146\r\n",
      "пытка\t-0.000338\t143\r\n",
      "рысь\t0.000472\t120\r\n",
      "штамп\t0.000864\t96\r\n",
      "\t0.000411\t2406\r\n"
     ]
    }
   ],
   "source": [
    "!python3 ../evaluate.py ../tmp_res/affProp.csv"
   ]
  },
  {
   "cell_type": "code",
   "execution_count": 235,
   "metadata": {},
   "outputs": [],
   "source": [
    "tmp.to_csv(\"../tmp_res/knn_4.csv\", sep='\\t', index=False)"
   ]
  },
  {
   "cell_type": "code",
   "execution_count": 236,
   "metadata": {},
   "outputs": [
    {
     "name": "stdout",
     "output_type": "stream",
     "text": [
      "word\tari\tcount\r\n",
      "балка\t-0.032754\t119\r\n",
      "вид\t-0.019302\t77\r\n",
      "винт\t0.019426\t123\r\n",
      "горн\t-0.025973\t51\r\n",
      "губа\t-0.049727\t137\r\n",
      "жаба\t0.026133\t121\r\n",
      "клетка\t0.043506\t150\r\n",
      "крыло\t-0.035403\t91\r\n",
      "лавка\t-0.002796\t149\r\n",
      "лайка\t-0.012803\t99\r\n",
      "лира\t0.116030\t49\r\n",
      "мина\t0.006548\t65\r\n",
      "обед\t-0.024085\t100\r\n",
      "опушка\t0.042878\t148\r\n",
      "полис\t0.110292\t142\r\n",
      "пост\t-0.007155\t144\r\n",
      "поток\t0.054197\t136\r\n",
      "проказа\t-0.019323\t146\r\n",
      "пытка\t0.096380\t143\r\n",
      "рысь\t-0.027440\t120\r\n",
      "штамп\t-0.017654\t96\r\n",
      "\t0.013165\t2406\r\n"
     ]
    }
   ],
   "source": [
    "!python3 ../evaluate.py ../tmp_res/knn_4.csv"
   ]
  }
 ],
 "metadata": {
  "kernelspec": {
   "display_name": "Python 3",
   "language": "python",
   "name": "python3"
  },
  "language_info": {
   "codemirror_mode": {
    "name": "ipython",
    "version": 3
   },
   "file_extension": ".py",
   "mimetype": "text/x-python",
   "name": "python",
   "nbconvert_exporter": "python",
   "pygments_lexer": "ipython3",
   "version": "3.6.3"
  }
 },
 "nbformat": 4,
 "nbformat_minor": 2
}

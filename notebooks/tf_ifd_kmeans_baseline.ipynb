{
 "cells": [
  {
   "cell_type": "code",
   "execution_count": 21,
   "metadata": {},
   "outputs": [],
   "source": [
    "from __future__ import print_function\n",
    "\n",
    "import pandas as pd\n",
    "import numpy as np\n",
    "import re\n",
    "from sklearn.datasets import fetch_20newsgroups\n",
    "from sklearn.decomposition import TruncatedSVD\n",
    "from sklearn.feature_extraction.text import TfidfVectorizer\n",
    "\n",
    "from sklearn.pipeline import make_pipeline\n",
    "from sklearn.preprocessing import Normalizer\n",
    "from sklearn import metrics\n",
    "from matplotlib import pyplot as plt\n",
    "from sklearn.cluster import KMeans, MiniBatchKMeans\n",
    "from pymystem3 import Mystem\n",
    "import tqdm\n",
    "\n",
    "%matplotlib inline"
   ]
  },
  {
   "cell_type": "markdown",
   "metadata": {},
   "source": [
    "# Data"
   ]
  },
  {
   "cell_type": "markdown",
   "metadata": {},
   "source": [
    "### The table below summarizes the dataset \n",
    "\n",
    "|Dataset|Type|Inventory|Corpus|Split|Num. of words|Num. of senses|Avg. num. of senses|Num. of contexts|\n",
    "|-----|-----|---------|-----|------|:---------:|:----------:|:----------:|:----------:|\n",
    "|wiki-wiki|main|Wikipedia|Wikipedia|train|4|8|2.0|439\n",
    "|bts-rnc|main|Gramota.ru|RNC|train|30|96|3.2|3491\n",
    "|active-dict|main|Active Dict.|Active Dict.|train|85|312|3.7|2073\n",
    "|active-rnc|additional|Active Dict.|RNC|train|20|71|3.6|1829\n",
    "|active-rutenten|additional|Active Dict.|ruTenTen|train|21|71|3.4|3671\n",
    "|bts-rutenten|additional|Gramota.ru|ruTenTen|train|11|25|2.3|956"
   ]
  },
  {
   "cell_type": "code",
   "execution_count": null,
   "metadata": {},
   "outputs": [],
   "source": [
    "wiki_data = pd.read_csv(\"../data/my_data/ruwiki_00.txt\")"
   ]
  },
  {
   "cell_type": "code",
   "execution_count": 243,
   "metadata": {},
   "outputs": [
    {
     "data": {
      "text/html": [
       "<div>\n",
       "<style scoped>\n",
       "    .dataframe tbody tr th:only-of-type {\n",
       "        vertical-align: middle;\n",
       "    }\n",
       "\n",
       "    .dataframe tbody tr th {\n",
       "        vertical-align: top;\n",
       "    }\n",
       "\n",
       "    .dataframe thead th {\n",
       "        text-align: right;\n",
       "    }\n",
       "</style>\n",
       "<table border=\"1\" class=\"dataframe\">\n",
       "  <thead>\n",
       "    <tr style=\"text-align: right;\">\n",
       "      <th></th>\n",
       "      <th>context_id</th>\n",
       "      <th>word</th>\n",
       "      <th>gold_sense_id</th>\n",
       "      <th>predict_sense_id</th>\n",
       "      <th>positions</th>\n",
       "      <th>context</th>\n",
       "    </tr>\n",
       "  </thead>\n",
       "  <tbody>\n",
       "    <tr>\n",
       "      <th>0</th>\n",
       "      <td>1</td>\n",
       "      <td>балка</td>\n",
       "      <td>1</td>\n",
       "      <td>NaN</td>\n",
       "      <td>90-94</td>\n",
       "      <td>маленькой комнаты. Он был очень высок, наклони...</td>\n",
       "    </tr>\n",
       "    <tr>\n",
       "      <th>1</th>\n",
       "      <td>2</td>\n",
       "      <td>балка</td>\n",
       "      <td>1</td>\n",
       "      <td>NaN</td>\n",
       "      <td>69-73</td>\n",
       "      <td>Пантюхин в Склифе сейчас. Он выползти на улицу...</td>\n",
       "    </tr>\n",
       "    <tr>\n",
       "      <th>2</th>\n",
       "      <td>3</td>\n",
       "      <td>балка</td>\n",
       "      <td>1</td>\n",
       "      <td>NaN</td>\n",
       "      <td>115-121</td>\n",
       "      <td>равнозначно обеспечивает и меланхоличную езду....</td>\n",
       "    </tr>\n",
       "    <tr>\n",
       "      <th>3</th>\n",
       "      <td>4</td>\n",
       "      <td>балка</td>\n",
       "      <td>1</td>\n",
       "      <td>NaN</td>\n",
       "      <td>85-90</td>\n",
       "      <td>верхняя часть закрыта, замкнута, многократно о...</td>\n",
       "    </tr>\n",
       "    <tr>\n",
       "      <th>4</th>\n",
       "      <td>5</td>\n",
       "      <td>балка</td>\n",
       "      <td>1</td>\n",
       "      <td>NaN</td>\n",
       "      <td>66-70</td>\n",
       "      <td>по телевизору: наши гол забили, я вскочил от р...</td>\n",
       "    </tr>\n",
       "  </tbody>\n",
       "</table>\n",
       "</div>"
      ],
      "text/plain": [
       "   context_id   word gold_sense_id predict_sense_id positions  \\\n",
       "0           1  балка             1              NaN     90-94   \n",
       "1           2  балка             1              NaN     69-73   \n",
       "2           3  балка             1              NaN   115-121   \n",
       "3           4  балка             1              NaN     85-90   \n",
       "4           5  балка             1              NaN     66-70   \n",
       "\n",
       "                                             context  \n",
       "0  маленькой комнаты. Он был очень высок, наклони...  \n",
       "1  Пантюхин в Склифе сейчас. Он выползти на улицу...  \n",
       "2  равнозначно обеспечивает и меланхоличную езду....  \n",
       "3  верхняя часть закрыта, замкнута, многократно о...  \n",
       "4  по телевизору: наши гол забили, я вскочил от р...  "
      ]
     },
     "execution_count": 243,
     "metadata": {},
     "output_type": "execute_result"
    }
   ],
   "source": [
    "data = pd.read_csv(\"../data/main/bts-rnc/train.csv\", sep='\\t',\n",
    "                   dtype={'gold_sense_id': str, 'predict_sense_id': str})\n",
    "data.head()"
   ]
  },
  {
   "cell_type": "code",
   "execution_count": 244,
   "metadata": {},
   "outputs": [
    {
     "data": {
      "text/html": [
       "<div>\n",
       "<style scoped>\n",
       "    .dataframe tbody tr th:only-of-type {\n",
       "        vertical-align: middle;\n",
       "    }\n",
       "\n",
       "    .dataframe tbody tr th {\n",
       "        vertical-align: top;\n",
       "    }\n",
       "\n",
       "    .dataframe thead th {\n",
       "        text-align: right;\n",
       "    }\n",
       "</style>\n",
       "<table border=\"1\" class=\"dataframe\">\n",
       "  <thead>\n",
       "    <tr style=\"text-align: right;\">\n",
       "      <th></th>\n",
       "      <th>context_id</th>\n",
       "      <th>word</th>\n",
       "      <th>gold_sense_id</th>\n",
       "      <th>predict_sense_id</th>\n",
       "      <th>positions</th>\n",
       "      <th>context</th>\n",
       "    </tr>\n",
       "  </thead>\n",
       "  <tbody>\n",
       "    <tr>\n",
       "      <th>0</th>\n",
       "      <td>1</td>\n",
       "      <td>балка</td>\n",
       "      <td>1</td>\n",
       "      <td>3</td>\n",
       "      <td>90-94</td>\n",
       "      <td>маленькой комнаты. Он был очень высок, наклони...</td>\n",
       "    </tr>\n",
       "    <tr>\n",
       "      <th>1</th>\n",
       "      <td>2</td>\n",
       "      <td>балка</td>\n",
       "      <td>1</td>\n",
       "      <td>4</td>\n",
       "      <td>69-73</td>\n",
       "      <td>Пантюхин в Склифе сейчас. Он выползти на улицу...</td>\n",
       "    </tr>\n",
       "    <tr>\n",
       "      <th>2</th>\n",
       "      <td>3</td>\n",
       "      <td>балка</td>\n",
       "      <td>1</td>\n",
       "      <td>1</td>\n",
       "      <td>115-121</td>\n",
       "      <td>равнозначно обеспечивает и меланхоличную езду....</td>\n",
       "    </tr>\n",
       "    <tr>\n",
       "      <th>3</th>\n",
       "      <td>4</td>\n",
       "      <td>балка</td>\n",
       "      <td>1</td>\n",
       "      <td>3</td>\n",
       "      <td>85-90</td>\n",
       "      <td>верхняя часть закрыта, замкнута, многократно о...</td>\n",
       "    </tr>\n",
       "    <tr>\n",
       "      <th>4</th>\n",
       "      <td>5</td>\n",
       "      <td>балка</td>\n",
       "      <td>1</td>\n",
       "      <td>4</td>\n",
       "      <td>66-70</td>\n",
       "      <td>по телевизору: наши гол забили, я вскочил от р...</td>\n",
       "    </tr>\n",
       "  </tbody>\n",
       "</table>\n",
       "</div>"
      ],
      "text/plain": [
       "   context_id   word gold_sense_id predict_sense_id positions  \\\n",
       "0           1  балка             1                3     90-94   \n",
       "1           2  балка             1                4     69-73   \n",
       "2           3  балка             1                1   115-121   \n",
       "3           4  балка             1                3     85-90   \n",
       "4           5  балка             1                4     66-70   \n",
       "\n",
       "                                             context  \n",
       "0  маленькой комнаты. Он был очень высок, наклони...  \n",
       "1  Пантюхин в Склифе сейчас. Он выползти на улицу...  \n",
       "2  равнозначно обеспечивает и меланхоличную езду....  \n",
       "3  верхняя часть закрыта, замкнута, многократно о...  \n",
       "4  по телевизору: наши гол забили, я вскочил от р...  "
      ]
     },
     "execution_count": 244,
     "metadata": {},
     "output_type": "execute_result"
    }
   ],
   "source": [
    "data_adagram = pd.read_csv(\"../data/main/bts-rnc/train.baseline-adagram.csv\", sep='\\t',\n",
    "                   dtype={'gold_sense_id': str, 'predict_sense_id': str})\n",
    "data_adagram.head()"
   ]
  },
  {
   "cell_type": "markdown",
   "metadata": {},
   "source": [
    "### Show how many contexts correspond to one word meaning"
   ]
  },
  {
   "cell_type": "code",
   "execution_count": 285,
   "metadata": {
    "scrolled": true
   },
   "outputs": [
    {
     "name": "stdout",
     "output_type": "stream",
     "text": [
      "num of unique words:  30\n"
     ]
    },
    {
     "data": {
      "text/html": [
       "<div>\n",
       "<style scoped>\n",
       "    .dataframe tbody tr th:only-of-type {\n",
       "        vertical-align: middle;\n",
       "    }\n",
       "\n",
       "    .dataframe tbody tr th {\n",
       "        vertical-align: top;\n",
       "    }\n",
       "\n",
       "    .dataframe thead th {\n",
       "        text-align: right;\n",
       "    }\n",
       "</style>\n",
       "<table border=\"1\" class=\"dataframe\">\n",
       "  <thead>\n",
       "    <tr style=\"text-align: right;\">\n",
       "      <th></th>\n",
       "      <th></th>\n",
       "      <th>context</th>\n",
       "    </tr>\n",
       "    <tr>\n",
       "      <th>word</th>\n",
       "      <th>gold_sense_id</th>\n",
       "      <th></th>\n",
       "    </tr>\n",
       "  </thead>\n",
       "  <tbody>\n",
       "    <tr>\n",
       "      <th rowspan=\"2\" valign=\"top\">балка</th>\n",
       "      <th>1</th>\n",
       "      <td>81</td>\n",
       "    </tr>\n",
       "    <tr>\n",
       "      <th>2</th>\n",
       "      <td>38</td>\n",
       "    </tr>\n",
       "    <tr>\n",
       "      <th rowspan=\"3\" valign=\"top\">вид</th>\n",
       "      <th>1</th>\n",
       "      <td>38</td>\n",
       "    </tr>\n",
       "    <tr>\n",
       "      <th>2</th>\n",
       "      <td>3</td>\n",
       "    </tr>\n",
       "    <tr>\n",
       "      <th>5</th>\n",
       "      <td>36</td>\n",
       "    </tr>\n",
       "    <tr>\n",
       "      <th rowspan=\"4\" valign=\"top\">винт</th>\n",
       "      <th>1</th>\n",
       "      <td>39</td>\n",
       "    </tr>\n",
       "    <tr>\n",
       "      <th>2</th>\n",
       "      <td>67</td>\n",
       "    </tr>\n",
       "    <tr>\n",
       "      <th>3</th>\n",
       "      <td>1</td>\n",
       "    </tr>\n",
       "    <tr>\n",
       "      <th>5</th>\n",
       "      <td>16</td>\n",
       "    </tr>\n",
       "    <tr>\n",
       "      <th rowspan=\"3\" valign=\"top\">горн</th>\n",
       "      <th>1</th>\n",
       "      <td>20</td>\n",
       "    </tr>\n",
       "    <tr>\n",
       "      <th>2</th>\n",
       "      <td>1</td>\n",
       "    </tr>\n",
       "    <tr>\n",
       "      <th>3</th>\n",
       "      <td>30</td>\n",
       "    </tr>\n",
       "    <tr>\n",
       "      <th rowspan=\"3\" valign=\"top\">губа</th>\n",
       "      <th>1</th>\n",
       "      <td>132</td>\n",
       "    </tr>\n",
       "    <tr>\n",
       "      <th>3</th>\n",
       "      <td>3</td>\n",
       "    </tr>\n",
       "    <tr>\n",
       "      <th>4</th>\n",
       "      <td>2</td>\n",
       "    </tr>\n",
       "    <tr>\n",
       "      <th rowspan=\"4\" valign=\"top\">жаба</th>\n",
       "      <th>1</th>\n",
       "      <td>79</td>\n",
       "    </tr>\n",
       "    <tr>\n",
       "      <th>2</th>\n",
       "      <td>6</td>\n",
       "    </tr>\n",
       "    <tr>\n",
       "      <th>3</th>\n",
       "      <td>9</td>\n",
       "    </tr>\n",
       "    <tr>\n",
       "      <th>4</th>\n",
       "      <td>27</td>\n",
       "    </tr>\n",
       "    <tr>\n",
       "      <th rowspan=\"6\" valign=\"top\">клетка</th>\n",
       "      <th>1</th>\n",
       "      <td>38</td>\n",
       "    </tr>\n",
       "    <tr>\n",
       "      <th>2</th>\n",
       "      <td>1</td>\n",
       "    </tr>\n",
       "    <tr>\n",
       "      <th>3</th>\n",
       "      <td>7</td>\n",
       "    </tr>\n",
       "    <tr>\n",
       "      <th>4</th>\n",
       "      <td>96</td>\n",
       "    </tr>\n",
       "    <tr>\n",
       "      <th>5</th>\n",
       "      <td>4</td>\n",
       "    </tr>\n",
       "    <tr>\n",
       "      <th>6</th>\n",
       "      <td>4</td>\n",
       "    </tr>\n",
       "    <tr>\n",
       "      <th rowspan=\"5\" valign=\"top\">крыло</th>\n",
       "      <th>1</th>\n",
       "      <td>51</td>\n",
       "    </tr>\n",
       "    <tr>\n",
       "      <th>2</th>\n",
       "      <td>19</td>\n",
       "    </tr>\n",
       "    <tr>\n",
       "      <th>3</th>\n",
       "      <td>1</td>\n",
       "    </tr>\n",
       "    <tr>\n",
       "      <th>4</th>\n",
       "      <td>4</td>\n",
       "    </tr>\n",
       "    <tr>\n",
       "      <th>5</th>\n",
       "      <td>1</td>\n",
       "    </tr>\n",
       "    <tr>\n",
       "      <th>...</th>\n",
       "      <th>...</th>\n",
       "      <td>...</td>\n",
       "    </tr>\n",
       "    <tr>\n",
       "      <th rowspan=\"2\" valign=\"top\">пост</th>\n",
       "      <th>4</th>\n",
       "      <td>2</td>\n",
       "    </tr>\n",
       "    <tr>\n",
       "      <th>5</th>\n",
       "      <td>2</td>\n",
       "    </tr>\n",
       "    <tr>\n",
       "      <th rowspan=\"2\" valign=\"top\">поток</th>\n",
       "      <th>1</th>\n",
       "      <td>12</td>\n",
       "    </tr>\n",
       "    <tr>\n",
       "      <th>2</th>\n",
       "      <td>124</td>\n",
       "    </tr>\n",
       "    <tr>\n",
       "      <th rowspan=\"2\" valign=\"top\">проказа</th>\n",
       "      <th>1</th>\n",
       "      <td>95</td>\n",
       "    </tr>\n",
       "    <tr>\n",
       "      <th>2</th>\n",
       "      <td>51</td>\n",
       "    </tr>\n",
       "    <tr>\n",
       "      <th rowspan=\"4\" valign=\"top\">пропасть</th>\n",
       "      <th>1</th>\n",
       "      <td>92</td>\n",
       "    </tr>\n",
       "    <tr>\n",
       "      <th>2</th>\n",
       "      <td>25</td>\n",
       "    </tr>\n",
       "    <tr>\n",
       "      <th>3</th>\n",
       "      <td>7</td>\n",
       "    </tr>\n",
       "    <tr>\n",
       "      <th>4</th>\n",
       "      <td>3</td>\n",
       "    </tr>\n",
       "    <tr>\n",
       "      <th rowspan=\"4\" valign=\"top\">проспект</th>\n",
       "      <th>1</th>\n",
       "      <td>117</td>\n",
       "    </tr>\n",
       "    <tr>\n",
       "      <th>2</th>\n",
       "      <td>6</td>\n",
       "    </tr>\n",
       "    <tr>\n",
       "      <th>3</th>\n",
       "      <td>4</td>\n",
       "    </tr>\n",
       "    <tr>\n",
       "      <th>4</th>\n",
       "      <td>12</td>\n",
       "    </tr>\n",
       "    <tr>\n",
       "      <th rowspan=\"2\" valign=\"top\">пытка</th>\n",
       "      <th>1</th>\n",
       "      <td>116</td>\n",
       "    </tr>\n",
       "    <tr>\n",
       "      <th>2</th>\n",
       "      <td>27</td>\n",
       "    </tr>\n",
       "    <tr>\n",
       "      <th rowspan=\"2\" valign=\"top\">рысь</th>\n",
       "      <th>1</th>\n",
       "      <td>82</td>\n",
       "    </tr>\n",
       "    <tr>\n",
       "      <th>2</th>\n",
       "      <td>38</td>\n",
       "    </tr>\n",
       "    <tr>\n",
       "      <th rowspan=\"4\" valign=\"top\">среда</th>\n",
       "      <th>1</th>\n",
       "      <td>13</td>\n",
       "    </tr>\n",
       "    <tr>\n",
       "      <th>2</th>\n",
       "      <td>32</td>\n",
       "    </tr>\n",
       "    <tr>\n",
       "      <th>3</th>\n",
       "      <td>47</td>\n",
       "    </tr>\n",
       "    <tr>\n",
       "      <th>4</th>\n",
       "      <td>52</td>\n",
       "    </tr>\n",
       "    <tr>\n",
       "      <th rowspan=\"4\" valign=\"top\">хвост</th>\n",
       "      <th>1</th>\n",
       "      <td>100</td>\n",
       "    </tr>\n",
       "    <tr>\n",
       "      <th>3</th>\n",
       "      <td>8</td>\n",
       "    </tr>\n",
       "    <tr>\n",
       "      <th>4</th>\n",
       "      <td>12</td>\n",
       "    </tr>\n",
       "    <tr>\n",
       "      <th>7</th>\n",
       "      <td>1</td>\n",
       "    </tr>\n",
       "    <tr>\n",
       "      <th rowspan=\"4\" valign=\"top\">штамп</th>\n",
       "      <th>1</th>\n",
       "      <td>45</td>\n",
       "    </tr>\n",
       "    <tr>\n",
       "      <th>2</th>\n",
       "      <td>1</td>\n",
       "    </tr>\n",
       "    <tr>\n",
       "      <th>3</th>\n",
       "      <td>3</td>\n",
       "    </tr>\n",
       "    <tr>\n",
       "      <th>4</th>\n",
       "      <td>47</td>\n",
       "    </tr>\n",
       "  </tbody>\n",
       "</table>\n",
       "<p>96 rows × 1 columns</p>\n",
       "</div>"
      ],
      "text/plain": [
       "                        context\n",
       "word     gold_sense_id         \n",
       "балка    1                   81\n",
       "         2                   38\n",
       "вид      1                   38\n",
       "         2                    3\n",
       "         5                   36\n",
       "винт     1                   39\n",
       "         2                   67\n",
       "         3                    1\n",
       "         5                   16\n",
       "горн     1                   20\n",
       "         2                    1\n",
       "         3                   30\n",
       "губа     1                  132\n",
       "         3                    3\n",
       "         4                    2\n",
       "жаба     1                   79\n",
       "         2                    6\n",
       "         3                    9\n",
       "         4                   27\n",
       "клетка   1                   38\n",
       "         2                    1\n",
       "         3                    7\n",
       "         4                   96\n",
       "         5                    4\n",
       "         6                    4\n",
       "крыло    1                   51\n",
       "         2                   19\n",
       "         3                    1\n",
       "         4                    4\n",
       "         5                    1\n",
       "...                         ...\n",
       "пост     4                    2\n",
       "         5                    2\n",
       "поток    1                   12\n",
       "         2                  124\n",
       "проказа  1                   95\n",
       "         2                   51\n",
       "пропасть 1                   92\n",
       "         2                   25\n",
       "         3                    7\n",
       "         4                    3\n",
       "проспект 1                  117\n",
       "         2                    6\n",
       "         3                    4\n",
       "         4                   12\n",
       "пытка    1                  116\n",
       "         2                   27\n",
       "рысь     1                   82\n",
       "         2                   38\n",
       "среда    1                   13\n",
       "         2                   32\n",
       "         3                   47\n",
       "         4                   52\n",
       "хвост    1                  100\n",
       "         3                    8\n",
       "         4                   12\n",
       "         7                    1\n",
       "штамп    1                   45\n",
       "         2                    1\n",
       "         3                    3\n",
       "         4                   47\n",
       "\n",
       "[96 rows x 1 columns]"
      ]
     },
     "execution_count": 285,
     "metadata": {},
     "output_type": "execute_result"
    }
   ],
   "source": [
    "print('num of unique words: ', len(data.word.unique()))\n",
    "data.loc[:,['word', 'gold_sense_id', 'context']].groupby(['word', 'gold_sense_id']).count()"
   ]
  },
  {
   "cell_type": "markdown",
   "metadata": {},
   "source": [
    "### How many contexts correspond to one word"
   ]
  },
  {
   "cell_type": "code",
   "execution_count": 284,
   "metadata": {
    "collapsed": true
   },
   "outputs": [
    {
     "data": {
      "text/plain": [
       "word\n",
       "купюра      150\n",
       "клетка      150\n",
       "лавка       149\n",
       "опушка      148\n",
       "проказа     146\n",
       "оклад       146\n",
       "среда       144\n",
       "пост        144\n",
       "пытка       143\n",
       "полис       142\n",
       "проспект    139\n",
       "губа        137\n",
       "поток       136\n",
       "пропасть    127\n",
       "винт        123\n",
       "мишень      121\n",
       "хвост       121\n",
       "жаба        121\n",
       "рысь        120\n",
       "балка       119\n",
       "обед        100\n",
       "лайка        99\n",
       "штамп        96\n",
       "курица       93\n",
       "крыло        91\n",
       "вид          77\n",
       "мина         65\n",
       "горн         51\n",
       "лира         49\n",
       "лев          44\n",
       "Name: context, dtype: int64"
      ]
     },
     "execution_count": 284,
     "metadata": {},
     "output_type": "execute_result"
    }
   ],
   "source": [
    "data.loc[:,['word', 'gold_sense_id', 'context']]\\\n",
    ".groupby(['word']).count()['context'].sort_values(ascending=False)"
   ]
  },
  {
   "cell_type": "code",
   "execution_count": 56,
   "metadata": {
    "collapsed": true
   },
   "outputs": [
    {
     "data": {
      "image/png": "[encoded data removed]",
      "text/plain": [
       "<matplotlib.figure.Figure at 0x7fc63cd06f28>"
      ]
     },
     "metadata": {},
     "output_type": "display_data"
    }
   ],
   "source": [
    "count_per_sense = data.loc[:,['word', 'gold_sense_id', 'context']]\\\n",
    ".groupby(['word', 'gold_sense_id']).['context']\n",
    "\n",
    "plt.hist(count_per_sense)\n",
    "plt.title(\"Number of contexts per one word sense\")\n",
    "plt.show()"
   ]
  },
  {
   "cell_type": "code",
   "execution_count": 225,
   "metadata": {},
   "outputs": [
    {
     "data": {
      "image/png": "[encoded data removed]",
      "text/plain": [
       "<matplotlib.figure.Figure at 0x7fc6330e4ba8>"
      ]
     },
     "metadata": {},
     "output_type": "display_data"
    }
   ],
   "source": [
    "count_senses_per_word = data.loc[:,['word', 'gold_sense_id']]\\\n",
    ".groupby(['word']).nunique()['gold_sense_id']\n",
    "\n",
    "plt.hist(count_senses_per_word)\n",
    "plt.title(\"Number of senses per one word\")\n",
    "plt.show()"
   ]
  },
  {
   "cell_type": "markdown",
   "metadata": {},
   "source": [
    "# Trivial baselines"
   ]
  },
  {
   "cell_type": "code",
   "execution_count": 350,
   "metadata": {},
   "outputs": [
    {
     "name": "stdout",
     "output_type": "stream",
     "text": [
      "Generated oracle baseline dataset: data/main/wiki-wiki/train.oracle.csv\n",
      "word\tari\tcount\n",
      "бор\t1.000000\t56\n",
      "замок\t1.000000\t138\n",
      "лук\t1.000000\t110\n",
      "суда\t1.000000\t135\n",
      "\t1.000000\t439\n",
      "Generated constant baseline dataset: data/main/wiki-wiki/train.constant.csv\n",
      "word\tari\tcount\n",
      "бор\t0.000000\t56\n",
      "замок\t0.000000\t138\n",
      "лук\t0.000000\t110\n",
      "суда\t0.000000\t135\n",
      "\t0.000000\t439\n",
      "Generated unique-dataset-wise baseline dataset: data/main/wiki-wiki/train.unique-dataset-wise.csv\n",
      "word\tari\tcount\n",
      "бор\t0.000000\t56\n",
      "замок\t0.000000\t138\n",
      "лук\t0.000000\t110\n",
      "суда\t0.000000\t135\n",
      "\t0.000000\t439\n",
      "Generated random-1-3 baseline dataset: data/main/wiki-wiki/train.random-1-3.csv\n",
      "word\tari\tcount\n",
      "бор\t-0.039401\t56\n",
      "замок\t0.019353\t138\n",
      "лук\t-0.009793\t110\n",
      "суда\t-0.001914\t135\n",
      "\t-0.001985\t439\n",
      "Generated random-1-6 baseline dataset: data/main/wiki-wiki/train.random-1-6.csv\n",
      "word\tari\tcount\n",
      "бор\t-0.016450\t56\n",
      "замок\t0.002059\t138\n",
      "лук\t-0.007044\t110\n",
      "суда\t-0.007202\t135\n",
      "\t-0.005431\t439\n",
      "Generated oracle baseline dataset: data/main/bts-rnc/train.oracle.csv\n",
      "word\tari\tcount\n",
      "балка\t1.000000\t119\n",
      "вид\t1.000000\t77\n",
      "винт\t1.000000\t123\n",
      "горн\t1.000000\t51\n",
      "губа\t1.000000\t137\n",
      "жаба\t1.000000\t121\n",
      "клетка\t1.000000\t150\n",
      "крыло\t1.000000\t91\n",
      "купюра\t1.000000\t150\n",
      "курица\t1.000000\t93\n",
      "лавка\t1.000000\t149\n",
      "лайка\t1.000000\t99\n",
      "лев\t1.000000\t44\n",
      "лира\t1.000000\t49\n",
      "мина\t1.000000\t65\n",
      "мишень\t1.000000\t121\n",
      "обед\t1.000000\t100\n",
      "оклад\t1.000000\t146\n",
      "опушка\t1.000000\t148\n",
      "полис\t1.000000\t142\n",
      "пост\t1.000000\t144\n",
      "поток\t1.000000\t136\n",
      "проказа\t1.000000\t146\n",
      "пропасть\t1.000000\t127\n",
      "проспект\t1.000000\t139\n",
      "пытка\t1.000000\t143\n",
      "рысь\t1.000000\t120\n",
      "среда\t1.000000\t144\n",
      "хвост\t1.000000\t121\n",
      "штамп\t1.000000\t96\n",
      "\t1.000000\t3491\n",
      "Generated constant baseline dataset: data/main/bts-rnc/train.constant.csv\n",
      "word\tari\tcount\n",
      "балка\t0.000000\t119\n",
      "вид\t0.000000\t77\n",
      "винт\t0.000000\t123\n",
      "горн\t0.000000\t51\n",
      "губа\t0.000000\t137\n",
      "жаба\t0.000000\t121\n",
      "клетка\t0.000000\t150\n",
      "крыло\t0.000000\t91\n",
      "купюра\t0.000000\t150\n",
      "курица\t0.000000\t93\n",
      "лавка\t0.000000\t149\n",
      "лайка\t0.000000\t99\n",
      "лев\t0.000000\t44\n",
      "лира\t0.000000\t49\n",
      "мина\t0.000000\t65\n",
      "мишень\t0.000000\t121\n",
      "обед\t0.000000\t100\n",
      "оклад\t0.000000\t146\n",
      "опушка\t0.000000\t148\n",
      "полис\t0.000000\t142\n",
      "пост\t0.000000\t144\n",
      "поток\t0.000000\t136\n",
      "проказа\t0.000000\t146\n",
      "пропасть\t0.000000\t127\n",
      "проспект\t0.000000\t139\n",
      "пытка\t0.000000\t143\n",
      "рысь\t0.000000\t120\n",
      "среда\t0.000000\t144\n",
      "хвост\t0.000000\t121\n",
      "штамп\t0.000000\t96\n",
      "\t0.000000\t3491\n",
      "Generated unique-dataset-wise baseline dataset: data/main/bts-rnc/train.unique-dataset-wise.csv\n",
      "word\tari\tcount\n",
      "балка\t0.000000\t119\n",
      "вид\t0.000000\t77\n",
      "винт\t0.000000\t123\n",
      "горн\t0.000000\t51\n",
      "губа\t0.000000\t137\n",
      "жаба\t0.000000\t121\n",
      "клетка\t0.000000\t150\n",
      "крыло\t0.000000\t91\n",
      "купюра\t0.000000\t150\n",
      "курица\t0.000000\t93\n",
      "лавка\t0.000000\t149\n",
      "лайка\t0.000000\t99\n",
      "лев\t0.000000\t44\n",
      "лира\t0.000000\t49\n",
      "мина\t0.000000\t65\n",
      "мишень\t0.000000\t121\n",
      "обед\t0.000000\t100\n",
      "оклад\t0.000000\t146\n",
      "опушка\t0.000000\t148\n",
      "полис\t0.000000\t142\n",
      "пост\t0.000000\t144\n",
      "поток\t0.000000\t136\n",
      "проказа\t0.000000\t146\n",
      "пропасть\t0.000000\t127\n",
      "проспект\t0.000000\t139\n",
      "пытка\t0.000000\t143\n",
      "рысь\t0.000000\t120\n",
      "среда\t0.000000\t144\n",
      "хвост\t0.000000\t121\n",
      "штамп\t0.000000\t96\n",
      "\t0.000000\t3491\n",
      "Generated random-1-3 baseline dataset: data/main/bts-rnc/train.random-1-3.csv\n",
      "word\tari\tcount\n",
      "балка\t-0.004088\t119\n",
      "вид\t-0.018529\t77\n",
      "винт\t0.000411\t123\n",
      "горн\t-0.012262\t51\n",
      "губа\t0.001847\t137\n",
      "жаба\t-0.003841\t121\n",
      "клетка\t-0.012156\t150\n",
      "крыло\t-0.002642\t91\n",
      "купюра\t-0.003181\t150\n",
      "курица\t-0.011736\t93\n",
      "лавка\t-0.008424\t149\n",
      "лайка\t-0.005814\t99\n",
      "лев\t0.006915\t44\n",
      "лира\t0.001477\t49\n",
      "мина\t-0.016288\t65\n",
      "мишень\t-0.001240\t121\n",
      "обед\t-0.001033\t100\n",
      "оклад\t0.000287\t146\n",
      "опушка\t0.002465\t148\n",
      "полис\t-0.000482\t142\n",
      "пост\t-0.003734\t144\n",
      "поток\t-0.004698\t136\n",
      "проказа\t-0.001408\t146\n",
      "пропасть\t-0.011190\t127\n",
      "проспект\t-0.007203\t139\n",
      "пытка\t-0.002911\t143\n",
      "рысь\t0.006420\t120\n",
      "среда\t-0.011850\t144\n",
      "хвост\t-0.013689\t121\n",
      "штамп\t-0.012553\t96\n",
      "\t-0.004806\t3491\n",
      "Generated random-1-6 baseline dataset: data/main/bts-rnc/train.random-1-6.csv\n",
      "word\tari\tcount\n",
      "балка\t-0.003636\t119\n",
      "вид\t-0.015486\t77\n",
      "винт\t-0.005364\t123\n",
      "горн\t-0.016000\t51\n",
      "губа\t-0.005229\t137\n",
      "жаба\t-0.014129\t121\n",
      "клетка\t0.013087\t150\n",
      "крыло\t-0.001527\t91\n",
      "купюра\t-0.000847\t150\n",
      "курица\t0.018941\t93\n",
      "лавка\t-0.008754\t149\n",
      "лайка\t-0.004263\t99\n",
      "лев\t-0.011705\t44\n",
      "лира\t0.054754\t49\n",
      "мина\t-0.003260\t65\n",
      "мишень\t0.000777\t121\n",
      "обед\t0.000042\t100\n",
      "оклад\t-0.003125\t146\n",
      "опушка\t0.001128\t148\n",
      "полис\t-0.000046\t142\n",
      "пост\t-0.003164\t144\n",
      "поток\t-0.005635\t136\n",
      "проказа\t-0.007109\t146\n",
      "пропасть\t-0.009157\t127\n",
      "проспект\t-0.003423\t139\n",
      "пытка\t-0.002770\t143\n",
      "рысь\t0.000531\t120\n",
      "среда\t0.007418\t144\n",
      "хвост\t-0.002046\t121\n",
      "штамп\t-0.006647\t96\n",
      "\t-0.001743\t3491\n",
      "Generated oracle baseline dataset: data/main/active-dict/train.oracle.csv\n",
      "word\tari\tcount\n",
      "дар\t1.000000\t36\n",
      "двигатель\t1.000000\t15\n",
      "двойник\t1.000000\t25\n",
      "дворец\t1.000000\t13\n",
      "девятка\t1.000000\t47\n",
      "дедушка\t1.000000\t9\n",
      "дежурная\t1.000000\t12\n",
      "дежурный\t1.000000\t13\n",
      "декабрист\t1.000000\t11\n",
      "декрет\t1.000000\t12\n",
      "дело\t1.000000\t130\n",
      "демобилизация\t1.000000\t14\n",
      "демократ\t1.000000\t18\n",
      "демонстрация\t1.000000\t38\n",
      "дерево\t1.000000\t21\n",
      "держава\t1.000000\t15\n",
      "дерзость\t1.000000\t37\n",
      "десятка\t1.000000\t36\n",
      "десяток\t1.000000\t21\n",
      "деятель\t1.000000\t14\n",
      "диалог\t1.000000\t14\n",
      "диаметр\t1.000000\t18\n",
      "диплом\t1.000000\t25\n",
      "директор\t1.000000\t11\n",
      "диск\t1.000000\t63\n",
      "дичь\t1.000000\t18\n",
      "длина\t1.000000\t21\n",
      "доброволец\t1.000000\t12\n",
      "добыча\t1.000000\t35\n",
      "доказательство\t1.000000\t24\n",
      "доктор\t1.000000\t17\n",
      "долгота\t1.000000\t13\n",
      "доля\t1.000000\t45\n",
      "дом\t1.000000\t38\n",
      "дорога\t1.000000\t47\n",
      "достижение\t1.000000\t22\n",
      "древесина\t1.000000\t16\n",
      "дупло\t1.000000\t15\n",
      "дура\t1.000000\t12\n",
      "дух\t1.000000\t77\n",
      "дым\t1.000000\t28\n",
      "дымка\t1.000000\t18\n",
      "дыхание\t1.000000\t56\n",
      "дьявол\t1.000000\t22\n",
      "евро\t1.000000\t8\n",
      "езда\t1.000000\t14\n",
      "жаворонок\t1.000000\t11\n",
      "жало\t1.000000\t11\n",
      "жертва\t1.000000\t37\n",
      "жестокость\t1.000000\t14\n",
      "жидкость\t1.000000\t12\n",
      "жила\t1.000000\t17\n",
      "жилец\t1.000000\t16\n",
      "жир\t1.000000\t15\n",
      "жребий\t1.000000\t15\n",
      "заведение\t1.000000\t14\n",
      "завещание\t1.000000\t16\n",
      "зависимость\t1.000000\t21\n",
      "заголовок\t1.000000\t22\n",
      "заготовка\t1.000000\t26\n",
      "задание\t1.000000\t33\n",
      "задача\t1.000000\t36\n",
      "задержка\t1.000000\t60\n",
      "зажигалка\t1.000000\t13\n",
      "закон\t1.000000\t56\n",
      "закрытие\t1.000000\t38\n",
      "заложник\t1.000000\t13\n",
      "замена\t1.000000\t18\n",
      "западня\t1.000000\t11\n",
      "запятая\t1.000000\t14\n",
      "застой\t1.000000\t13\n",
      "затея\t1.000000\t12\n",
      "затишье\t1.000000\t16\n",
      "затмение\t1.000000\t12\n",
      "затруднение\t1.000000\t15\n",
      "захоронение\t1.000000\t22\n",
      "звезда\t1.000000\t40\n",
      "звон\t1.000000\t14\n",
      "зеркало\t1.000000\t21\n",
      "зло\t1.000000\t23\n",
      "злоупотребление\t1.000000\t12\n",
      "знак\t1.000000\t55\n",
      "знамя\t1.000000\t14\n",
      "значение\t1.000000\t30\n",
      "зонт\t1.000000\t9\n",
      "\t1.000000\t2073\n",
      "Generated constant baseline dataset: data/main/active-dict/train.constant.csv\n",
      "word\tari\tcount\n",
      "дар\t0.000000\t36\n",
      "двигатель\t0.000000\t15\n",
      "двойник\t0.000000\t25\n",
      "дворец\t0.000000\t13\n",
      "девятка\t0.000000\t47\n",
      "дедушка\t0.000000\t9\n",
      "дежурная\t0.000000\t12\n",
      "дежурный\t0.000000\t13\n",
      "декабрист\t0.000000\t11\n",
      "декрет\t0.000000\t12\n",
      "дело\t0.000000\t130\n",
      "демобилизация\t0.000000\t14\n",
      "демократ\t0.000000\t18\n",
      "демонстрация\t0.000000\t38\n",
      "дерево\t0.000000\t21\n",
      "держава\t0.000000\t15\n",
      "дерзость\t0.000000\t37\n",
      "десятка\t0.000000\t36\n",
      "десяток\t0.000000\t21\n",
      "деятель\t0.000000\t14\n",
      "диалог\t0.000000\t14\n",
      "диаметр\t0.000000\t18\n",
      "диплом\t0.000000\t25\n",
      "директор\t0.000000\t11\n",
      "диск\t0.000000\t63\n",
      "дичь\t0.000000\t18\n",
      "длина\t0.000000\t21\n",
      "доброволец\t0.000000\t12\n",
      "добыча\t0.000000\t35\n",
      "доказательство\t0.000000\t24\n",
      "доктор\t0.000000\t17\n",
      "долгота\t0.000000\t13\n",
      "доля\t0.000000\t45\n",
      "дом\t0.000000\t38\n",
      "дорога\t0.000000\t47\n",
      "достижение\t0.000000\t22\n",
      "древесина\t0.000000\t16\n",
      "дупло\t0.000000\t15\n",
      "дура\t0.000000\t12\n",
      "дух\t0.000000\t77\n",
      "дым\t0.000000\t28\n",
      "дымка\t0.000000\t18\n",
      "дыхание\t0.000000\t56\n",
      "дьявол\t0.000000\t22\n",
      "евро\t0.000000\t8\n",
      "езда\t0.000000\t14\n",
      "жаворонок\t0.000000\t11\n",
      "жало\t0.000000\t11\n",
      "жертва\t0.000000\t37\n",
      "жестокость\t0.000000\t14\n",
      "жидкость\t0.000000\t12\n",
      "жила\t0.000000\t17\n",
      "жилец\t0.000000\t16\n",
      "жир\t0.000000\t15\n",
      "жребий\t0.000000\t15\n",
      "заведение\t0.000000\t14\n",
      "завещание\t0.000000\t16\n",
      "зависимость\t0.000000\t21\n",
      "заголовок\t0.000000\t22\n",
      "заготовка\t0.000000\t26\n",
      "задание\t0.000000\t33\n",
      "задача\t0.000000\t36\n",
      "задержка\t0.000000\t60\n",
      "зажигалка\t0.000000\t13\n",
      "закон\t0.000000\t56\n",
      "закрытие\t0.000000\t38\n",
      "заложник\t0.000000\t13\n",
      "замена\t0.000000\t18\n",
      "западня\t0.000000\t11\n",
      "запятая\t0.000000\t14\n",
      "застой\t0.000000\t13\n",
      "затея\t0.000000\t12\n",
      "затишье\t0.000000\t16\n",
      "затмение\t0.000000\t12\n",
      "затруднение\t0.000000\t15\n",
      "захоронение\t0.000000\t22\n",
      "звезда\t0.000000\t40\n",
      "звон\t0.000000\t14\n",
      "зеркало\t0.000000\t21\n",
      "зло\t0.000000\t23\n",
      "злоупотребление\t0.000000\t12\n",
      "знак\t0.000000\t55\n",
      "знамя\t0.000000\t14\n",
      "значение\t0.000000\t30\n",
      "зонт\t0.000000\t9\n",
      "\t0.000000\t2073\n",
      "Generated unique-dataset-wise baseline dataset: data/main/active-dict/train.unique-dataset-wise.csv\n",
      "word\tari\tcount\n",
      "дар\t0.000000\t36\n",
      "двигатель\t0.000000\t15\n",
      "двойник\t0.000000\t25\n",
      "дворец\t0.000000\t13\n",
      "девятка\t0.000000\t47\n",
      "дедушка\t0.000000\t9\n",
      "дежурная\t0.000000\t12\n",
      "дежурный\t0.000000\t13\n",
      "декабрист\t0.000000\t11\n",
      "декрет\t0.000000\t12\n",
      "дело\t0.000000\t130\n",
      "демобилизация\t0.000000\t14\n",
      "демократ\t0.000000\t18\n",
      "демонстрация\t0.000000\t38\n",
      "дерево\t0.000000\t21\n",
      "держава\t0.000000\t15\n",
      "дерзость\t0.000000\t37\n",
      "десятка\t0.000000\t36\n",
      "десяток\t0.000000\t21\n",
      "деятель\t0.000000\t14\n",
      "диалог\t0.000000\t14\n",
      "диаметр\t0.000000\t18\n",
      "диплом\t0.000000\t25\n",
      "директор\t0.000000\t11\n",
      "диск\t0.000000\t63\n",
      "дичь\t0.000000\t18\n",
      "длина\t0.000000\t21\n",
      "доброволец\t0.000000\t12\n",
      "добыча\t0.000000\t35\n",
      "доказательство\t0.000000\t24\n",
      "доктор\t0.000000\t17\n",
      "долгота\t0.000000\t13\n",
      "доля\t0.000000\t45\n",
      "дом\t0.000000\t38\n",
      "дорога\t0.000000\t47\n",
      "достижение\t0.000000\t22\n",
      "древесина\t0.000000\t16\n",
      "дупло\t0.000000\t15\n",
      "дура\t0.000000\t12\n",
      "дух\t0.000000\t77\n",
      "дым\t0.000000\t28\n",
      "дымка\t0.000000\t18\n",
      "дыхание\t0.000000\t56\n",
      "дьявол\t0.000000\t22\n",
      "евро\t0.000000\t8\n",
      "езда\t0.000000\t14\n",
      "жаворонок\t0.000000\t11\n",
      "жало\t0.000000\t11\n",
      "жертва\t0.000000\t37\n",
      "жестокость\t0.000000\t14\n",
      "жидкость\t0.000000\t12\n",
      "жила\t0.000000\t17\n",
      "жилец\t0.000000\t16\n",
      "жир\t0.000000\t15\n",
      "жребий\t0.000000\t15\n",
      "заведение\t0.000000\t14\n",
      "завещание\t0.000000\t16\n",
      "зависимость\t0.000000\t21\n",
      "заголовок\t0.000000\t22\n",
      "заготовка\t0.000000\t26\n",
      "задание\t0.000000\t33\n",
      "задача\t0.000000\t36\n",
      "задержка\t0.000000\t60\n",
      "зажигалка\t0.000000\t13\n",
      "закон\t0.000000\t56\n",
      "закрытие\t0.000000\t38\n",
      "заложник\t0.000000\t13\n",
      "замена\t0.000000\t18\n",
      "западня\t0.000000\t11\n",
      "запятая\t0.000000\t14\n",
      "застой\t0.000000\t13\n",
      "затея\t0.000000\t12\n",
      "затишье\t0.000000\t16\n",
      "затмение\t0.000000\t12\n",
      "затруднение\t0.000000\t15\n",
      "захоронение\t0.000000\t22\n",
      "звезда\t0.000000\t40\n",
      "звон\t0.000000\t14\n",
      "зеркало\t0.000000\t21\n",
      "зло\t0.000000\t23\n",
      "злоупотребление\t0.000000\t12\n",
      "знак\t0.000000\t55\n",
      "знамя\t0.000000\t14\n",
      "значение\t0.000000\t30\n",
      "зонт\t0.000000\t9\n",
      "\t0.000000\t2073\n"
     ]
    },
    {
     "name": "stdout",
     "output_type": "stream",
     "text": [
      "Generated random-1-3 baseline dataset: data/main/active-dict/train.random-1-3.csv\n",
      "word\tari\tcount\n",
      "дар\t-0.019114\t36\n",
      "двигатель\t-0.078108\t15\n",
      "двойник\t-0.036812\t25\n",
      "дворец\t0.048780\t13\n",
      "девятка\t-0.023559\t47\n",
      "дедушка\t-0.084337\t9\n",
      "дежурная\t0.101408\t12\n",
      "дежурный\t-0.061224\t13\n",
      "декабрист\t0.015905\t11\n",
      "декрет\t-0.016807\t12\n",
      "дело\t0.007592\t130\n",
      "демобилизация\t0.280632\t14\n",
      "демократ\t-0.041604\t18\n",
      "демонстрация\t0.009681\t38\n",
      "дерево\t-0.007143\t21\n",
      "держава\t0.145078\t15\n",
      "дерзость\t-0.028249\t37\n",
      "десятка\t0.030163\t36\n",
      "десяток\t-0.063868\t21\n",
      "деятель\t0.184669\t14\n",
      "диалог\t-0.045455\t14\n",
      "диаметр\t0.081882\t18\n",
      "диплом\t-0.028939\t25\n",
      "директор\t0.124668\t11\n",
      "диск\t-0.002524\t63\n",
      "дичь\t0.027248\t18\n",
      "длина\t0.051750\t21\n",
      "доброволец\t0.066918\t12\n",
      "добыча\t-0.016530\t35\n",
      "доказательство\t-0.039458\t24\n",
      "доктор\t-0.065313\t17\n",
      "долгота\t-0.076768\t13\n",
      "доля\t-0.037907\t45\n",
      "дом\t0.011495\t38\n",
      "дорога\t-0.010455\t47\n",
      "достижение\t-0.068726\t22\n",
      "древесина\t0.203390\t16\n",
      "дупло\t0.134140\t15\n",
      "дура\t-0.107176\t12\n",
      "дух\t-0.017780\t77\n",
      "дым\t-0.054599\t28\n",
      "дымка\t-0.039185\t18\n",
      "дыхание\t-0.022301\t56\n",
      "дьявол\t-0.058606\t22\n",
      "евро\t-0.028571\t8\n",
      "езда\t0.037037\t14\n",
      "жаворонок\t0.089655\t11\n",
      "жало\t0.013793\t11\n",
      "жертва\t-0.008694\t37\n",
      "жестокость\t0.260891\t14\n",
      "жидкость\t-0.084507\t12\n",
      "жила\t0.003477\t17\n",
      "жилец\t-0.019541\t16\n",
      "жир\t-0.096606\t15\n",
      "жребий\t-0.002571\t15\n",
      "заведение\t0.048780\t14\n",
      "завещание\t-0.066667\t16\n",
      "зависимость\t-0.063896\t21\n",
      "заголовок\t-0.026375\t22\n",
      "заготовка\t-0.058683\t26\n",
      "задание\t0.020256\t33\n",
      "задача\t0.013212\t36\n",
      "задержка\t0.034012\t60\n",
      "зажигалка\t0.126273\t13\n",
      "закон\t-0.000557\t56\n",
      "закрытие\t-0.008415\t38\n",
      "заложник\t-0.085540\t13\n",
      "замена\t-0.077184\t18\n",
      "западня\t-0.100000\t11\n",
      "запятая\t-0.053546\t14\n",
      "застой\t0.020367\t13\n",
      "затея\t0.020356\t12\n",
      "затишье\t-0.110744\t16\n",
      "затмение\t0.015843\t12\n",
      "затруднение\t0.211105\t15\n",
      "захоронение\t-0.013295\t22\n",
      "звезда\t-0.001763\t40\n",
      "звон\t-0.072133\t14\n",
      "зеркало\t-0.028571\t21\n",
      "зло\t0.068668\t23\n",
      "злоупотребление\t-0.107176\t12\n",
      "знак\t-0.015391\t55\n",
      "знамя\t-0.072133\t14\n",
      "значение\t-0.042208\t30\n",
      "зонт\t0.064935\t9\n",
      "\t-0.002393\t2073\n",
      "Generated random-1-6 baseline dataset: data/main/active-dict/train.random-1-6.csv\n",
      "word\tari\tcount\n",
      "дар\t0.026116\t36\n",
      "двигатель\t-0.011111\t15\n",
      "двойник\t-0.053688\t25\n",
      "дворец\t0.129707\t13\n",
      "девятка\t0.005263\t47\n",
      "дедушка\t0.225166\t9\n",
      "дежурная\t-0.100000\t12\n",
      "дежурный\t-0.045361\t13\n",
      "декабрист\t-0.028037\t11\n",
      "декрет\t0.064516\t12\n",
      "дело\t-0.000904\t130\n",
      "демобилизация\t-0.092546\t14\n",
      "демократ\t0.112941\t18\n",
      "демонстрация\t0.004044\t38\n",
      "дерево\t0.077821\t21\n",
      "держава\t0.042553\t15\n",
      "дерзость\t-0.031354\t37\n",
      "десятка\t0.003165\t36\n",
      "десяток\t0.032870\t21\n",
      "деятель\t-0.110320\t14\n",
      "диалог\t-0.021429\t14\n",
      "диаметр\t-0.058950\t18\n",
      "диплом\t-0.004184\t25\n",
      "директор\t-0.104418\t11\n",
      "диск\t0.019113\t63\n",
      "дичь\t-0.063590\t18\n",
      "длина\t0.013582\t21\n",
      "доброволец\t-0.018322\t12\n",
      "добыча\t0.037675\t35\n",
      "доказательство\t-0.069089\t24\n",
      "доктор\t-0.053908\t17\n",
      "долгота\t-0.058455\t13\n",
      "доля\t-0.004783\t45\n",
      "дом\t-0.039326\t38\n",
      "дорога\t-0.002048\t47\n",
      "достижение\t-0.005379\t22\n",
      "древесина\t0.050086\t16\n",
      "дупло\t-0.029983\t15\n",
      "дура\t-0.132507\t12\n",
      "дух\t-0.019495\t77\n",
      "дым\t0.005590\t28\n",
      "дымка\t0.126806\t18\n",
      "дыхание\t-0.011216\t56\n",
      "дьявол\t0.094885\t22\n",
      "евро\t0.027027\t8\n",
      "езда\t0.019162\t14\n",
      "жаворонок\t0.028269\t11\n",
      "жало\t-0.127208\t11\n",
      "жертва\t-0.019485\t37\n",
      "жестокость\t-0.030707\t14\n",
      "жидкость\t0.183976\t12\n",
      "жила\t-0.125070\t17\n",
      "жилец\t0.048443\t16\n",
      "жир\t0.160000\t15\n",
      "жребий\t-0.095618\t15\n",
      "заведение\t-0.106383\t14\n",
      "завещание\t-0.033333\t16\n",
      "зависимость\t0.016422\t21\n",
      "заголовок\t-0.028340\t22\n",
      "заготовка\t0.004770\t26\n",
      "задание\t-0.053486\t33\n",
      "задача\t0.018409\t36\n",
      "задержка\t-0.027794\t60\n",
      "зажигалка\t-0.008386\t13\n",
      "закон\t-0.012642\t56\n",
      "закрытие\t-0.019129\t38\n",
      "заложник\t-0.087866\t13\n",
      "замена\t0.081730\t18\n",
      "западня\t0.005358\t11\n",
      "запятая\t-0.002395\t14\n",
      "застой\t-0.033473\t13\n",
      "затея\t0.049383\t12\n",
      "затишье\t0.192308\t16\n",
      "затмение\t-0.145612\t12\n",
      "затруднение\t0.065628\t15\n",
      "захоронение\t-0.020619\t22\n",
      "звезда\t0.027863\t40\n",
      "звон\t-0.003356\t14\n",
      "зеркало\t0.007968\t21\n",
      "зло\t-0.049103\t23\n",
      "злоупотребление\t-0.103152\t12\n",
      "знак\t0.001735\t55\n",
      "знамя\t-0.002875\t14\n",
      "значение\t-0.013921\t30\n",
      "зонт\t0.000000\t9\n",
      "\t-0.003668\t2073\n"
     ]
    }
   ],
   "source": [
    "!cd .. ; python baseline_trivial.py"
   ]
  },
  {
   "cell_type": "markdown",
   "metadata": {},
   "source": [
    "# TF IDF + Clustering baseline"
   ]
  },
  {
   "cell_type": "code",
   "execution_count": 246,
   "metadata": {},
   "outputs": [],
   "source": [
    "from sklearn.model_selection import train_test_split\n",
    "from sklearn.cluster import AffinityPropagation"
   ]
  },
  {
   "cell_type": "code",
   "execution_count": 247,
   "metadata": {},
   "outputs": [],
   "source": [
    "mystem = Mystem()\n",
    "\n",
    "def lemmatized_context(s, target_word=None):\n",
    "    # lemmatize all words and words with '-'\n",
    "    if target_word is None:\n",
    "        return [w.lower() for w in mystem.lemmatize(s) if re.match('[\\w\\-]+$', w)]\n",
    "    else:\n",
    "        return [w.lower() for w in mystem.lemmatize(s) if\\\n",
    "                (re.match('[\\w\\-]+$', w) and w.lower()!=target_word)]"
   ]
  },
  {
   "cell_type": "code",
   "execution_count": 248,
   "metadata": {},
   "outputs": [
    {
     "name": "stdout",
     "output_type": "stream",
     "text": [
      "['балка' 'вид' 'винт' 'горн' 'губа' 'жаба' 'клетка' 'крыло' 'купюра'\n",
      " 'курица' 'лавка' 'лайка' 'лев' 'лира' 'мина' 'мишень' 'обед' 'оклад'\n",
      " 'опушка' 'полис' 'пост' 'поток' 'проказа' 'пропасть' 'проспект' 'пытка'\n",
      " 'рысь' 'среда' 'хвост' 'штамп']\n"
     ]
    }
   ],
   "source": [
    "words = data.word.unique()\n",
    "print(words)"
   ]
  },
  {
   "cell_type": "code",
   "execution_count": 249,
   "metadata": {},
   "outputs": [],
   "source": [
    "vectorizer = TfidfVectorizer(max_df=0.5, min_df=2, token_pattern='[\\w\\-]+$')"
   ]
  },
  {
   "cell_type": "markdown",
   "metadata": {},
   "source": [
    "# TF-IDF fit all contexts"
   ]
  },
  {
   "cell_type": "code",
   "execution_count": 250,
   "metadata": {},
   "outputs": [
    {
     "data": {
      "text/plain": [
       "'маленький комната он быть очень высокий наклонять голова словно подпирать плечо потолочный балка посмотреть на сьянов серьезный черный глаз я из москва быть испытывать здесь'"
      ]
     },
     "execution_count": 250,
     "metadata": {},
     "output_type": "execute_result"
    }
   ],
   "source": [
    "# contexts with target_word\n",
    "all_contexts = [\" \".join(lemmatized_context(c)) for c in data.context]\n",
    "all_contexts[0]"
   ]
  },
  {
   "cell_type": "code",
   "execution_count": 251,
   "metadata": {},
   "outputs": [
    {
     "data": {
      "text/plain": [
       "'маленький комната он быть очень высокий наклонять голова словно подпирать плечо потолочный посмотреть на сьянов серьезный черный глаз я из москва быть испытывать здесь'"
      ]
     },
     "execution_count": 251,
     "metadata": {},
     "output_type": "execute_result"
    }
   ],
   "source": [
    "# contexts without target_word\n",
    "contexts_without_tword = np.array([\" \".join(lemmatized_context(c,w)) for w,c in zip(data.word, data.context)])\n",
    "contexts_without_tword[0]"
   ]
  },
  {
   "cell_type": "markdown",
   "metadata": {},
   "source": [
    "### tf-idf, contexts without target word"
   ]
  },
  {
   "cell_type": "code",
   "execution_count": 369,
   "metadata": {},
   "outputs": [],
   "source": [
    "from sklearn.preprocessing import Normalizer"
   ]
  },
  {
   "cell_type": "code",
   "execution_count": 108,
   "metadata": {},
   "outputs": [],
   "source": [
    "contexts_without_tword_transformed = vectorizer.fit_transform(contexts_without_tword)"
   ]
  },
  {
   "cell_type": "code",
   "execution_count": 371,
   "metadata": {},
   "outputs": [
    {
     "data": {
      "text/plain": [
       "(3491, 382)"
      ]
     },
     "execution_count": 371,
     "metadata": {},
     "output_type": "execute_result"
    }
   ],
   "source": [
    "normalizer = Normalizer()\n",
    "contexts_without_tword_transformed = normalizer.fit_transform(contexts_without_tword_transformed)\n",
    "contexts_without_tword_transformed.shape"
   ]
  },
  {
   "cell_type": "code",
   "execution_count": 109,
   "metadata": {},
   "outputs": [
    {
     "data": {
      "text/plain": [
       "382"
      ]
     },
     "execution_count": 109,
     "metadata": {},
     "output_type": "execute_result"
    }
   ],
   "source": [
    "len(vectorizer.get_feature_names())"
   ]
  },
  {
   "cell_type": "markdown",
   "metadata": {},
   "source": [
    "### Predict fun"
   ]
  },
  {
   "cell_type": "code",
   "execution_count": 260,
   "metadata": {},
   "outputs": [],
   "source": [
    "def get_labels_for_word(word, all_contexts_vectorized, cluster_model, verbose = False):\n",
    "    ids = list(data[data.word == word].index)\n",
    "    X = all_contexts_vectorized[ids]\n",
    "    golden_labels = data[data.word == word].gold_sense_id\n",
    "    baseline_labels = data_adagram[data_adagram.word == word].predict_sense_id\n",
    "    cluster_model.fit(X)\n",
    "    res_ari =  metrics.adjusted_rand_score(golden_labels, cluster_model.labels_)\n",
    "    adagram_ari = metrics.adjusted_rand_score(golden_labels, baseline_labels)\n",
    "    if verbose:\n",
    "        print('WORD: ', word)\n",
    "        print(\"This models ari: \", res_ari)\n",
    "        print(\"Adagram models ari: \", adagram_ari)\n",
    "        print('\\n')\n",
    "    return X, cluster_model.labels_, golden_labels, res_ari, adagram_ari"
   ]
  },
  {
   "cell_type": "markdown",
   "metadata": {},
   "source": [
    "# DBSCAN"
   ]
  },
  {
   "cell_type": "code",
   "execution_count": 255,
   "metadata": {},
   "outputs": [],
   "source": [
    "from sklearn.cluster import DBSCAN\n",
    "from copy import deepcopy"
   ]
  },
  {
   "cell_type": "code",
   "execution_count": 269,
   "metadata": {},
   "outputs": [
    {
     "data": {
      "text/plain": [
       "{'algorithm': 'auto',\n",
       " 'eps': 0.9,\n",
       " 'leaf_size': 30,\n",
       " 'metric': 'euclidean',\n",
       " 'metric_params': None,\n",
       " 'min_samples': 5,\n",
       " 'n_jobs': 1,\n",
       " 'p': None}"
      ]
     },
     "execution_count": 269,
     "metadata": {},
     "output_type": "execute_result"
    }
   ],
   "source": [
    "db = DBSCAN(eps=0.9, min_samples=5)\n",
    "db.get_params()"
   ]
  },
  {
   "cell_type": "code",
   "execution_count": 271,
   "metadata": {},
   "outputs": [],
   "source": [
    "import warnings\n",
    "warnings.simplefilter('ignore')"
   ]
  },
  {
   "cell_type": "code",
   "execution_count": 389,
   "metadata": {},
   "outputs": [],
   "source": [
    "def evaluate_ari(clust_model, contexts_without_tword_transformed, name):\n",
    "    tmp = deepcopy(data)\n",
    "    res_bs = []\n",
    "    res_adag = []\n",
    "    for word in words:\n",
    "        X, pred_labels, golden_labels, res_ari, adagram_ari = get_labels_for_word(word, contexts_without_tword_transformed, clust_model)\n",
    "        res_bs.append(res_ari)\n",
    "        res_adag.append(adagram_ari)\n",
    "        tmp.loc[tmp.word == word,'predict_sense_id'] = pred_labels\n",
    "    print(np.mean(res_bs))\n",
    "    print(np.mean(res_adag))\n",
    "    if name is not None:\n",
    "        tmp.to_csv(\"../tmp_res/{}.csv\".format(name), index=False, sep='\\t')\n",
    "    return tmp, np.mean(res_bs)"
   ]
  },
  {
   "cell_type": "code",
   "execution_count": 373,
   "metadata": {},
   "outputs": [
    {
     "name": "stdout",
     "output_type": "stream",
     "text": [
      "-0.00290472584813\n",
      "0.233350704958\n"
     ]
    }
   ],
   "source": [
    "tmp_db, _ = evaluate_ari(db, contexts_without_tword_transformed=contexts_without_tword_transformed, name='dbscan')"
   ]
  },
  {
   "cell_type": "code",
   "execution_count": 374,
   "metadata": {},
   "outputs": [
    {
     "data": {
      "text/html": [
       "<div>\n",
       "<style scoped>\n",
       "    .dataframe tbody tr th:only-of-type {\n",
       "        vertical-align: middle;\n",
       "    }\n",
       "\n",
       "    .dataframe tbody tr th {\n",
       "        vertical-align: top;\n",
       "    }\n",
       "\n",
       "    .dataframe thead th {\n",
       "        text-align: right;\n",
       "    }\n",
       "</style>\n",
       "<table border=\"1\" class=\"dataframe\">\n",
       "  <thead>\n",
       "    <tr style=\"text-align: right;\">\n",
       "      <th></th>\n",
       "      <th>context_id</th>\n",
       "      <th>word</th>\n",
       "      <th>gold_sense_id</th>\n",
       "      <th>predict_sense_id</th>\n",
       "      <th>positions</th>\n",
       "      <th>context</th>\n",
       "    </tr>\n",
       "  </thead>\n",
       "  <tbody>\n",
       "    <tr>\n",
       "      <th>0</th>\n",
       "      <td>1</td>\n",
       "      <td>балка</td>\n",
       "      <td>1</td>\n",
       "      <td>-1</td>\n",
       "      <td>90-94</td>\n",
       "      <td>маленькой комнаты. Он был очень высок, наклони...</td>\n",
       "    </tr>\n",
       "    <tr>\n",
       "      <th>1</th>\n",
       "      <td>2</td>\n",
       "      <td>балка</td>\n",
       "      <td>1</td>\n",
       "      <td>-1</td>\n",
       "      <td>69-73</td>\n",
       "      <td>Пантюхин в Склифе сейчас. Он выползти на улицу...</td>\n",
       "    </tr>\n",
       "    <tr>\n",
       "      <th>2</th>\n",
       "      <td>3</td>\n",
       "      <td>балка</td>\n",
       "      <td>1</td>\n",
       "      <td>0</td>\n",
       "      <td>115-121</td>\n",
       "      <td>равнозначно обеспечивает и меланхоличную езду....</td>\n",
       "    </tr>\n",
       "    <tr>\n",
       "      <th>3</th>\n",
       "      <td>4</td>\n",
       "      <td>балка</td>\n",
       "      <td>1</td>\n",
       "      <td>1</td>\n",
       "      <td>85-90</td>\n",
       "      <td>верхняя часть закрыта, замкнута, многократно о...</td>\n",
       "    </tr>\n",
       "    <tr>\n",
       "      <th>4</th>\n",
       "      <td>5</td>\n",
       "      <td>балка</td>\n",
       "      <td>1</td>\n",
       "      <td>-1</td>\n",
       "      <td>66-70</td>\n",
       "      <td>по телевизору: наши гол забили, я вскочил от р...</td>\n",
       "    </tr>\n",
       "  </tbody>\n",
       "</table>\n",
       "</div>"
      ],
      "text/plain": [
       "   context_id   word gold_sense_id  predict_sense_id positions  \\\n",
       "0           1  балка             1                -1     90-94   \n",
       "1           2  балка             1                -1     69-73   \n",
       "2           3  балка             1                 0   115-121   \n",
       "3           4  балка             1                 1     85-90   \n",
       "4           5  балка             1                -1     66-70   \n",
       "\n",
       "                                             context  \n",
       "0  маленькой комнаты. Он был очень высок, наклони...  \n",
       "1  Пантюхин в Склифе сейчас. Он выползти на улицу...  \n",
       "2  равнозначно обеспечивает и меланхоличную езду....  \n",
       "3  верхняя часть закрыта, замкнута, многократно о...  \n",
       "4  по телевизору: наши гол забили, я вскочил от р...  "
      ]
     },
     "execution_count": 374,
     "metadata": {},
     "output_type": "execute_result"
    }
   ],
   "source": [
    "tmp_db.head()"
   ]
  },
  {
   "cell_type": "markdown",
   "metadata": {},
   "source": [
    "# Visualization"
   ]
  },
  {
   "cell_type": "code",
   "execution_count": 375,
   "metadata": {},
   "outputs": [
    {
     "data": {
      "text/plain": [
       "array([-1,  0,  1, -1,  0,  0, -1, -1, -1,  0, -1,  0, -1,  0,  1, -1,  2,\n",
       "       -1,  0, -1, -1,  0,  0, -1, -1,  2,  2, -1,  0,  0, -1,  1,  0, -1,\n",
       "        0,  0, -1, -1,  0, -1,  1, -1, -1,  0, -1,  0, -1,  0, -1,  0,  0,\n",
       "        0, -1,  0,  0, -1, -1, -1,  0, -1, -1,  3, -1,  3, -1,  3,  0, -1,\n",
       "       -1, -1,  0,  0,  0,  0,  0,  0,  0, -1,  3, -1, -1, -1, -1, -1, -1,\n",
       "       -1,  0,  0,  1,  0, -1, -1,  0, -1,  0,  0, -1,  0,  0, -1, -1,  0,\n",
       "        0,  1,  0,  0, -1, -1, -1,  0, -1,  0, -1,  0, -1,  0, -1, -1,  0,\n",
       "        0, -1,  0,  0, -1,  0, -1, -1, -1,  0, -1, -1, -1, -1,  3,  2, -1,\n",
       "        0, -1,  0,  0,  0, -1,  0, -1,  2, -1, -1,  0, -1,  0])"
      ]
     },
     "execution_count": 375,
     "metadata": {},
     "output_type": "execute_result"
    }
   ],
   "source": [
    "X, pred_labels, golden_labels, _,_ = get_labels_for_word('клетка', contexts_without_tword_transformed, db)\n",
    "pred_labels"
   ]
  },
  {
   "cell_type": "code",
   "execution_count": 376,
   "metadata": {},
   "outputs": [
    {
     "data": {
      "text/plain": [
       "(array([ 73.,   0.,  61.,   0.,   0.,   6.,   0.,   5.,   0.,   5.]),\n",
       " array([-1. , -0.6, -0.2,  0.2,  0.6,  1. ,  1.4,  1.8,  2.2,  2.6,  3. ]),\n",
       " <a list of 10 Patch objects>)"
      ]
     },
     "execution_count": 376,
     "metadata": {},
     "output_type": "execute_result"
    },
    {
     "data": {
      "image/png": "[encoded data removed]",
      "text/plain": [
       "<matplotlib.figure.Figure at 0x7fc633098e10>"
      ]
     },
     "metadata": {},
     "output_type": "display_data"
    }
   ],
   "source": [
    "plt.hist(pred_labels)"
   ]
  },
  {
   "cell_type": "code",
   "execution_count": 377,
   "metadata": {},
   "outputs": [],
   "source": [
    "from sklearn.manifold import TSNE\n",
    "from sklearn.decomposition import PCA"
   ]
  },
  {
   "cell_type": "code",
   "execution_count": 378,
   "metadata": {},
   "outputs": [],
   "source": [
    "def visualize(pred_labels, golden_labels, X):\n",
    "    pca = PCA(n_components=2, random_state=42)\n",
    "    viz_x = pca.fit_transform(X.toarray())\n",
    "    plt.scatter(viz_x[:,0], viz_x[:,1], c=pred_labels, alpha=0.2)\n",
    "    plt.title(\"PCA, Predicted labels\")\n",
    "    plt.colorbar()\n",
    "    plt.show()\n",
    "    # -----\n",
    "    plt.scatter(viz_x[:,0], viz_x[:,1], c=golden_labels, alpha=0.2)\n",
    "    plt.title(\"PCA, golden labels\")\n",
    "    plt.colorbar()\n",
    "    plt.show()\n",
    "    # -----\n",
    "    tsne = TSNE()\n",
    "    viz_tsne = tsne.fit_transform(X.toarray())\n",
    "    plt.scatter(viz_tsne[:,0], viz_tsne[:,1], c=pred_labels, alpha=0.2)\n",
    "    plt.title(\"TSNE, Predicted labels\")\n",
    "    plt.colorbar()\n",
    "    plt.show()\n",
    "    # -----\n",
    "    plt.scatter(viz_tsne[:,0], viz_tsne[:,1], c=golden_labels, alpha=0.2)\n",
    "    plt.title(\"TSNE, golden labels\")\n",
    "    plt.colorbar()\n",
    "    plt.show()"
   ]
  },
  {
   "cell_type": "code",
   "execution_count": 379,
   "metadata": {},
   "outputs": [
    {
     "data": {
      "image/png": "[encoded data removed]",
      "text/plain": [
       "<matplotlib.figure.Figure at 0x7fc6131cf240>"
      ]
     },
     "metadata": {},
     "output_type": "display_data"
    },
    {
     "data": {
      "image/png": "[encoded data removed]",
      "text/plain": [
       "<matplotlib.figure.Figure at 0x7fc6331d3438>"
      ]
     },
     "metadata": {},
     "output_type": "display_data"
    },
    {
     "data": {
      "image/png": "[encoded data removed]",
      "text/plain": [
       "<matplotlib.figure.Figure at 0x7fc632d6ec18>"
      ]
     },
     "metadata": {},
     "output_type": "display_data"
    },
    {
     "data": {
      "image/png": "[encoded data removed]",
      "text/plain": [
       "<matplotlib.figure.Figure at 0x7fc632d35048>"
      ]
     },
     "metadata": {},
     "output_type": "display_data"
    }
   ],
   "source": [
    "visualize(pred_labels=pred_labels, golden_labels=golden_labels, X=X)"
   ]
  },
  {
   "cell_type": "markdown",
   "metadata": {},
   "source": [
    "# AffinityPropagation"
   ]
  },
  {
   "cell_type": "code",
   "execution_count": 380,
   "metadata": {},
   "outputs": [],
   "source": [
    "af = AffinityPropagation(damping=0.7, max_iter=100)"
   ]
  },
  {
   "cell_type": "code",
   "execution_count": 381,
   "metadata": {},
   "outputs": [
    {
     "name": "stdout",
     "output_type": "stream",
     "text": [
      "0.00601098979891\n",
      "0.233350704958\n"
     ]
    }
   ],
   "source": [
    "tmp_af, _ = evaluate_ari(af, contexts_without_tword_transformed=contexts_without_tword_transformed, name='aff')"
   ]
  },
  {
   "cell_type": "code",
   "execution_count": 382,
   "metadata": {},
   "outputs": [
    {
     "data": {
      "text/plain": [
       "array([  0,   1,  11,   2,   3,   4,   5,  61,  75,   6,   7,   8,   9,\n",
       "        10,  11,  12, 107,  13,  14,  35,  15,  16,  17, 118,  57, 107,\n",
       "       107,  87,  18,  19,  20,  11,  21,  22,  23,  24,  52,  25,  26,\n",
       "        27,  11,  28,  29,  30,  67,  31,  32,  33,  34,  35,  36,  37,\n",
       "        39,  38,  39,  68,  40,  41,  42,  43,  44, 106, 119, 106,  45,\n",
       "       106,  46,  47,  16,  48,  49,  50,  51,  52,  53,  54,  55,  56,\n",
       "       106,  57,  58,  59,  60,  61,  62,  63,  64,  65,  11,  66,  67,\n",
       "        68,  69,  40,  70,  71,  72,  73,  74,  75,  19,  76,  77,  11,\n",
       "        78,  79,  80,  81,  82,  83,   1,  84,  85,  86,  87,  88,  89,\n",
       "        90,  91,  92,  93,  94,  95,  96,  97,  98,  99, 100, 101, 102,\n",
       "       103, 104, 105, 106, 107, 108, 109,  30, 110, 111, 112, 113, 114,\n",
       "       115, 107,  51, 116, 117, 118, 119])"
      ]
     },
     "execution_count": 382,
     "metadata": {},
     "output_type": "execute_result"
    }
   ],
   "source": [
    "X, pred_labels, golden_labels, _,_ = get_labels_for_word('клетка', contexts_without_tword_transformed, af)\n",
    "pred_labels"
   ]
  },
  {
   "cell_type": "code",
   "execution_count": 383,
   "metadata": {},
   "outputs": [
    {
     "data": {
      "image/png": "[encoded data removed]",
      "text/plain": [
       "<matplotlib.figure.Figure at 0x7fc632c51d68>"
      ]
     },
     "metadata": {},
     "output_type": "display_data"
    },
    {
     "data": {
      "image/png": "[encoded data removed]",
      "text/plain": [
       "<matplotlib.figure.Figure at 0x7fc635d5b588>"
      ]
     },
     "metadata": {},
     "output_type": "display_data"
    },
    {
     "data": {
      "image/png": "[encoded data removed]",
      "text/plain": [
       "<matplotlib.figure.Figure at 0x7fc635fba710>"
      ]
     },
     "metadata": {},
     "output_type": "display_data"
    },
    {
     "data": {
      "image/png": "[encoded data removed]",
      "text/plain": [
       "<matplotlib.figure.Figure at 0x7fc635f38fd0>"
      ]
     },
     "metadata": {},
     "output_type": "display_data"
    }
   ],
   "source": [
    "visualize(pred_labels=pred_labels, golden_labels=golden_labels, X=X)"
   ]
  },
  {
   "cell_type": "markdown",
   "metadata": {},
   "source": [
    "# KMeans"
   ]
  },
  {
   "cell_type": "code",
   "execution_count": 384,
   "metadata": {},
   "outputs": [],
   "source": [
    "from sklearn.cluster import KMeans"
   ]
  },
  {
   "cell_type": "code",
   "execution_count": 385,
   "metadata": {},
   "outputs": [
    {
     "data": {
      "text/plain": [
       "<3491x382 sparse matrix of type '<class 'numpy.float64'>'\n",
       "\twith 1983 stored elements in Compressed Sparse Row format>"
      ]
     },
     "execution_count": 385,
     "metadata": {},
     "output_type": "execute_result"
    }
   ],
   "source": [
    "contexts_without_tword_transformed"
   ]
  },
  {
   "cell_type": "code",
   "execution_count": 397,
   "metadata": {},
   "outputs": [],
   "source": [
    "km = KMeans(n_clusters=6, random_state=42)"
   ]
  },
  {
   "cell_type": "code",
   "execution_count": 398,
   "metadata": {
    "scrolled": true
   },
   "outputs": [
    {
     "name": "stdout",
     "output_type": "stream",
     "text": [
      "0.0187196176586\n",
      "0.233350704958\n"
     ]
    }
   ],
   "source": [
    "tmp_ari = evaluate_ari(km, contexts_without_tword_transformed=contexts_without_tword_transformed, name='kmeans6')"
   ]
  },
  {
   "cell_type": "code",
   "execution_count": 390,
   "metadata": {},
   "outputs": [
    {
     "name": "stdout",
     "output_type": "stream",
     "text": [
      "FOR I= 1\n",
      "0.0\n",
      "0.233350704958\n",
      "-----\n",
      "\n",
      "FOR I= 2\n",
      "0.00897191829598\n",
      "0.233350704958\n",
      "-----\n",
      "\n",
      "FOR I= 3\n",
      "0.00649405031318\n",
      "0.233350704958\n",
      "-----\n",
      "\n",
      "FOR I= 4\n",
      "0.011313112732\n",
      "0.233350704958\n",
      "-----\n",
      "\n",
      "FOR I= 5\n",
      "0.00855929003116\n",
      "0.233350704958\n",
      "-----\n",
      "\n",
      "FOR I= 6\n",
      "0.0187196176586\n",
      "0.233350704958\n",
      "-----\n",
      "\n",
      "FOR I= 7\n",
      "0.00563930540936\n",
      "0.233350704958\n",
      "-----\n",
      "\n",
      "0.0187196176586\n"
     ]
    }
   ],
   "source": [
    "max_res = 0\n",
    "for i in range(1,8):\n",
    "    km = KMeans(n_clusters=i, random_state=42, )\n",
    "    print(\"FOR I=\", i)\n",
    "    _, res = evaluate_ari(km, contexts_without_tword_transformed=contexts_without_tword_transformed, name=None)\n",
    "    if res>max_res:\n",
    "        max_res = res\n",
    "    print('-----\\n')\n",
    "\n",
    "print(max_res)"
   ]
  },
  {
   "cell_type": "code",
   "execution_count": 344,
   "metadata": {},
   "outputs": [],
   "source": [
    "km = KMeans(n_clusters=6, random_state=42)"
   ]
  },
  {
   "cell_type": "code",
   "execution_count": 346,
   "metadata": {},
   "outputs": [
    {
     "data": {
      "text/plain": [
       "array([0, 0, 0, 0, 0, 0, 0, 0, 0, 4, 2, 0, 0, 0, 2, 0, 0, 1, 0, 2, 0, 0, 0,\n",
       "       0, 0, 0, 0, 0, 0, 0, 0, 0, 0, 0, 0, 0, 0, 0, 3, 0, 4, 5, 0, 0, 0, 0,\n",
       "       0, 0, 0, 0, 0, 0, 0, 0, 0, 0, 0, 0, 0, 0, 0, 0, 0, 2, 0, 0, 0, 0, 0,\n",
       "       0, 0, 0, 0, 0, 0, 0, 0, 0, 0, 0, 0, 0, 0, 0, 0, 0, 0, 0, 1, 0, 2, 0,\n",
       "       0, 0, 0, 0, 3, 0, 0, 4, 0, 0, 0, 0, 3, 0, 0, 0, 0, 0, 0, 0, 0, 0, 0,\n",
       "       0, 0, 0, 0, 0, 0, 0, 0, 0, 0, 1, 0, 0, 0, 0, 2, 0, 1, 4, 0, 0], dtype=int32)"
      ]
     },
     "execution_count": 346,
     "metadata": {},
     "output_type": "execute_result"
    }
   ],
   "source": [
    "X, pred_labels, golden_labels, _, _ = get_labels_for_word('поток', contexts_without_tword_transformed, km)\n",
    "pred_labels"
   ]
  },
  {
   "cell_type": "code",
   "execution_count": 347,
   "metadata": {},
   "outputs": [
    {
     "data": {
      "image/png": "[encoded data removed]",
      "text/plain": [
       "<matplotlib.figure.Figure at 0x7fc635e42320>"
      ]
     },
     "metadata": {},
     "output_type": "display_data"
    },
    {
     "data": {
      "image/png": "[encoded data removed]",
      "text/plain": [
       "<matplotlib.figure.Figure at 0x7fc635825e10>"
      ]
     },
     "metadata": {},
     "output_type": "display_data"
    },
    {
     "data": {
      "image/png": "[encoded data removed]",
      "text/plain": [
       "<matplotlib.figure.Figure at 0x7fc6327b57b8>"
      ]
     },
     "metadata": {},
     "output_type": "display_data"
    },
    {
     "data": {
      "image/png": "[encoded data removed]",
      "text/plain": [
       "<matplotlib.figure.Figure at 0x7fc613354a58>"
      ]
     },
     "metadata": {},
     "output_type": "display_data"
    }
   ],
   "source": [
    "visualize(pred_labels=pred_labels, golden_labels=golden_labels, X=X)"
   ]
  },
  {
   "cell_type": "markdown",
   "metadata": {},
   "source": [
    "## Alternative metrics currently drafted"
   ]
  },
  {
   "cell_type": "code",
   "execution_count": null,
   "metadata": {},
   "outputs": [],
   "source": [
    "print(\"Homogeneity: %0.3f\" % metrics.homogeneity_score(labels, km.labels_))\n",
    "print(\"Completeness: %0.3f\" % metrics.completeness_score(labels, km.labels_))\n",
    "print(\"V-measure: %0.3f\" % metrics.v_measure_score(labels, km.labels_))\n",
    "print(\"Adjusted Rand-Index: %.3f\"\n",
    "      % metrics.adjusted_rand_score(labels, km.labels_))\n",
    "print(\"Silhouette Coefficient: %0.3f\"\n",
    "      % metrics.silhouette_score(X, km.labels_, sample_size=1000))"
   ]
  },
  {
   "cell_type": "markdown",
   "metadata": {},
   "source": [
    "# Evaluation"
   ]
  },
  {
   "cell_type": "markdown",
   "metadata": {},
   "source": [
    "### baseline evaluation"
   ]
  },
  {
   "cell_type": "code",
   "execution_count": 365,
   "metadata": {},
   "outputs": [
    {
     "name": "stdout",
     "output_type": "stream",
     "text": [
      "word\tari\tcount\r\n",
      "балка\t0.000460\t119\r\n",
      "вид\t-0.001822\t77\r\n",
      "винт\t-0.001720\t123\r\n",
      "горн\t0.000684\t51\r\n",
      "губа\t0.000647\t137\r\n",
      "жаба\t-0.004379\t121\r\n",
      "клетка\t-0.001753\t150\r\n",
      "крыло\t0.003432\t91\r\n",
      "купюра\t-0.000156\t150\r\n",
      "курица\t-0.000554\t93\r\n",
      "лавка\t-0.000390\t149\r\n",
      "лайка\t0.000010\t99\r\n",
      "лев\t0.014976\t44\r\n",
      "лира\t0.096036\t49\r\n",
      "мина\t0.071851\t65\r\n",
      "мишень\t-0.001195\t121\r\n",
      "обед\t0.006447\t100\r\n",
      "оклад\t-0.000321\t146\r\n",
      "опушка\t0.000506\t148\r\n",
      "полис\t0.000331\t142\r\n",
      "пост\t0.000226\t144\r\n",
      "поток\t-0.000825\t136\r\n",
      "проказа\t0.001048\t146\r\n",
      "пропасть\t-0.002198\t127\r\n",
      "проспект\t0.000925\t139\r\n",
      "пытка\t-0.000800\t143\r\n",
      "рысь\t-0.000958\t120\r\n",
      "среда\t0.002709\t144\r\n",
      "хвост\t-0.002701\t121\r\n",
      "штамп\t-0.000186\t96\r\n",
      "\t0.002739\t3491\r\n"
     ]
    }
   ],
   "source": [
    "!python3 ../evaluate.py ../tmp_res/aff.csv"
   ]
  },
  {
   "cell_type": "code",
   "execution_count": 366,
   "metadata": {},
   "outputs": [
    {
     "name": "stdout",
     "output_type": "stream",
     "text": [
      "word\tari\tcount\r\n",
      "балка\t-0.014968\t119\r\n",
      "вид\t-0.017563\t77\r\n",
      "винт\t0.010895\t123\r\n",
      "горн\t-0.019937\t51\r\n",
      "губа\t-0.007906\t137\r\n",
      "жаба\t0.011138\t121\r\n",
      "клетка\t0.015442\t150\r\n",
      "крыло\t-0.008823\t91\r\n",
      "купюра\t-0.003993\t150\r\n",
      "курица\t-0.010609\t93\r\n",
      "лавка\t-0.002383\t149\r\n",
      "лайка\t0.032303\t99\r\n",
      "лев\t-0.019638\t44\r\n",
      "лира\t0.031621\t49\r\n",
      "мина\t0.008277\t65\r\n",
      "мишень\t0.001876\t121\r\n",
      "обед\t-0.040902\t100\r\n",
      "оклад\t0.002054\t146\r\n",
      "опушка\t-0.017183\t148\r\n",
      "полис\t0.000773\t142\r\n",
      "пост\t-0.022061\t144\r\n",
      "поток\t0.007281\t136\r\n",
      "проказа\t-0.012660\t146\r\n",
      "пропасть\t0.012978\t127\r\n",
      "проспект\t-0.052361\t139\r\n",
      "пытка\t0.031771\t143\r\n",
      "рысь\t-0.009885\t120\r\n",
      "среда\t-0.013286\t144\r\n",
      "хвост\t0.031685\t121\r\n",
      "штамп\t-0.011078\t96\r\n",
      "\t-0.002864\t3491\r\n"
     ]
    }
   ],
   "source": [
    "!python3 ../evaluate.py ../tmp_res/dbscan.csv"
   ]
  },
  {
   "cell_type": "code",
   "execution_count": 399,
   "metadata": {},
   "outputs": [
    {
     "name": "stdout",
     "output_type": "stream",
     "text": [
      "word\tari\tcount\r\n",
      "балка\t-0.009493\t119\r\n",
      "вид\t-0.027491\t77\r\n",
      "винт\t0.002676\t123\r\n",
      "горн\t-0.024159\t51\r\n",
      "губа\t-0.055757\t137\r\n",
      "жаба\t0.054312\t121\r\n",
      "клетка\t0.040454\t150\r\n",
      "крыло\t0.020045\t91\r\n",
      "купюра\t0.055818\t150\r\n",
      "курица\t0.037382\t93\r\n",
      "лавка\t0.000154\t149\r\n",
      "лайка\t-0.055560\t99\r\n",
      "лев\t0.244401\t44\r\n",
      "лира\t0.043842\t49\r\n",
      "мина\t0.237745\t65\r\n",
      "мишень\t0.015091\t121\r\n",
      "обед\t0.059183\t100\r\n",
      "оклад\t-0.020392\t146\r\n",
      "опушка\t-0.058911\t148\r\n",
      "полис\t-0.034279\t142\r\n",
      "пост\t0.008157\t144\r\n",
      "поток\t0.023802\t136\r\n",
      "проказа\t-0.044827\t146\r\n",
      "пропасть\t0.068304\t127\r\n",
      "проспект\t-0.016195\t139\r\n",
      "пытка\t0.048207\t143\r\n",
      "рысь\t-0.048971\t120\r\n",
      "среда\t-0.013871\t144\r\n",
      "хвост\t0.036453\t121\r\n",
      "штамп\t-0.024531\t96\r\n",
      "\t0.009725\t3491\r\n"
     ]
    }
   ],
   "source": [
    "!python3 ../evaluate.py ../tmp_res/kmeans6.csv"
   ]
  },
  {
   "cell_type": "code",
   "execution_count": null,
   "metadata": {},
   "outputs": [],
   "source": []
  }
 ],
 "metadata": {
  "kernelspec": {
   "display_name": "Python 3",
   "language": "python",
   "name": "python3"
  },
  "language_info": {
   "codemirror_mode": {
    "name": "ipython",
    "version": 3
   },
   "file_extension": ".py",
   "mimetype": "text/x-python",
   "name": "python",
   "nbconvert_exporter": "python",
   "pygments_lexer": "ipython3",
   "version": "3.6.3"
  }
 },
 "nbformat": 4,
 "nbformat_minor": 2
}

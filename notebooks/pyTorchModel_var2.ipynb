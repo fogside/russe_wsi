{
 "cells": [
  {
   "cell_type": "code",
   "execution_count": 1,
   "metadata": {},
   "outputs": [],
   "source": [
    "import torch\n",
    "import torch.nn as nn\n",
    "import torch.nn.functional as fn\n",
    "from torch.autograd import Variable\n",
    "import numpy as np"
   ]
  },
  {
   "cell_type": "code",
   "execution_count": 2,
   "metadata": {},
   "outputs": [],
   "source": [
    "from tqdm import tqdm_notebook"
   ]
  },
  {
   "cell_type": "code",
   "execution_count": 424,
   "metadata": {},
   "outputs": [],
   "source": [
    "import gc"
   ]
  },
  {
   "cell_type": "code",
   "execution_count": 134,
   "metadata": {},
   "outputs": [],
   "source": [
    "# Multi-Component word embeddings\n",
    "\n",
    "class MultiComp(nn.Module):\n",
    "    def __init__(self, word_embeddings_to_comp, n_comp=3):\n",
    "        \"\"\"\n",
    "        word_embeddings_to_comp: word embeddings of the target word;\n",
    "                                 shape = (n_words,100);\n",
    "        \n",
    "        \"\"\"\n",
    "        super(MultiComp, self).__init__()\n",
    "        self.n_comp = n_comp\n",
    "        \n",
    "        n_words, embedding_size = word_embeddings_to_comp.shape\n",
    "        # expand to duplicate embeddings n_comp times\n",
    "        expanded_word_embeddings = np.expand_dims(word_embeddings_to_comp, 1)\n",
    "        comp_embeddings = np.tile(expanded_word_embeddings, [1, n_comp, 1])\n",
    "        \n",
    "        # add some noise to components (1/3 of its standard deviations)\n",
    "        stds = word_embeddings_to_comp.std(axis=1, keepdims=True).reshape([n_words, 1, 1])\n",
    "        comp_embeddings += np.random.randn(n_words, n_comp, embedding_size)#  * stds  / 10\n",
    "        comp_embeddings = np.random.randn(n_words, n_comp, embedding_size)#  * stds  / 10\n",
    "        comp_embeddings = comp_embeddings.astype(np.float32)\n",
    "        \n",
    "        self.n_centroids = np.random.randn(n_words, n_comp, embedding_size)#  * stds  / 10\n",
    "        self.n_centroids = self.n_centroids.astype(np.float32)\n",
    "        \n",
    "        # create variable to use autograd\n",
    "        self.words_comps = nn.Parameter(torch.from_numpy(comp_embeddings))\n",
    "        \n",
    "#         # weight matrices for attention (times 2 because concat context and comp)\n",
    "#         weights = np.random.randn(n_words, embedding_size * 2, 1)\n",
    "#         # xavier\n",
    "#         weights = weights * np.sqrt(2 / (embedding_size + n_comp))\n",
    "#         weights = weights.astype(np.float32)\n",
    "#         self.att_w = nn.Parameter(torch.from_numpy(weights))\n",
    "#         self.att_b = nn.Parameter(torch.zeros(n_words, n_comp, 1))\n",
    "                \n",
    "    def forward(self, context_embeddigs, word_n):\n",
    "        \"\"\"\n",
    "        context_embeddings: shape = (n_context_words, 100);\n",
    "        word_n: number of main_word for what the forward is running;\n",
    "        \n",
    "        \"\"\"\n",
    "        \n",
    "        # pick word_embeddings and linear layer weights\n",
    "#         w_comps = self.words_comps[word_n]\n",
    "#         att_w = self.att_w[word_n]\n",
    "#         att_b = self.att_b[word_n]\n",
    "        # sum the context across words dim \n",
    "        cont_sum = np.mean(context_embeddigs, axis=0)\n",
    "        cont_sum = cont_sum.astype(np.float32)\n",
    "#         print(cont_sum.shape)\n",
    "#         print(self.n_centroids[word_n].shape)\n",
    "#         cont_sum_repeated = cont_sum.repeat(self.n_comp, 1)\n",
    "        scores_tmp = np.matmul(self.n_centroids[word_n], cont_sum)\n",
    "        scores = Variable(torch.from_numpy(scores_tmp))\n",
    "        scores = fn.softmax(scores, 0)\n",
    "        values, indices = scores.max(0)\n",
    "        \n",
    "        for n in range(self.n_comp):\n",
    "            self.n_centroids[word_n][n]+=cont_sum*scores[n].data\n",
    "            self.n_centroids[word_n][n]/=np.sqrt(self.n_centroids[word_n][n]**2)\n",
    "        \n",
    "#         self.n_centroids[word_n][indices.data]+=cont_sum\n",
    "#         self.n_centroids[word_n][indices.data]/=np.sqrt(self.n_centroids[word_n][indices.data]**2)\n",
    "            \n",
    "#         print(scores)\n",
    "#         print(values, indices)\n",
    "\n",
    "#         att_input = torch.cat([cont_sum_repeated, w_comps], dim=1)\n",
    "#         att = torch.matmul(att_input, att_w) + att_b\n",
    "#         att = fn.softmax(att, 0)\n",
    "#         comps_sum = torch.sum(w_comps * scores.expand_as(w_comps), 0)\n",
    "        comps_sum = torch.matmul(scores, self.words_comps[word_n])\n",
    "        cont_sum = Variable(torch.from_numpy(cont_sum))\n",
    "        dot_prod = torch.matmul(comps_sum, cont_sum.squeeze())/(torch.norm(comps_sum, p=1) * torch.norm(cont_sum, p=1))\n",
    "        dot_prod -= torch.norm(cont_sum,p=2)\n",
    "#         print(dot_prod)\n",
    "        #         dot_prod = fn.cosine_embedding_loss(w_comps[indices.data].double(), cont_sum.squeeze(), 1, 0, True)\n",
    "        return dot_prod, scores"
   ]
  },
  {
   "cell_type": "code",
   "execution_count": 504,
   "metadata": {},
   "outputs": [
    {
     "data": {
      "text/plain": [
       "(100,)"
      ]
     },
     "execution_count": 504,
     "metadata": {},
     "output_type": "execute_result"
    }
   ],
   "source": [
    "net.n_centroids[0][0].shape"
   ]
  },
  {
   "cell_type": "markdown",
   "metadata": {},
   "source": [
    "# Test simple"
   ]
  },
  {
   "cell_type": "code",
   "execution_count": 135,
   "metadata": {},
   "outputs": [],
   "source": [
    "w_emb = np.random.randn(3, 100)\n",
    "net = MultiComp(w_emb)\n",
    "opt = torch.optim.Adam(net.parameters(), lr=1e-3)\n",
    "\n",
    "\n",
    "n_samples = 10000\n",
    "n_context = 20 # number of words in the context\n",
    "emb_dim = 100\n",
    "for sample in np.random.randn(n_samples, n_context, emb_dim):\n",
    "    # Prepare sample with Variable wrap\n",
    "#     sample = Variable(torch.from_numpy(sample.astype(np.float32)))\n",
    "    net.zero_grad()\n",
    "    dot_prod, att = net.forward(sample, 0)\n",
    "    loss = dot_prod\n",
    "    loss.backward()\n",
    "    opt.step()\n",
    "#     print(loss)\n",
    "#     print(\"attn: \", att)"
   ]
  },
  {
   "cell_type": "code",
   "execution_count": 136,
   "metadata": {},
   "outputs": [
    {
     "data": {
      "text/plain": [
       "torch.Size([100])"
      ]
     },
     "execution_count": 136,
     "metadata": {},
     "output_type": "execute_result"
    }
   ],
   "source": [
    "net.words_comps[0][0].shape"
   ]
  },
  {
   "cell_type": "code",
   "execution_count": 137,
   "metadata": {},
   "outputs": [
    {
     "data": {
      "image/png": "[encoded data removed]",
      "text/plain": [
       "<matplotlib.figure.Figure at 0x7f7b79d8bbe0>"
      ]
     },
     "metadata": {},
     "output_type": "display_data"
    }
   ],
   "source": [
    "plt.plot(net.words_comps[0][2].data.numpy())\n",
    "plt.show()"
   ]
  },
  {
   "cell_type": "markdown",
   "metadata": {},
   "source": [
    "# Create dataset"
   ]
  },
  {
   "cell_type": "code",
   "execution_count": 7,
   "metadata": {},
   "outputs": [
    {
     "name": "stdout",
     "output_type": "stream",
     "text": [
      "total 13G\r\n",
      "-rw-r--r-- 1 fogside fogside  8,1G янв 21 18:08 \u001b[0m\u001b[00mbig_one_file.txt\u001b[0m\r\n",
      "-rw-r--r-- 1 fogside fogside   40M янв 21 18:22 \u001b[00mdict.txt\u001b[0m\r\n",
      "drwxr-xr-x 3 fogside fogside  4,0K янв 21 18:05 \u001b[01;34mlibru\u001b[0m/\r\n",
      "-rw-r--r-- 1 fogside fogside  3,0M янв 17 17:42 \u001b[00mmain_contexts_and_test.txt\u001b[0m\r\n",
      "-rw-r--r-- 1 fogside fogside  623M янв 17 17:43 \u001b[00mmain_wiki_and_contexts.txt\u001b[0m\r\n",
      "-rw-r--r-- 1 fogside fogside  620M янв 14 19:34 \u001b[00mmain_words_wiki_normalized_no_punct.txt\u001b[0m\r\n",
      "-rw-r--r-- 1 fogside fogside  732M янв 14 18:56 \u001b[00mmain_words_wiki.txt\u001b[0m\r\n",
      "-rw-r--r-- 1 fogside fogside 1019M окт 20 00:10 \u001b[00mruwiki_00.txt\u001b[0m\r\n",
      "-rw-r--r-- 1 fogside fogside  1,1G янв 13 15:06 \u001b[00mruwiki_tokenized.txt\u001b[0m\r\n",
      "drwxrwxr-x 4 fogside fogside  4,0K янв 19 18:03 \u001b[01;34mНКРЯ\u001b[0m/\r\n"
     ]
    }
   ],
   "source": [
    "ls -lh ../data/my_data/"
   ]
  },
  {
   "cell_type": "code",
   "execution_count": 8,
   "metadata": {},
   "outputs": [
    {
     "name": "stdout",
     "output_type": "stream",
     "text": [
      "total 3,0G\r\n",
      "-rw-r--r-- 1 fogside fogside 1,3G дек  8 17:42 \u001b[0m\u001b[00mfast_text_model.bin\u001b[0m\r\n",
      "-rw-r--r-- 1 fogside fogside 587M дек  8 17:42 \u001b[00mfast_text_model.vec\u001b[0m\r\n",
      "-rw-r--r-- 1 fogside fogside 923M янв 22 04:51 \u001b[00mmodel_big_one.bin\u001b[0m\r\n",
      "-rw-r--r-- 1 fogside fogside 171M янв 22 04:51 \u001b[00mmodel_big_one.vec\u001b[0m\r\n"
     ]
    }
   ],
   "source": [
    "ls -lh ../models/"
   ]
  },
  {
   "cell_type": "code",
   "execution_count": 5,
   "metadata": {},
   "outputs": [],
   "source": [
    "from pymystem3 import Mystem\n",
    "stemmer = Mystem()"
   ]
  },
  {
   "cell_type": "code",
   "execution_count": 6,
   "metadata": {},
   "outputs": [],
   "source": [
    "def get_all_indexes(lst, word):\n",
    "    res = []\n",
    "    i = 0\n",
    "    while(True):\n",
    "        try:\n",
    "            i = lst.index(word, i)\n",
    "            res.append(i)\n",
    "            i+=1\n",
    "        except:\n",
    "            break\n",
    "    return res"
   ]
  },
  {
   "cell_type": "code",
   "execution_count": 7,
   "metadata": {},
   "outputs": [],
   "source": [
    "def make_dataset(word, window):\n",
    "    N = 1669868\n",
    "    w = stemmer.lemmatize(word)[0]\n",
    "    counter = 0\n",
    "\n",
    "    with open(\"../data/my_data/big_one_file.txt\", 'r') as bigf,\\\n",
    "    open(\"../data/my_data/{}_out.txt\".format(word), 'a') as fout:\n",
    "        for i in tqdm_notebook(range(N)):\n",
    "            line = bigf.readline().split()\n",
    "            if w in line:\n",
    "                idxs = get_all_indexes(line, w)\n",
    "                for i in idxs:\n",
    "                    counter+=1\n",
    "                    # each line is a group of neighbour words with length = 3*window\n",
    "                    start = max(0, i-1-window) # if 0 is max then all before main word will be selected\n",
    "                    fout.write(\" \".join(line[start:i-1])+\" \"+\" \".join(line[i:i+window])+'\\n')\n",
    "    return counter"
   ]
  },
  {
   "cell_type": "code",
   "execution_count": 60,
   "metadata": {},
   "outputs": [
    {
     "name": "stderr",
     "output_type": "stream",
     "text": [
      "100%|██████████| 1669868/1669868 [01:11<00:00, 23263.62it/s] \n"
     ]
    },
    {
     "data": {
      "text/plain": [
       "111462"
      ]
     },
     "execution_count": 60,
     "metadata": {},
     "output_type": "execute_result"
    }
   ],
   "source": [
    "make_dataset(word='замок', window=10)"
   ]
  },
  {
   "cell_type": "code",
   "execution_count": 6,
   "metadata": {},
   "outputs": [],
   "source": [
    "from gensim.models import KeyedVectors\n",
    "wv = KeyedVectors.load_word2vec_format(\"../models/model_big_one.vec\", binary=False)"
   ]
  },
  {
   "cell_type": "code",
   "execution_count": 56,
   "metadata": {},
   "outputs": [],
   "source": [
    "with open(\"../data/my_data/{}_out.txt\".format('замок'), 'r') as f:\n",
    "    lines = f.readlines()"
   ]
  },
  {
   "cell_type": "code",
   "execution_count": 7,
   "metadata": {},
   "outputs": [],
   "source": [
    "def generate_batch(lines, context_max_len):\n",
    "    for line in lines:\n",
    "        line = line.split()\n",
    "        embedd = []\n",
    "        for i, w in enumerate(line[:context_max_len]):\n",
    "            try:\n",
    "                embedd.append(wv[w])\n",
    "            except KeyError:\n",
    "                continue\n",
    "        yield np.array(embedd)"
   ]
  },
  {
   "cell_type": "code",
   "execution_count": 50,
   "metadata": {},
   "outputs": [],
   "source": [
    "kek = generate_batch(lines=lines, context_max_len=1)"
   ]
  },
  {
   "cell_type": "code",
   "execution_count": 51,
   "metadata": {},
   "outputs": [],
   "source": [
    "lol = next(kek)"
   ]
  },
  {
   "cell_type": "code",
   "execution_count": 52,
   "metadata": {},
   "outputs": [
    {
     "data": {
      "text/plain": [
       "numpy.ndarray"
      ]
     },
     "execution_count": 52,
     "metadata": {},
     "output_type": "execute_result"
    }
   ],
   "source": [
    "type(lol)"
   ]
  },
  {
   "cell_type": "code",
   "execution_count": 53,
   "metadata": {},
   "outputs": [
    {
     "data": {
      "text/plain": [
       "(1, 100)"
      ]
     },
     "execution_count": 53,
     "metadata": {},
     "output_type": "execute_result"
    }
   ],
   "source": [
    "# lol = np.expand_dims(lol, 0)\n",
    "lol.shape"
   ]
  },
  {
   "cell_type": "code",
   "execution_count": 54,
   "metadata": {},
   "outputs": [],
   "source": [
    "cont_sum = np.mean(lol, axis=0)"
   ]
  },
  {
   "cell_type": "code",
   "execution_count": 55,
   "metadata": {},
   "outputs": [
    {
     "data": {
      "text/plain": [
       "(100,)"
      ]
     },
     "execution_count": 55,
     "metadata": {},
     "output_type": "execute_result"
    }
   ],
   "source": [
    "cont_sum.shape"
   ]
  },
  {
   "cell_type": "code",
   "execution_count": 138,
   "metadata": {},
   "outputs": [
    {
     "data": {
      "application/vnd.jupyter.widget-view+json": {
       "model_id": "5202914bb3a64e9ab6bb21b8e457d6eb",
       "version_major": 2,
       "version_minor": 0
      },
      "text/html": [
       "<p>Failed to display Jupyter Widget of type <code>HBox</code>.</p>\n",
       "<p>\n",
       "  If you're reading this message in Jupyter Notebook or JupyterLab, it may mean\n",
       "  that the widgets JavaScript is still loading. If this message persists, it\n",
       "  likely means that the widgets JavaScript library is either not installed or\n",
       "  not enabled. See the <a href=\"https://ipywidgets.readthedocs.io/en/stable/user_install.html\">Jupyter\n",
       "  Widgets Documentation</a> for setup instructions.\n",
       "</p>\n",
       "<p>\n",
       "  If you're reading this message in another notebook frontend (for example, a static\n",
       "  rendering on GitHub or <a href=\"https://nbviewer.jupyter.org/\">NBViewer</a>),\n",
       "  it may mean that your frontend doesn't currently support widgets.\n",
       "</p>\n"
      ],
      "text/plain": [
       "HBox(children=(IntProgress(value=0, max=111462), HTML(value='')))"
      ]
     },
     "metadata": {},
     "output_type": "display_data"
    },
    {
     "name": "stdout",
     "output_type": "stream",
     "text": [
      "epoch_num:  0\n",
      "\n"
     ]
    }
   ],
   "source": [
    "w_emb = wv['замок'].reshape((1,100))\n",
    "net = MultiComp(w_emb, 3)\n",
    "opt = torch.optim.Adam(net.parameters(), lr=1e-4)\n",
    "\n",
    "\n",
    "n_samples = len(lines)\n",
    "n_context = 10 # number of words in the context\n",
    "emb_dim = 100\n",
    "atts = list()\n",
    "epoch_num = 1\n",
    "for epoch in range(epoch_num):\n",
    "    batch_gen = generate_batch(lines, context_max_len=n_context)\n",
    "    pbar = tqdm_notebook(batch_gen, total = n_samples)\n",
    "    print(\"epoch_num: \", epoch)\n",
    "    for n, sample in enumerate(pbar):\n",
    "        # Prepare sample with Variable wrap\n",
    "    #     sample = Variable(torch.from_numpy(sample.astype(np.float32)))\n",
    "        net.zero_grad()\n",
    "        dot_prod, att = net.forward(sample, 0)\n",
    "        atts.append(att.data.numpy())\n",
    "        loss = -dot_prod \n",
    "        loss.backward()\n",
    "        opt.step()\n",
    "        if n % 100 == 99:\n",
    "            pbar.set_description(\"loss {:.3f}\".format(float(loss.data.numpy())))"
   ]
  },
  {
   "cell_type": "code",
   "execution_count": 237,
   "metadata": {},
   "outputs": [],
   "source": [
    "atts = np.array(atts)"
   ]
  },
  {
   "cell_type": "code",
   "execution_count": 238,
   "metadata": {
    "scrolled": true
   },
   "outputs": [
    {
     "data": {
      "text/plain": [
       "array([[0.16587138, 0.13672392, 0.6974047 ],\n",
       "       [0.30780715, 0.6474888 , 0.04470406],\n",
       "       [0.2365743 , 0.67896855, 0.08445714],\n",
       "       [0.22418965, 0.34547266, 0.43033764],\n",
       "       [0.13999598, 0.8056397 , 0.05436434],\n",
       "       [0.02267888, 0.92723006, 0.05009108],\n",
       "       [0.02082517, 0.9725045 , 0.00667032],\n",
       "       [0.43861222, 0.49424314, 0.06714462],\n",
       "       [0.33819836, 0.43503675, 0.2267649 ],\n",
       "       [0.06546332, 0.9089217 , 0.02561494],\n",
       "       [0.25726086, 0.70269173, 0.04004737],\n",
       "       [0.06654447, 0.93154997, 0.00190554],\n",
       "       [0.612973  , 0.21143901, 0.17558797],\n",
       "       [0.3801594 , 0.55371594, 0.06612469],\n",
       "       [0.00098036, 0.06658698, 0.93243265],\n",
       "       [0.08590988, 0.7397361 , 0.17435405],\n",
       "       [0.10580128, 0.15874432, 0.73545444],\n",
       "       [0.00522046, 0.43229625, 0.5624833 ],\n",
       "       [0.0517174 , 0.6292154 , 0.3190672 ],\n",
       "       [0.03816398, 0.32324395, 0.63859206]], dtype=float32)"
      ]
     },
     "execution_count": 238,
     "metadata": {},
     "output_type": "execute_result"
    }
   ],
   "source": [
    "atts[-20:]"
   ]
  },
  {
   "cell_type": "code",
   "execution_count": 235,
   "metadata": {},
   "outputs": [
    {
     "ename": "AttributeError",
     "evalue": "'MultiComp_triplet' object has no attribute 'n_centroids'",
     "output_type": "error",
     "traceback": [
      "\u001b[0;31m---------------------------------------------------------------------------\u001b[0m",
      "\u001b[0;31mAttributeError\u001b[0m                            Traceback (most recent call last)",
      "\u001b[0;32m<ipython-input-235-ff4b50a8350b>\u001b[0m in \u001b[0;36m<module>\u001b[0;34m()\u001b[0m\n\u001b[0;32m----> 1\u001b[0;31m \u001b[0mwv\u001b[0m\u001b[0;34m.\u001b[0m\u001b[0msimilar_by_vector\u001b[0m\u001b[0;34m(\u001b[0m\u001b[0mnet\u001b[0m\u001b[0;34m.\u001b[0m\u001b[0mn_centroids\u001b[0m\u001b[0;34m[\u001b[0m\u001b[0;36m0\u001b[0m\u001b[0;34m]\u001b[0m\u001b[0;34m[\u001b[0m\u001b[0;36m2\u001b[0m\u001b[0;34m]\u001b[0m\u001b[0;34m.\u001b[0m\u001b[0mdata\u001b[0m\u001b[0;34m.\u001b[0m\u001b[0mnumpy\u001b[0m\u001b[0;34m(\u001b[0m\u001b[0;34m)\u001b[0m\u001b[0;34m,\u001b[0m \u001b[0;36m30\u001b[0m\u001b[0;34m)\u001b[0m\u001b[0;34m\u001b[0m\u001b[0m\n\u001b[0m",
      "\u001b[0;32m~/virtualenvs/py3/lib/python3.6/site-packages/torch/nn/modules/module.py\u001b[0m in \u001b[0;36m__getattr__\u001b[0;34m(self, name)\u001b[0m\n\u001b[1;32m    364\u001b[0m                 \u001b[0;32mreturn\u001b[0m \u001b[0mmodules\u001b[0m\u001b[0;34m[\u001b[0m\u001b[0mname\u001b[0m\u001b[0;34m]\u001b[0m\u001b[0;34m\u001b[0m\u001b[0m\n\u001b[1;32m    365\u001b[0m         raise AttributeError(\"'{}' object has no attribute '{}'\".format(\n\u001b[0;32m--> 366\u001b[0;31m             type(self).__name__, name))\n\u001b[0m\u001b[1;32m    367\u001b[0m \u001b[0;34m\u001b[0m\u001b[0m\n\u001b[1;32m    368\u001b[0m     \u001b[0;32mdef\u001b[0m \u001b[0m__setattr__\u001b[0m\u001b[0;34m(\u001b[0m\u001b[0mself\u001b[0m\u001b[0;34m,\u001b[0m \u001b[0mname\u001b[0m\u001b[0;34m,\u001b[0m \u001b[0mvalue\u001b[0m\u001b[0;34m)\u001b[0m\u001b[0;34m:\u001b[0m\u001b[0;34m\u001b[0m\u001b[0m\n",
      "\u001b[0;31mAttributeError\u001b[0m: 'MultiComp_triplet' object has no attribute 'n_centroids'"
     ]
    }
   ],
   "source": [
    "wv.similar_by_vector(net.n_centroids[0][2].data.numpy(), 30)"
   ]
  },
  {
   "cell_type": "code",
   "execution_count": 239,
   "metadata": {},
   "outputs": [
    {
     "data": {
      "text/plain": [
       "array([-1.2541687 ,  1.8582964 , -0.31258792,  0.2665987 , -0.43048805,\n",
       "       -0.21790884, -0.04610474, -0.81280226, -1.9765189 , -1.0311747 ,\n",
       "       -1.2336148 ,  1.083003  ,  1.2231673 , -1.1865796 ,  1.9852815 ,\n",
       "       -0.364138  ,  0.72365826, -0.4846654 ,  0.06782631, -0.66947746,\n",
       "       -1.6742879 , -0.04842903,  0.21996294, -1.3484262 , -0.79471636,\n",
       "        1.014116  ,  0.64308053,  0.01776632,  0.3629273 ,  0.85904515,\n",
       "       -0.12706737, -0.2522003 , -1.0226461 , -0.30786532,  0.16420737,\n",
       "        2.1452837 ,  0.8496927 ,  0.6854362 , -1.1959504 ,  0.5445643 ,\n",
       "       -2.0958505 , -0.55436647,  1.0481219 ,  2.2312617 , -1.0668707 ,\n",
       "        0.17224905, -1.3053575 , -0.81807315, -0.6041813 ,  1.9998577 ,\n",
       "        0.16643044,  0.61080855,  0.15806784,  0.2936896 ,  1.3472884 ,\n",
       "       -0.8041833 , -0.52742165,  0.13929741,  1.0105057 ,  0.05998057,\n",
       "       -1.9623764 ,  0.1169325 ,  1.0698885 ,  1.1604655 , -1.9462878 ,\n",
       "        2.1530545 ,  1.7121916 , -2.3145297 , -0.43055144,  1.7482153 ,\n",
       "        0.27535158, -1.3130314 , -0.1984295 ,  2.3505342 ,  1.8847911 ,\n",
       "        2.416452  , -0.9485808 , -1.3129748 , -0.663296  , -0.4444802 ,\n",
       "        0.16796239, -0.81201196,  2.6471837 , -1.4728081 ,  1.0224116 ,\n",
       "       -2.5019848 , -1.0383996 ,  0.29946703,  1.818241  ,  0.44400856,\n",
       "       -0.89766055,  2.0075321 ,  0.18696952, -2.183056  , -2.645965  ,\n",
       "       -1.4827616 ,  1.390572  , -1.2203116 , -0.62223274, -0.61254376],\n",
       "      dtype=float32)"
      ]
     },
     "execution_count": 239,
     "metadata": {},
     "output_type": "execute_result"
    }
   ],
   "source": [
    "net.words_comps[0].data.numpy()[2]"
   ]
  },
  {
   "cell_type": "code",
   "execution_count": 240,
   "metadata": {},
   "outputs": [
    {
     "data": {
      "text/plain": [
       "array([-1.2541687 ,  1.8582964 , -0.31258792,  0.2665987 , -0.43048805,\n",
       "       -0.21790884, -0.04610474, -0.81280226, -1.9765189 , -1.0311747 ,\n",
       "       -1.2336148 ,  1.083003  ,  1.2231673 , -1.1865796 ,  1.9852815 ,\n",
       "       -0.364138  ,  0.72365826, -0.4846654 ,  0.06782631, -0.66947746,\n",
       "       -1.6742879 , -0.04842903,  0.21996294, -1.3484262 , -0.79471636,\n",
       "        1.014116  ,  0.64308053,  0.01776632,  0.3629273 ,  0.85904515,\n",
       "       -0.12706737, -0.2522003 , -1.0226461 , -0.30786532,  0.16420737,\n",
       "        2.1452837 ,  0.8496927 ,  0.6854362 , -1.1959504 ,  0.5445643 ,\n",
       "       -2.0958505 , -0.55436647,  1.0481219 ,  2.2312617 , -1.0668707 ,\n",
       "        0.17224905, -1.3053575 , -0.81807315, -0.6041813 ,  1.9998577 ,\n",
       "        0.16643044,  0.61080855,  0.15806784,  0.2936896 ,  1.3472884 ,\n",
       "       -0.8041833 , -0.52742165,  0.13929741,  1.0105057 ,  0.05998057,\n",
       "       -1.9623764 ,  0.1169325 ,  1.0698885 ,  1.1604655 , -1.9462878 ,\n",
       "        2.1530545 ,  1.7121916 , -2.3145297 , -0.43055144,  1.7482153 ,\n",
       "        0.27535158, -1.3130314 , -0.1984295 ,  2.3505342 ,  1.8847911 ,\n",
       "        2.416452  , -0.9485808 , -1.3129748 , -0.663296  , -0.4444802 ,\n",
       "        0.16796239, -0.81201196,  2.6471837 , -1.4728081 ,  1.0224116 ,\n",
       "       -2.5019848 , -1.0383996 ,  0.29946703,  1.818241  ,  0.44400856,\n",
       "       -0.89766055,  2.0075321 ,  0.18696952, -2.183056  , -2.645965  ,\n",
       "       -1.4827616 ,  1.390572  , -1.2203116 , -0.62223274, -0.61254376],\n",
       "      dtype=float32)"
      ]
     },
     "execution_count": 240,
     "metadata": {},
     "output_type": "execute_result"
    }
   ],
   "source": [
    "net.words_comps[0].data.numpy()[2]"
   ]
  },
  {
   "cell_type": "code",
   "execution_count": 262,
   "metadata": {},
   "outputs": [
    {
     "data": {
      "text/plain": [
       "[('ухать', 0.29428181052207947),\n",
       " ('грохотать', 0.28788670897483826),\n",
       " ('врываться', 0.2835369110107422),\n",
       " ('завывать', 0.2771017551422119),\n",
       " ('стылый', 0.27367329597473145),\n",
       " ('залязгать', 0.27254629135131836),\n",
       " ('распахнуть', 0.2705467939376831),\n",
       " ('тысячепудовый', 0.268149733543396),\n",
       " ('разметать', 0.2618978023529053),\n",
       " ('распахиваться', 0.26066136360168457),\n",
       " ('просторно', 0.2598983943462372),\n",
       " ('загрохотать', 0.2596132457256317),\n",
       " ('безоконный', 0.2590576708316803),\n",
       " ('грохать', 0.25875863432884216),\n",
       " ('простор', 0.25751301646232605),\n",
       " ('громыхать', 0.2574429512023926),\n",
       " ('парить', 0.25503095984458923),\n",
       " ('распахивать', 0.2535421550273895),\n",
       " ('распугивать', 0.25186726450920105),\n",
       " ('взмывать', 0.25130969285964966),\n",
       " ('промозглость', 0.2512100338935852),\n",
       " ('кованый', 0.2509284019470215),\n",
       " ('дробитель', 0.2507965564727783),\n",
       " ('необъятный', 0.24849657714366913),\n",
       " ('вой', 0.2480132132768631),\n",
       " ('нестись', 0.24772639572620392),\n",
       " ('оковывать', 0.2476690411567688),\n",
       " ('сверкать', 0.24668319523334503),\n",
       " ('просторный', 0.2463902235031128),\n",
       " ('слепить', 0.24633140861988068)]"
      ]
     },
     "execution_count": 262,
     "metadata": {},
     "output_type": "execute_result"
    }
   ],
   "source": [
    "wv.similar_by_vector(net.words_comps[0].data.numpy()[2], 30)"
   ]
  },
  {
   "cell_type": "code",
   "execution_count": 65,
   "metadata": {},
   "outputs": [],
   "source": [
    "from matplotlib import pyplot as plt\n",
    "%matplotlib inline"
   ]
  },
  {
   "cell_type": "code",
   "execution_count": 251,
   "metadata": {},
   "outputs": [
    {
     "data": {
      "text/plain": [
       "<matplotlib.legend.Legend at 0x7f7b70c3d518>"
      ]
     },
     "execution_count": 251,
     "metadata": {},
     "output_type": "execute_result"
    },
    {
     "data": {
      "image/png": "[encoded data removed]",
      "text/plain": [
       "<matplotlib.figure.Figure at 0x7f7b77bf49b0>"
      ]
     },
     "metadata": {},
     "output_type": "display_data"
    }
   ],
   "source": [
    "# plt.plot(wv['либуша'], label = 'либуша')\n",
    "plt.plot(wv['замок'], label = 'замок')\n",
    "# plt.plot(net.words_comps[0].data.numpy()[0]/np.sqrt(np.sum(net.words_comps[0].data.numpy()[0]**2)), label = 'any sense vec')\n",
    "plt.plot(net.words_comps[0].data.numpy()[0], label = 'any sense vec')\n",
    "plt.legend()"
   ]
  },
  {
   "cell_type": "code",
   "execution_count": 264,
   "metadata": {},
   "outputs": [
    {
     "data": {
      "text/plain": [
       "[<matplotlib.lines.Line2D at 0x7f7b63a810f0>]"
      ]
     },
     "execution_count": 264,
     "metadata": {},
     "output_type": "execute_result"
    },
    {
     "data": {
      "image/png": "[encoded data removed]",
      "text/plain": [
       "<matplotlib.figure.Figure at 0x7f7b63b1b6d8>"
      ]
     },
     "metadata": {},
     "output_type": "display_data"
    }
   ],
   "source": [
    "plt.plot(net.words_comps[0].data.numpy()[0])\n",
    "plt.plot(net.words_comps[0].data.numpy()[1])\n",
    "plt.plot(net.words_comps[0].data.numpy()[2])\n",
    "# plt.semilogy()"
   ]
  },
  {
   "cell_type": "code",
   "execution_count": 297,
   "metadata": {},
   "outputs": [
    {
     "data": {
      "text/plain": [
       "[<matplotlib.lines.Line2D at 0x7f7b58802128>]"
      ]
     },
     "execution_count": 297,
     "metadata": {},
     "output_type": "execute_result"
    },
    {
     "data": {
      "image/png": "[encoded data removed]",
      "text/plain": [
       "<matplotlib.figure.Figure at 0x7f7b78628048>"
      ]
     },
     "metadata": {},
     "output_type": "display_data"
    }
   ],
   "source": [
    "plt.plot(net.words_comps.grad[0][0].data.numpy())"
   ]
  },
  {
   "cell_type": "code",
   "execution_count": 298,
   "metadata": {},
   "outputs": [
    {
     "data": {
      "text/plain": [
       "[<matplotlib.lines.Line2D at 0x7f7b782102e8>]"
      ]
     },
     "execution_count": 298,
     "metadata": {},
     "output_type": "execute_result"
    },
    {
     "data": {
      "image/png": "[encoded data removed]",
      "text/plain": [
       "<matplotlib.figure.Figure at 0x7f7b587d0780>"
      ]
     },
     "metadata": {},
     "output_type": "display_data"
    }
   ],
   "source": [
    "plt.plot(net.words_comps.grad[0][1].data.numpy())"
   ]
  },
  {
   "cell_type": "markdown",
   "metadata": {},
   "source": [
    "# Triplet"
   ]
  },
  {
   "cell_type": "markdown",
   "metadata": {},
   "source": [
    "Creates a criterion that measures the triplet loss given an input tensors x1, x2, x3\n",
    "and a margin with a value greater than 0.\n",
    "\n",
    "\n",
    "This is used for measuring a relative similarity between samples. A triplet is composed by\n",
    "`a`, `p` and `n`: anchor, positive examples and negative example respectively.\n",
    "The shape of all input variables should be :math:`(N, D)`.\n",
    "\n",
    "\n",
    "The distance swap is described in detail in the paper\n",
    "`Learning shallow convolutional feature descriptors with triplet losses`_ by V. Balntas, E. Riba et al.\n",
    "\n",
    " \n",
    "$$L(a, p, n) = \\frac{1}{N} \\left( \\sum_{i=1}^N \\max \\{d(a_i, p_i) - d(a_i, n_i) + {\\rm margin}, 0\\} \\right)$$\n",
    "\n",
    "where \n",
    "    \n",
    "$$d(x_i, y_i) = \\| {\\bf x}_i - {\\bf y}_i \\|_2^2$$\n",
    "\n",
    "    Args:\n",
    "        * anchor: anchor input tensor\n",
    "        * positive: positive input tensor\n",
    "        * negative: negative input tensor\n",
    "        p: the norm degree. Default: 2\n",
    "\n",
    "Shape:\n",
    "- Input: `(N, D)` where `D = vector dimension`\n",
    "- Output:`(N, 1)`\n",
    "\n",
    "\n",
    "\n",
    "    >>> triplet_loss = nn.TripletMarginLoss(margin=1.0, p=2)\n",
    "    >>> input1 = autograd.Variable(torch.randn(100, 128))\n",
    "    >>> input2 = autograd.Variable(torch.randn(100, 128))\n",
    "    >>> input3 = autograd.Variable(torch.randn(100, 128))\n",
    "    >>> output = triplet_loss(input1, input2, input3)\n",
    "    >>> output.backward()\n",
    "\n",
    "    .. _Learning shallow convolutional feature descriptors with triplet losses:\n",
    "        http://www.iis.ee.ic.ac.uk/%7Evbalnt/shallow_descr/TFeat_paper.pdf"
   ]
  },
  {
   "cell_type": "code",
   "execution_count": 314,
   "metadata": {},
   "outputs": [],
   "source": [
    "grads = {}\n",
    "def save_grad(name):\n",
    "    def hook(grad):\n",
    "        grads[name] = grad\n",
    "    return hook"
   ]
  },
  {
   "cell_type": "code",
   "execution_count": 315,
   "metadata": {},
   "outputs": [],
   "source": [
    "# Multi-Component word embeddings\n",
    "\n",
    "class MultiComp_triplet(nn.Module):\n",
    "    def __init__(self, word_embeddings_to_comp, n_comp=3, margin = 0.1):\n",
    "        \"\"\"\n",
    "        word_embeddings_to_comp: word embeddings of the target word;\n",
    "                                 shape = (n_words,100);\n",
    "        \n",
    "        \"\"\"\n",
    "        super(MultiComp_triplet, self).__init__()\n",
    "        self.n_comp = n_comp\n",
    "        \n",
    "        n_words, embedding_size = word_embeddings_to_comp.shape\n",
    "        # expand to duplicate embeddings n_comp times\n",
    "#         expanded_word_embeddings = np.expand_dims(word_embeddings_to_comp, 1)\n",
    "#         comp_embeddings = np.tile(expanded_word_embeddings, [1, n_comp, 1])\n",
    "        \n",
    "#         # add some noise to components (1/3 of its standard deviations)\n",
    "#         stds = word_embeddings_to_comp.std(axis=1, keepdims=True).reshape([n_words, 1, 1])\n",
    "#         comp_embeddings += np.random.randn(n_words, n_comp, embedding_size)#  * stds  / 10\n",
    "        comp_embeddings = np.random.randn(n_words, n_comp, embedding_size)#  * stds  / 10\n",
    "        comp_embeddings = comp_embeddings.astype(np.float32)\n",
    "        \n",
    "#         self.n_centroids = np.random.randn(n_words, n_comp, embedding_size)#  * stds  / 10\n",
    "#         self.n_centroids = self.n_centroids.astype(np.float32)\n",
    "#         self.n_centroids = nn.Parameter(torch.from_numpy(self.n_centroids))\n",
    "        \n",
    "        # create variable to use autograd\n",
    "        self.words_comps = nn.Parameter(torch.from_numpy(comp_embeddings))\n",
    "        self.triplet_loss = nn.TripletMarginLoss(margin=margin, p=2)\n",
    "                \n",
    "    def forward(self, context_embeddings, negative_embeddings, word_n):\n",
    "        \"\"\"\n",
    "        context_embeddings: shape = (n_context_words, 100);\n",
    "        word_n: number of main_word for what the forward is running;\n",
    "        \n",
    "        \"\"\"\n",
    "        assert context_embeddings.shape[0] == negative_embeddings.shape[0]\n",
    "        \n",
    "        cont_sum = torch.mean(context_embeddings, dim=0)\n",
    "#         scores = torch.matmul(self.n_centroids[word_n], cont_sum)\n",
    "        self.scores = torch.matmul(self.words_comps[word_n], cont_sum)\\\n",
    "    /(torch.norm(self.words_comps[word_n])*torch.norm(cont_sum))\n",
    "    \n",
    "        self.scores = fn.softmax(self.scores, 0)\n",
    "#         values, indices = scores.max(0)\n",
    "\n",
    "        self.word_curr = torch.matmul(self.scores, self.words_comps[word_n])\n",
    "        self.word_curr /= torch.norm(self.word_curr, p=2)\n",
    "        \n",
    "        self.context_embeddings = context_embeddings\n",
    "        self.context_embeddings /= torch.norm(self.context_embeddings, p=2, dim=0)\n",
    "        \n",
    "        num_word_contxt = self.context_embeddings.shape[0]\n",
    "        self.word_curr = self.word_curr.unsqueeze(0)\n",
    "        self.word_curr_repeated = self.word_curr * Variable(torch.ones(num_word_contxt, 1))\n",
    "#         word_curr_repeated = word_curr.repeat(num_word_contxt,1)\n",
    "#         dot_prod = torch.matmul(word_curr, cont_sum.squeeze())/(torch.norm(word_curr, p=1) * torch.norm(cont_sum, p=1))\n",
    "#         dot_prod -= torch.norm(cont_sum,p=2)\n",
    "        loss = self.triplet_loss(self.word_curr_repeated, self.context_embeddings, negative_embeddings)\\\n",
    "    +torch.norm(self.word_curr)**2\n",
    "    \n",
    "        self.word_curr_repeated.register_hook(save_grad('word_curr_repeated'))\n",
    "        self.word_curr.register_hook(save_grad('word_curr'))\n",
    "        self.scores.register_hook(save_grad('scores'))\n",
    "        \n",
    "        return loss, self.scores"
   ]
  },
  {
   "cell_type": "code",
   "execution_count": null,
   "metadata": {},
   "outputs": [],
   "source": []
  },
  {
   "cell_type": "code",
   "execution_count": 322,
   "metadata": {},
   "outputs": [
    {
     "data": {
      "text/plain": [
       "[<matplotlib.lines.Line2D at 0x7f7b782c1dd8>]"
      ]
     },
     "execution_count": 322,
     "metadata": {},
     "output_type": "execute_result"
    },
    {
     "data": {
      "image/png": "[encoded data removed]",
      "text/plain": [
       "<matplotlib.figure.Figure at 0x7f7b5951cba8>"
      ]
     },
     "metadata": {},
     "output_type": "display_data"
    }
   ],
   "source": [
    "plt.plot(net.words_comps.grad[0][1].data.numpy())"
   ]
  },
  {
   "cell_type": "code",
   "execution_count": 321,
   "metadata": {},
   "outputs": [
    {
     "ename": "AttributeError",
     "evalue": "'NoneType' object has no attribute 'data'",
     "output_type": "error",
     "traceback": [
      "\u001b[0;31m---------------------------------------------------------------------------\u001b[0m",
      "\u001b[0;31mAttributeError\u001b[0m                            Traceback (most recent call last)",
      "\u001b[0;32m<ipython-input-321-57e0a7f46b97>\u001b[0m in \u001b[0;36m<module>\u001b[0;34m()\u001b[0m\n\u001b[0;32m----> 1\u001b[0;31m \u001b[0mplt\u001b[0m\u001b[0;34m.\u001b[0m\u001b[0mplot\u001b[0m\u001b[0;34m(\u001b[0m\u001b[0mnet\u001b[0m\u001b[0;34m.\u001b[0m\u001b[0mword_curr_repeated\u001b[0m\u001b[0;34m.\u001b[0m\u001b[0mgrad\u001b[0m\u001b[0;34m.\u001b[0m\u001b[0mdata\u001b[0m\u001b[0;34m.\u001b[0m\u001b[0mnumpy\u001b[0m\u001b[0;34m(\u001b[0m\u001b[0;34m)\u001b[0m\u001b[0;34m)\u001b[0m\u001b[0;34m\u001b[0m\u001b[0m\n\u001b[0m",
      "\u001b[0;31mAttributeError\u001b[0m: 'NoneType' object has no attribute 'data'"
     ]
    }
   ],
   "source": [
    "plt.plot(net.word_curr_repeated.grad.data.numpy())"
   ]
  },
  {
   "cell_type": "code",
   "execution_count": 317,
   "metadata": {},
   "outputs": [
    {
     "data": {
      "text/plain": [
       "dict_keys(['word_curr_repeated', 'word_curr', 'scores'])"
      ]
     },
     "execution_count": 317,
     "metadata": {},
     "output_type": "execute_result"
    }
   ],
   "source": [
    "grads.keys()"
   ]
  },
  {
   "cell_type": "code",
   "execution_count": 323,
   "metadata": {},
   "outputs": [
    {
     "data": {
      "text/plain": [
       "[<matplotlib.lines.Line2D at 0x7f7b7832ab38>,\n",
       " <matplotlib.lines.Line2D at 0x7f7b7832ac88>,\n",
       " <matplotlib.lines.Line2D at 0x7f7b7832add8>,\n",
       " <matplotlib.lines.Line2D at 0x7f7b7832af28>,\n",
       " <matplotlib.lines.Line2D at 0x7f7ba9b720b8>,\n",
       " <matplotlib.lines.Line2D at 0x7f7ba9b72208>,\n",
       " <matplotlib.lines.Line2D at 0x7f7ba9b72358>,\n",
       " <matplotlib.lines.Line2D at 0x7f7ba9b724a8>,\n",
       " <matplotlib.lines.Line2D at 0x7f7ba9b725f8>,\n",
       " <matplotlib.lines.Line2D at 0x7f7ba9b72748>,\n",
       " <matplotlib.lines.Line2D at 0x7f7b78314898>,\n",
       " <matplotlib.lines.Line2D at 0x7f7ba9b729b0>,\n",
       " <matplotlib.lines.Line2D at 0x7f7ba9b72b00>,\n",
       " <matplotlib.lines.Line2D at 0x7f7ba9b72c50>,\n",
       " <matplotlib.lines.Line2D at 0x7f7ba9b72da0>,\n",
       " <matplotlib.lines.Line2D at 0x7f7ba9b72ef0>,\n",
       " <matplotlib.lines.Line2D at 0x7f7ba9b75080>,\n",
       " <matplotlib.lines.Line2D at 0x7f7ba9b751d0>,\n",
       " <matplotlib.lines.Line2D at 0x7f7ba9b75320>,\n",
       " <matplotlib.lines.Line2D at 0x7f7ba9b75470>,\n",
       " <matplotlib.lines.Line2D at 0x7f7ba9b755c0>,\n",
       " <matplotlib.lines.Line2D at 0x7f7ba9b75710>,\n",
       " <matplotlib.lines.Line2D at 0x7f7ba9b75860>,\n",
       " <matplotlib.lines.Line2D at 0x7f7ba9b759b0>,\n",
       " <matplotlib.lines.Line2D at 0x7f7ba9b75b00>,\n",
       " <matplotlib.lines.Line2D at 0x7f7ba9b75c50>,\n",
       " <matplotlib.lines.Line2D at 0x7f7ba9b75da0>,\n",
       " <matplotlib.lines.Line2D at 0x7f7ba9b75ef0>,\n",
       " <matplotlib.lines.Line2D at 0x7f7ba9b80080>,\n",
       " <matplotlib.lines.Line2D at 0x7f7ba9b801d0>,\n",
       " <matplotlib.lines.Line2D at 0x7f7ba9b80320>,\n",
       " <matplotlib.lines.Line2D at 0x7f7ba9b80470>,\n",
       " <matplotlib.lines.Line2D at 0x7f7ba9b805c0>,\n",
       " <matplotlib.lines.Line2D at 0x7f7ba9b80710>,\n",
       " <matplotlib.lines.Line2D at 0x7f7ba9b80860>,\n",
       " <matplotlib.lines.Line2D at 0x7f7ba9b809b0>,\n",
       " <matplotlib.lines.Line2D at 0x7f7ba9b80b00>,\n",
       " <matplotlib.lines.Line2D at 0x7f7ba9b80c50>,\n",
       " <matplotlib.lines.Line2D at 0x7f7ba9b80da0>,\n",
       " <matplotlib.lines.Line2D at 0x7f7ba9b80ef0>,\n",
       " <matplotlib.lines.Line2D at 0x7f7ba9b7b080>,\n",
       " <matplotlib.lines.Line2D at 0x7f7ba9b7b1d0>,\n",
       " <matplotlib.lines.Line2D at 0x7f7ba9b7b320>,\n",
       " <matplotlib.lines.Line2D at 0x7f7ba9b7b470>,\n",
       " <matplotlib.lines.Line2D at 0x7f7ba9b7b5c0>,\n",
       " <matplotlib.lines.Line2D at 0x7f7ba9b7b710>,\n",
       " <matplotlib.lines.Line2D at 0x7f7ba9b7b860>,\n",
       " <matplotlib.lines.Line2D at 0x7f7ba9b7b9b0>,\n",
       " <matplotlib.lines.Line2D at 0x7f7ba9b7bb00>,\n",
       " <matplotlib.lines.Line2D at 0x7f7ba9b7bc50>,\n",
       " <matplotlib.lines.Line2D at 0x7f7ba9b7bda0>,\n",
       " <matplotlib.lines.Line2D at 0x7f7ba9b7bef0>,\n",
       " <matplotlib.lines.Line2D at 0x7f7ba9b88080>,\n",
       " <matplotlib.lines.Line2D at 0x7f7ba9b881d0>,\n",
       " <matplotlib.lines.Line2D at 0x7f7ba9b88320>,\n",
       " <matplotlib.lines.Line2D at 0x7f7ba9b88470>,\n",
       " <matplotlib.lines.Line2D at 0x7f7ba9b885c0>,\n",
       " <matplotlib.lines.Line2D at 0x7f7ba9b88710>,\n",
       " <matplotlib.lines.Line2D at 0x7f7ba9b88860>,\n",
       " <matplotlib.lines.Line2D at 0x7f7ba9b889b0>,\n",
       " <matplotlib.lines.Line2D at 0x7f7ba9b88b00>,\n",
       " <matplotlib.lines.Line2D at 0x7f7ba9b88c50>,\n",
       " <matplotlib.lines.Line2D at 0x7f7ba9b88da0>,\n",
       " <matplotlib.lines.Line2D at 0x7f7ba9b88ef0>,\n",
       " <matplotlib.lines.Line2D at 0x7f7ba9b8c080>,\n",
       " <matplotlib.lines.Line2D at 0x7f7ba9b8c1d0>,\n",
       " <matplotlib.lines.Line2D at 0x7f7ba9b8c320>,\n",
       " <matplotlib.lines.Line2D at 0x7f7ba9b8c470>,\n",
       " <matplotlib.lines.Line2D at 0x7f7ba9b8c5c0>,\n",
       " <matplotlib.lines.Line2D at 0x7f7ba9b8c710>,\n",
       " <matplotlib.lines.Line2D at 0x7f7ba9b8c860>,\n",
       " <matplotlib.lines.Line2D at 0x7f7ba9b8c9b0>,\n",
       " <matplotlib.lines.Line2D at 0x7f7ba9b8cb00>,\n",
       " <matplotlib.lines.Line2D at 0x7f7ba9b8cc50>,\n",
       " <matplotlib.lines.Line2D at 0x7f7ba9b8cda0>,\n",
       " <matplotlib.lines.Line2D at 0x7f7ba9b8cef0>,\n",
       " <matplotlib.lines.Line2D at 0x7f7ba9b93080>,\n",
       " <matplotlib.lines.Line2D at 0x7f7ba9b931d0>,\n",
       " <matplotlib.lines.Line2D at 0x7f7ba9b93320>,\n",
       " <matplotlib.lines.Line2D at 0x7f7ba9b93470>,\n",
       " <matplotlib.lines.Line2D at 0x7f7ba9b935c0>,\n",
       " <matplotlib.lines.Line2D at 0x7f7ba9b93710>,\n",
       " <matplotlib.lines.Line2D at 0x7f7ba9b93860>,\n",
       " <matplotlib.lines.Line2D at 0x7f7ba9b939b0>,\n",
       " <matplotlib.lines.Line2D at 0x7f7ba9b93b00>,\n",
       " <matplotlib.lines.Line2D at 0x7f7ba9b93c50>,\n",
       " <matplotlib.lines.Line2D at 0x7f7ba9b93da0>,\n",
       " <matplotlib.lines.Line2D at 0x7f7ba9b93ef0>,\n",
       " <matplotlib.lines.Line2D at 0x7f7ba9b96080>,\n",
       " <matplotlib.lines.Line2D at 0x7f7ba9b961d0>,\n",
       " <matplotlib.lines.Line2D at 0x7f7ba9b96320>,\n",
       " <matplotlib.lines.Line2D at 0x7f7ba9b96470>,\n",
       " <matplotlib.lines.Line2D at 0x7f7ba9b965c0>,\n",
       " <matplotlib.lines.Line2D at 0x7f7ba9b96710>,\n",
       " <matplotlib.lines.Line2D at 0x7f7ba9b96860>,\n",
       " <matplotlib.lines.Line2D at 0x7f7ba9b969b0>,\n",
       " <matplotlib.lines.Line2D at 0x7f7ba9b96b00>,\n",
       " <matplotlib.lines.Line2D at 0x7f7ba9b96c50>,\n",
       " <matplotlib.lines.Line2D at 0x7f7ba9b96da0>,\n",
       " <matplotlib.lines.Line2D at 0x7f7ba9b96ef0>]"
      ]
     },
     "execution_count": 323,
     "metadata": {},
     "output_type": "execute_result"
    },
    {
     "data": {
      "image/png": "[encoded data removed]",
      "text/plain": [
       "<matplotlib.figure.Figure at 0x7f7b59545160>"
      ]
     },
     "metadata": {},
     "output_type": "display_data"
    }
   ],
   "source": [
    "plt.plot(grads['word_curr_repeated'].data.numpy())"
   ]
  },
  {
   "cell_type": "code",
   "execution_count": 311,
   "metadata": {},
   "outputs": [],
   "source": [
    "net.word_curr_repeated.grad"
   ]
  },
  {
   "cell_type": "code",
   "execution_count": 312,
   "metadata": {},
   "outputs": [
    {
     "data": {
      "text/plain": [
       "True"
      ]
     },
     "execution_count": 312,
     "metadata": {},
     "output_type": "execute_result"
    }
   ],
   "source": [
    "net.word_curr_repeated.requires_grad"
   ]
  },
  {
   "cell_type": "code",
   "execution_count": 313,
   "metadata": {},
   "outputs": [
    {
     "data": {
      "text/plain": [
       "Variable containing:\n",
       " 0.1764 -0.1513  0.1749  ...   0.0136 -0.0906  0.1293\n",
       " 0.1764 -0.1513  0.1749  ...   0.0136 -0.0906  0.1293\n",
       " 0.1764 -0.1513  0.1749  ...   0.0136 -0.0906  0.1293\n",
       "          ...             ⋱             ...          \n",
       " 0.1764 -0.1513  0.1749  ...   0.0136 -0.0906  0.1293\n",
       " 0.1764 -0.1513  0.1749  ...   0.0136 -0.0906  0.1293\n",
       " 0.1764 -0.1513  0.1749  ...   0.0136 -0.0906  0.1293\n",
       "[torch.FloatTensor of size 20x100]"
      ]
     },
     "execution_count": 313,
     "metadata": {},
     "output_type": "execute_result"
    }
   ],
   "source": [
    "net.word_curr_repeated"
   ]
  },
  {
   "cell_type": "code",
   "execution_count": null,
   "metadata": {},
   "outputs": [],
   "source": []
  },
  {
   "cell_type": "code",
   "execution_count": null,
   "metadata": {},
   "outputs": [],
   "source": []
  },
  {
   "cell_type": "markdown",
   "metadata": {},
   "source": [
    "# Simple Test2"
   ]
  },
  {
   "cell_type": "code",
   "execution_count": 316,
   "metadata": {},
   "outputs": [
    {
     "data": {
      "application/vnd.jupyter.widget-view+json": {
       "model_id": "61203d89cfcf4faba9228b2847edad25",
       "version_major": 2,
       "version_minor": 0
      },
      "text/html": [
       "<p>Failed to display Jupyter Widget of type <code>HBox</code>.</p>\n",
       "<p>\n",
       "  If you're reading this message in Jupyter Notebook or JupyterLab, it may mean\n",
       "  that the widgets JavaScript is still loading. If this message persists, it\n",
       "  likely means that the widgets JavaScript library is either not installed or\n",
       "  not enabled. See the <a href=\"https://ipywidgets.readthedocs.io/en/stable/user_install.html\">Jupyter\n",
       "  Widgets Documentation</a> for setup instructions.\n",
       "</p>\n",
       "<p>\n",
       "  If you're reading this message in another notebook frontend (for example, a static\n",
       "  rendering on GitHub or <a href=\"https://nbviewer.jupyter.org/\">NBViewer</a>),\n",
       "  it may mean that your frontend doesn't currently support widgets.\n",
       "</p>\n"
      ],
      "text/plain": [
       "HBox(children=(IntProgress(value=0, max=10000), HTML(value='')))"
      ]
     },
     "metadata": {},
     "output_type": "display_data"
    }
   ],
   "source": [
    "w_emb = np.random.randn(3, 100)\n",
    "net = MultiComp_triplet(w_emb)\n",
    "opt = torch.optim.Adam(net.parameters(), lr=1e-3)\n",
    "\n",
    "\n",
    "n_samples = 10000\n",
    "n_context = 20 # number of words in the context\n",
    "emb_dim = 100\n",
    "pbar = tqdm_notebook(np.random.randn(n_samples, 2, n_context, emb_dim))\n",
    "\n",
    "for n, (sample_p, sample_n) in enumerate(pbar):\n",
    "    # Prepare sample with Variable wrap\n",
    "    sample_p = Variable(torch.from_numpy(sample_p.astype(np.float32)))\n",
    "    sample_n = Variable(torch.from_numpy(sample_n.astype(np.float32)))\n",
    "    \n",
    "    net.zero_grad()\n",
    "    dot_prod, att = net.forward(sample_p, sample_n, 0)\n",
    "    loss = dot_prod\n",
    "    loss.backward()\n",
    "    opt.step()\n",
    "    if n % 100 == 99:\n",
    "        pbar.set_description(\"loss {:.3f}\".format(float(loss.data.numpy())))\n",
    "#     print(loss)\n",
    "#     print(\"attn: \", att)"
   ]
  },
  {
   "cell_type": "markdown",
   "metadata": {},
   "source": [
    "# Train"
   ]
  },
  {
   "cell_type": "code",
   "execution_count": 244,
   "metadata": {},
   "outputs": [],
   "source": [
    "def generate_triplet_batch(lines, context_max_len):\n",
    "\n",
    "    voc_size = len(wv.vocab)\n",
    "    for line in lines:\n",
    "        line = line.split()\n",
    "        embedd_p = []\n",
    "        context = np.random.choice(line, context_max_len)\n",
    "        for i, w in enumerate(context):\n",
    "            try:\n",
    "                embedd_p.append(wv[w])\n",
    "            except KeyError:\n",
    "                continue\n",
    "        embedd_n = [wv[wv.index2word[i]] for i in np.random.random_integers(0, voc_size-1, len(embedd_p))]\n",
    "        yield np.array(embedd_p), np.array(embedd_n)"
   ]
  },
  {
   "cell_type": "code",
   "execution_count": 286,
   "metadata": {},
   "outputs": [
    {
     "data": {
      "application/vnd.jupyter.widget-view+json": {
       "model_id": "878c1d26b5b94f6e9ae9ecd3251d9b96",
       "version_major": 2,
       "version_minor": 0
      },
      "text/html": [
       "<p>Failed to display Jupyter Widget of type <code>HBox</code>.</p>\n",
       "<p>\n",
       "  If you're reading this message in Jupyter Notebook or JupyterLab, it may mean\n",
       "  that the widgets JavaScript is still loading. If this message persists, it\n",
       "  likely means that the widgets JavaScript library is either not installed or\n",
       "  not enabled. See the <a href=\"https://ipywidgets.readthedocs.io/en/stable/user_install.html\">Jupyter\n",
       "  Widgets Documentation</a> for setup instructions.\n",
       "</p>\n",
       "<p>\n",
       "  If you're reading this message in another notebook frontend (for example, a static\n",
       "  rendering on GitHub or <a href=\"https://nbviewer.jupyter.org/\">NBViewer</a>),\n",
       "  it may mean that your frontend doesn't currently support widgets.\n",
       "</p>\n"
      ],
      "text/plain": [
       "HBox(children=(IntProgress(value=0, max=111462), HTML(value='')))"
      ]
     },
     "metadata": {},
     "output_type": "display_data"
    },
    {
     "name": "stdout",
     "output_type": "stream",
     "text": [
      "epoch_num:  0\n"
     ]
    },
    {
     "name": "stderr",
     "output_type": "stream",
     "text": [
      "/home/fogside/virtualenvs/py3/lib/python3.6/site-packages/ipykernel_launcher.py:13: DeprecationWarning: This function is deprecated. Please call randint(0, 202435 + 1) instead\n",
      "  del sys.path[0]\n"
     ]
    },
    {
     "ename": "KeyboardInterrupt",
     "evalue": "",
     "output_type": "error",
     "traceback": [
      "\u001b[0;31m---------------------------------------------------------------------------\u001b[0m",
      "\u001b[0;31mKeyboardInterrupt\u001b[0m                         Traceback (most recent call last)",
      "\u001b[0;32m<ipython-input-286-f471d5e94934>\u001b[0m in \u001b[0;36m<module>\u001b[0;34m()\u001b[0m\n\u001b[1;32m     22\u001b[0m \u001b[0;34m\u001b[0m\u001b[0m\n\u001b[1;32m     23\u001b[0m         \u001b[0mnet\u001b[0m\u001b[0;34m.\u001b[0m\u001b[0mzero_grad\u001b[0m\u001b[0;34m(\u001b[0m\u001b[0;34m)\u001b[0m\u001b[0;34m\u001b[0m\u001b[0m\n\u001b[0;32m---> 24\u001b[0;31m         \u001b[0mloss\u001b[0m\u001b[0;34m,\u001b[0m \u001b[0matt\u001b[0m \u001b[0;34m=\u001b[0m \u001b[0mnet\u001b[0m\u001b[0;34m.\u001b[0m\u001b[0mforward\u001b[0m\u001b[0;34m(\u001b[0m\u001b[0msample_p\u001b[0m\u001b[0;34m,\u001b[0m \u001b[0msample_n\u001b[0m\u001b[0;34m,\u001b[0m \u001b[0;36m0\u001b[0m\u001b[0;34m)\u001b[0m\u001b[0;34m\u001b[0m\u001b[0m\n\u001b[0m\u001b[1;32m     25\u001b[0m         \u001b[0matts\u001b[0m\u001b[0;34m.\u001b[0m\u001b[0mappend\u001b[0m\u001b[0;34m(\u001b[0m\u001b[0matt\u001b[0m\u001b[0;34m.\u001b[0m\u001b[0mdata\u001b[0m\u001b[0;34m.\u001b[0m\u001b[0mnumpy\u001b[0m\u001b[0;34m(\u001b[0m\u001b[0;34m)\u001b[0m\u001b[0;34m)\u001b[0m\u001b[0;34m\u001b[0m\u001b[0m\n\u001b[1;32m     26\u001b[0m         \u001b[0mloss\u001b[0m\u001b[0;34m.\u001b[0m\u001b[0mbackward\u001b[0m\u001b[0;34m(\u001b[0m\u001b[0;34m)\u001b[0m\u001b[0;34m\u001b[0m\u001b[0m\n",
      "\u001b[0;32m<ipython-input-255-b8a98491b981>\u001b[0m in \u001b[0;36mforward\u001b[0;34m(self, context_embeddings, negative_embeddings, word_n)\u001b[0m\n\u001b[1;32m     40\u001b[0m         \u001b[0mcont_sum\u001b[0m \u001b[0;34m=\u001b[0m \u001b[0mtorch\u001b[0m\u001b[0;34m.\u001b[0m\u001b[0mmean\u001b[0m\u001b[0;34m(\u001b[0m\u001b[0mcontext_embeddings\u001b[0m\u001b[0;34m,\u001b[0m \u001b[0mdim\u001b[0m\u001b[0;34m=\u001b[0m\u001b[0;36m0\u001b[0m\u001b[0;34m)\u001b[0m\u001b[0;34m\u001b[0m\u001b[0m\n\u001b[1;32m     41\u001b[0m \u001b[0;31m#         scores = torch.matmul(self.n_centroids[word_n], cont_sum)\u001b[0m\u001b[0;34m\u001b[0m\u001b[0;34m\u001b[0m\u001b[0m\n\u001b[0;32m---> 42\u001b[0;31m         \u001b[0mscores\u001b[0m \u001b[0;34m=\u001b[0m \u001b[0mtorch\u001b[0m\u001b[0;34m.\u001b[0m\u001b[0mmatmul\u001b[0m\u001b[0;34m(\u001b[0m\u001b[0mself\u001b[0m\u001b[0;34m.\u001b[0m\u001b[0mwords_comps\u001b[0m\u001b[0;34m[\u001b[0m\u001b[0mword_n\u001b[0m\u001b[0;34m]\u001b[0m\u001b[0;34m,\u001b[0m \u001b[0mcont_sum\u001b[0m\u001b[0;34m)\u001b[0m    \u001b[0;34m/\u001b[0m\u001b[0;34m(\u001b[0m\u001b[0mtorch\u001b[0m\u001b[0;34m.\u001b[0m\u001b[0mnorm\u001b[0m\u001b[0;34m(\u001b[0m\u001b[0mself\u001b[0m\u001b[0;34m.\u001b[0m\u001b[0mwords_comps\u001b[0m\u001b[0;34m[\u001b[0m\u001b[0mword_n\u001b[0m\u001b[0;34m]\u001b[0m\u001b[0;34m)\u001b[0m\u001b[0;34m*\u001b[0m\u001b[0mtorch\u001b[0m\u001b[0;34m.\u001b[0m\u001b[0mnorm\u001b[0m\u001b[0;34m(\u001b[0m\u001b[0mcont_sum\u001b[0m\u001b[0;34m)\u001b[0m\u001b[0;34m)\u001b[0m\u001b[0;34m\u001b[0m\u001b[0m\n\u001b[0m\u001b[1;32m     43\u001b[0m \u001b[0;34m\u001b[0m\u001b[0m\n\u001b[1;32m     44\u001b[0m         \u001b[0mscores\u001b[0m \u001b[0;34m=\u001b[0m \u001b[0mfn\u001b[0m\u001b[0;34m.\u001b[0m\u001b[0msoftmax\u001b[0m\u001b[0;34m(\u001b[0m\u001b[0mscores\u001b[0m\u001b[0;34m,\u001b[0m \u001b[0;36m0\u001b[0m\u001b[0;34m)\u001b[0m\u001b[0;34m\u001b[0m\u001b[0m\n",
      "\u001b[0;32m~/virtualenvs/py3/lib/python3.6/site-packages/torch/autograd/variable.py\u001b[0m in \u001b[0;36mnorm\u001b[0;34m(self, p, dim, keepdim)\u001b[0m\n\u001b[1;32m    394\u001b[0m     \u001b[0;32mdef\u001b[0m \u001b[0mnorm\u001b[0m\u001b[0;34m(\u001b[0m\u001b[0mself\u001b[0m\u001b[0;34m,\u001b[0m \u001b[0mp\u001b[0m\u001b[0;34m=\u001b[0m\u001b[0;36m2\u001b[0m\u001b[0;34m,\u001b[0m \u001b[0mdim\u001b[0m\u001b[0;34m=\u001b[0m\u001b[0;32mNone\u001b[0m\u001b[0;34m,\u001b[0m \u001b[0mkeepdim\u001b[0m\u001b[0;34m=\u001b[0m\u001b[0;32mFalse\u001b[0m\u001b[0;34m)\u001b[0m\u001b[0;34m:\u001b[0m\u001b[0;34m\u001b[0m\u001b[0m\n\u001b[1;32m    395\u001b[0m         \u001b[0;32mif\u001b[0m \u001b[0mdim\u001b[0m \u001b[0;32mis\u001b[0m \u001b[0;32mNone\u001b[0m\u001b[0;34m:\u001b[0m\u001b[0;34m\u001b[0m\u001b[0m\n\u001b[0;32m--> 396\u001b[0;31m             \u001b[0;32mreturn\u001b[0m \u001b[0msuper\u001b[0m\u001b[0;34m(\u001b[0m\u001b[0mVariable\u001b[0m\u001b[0;34m,\u001b[0m \u001b[0mself\u001b[0m\u001b[0;34m)\u001b[0m\u001b[0;34m.\u001b[0m\u001b[0mnorm\u001b[0m\u001b[0;34m(\u001b[0m\u001b[0mp\u001b[0m\u001b[0;34m)\u001b[0m\u001b[0;34m\u001b[0m\u001b[0m\n\u001b[0m\u001b[1;32m    397\u001b[0m         \u001b[0;32melse\u001b[0m\u001b[0;34m:\u001b[0m\u001b[0;34m\u001b[0m\u001b[0m\n\u001b[1;32m    398\u001b[0m             \u001b[0;32mreturn\u001b[0m \u001b[0msuper\u001b[0m\u001b[0;34m(\u001b[0m\u001b[0mVariable\u001b[0m\u001b[0;34m,\u001b[0m \u001b[0mself\u001b[0m\u001b[0;34m)\u001b[0m\u001b[0;34m.\u001b[0m\u001b[0mnorm\u001b[0m\u001b[0;34m(\u001b[0m\u001b[0mp\u001b[0m\u001b[0;34m,\u001b[0m \u001b[0mdim\u001b[0m\u001b[0;34m,\u001b[0m \u001b[0mkeepdim\u001b[0m\u001b[0;34m)\u001b[0m\u001b[0;34m\u001b[0m\u001b[0m\n",
      "\u001b[0;31mKeyboardInterrupt\u001b[0m: "
     ]
    }
   ],
   "source": [
    "w_emb = wv['замок'].reshape((1,100))\n",
    "net = MultiComp_triplet(w_emb, 3, margin=0.1)\n",
    "opt = torch.optim.Adam(net.parameters(), lr=1e-2)\n",
    "\n",
    "\n",
    "n_samples = len(lines)\n",
    "n_context = 20 # number of words in the context\n",
    "emb_dim = 100\n",
    "atts = list()\n",
    "epoch_num = 5\n",
    "losses = []\n",
    "for epoch in range(epoch_num):\n",
    "    batch_gen = generate_triplet_batch(lines, context_max_len=n_context)\n",
    "    pbar = tqdm_notebook(batch_gen, total = n_samples)\n",
    "    print(\"epoch_num: \", epoch)\n",
    "    for n, (sample_p, sample_n) in enumerate(pbar):\n",
    "        if len(sample_p)==0:\n",
    "            continue\n",
    "        # Prepare sample with Variable wrap\n",
    "        sample_p = Variable(torch.from_numpy(sample_p.astype(np.float32)))\n",
    "        sample_n = Variable(torch.from_numpy(sample_n.astype(np.float32)))\n",
    "        \n",
    "        net.zero_grad()\n",
    "        loss, att = net.forward(sample_p, sample_n, 0)\n",
    "        atts.append(att.data.numpy())\n",
    "        loss.backward()\n",
    "        opt.step()\n",
    "        losses.append(loss.data.numpy())\n",
    "        if n % 100 == 99:\n",
    "            pbar.set_description(\"loss {:.3f}\".format(float(np.mean(losses[-10:]))))"
   ]
  },
  {
   "cell_type": "code",
   "execution_count": 272,
   "metadata": {},
   "outputs": [
    {
     "data": {
      "text/plain": [
       "[('раздумывать', 0.5402257442474365),\n",
       " ('корсить', 0.5333212614059448),\n",
       " ('подуматься', 0.5312578082084656),\n",
       " ('просто', 0.5312464833259583),\n",
       " ('сталкиваться', 0.5309513807296753),\n",
       " ('подходить', 0.5256808996200562),\n",
       " ('меряться', 0.5221322774887085),\n",
       " ('то', 0.5182496309280396),\n",
       " ('но', 0.5181222558021545),\n",
       " ('не', 0.5180255770683289),\n",
       " ('подумать', 0.5178244113922119),\n",
       " ('веренный', 0.517769455909729),\n",
       " ('он', 0.5171695947647095),\n",
       " ('девать', 0.5149160623550415),\n",
       " ('поверяться', 0.5119913220405579),\n",
       " ('тесноватый', 0.5107848644256592),\n",
       " ('подевать', 0.5102100968360901),\n",
       " ('задеваться', 0.509039580821991),\n",
       " ('подталкивать', 0.5082801580429077),\n",
       " ('удивляться', 0.5078020691871643),\n",
       " ('ненно', 0.5068950653076172),\n",
       " ('коно', 0.5062024593353271),\n",
       " ('решаться', 0.5059964656829834),\n",
       " ('майка', 0.5054994225502014),\n",
       " ('удивлять', 0.5053404569625854),\n",
       " ('замечать', 0.5052223801612854),\n",
       " ('пока', 0.5047560334205627),\n",
       " ('подбирать', 0.5044084191322327),\n",
       " ('уверенно', 0.5040613412857056),\n",
       " ('прист', 0.5036617517471313)]"
      ]
     },
     "execution_count": 272,
     "metadata": {},
     "output_type": "execute_result"
    }
   ],
   "source": [
    "wv.similar_by_vector(net.words_comps[0].data.numpy()[2], 30)"
   ]
  },
  {
   "cell_type": "code",
   "execution_count": 271,
   "metadata": {},
   "outputs": [
    {
     "data": {
      "image/png": "[encoded data removed]",
      "text/plain": [
       "<matplotlib.figure.Figure at 0x7f7b79056b70>"
      ]
     },
     "metadata": {},
     "output_type": "display_data"
    }
   ],
   "source": [
    "atts = np.array(atts)\n",
    "for i in range(3):\n",
    "    plt.plot(atts[:,i], label = i, alpha=0.6)\n",
    "plt.legend()\n",
    "plt.title(\"Attention!\")\n",
    "plt.show()"
   ]
  },
  {
   "cell_type": "code",
   "execution_count": null,
   "metadata": {},
   "outputs": [],
   "source": []
  },
  {
   "cell_type": "code",
   "execution_count": null,
   "metadata": {},
   "outputs": [],
   "source": []
  },
  {
   "cell_type": "code",
   "execution_count": null,
   "metadata": {},
   "outputs": [],
   "source": []
  },
  {
   "cell_type": "code",
   "execution_count": null,
   "metadata": {},
   "outputs": [],
   "source": []
  },
  {
   "cell_type": "code",
   "execution_count": null,
   "metadata": {},
   "outputs": [],
   "source": []
  },
  {
   "cell_type": "code",
   "execution_count": null,
   "metadata": {},
   "outputs": [],
   "source": []
  },
  {
   "cell_type": "code",
   "execution_count": null,
   "metadata": {},
   "outputs": [],
   "source": []
  },
  {
   "cell_type": "code",
   "execution_count": null,
   "metadata": {},
   "outputs": [],
   "source": []
  },
  {
   "cell_type": "code",
   "execution_count": null,
   "metadata": {},
   "outputs": [],
   "source": []
  },
  {
   "cell_type": "code",
   "execution_count": null,
   "metadata": {},
   "outputs": [],
   "source": []
  }
 ],
 "metadata": {
  "kernelspec": {
   "display_name": "Python 3",
   "language": "python",
   "name": "python3"
  },
  "language_info": {
   "codemirror_mode": {
    "name": "ipython",
    "version": 3
   },
   "file_extension": ".py",
   "mimetype": "text/x-python",
   "name": "python",
   "nbconvert_exporter": "python",
   "pygments_lexer": "ipython3",
   "version": "3.6.3"
  }
 },
 "nbformat": 4,
 "nbformat_minor": 2
}

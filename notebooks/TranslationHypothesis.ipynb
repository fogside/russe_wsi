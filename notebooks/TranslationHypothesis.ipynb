{
 "cells": [
  {
   "cell_type": "code",
   "execution_count": 21,
   "metadata": {},
   "outputs": [],
   "source": [
    "import json\n",
    "from pprint import pprint"
   ]
  },
  {
   "cell_type": "markdown",
   "metadata": {},
   "source": [
    "# Yandex translate"
   ]
  },
  {
   "cell_type": "markdown",
   "metadata": {},
   "source": [
    "    https://translate.yandex.net/api/v1.5/tr.json/translate\n",
    "     ? [key=<API-ключ>]\n",
    "     & [text=<переводимый текст>]\n",
    "     & [lang=<направление перевода>]\n",
    "     & [format=<формат текста>]\n",
    "     & [options=<опции перевода>]\n",
    "     & [callback=<имя callback-функции>]"
   ]
  },
  {
   "cell_type": "code",
   "execution_count": 14,
   "metadata": {},
   "outputs": [],
   "source": [
    "API_KEY = 'trnsl.1.1.20171220T114400Z.d11d73895b5b665a.88eb58e16dfb38390744de068580cdf9001f0ec9'\n",
    "request_json = {'key':API_KEY,'text': \"Привет, мир!\", 'lang':'ru-en'}\n",
    "url = \"https://translate.yandex.net/api/v1.5/tr.json/translate\""
   ]
  },
  {
   "cell_type": "code",
   "execution_count": 13,
   "metadata": {},
   "outputs": [
    {
     "name": "stdout",
     "output_type": "stream",
     "text": [
      "200 OK\n",
      "['Hello world!']\n"
     ]
    }
   ],
   "source": [
    "r = requests.post(url, data=request_json)\n",
    "result = json.loads(s=r.text)\n",
    "print(r.status_code, r.reason)\n",
    "print(result['text'])"
   ]
  },
  {
   "cell_type": "markdown",
   "metadata": {},
   "source": [
    "# Yandex Dict"
   ]
  },
  {
   "cell_type": "code",
   "execution_count": 30,
   "metadata": {},
   "outputs": [],
   "source": [
    "DICT_API_KEY = 'dict.1.1.20171220T134405Z.0ce08af556412b54.d0564c80bbf2c07080c970656db59eddc61e0fbc'\n",
    "dict_url = 'https://dictionary.yandex.net/api/v1/dicservice.json/lookup'"
   ]
  },
  {
   "cell_type": "code",
   "execution_count": 32,
   "metadata": {},
   "outputs": [],
   "source": [
    "def get_json(word):\n",
    "    dict_request_json = {'key': DICT_API_KEY, 'text':word, 'lang':'ru-en'}\n",
    "    r = requests.post(dict_url, data=dict_request_json)\n",
    "    result = json.loads(s=r.text)\n",
    "    if r.status_code == 200:\n",
    "#         pprint(result)\n",
    "    meanings = []\n",
    "    \n",
    "\n",
    "    return result"
   ]
  },
  {
   "cell_type": "code",
   "execution_count": 35,
   "metadata": {},
   "outputs": [
    {
     "name": "stdout",
     "output_type": "stream",
     "text": [
      "{'def': [{'anm': 'неодуш',\n",
      "          'gen': 'ж',\n",
      "          'pos': 'noun',\n",
      "          'text': 'банка',\n",
      "          'tr': [{'ex': [{'text': 'жестяная банка',\n",
      "                          'tr': [{'text': 'tin bank'}]},\n",
      "                         {'text': 'стеклянная банка',\n",
      "                          'tr': [{'text': 'glass jar'}]}],\n",
      "                  'mean': [{'text': 'банк'}],\n",
      "                  'pos': 'noun',\n",
      "                  'syn': [{'pos': 'noun', 'text': 'jar'},\n",
      "                          {'pos': 'noun', 'text': 'pot'}],\n",
      "                  'text': 'bank'},\n",
      "                 {'mean': [{'text': 'скамейка'}],\n",
      "                  'pos': 'noun',\n",
      "                  'text': 'bench'}]}],\n",
      " 'head': {}}\n"
     ]
    }
   ],
   "source": [
    "_ = get_json('банка')"
   ]
  },
  {
   "cell_type": "markdown",
   "metadata": {},
   "source": [
    "# Experiment with wiki-wiki test"
   ]
  },
  {
   "cell_type": "code",
   "execution_count": 24,
   "metadata": {},
   "outputs": [],
   "source": [
    "from testing_interface import make_data,\\\n",
    "                              visualize_pca,\\\n",
    "                              evaluate_weighted_ari,\\\n",
    "                              get_one_word_data,\\\n",
    "                              visualize_pca_one_word,\\\n",
    "                              visualize_tsne_one_word\n",
    "\n",
    "DATASET = '../data/main/wiki-wiki/test.csv'\n",
    "\n",
    "contexts, main_words, labels, word_list_uniq = make_data(df_file_name=DATASET,\\\n",
    "                 use_gensim_simple_preproc=True,\\\n",
    "                 throw_main_word=True, tokenize=True)"
   ]
  },
  {
   "cell_type": "code",
   "execution_count": 25,
   "metadata": {},
   "outputs": [
    {
     "data": {
      "text/plain": [
       "array(['банка', 'белка', 'бит', 'горе', 'гранат', 'граф', 'душ'], dtype=object)"
      ]
     },
     "execution_count": 25,
     "metadata": {},
     "output_type": "execute_result"
    }
   ],
   "source": [
    "word_list_uniq"
   ]
  },
  {
   "cell_type": "code",
   "execution_count": 38,
   "metadata": {},
   "outputs": [
    {
     "name": "stdout",
     "output_type": "stream",
     "text": [
      "{'def': [{'gen': 'м',\n",
      "          'pos': 'noun',\n",
      "          'text': 'белок',\n",
      "          'tr': [{'ex': [{'text': 'синтез белка',\n",
      "                          'tr': [{'text': 'protein synthesis'}]},\n",
      "                         {'text': 'яичный белок',\n",
      "                          'tr': [{'text': 'egg albumen'}]}],\n",
      "                  'mean': [{'text': 'протеин'}, {'text': 'альбумин'}],\n",
      "                  'pos': 'noun',\n",
      "                  'syn': [{'pos': 'noun', 'text': 'albumen'}],\n",
      "                  'text': 'protein'},\n",
      "                 {'ex': [{'text': 'особый белок',\n",
      "                          'tr': [{'text': 'special fiber'}]}],\n",
      "                  'mean': [{'text': 'волокно'}],\n",
      "                  'pos': 'noun',\n",
      "                  'text': 'fiber'},\n",
      "                 {'ex': [{'text': 'белки глаз',\n",
      "                          'tr': [{'text': 'whites of eyes'}]}],\n",
      "                  'mean': [{'text': 'белый'}],\n",
      "                  'pos': 'noun',\n",
      "                  'syn': [{'pos': 'noun', 'text': 'white'}],\n",
      "                  'text': 'whites'}]}],\n",
      " 'head': {}}\n"
     ]
    }
   ],
   "source": [
    "_ = get_json('белок')"
   ]
  },
  {
   "cell_type": "code",
   "execution_count": null,
   "metadata": {},
   "outputs": [],
   "source": []
  },
  {
   "cell_type": "code",
   "execution_count": null,
   "metadata": {},
   "outputs": [],
   "source": []
  },
  {
   "cell_type": "code",
   "execution_count": null,
   "metadata": {},
   "outputs": [],
   "source": []
  },
  {
   "cell_type": "code",
   "execution_count": null,
   "metadata": {},
   "outputs": [],
   "source": []
  },
  {
   "cell_type": "code",
   "execution_count": null,
   "metadata": {},
   "outputs": [],
   "source": []
  },
  {
   "cell_type": "code",
   "execution_count": null,
   "metadata": {},
   "outputs": [],
   "source": []
  },
  {
   "cell_type": "code",
   "execution_count": null,
   "metadata": {},
   "outputs": [],
   "source": []
  },
  {
   "cell_type": "code",
   "execution_count": null,
   "metadata": {},
   "outputs": [],
   "source": []
  },
  {
   "cell_type": "code",
   "execution_count": null,
   "metadata": {},
   "outputs": [],
   "source": []
  },
  {
   "cell_type": "code",
   "execution_count": null,
   "metadata": {},
   "outputs": [],
   "source": []
  },
  {
   "cell_type": "code",
   "execution_count": null,
   "metadata": {},
   "outputs": [],
   "source": []
  },
  {
   "cell_type": "code",
   "execution_count": null,
   "metadata": {},
   "outputs": [],
   "source": []
  },
  {
   "cell_type": "code",
   "execution_count": null,
   "metadata": {},
   "outputs": [],
   "source": []
  },
  {
   "cell_type": "code",
   "execution_count": null,
   "metadata": {},
   "outputs": [],
   "source": []
  },
  {
   "cell_type": "code",
   "execution_count": null,
   "metadata": {},
   "outputs": [],
   "source": []
  },
  {
   "cell_type": "code",
   "execution_count": null,
   "metadata": {},
   "outputs": [],
   "source": []
  },
  {
   "cell_type": "code",
   "execution_count": null,
   "metadata": {},
   "outputs": [],
   "source": []
  },
  {
   "cell_type": "code",
   "execution_count": null,
   "metadata": {},
   "outputs": [],
   "source": []
  },
  {
   "cell_type": "code",
   "execution_count": null,
   "metadata": {},
   "outputs": [],
   "source": []
  }
 ],
 "metadata": {
  "kernelspec": {
   "display_name": "Python 3",
   "language": "python",
   "name": "python3"
  },
  "language_info": {
   "codemirror_mode": {
    "name": "ipython",
    "version": 3
   },
   "file_extension": ".py",
   "mimetype": "text/x-python",
   "name": "python",
   "nbconvert_exporter": "python",
   "pygments_lexer": "ipython3",
   "version": "3.6.3"
  }
 },
 "nbformat": 4,
 "nbformat_minor": 2
}

{
 "cells": [
  {
   "cell_type": "code",
   "execution_count": 8,
   "metadata": {},
   "outputs": [],
   "source": [
    "import json\n",
    "from pprint import pprint\n",
    "import requests"
   ]
  },
  {
   "cell_type": "markdown",
   "metadata": {},
   "source": [
    "# Yandex translate"
   ]
  },
  {
   "cell_type": "markdown",
   "metadata": {},
   "source": [
    "    https://translate.yandex.net/api/v1.5/tr.json/translate\n",
    "     ? [key=<API-ключ>]\n",
    "     & [text=<переводимый текст>]\n",
    "     & [lang=<направление перевода>]\n",
    "     & [format=<формат текста>]\n",
    "     & [options=<опции перевода>]\n",
    "     & [callback=<имя callback-функции>]"
   ]
  },
  {
   "cell_type": "code",
   "execution_count": 9,
   "metadata": {},
   "outputs": [],
   "source": [
    "API_KEY = 'trnsl.1.1.20171220T114400Z.d11d73895b5b665a.88eb58e16dfb38390744de068580cdf9001f0ec9'\n",
    "request_json = {'key':API_KEY,'text': \"Привет, мир!\", 'lang':'ru-en'}\n",
    "url = \"https://translate.yandex.net/api/v1.5/tr.json/translate\""
   ]
  },
  {
   "cell_type": "code",
   "execution_count": 10,
   "metadata": {},
   "outputs": [
    {
     "name": "stdout",
     "output_type": "stream",
     "text": [
      "200 OK\n",
      "['Hello world!']\n"
     ]
    }
   ],
   "source": [
    "r = requests.post(url, data=request_json)\n",
    "result = json.loads(s=r.text)\n",
    "print(r.status_code, r.reason)\n",
    "print(result['text'])"
   ]
  },
  {
   "cell_type": "code",
   "execution_count": 72,
   "metadata": {},
   "outputs": [],
   "source": [
    "def get_translation(phrase):\n",
    "    req_json = {'key':API_KEY,'text': phrase, 'lang':'ru-en'}\n",
    "    r = requests.post(url, data=req_json)\n",
    "    result = json.loads(s=r.text)\n",
    "    if r.status_code == 200:\n",
    "        return result['text']\n",
    "    else:\n",
    "        return -1"
   ]
  },
  {
   "cell_type": "code",
   "execution_count": 73,
   "metadata": {},
   "outputs": [
    {
     "data": {
      "text/plain": [
       "['I love mountain scenery and squirrels in the trees']"
      ]
     },
     "execution_count": 73,
     "metadata": {},
     "output_type": "execute_result"
    }
   ],
   "source": [
    "get_translation('Я люблю горные пейзажи и белок на деревьях')"
   ]
  },
  {
   "cell_type": "markdown",
   "metadata": {},
   "source": [
    "# Yandex Dict"
   ]
  },
  {
   "cell_type": "code",
   "execution_count": 12,
   "metadata": {},
   "outputs": [],
   "source": [
    "DICT_API_KEY = 'dict.1.1.20171220T134405Z.0ce08af556412b54.d0564c80bbf2c07080c970656db59eddc61e0fbc'\n",
    "dict_url = 'https://dictionary.yandex.net/api/v1/dicservice.json/lookup'"
   ]
  },
  {
   "cell_type": "code",
   "execution_count": 192,
   "metadata": {},
   "outputs": [],
   "source": [
    "def get_json(word):\n",
    "    dict_request_json = {'key': DICT_API_KEY, 'text':word, 'lang':'ru-en'}\n",
    "    r = requests.post(dict_url, data=dict_request_json)\n",
    "    result = json.loads(s=r.text)\n",
    "#     if r.status_code == 200:\n",
    "#         pprint(result)\n",
    "        \n",
    "    means = []\n",
    "    for definit in result['def']:\n",
    "        for tr in definit['tr']:\n",
    "            if 'syn' in tr:\n",
    "                tmp = [tr['text']]\n",
    "                tmp.extend([syn['text'] for syn in tr['syn']])\n",
    "                means.append(tmp)\n",
    "            else:\n",
    "                means.append(tr['text'])\n",
    "    return result, means"
   ]
  },
  {
   "cell_type": "code",
   "execution_count": 97,
   "metadata": {},
   "outputs": [
    {
     "data": {
      "text/plain": [
       "['банка', '\\n']"
      ]
     },
     "execution_count": 97,
     "metadata": {},
     "output_type": "execute_result"
    }
   ],
   "source": [
    "from pymystem3 import Mystem\n",
    "mystem = Mystem()\n",
    "mystem.lemmatize('банок')\n"
   ]
  },
  {
   "cell_type": "code",
   "execution_count": 193,
   "metadata": {},
   "outputs": [
    {
     "name": "stdout",
     "output_type": "stream",
     "text": [
      "[['bank', 'banker', 'banking'], ['pot', 'jar'], 'jackpot']\n"
     ]
    }
   ],
   "source": [
    "r, means = get_json('банк')\n",
    "print(means)"
   ]
  },
  {
   "cell_type": "code",
   "execution_count": 194,
   "metadata": {
    "scrolled": true
   },
   "outputs": [
    {
     "name": "stdout",
     "output_type": "stream",
     "text": [
      "[['bank', 'jar', 'pot'], 'bench']\n"
     ]
    }
   ],
   "source": [
    "r, means = get_json('банка')\n",
    "print(means)"
   ]
  },
  {
   "cell_type": "code",
   "execution_count": 195,
   "metadata": {},
   "outputs": [
    {
     "name": "stdout",
     "output_type": "stream",
     "text": [
      "[['beat', 'strike', 'smite', 'hit', 'punch', 'slap', 'bang', 'knock', 'smack', 'whack'], ['flog', 'trounce'], 'break', 'hurt', 'kill', 'pound', 'go', 'bash', 'hammer', 'club', 'thrash', 'wallop', 'pummel', 'baste', 'whale']\n"
     ]
    }
   ],
   "source": [
    "r, means = get_json('бить')\n",
    "print(means)"
   ]
  },
  {
   "cell_type": "markdown",
   "metadata": {},
   "source": [
    "# Experiment with wiki-wiki test"
   ]
  },
  {
   "cell_type": "code",
   "execution_count": 69,
   "metadata": {},
   "outputs": [],
   "source": [
    "from tqdm import tqdm_notebook"
   ]
  },
  {
   "cell_type": "code",
   "execution_count": 196,
   "metadata": {},
   "outputs": [],
   "source": [
    "from testing_interface import make_data,\\\n",
    "                              visualize_pca,\\\n",
    "                              evaluate_weighted_ari,\\\n",
    "                              get_one_word_data,\\\n",
    "                              visualize_pca_one_word,\\\n",
    "                              visualize_tsne_one_word\n",
    "\n",
    "DATASET = '../data/main/wiki-wiki/test.csv'\n",
    "\n",
    "contexts, main_words, labels, word_list_uniq = make_data(df_file_name=DATASET,\\\n",
    "                 use_gensim_simple_preproc=True,\\\n",
    "                 throw_main_word=False, tokenize=True)"
   ]
  },
  {
   "cell_type": "code",
   "execution_count": 197,
   "metadata": {},
   "outputs": [
    {
     "data": {
      "text/plain": [
       "array(['банка', 'белка', 'бит', 'горе', 'гранат', 'граф', 'душ'], dtype=object)"
      ]
     },
     "execution_count": 197,
     "metadata": {},
     "output_type": "execute_result"
    }
   ],
   "source": [
    "word_list_uniq"
   ]
  },
  {
   "cell_type": "code",
   "execution_count": 198,
   "metadata": {},
   "outputs": [
    {
     "data": {
      "text/plain": [
       "array([ list(['здание', 'банка', 'китая', 'макао', 'здание', 'банка', 'китая', 'bank', 'of', 'china', 'building', 'edificio', 'banca', 'da', 'china', '澳门中银大厦', 'этажный', 'небоскреб', 'высотой', 'метра', 'расположенный', 'макао', 'местная', 'штаб', 'квартира', 'bank', 'of', 'china', 'построен']),\n",
       "       list(['трехлитровая', 'банка', 'во', 'времена', 'ссср', 'такие', 'банки', 'были', 'популярны', 'для', 'маринованных', 'овощей', 'овощных', 'фруктовых', 'соков', 'так', 'далее', 'популярность', 'трехлитровых', 'банок', 'объясняется', 'тем', 'что', 'это', 'самая', 'объемная', 'банка', 'из', 'массово', 'доступных', 'это', 'удобно', 'при', 'большом', 'объеме', 'заготовок', 'наши', 'дни', 'стеклянные', 'банки', 'продолжают', 'использоваться', 'быту', 'для', 'домашнего', 'консервирования', 'подготовка', 'абсолютно', 'целых', 'без', 'трещин', 'сколов', 'стеклянных', 'банок', 'подразумевает', 'не', 'только', 'тщательное', 'мытье', 'внутри', 'снаружи', 'слабым']),\n",
       "       list(['здание', 'национального', 'банка', 'украины', 'здании', 'национального', 'банка', 'украины', 'находится', 'офис', 'национального', 'банка', 'украины', 'расположено', 'исторической', 'местности', 'липки', 'печерском', 'районе', 'города', 'киева', 'по', 'адресу', 'ул', 'институтская', 'контора', 'коммерческого', 'банка', 'россии', 'киеве', 'была', 'основана', 'более', 'полутора', 'столетий', 'тому', 'назад', 'году', 'со', 'временем', 'для', 'нее', 'был', 'куплен', 'большой', 'двухэтажный', 'дом', 'стиле', 'ампир', 'на', 'институтской', 'улице', 'принадлежавший', 'киевскому', 'дворянству', 'позднее', 'здесь', 'разместилась', 'киевская', 'контора', 'банка'])], dtype=object)"
      ]
     },
     "execution_count": 198,
     "metadata": {},
     "output_type": "execute_result"
    }
   ],
   "source": [
    "contexts[:3]"
   ]
  },
  {
   "cell_type": "code",
   "execution_count": 199,
   "metadata": {},
   "outputs": [],
   "source": [
    "def get_translations_list(contexts):\n",
    "    translations = []\n",
    "    for c in tqdm_notebook(contexts):\n",
    "        tr = get_translation(' '.join(c))\n",
    "        translations.append(tr)\n",
    "    return np.array(translations)"
   ]
  },
  {
   "cell_type": "code",
   "execution_count": 89,
   "metadata": {},
   "outputs": [
    {
     "data": {
      "application/vnd.jupyter.widget-view+json": {
       "model_id": "e519b90e0d4f4b12a6eb05cf6a0b535a",
       "version_major": 2,
       "version_minor": 0
      },
      "text/html": [
       "<p>Failed to display Jupyter Widget of type <code>HBox</code>.</p>\n",
       "<p>\n",
       "  If you're reading this message in Jupyter Notebook or JupyterLab, it may mean\n",
       "  that the widgets JavaScript is still loading. If this message persists, it\n",
       "  likely means that the widgets JavaScript library is either not installed or\n",
       "  not enabled. See the <a href=\"https://ipywidgets.readthedocs.io/en/stable/user_install.html\">Jupyter\n",
       "  Widgets Documentation</a> for setup instructions.\n",
       "</p>\n",
       "<p>\n",
       "  If you're reading this message in another notebook frontend (for example, a static\n",
       "  rendering on GitHub or <a href=\"https://nbviewer.jupyter.org/\">NBViewer</a>),\n",
       "  it may mean that your frontend doesn't currently support widgets.\n",
       "</p>\n"
      ],
      "text/plain": [
       "HBox(children=(IntProgress(value=0, max=638), HTML(value='')))"
      ]
     },
     "metadata": {},
     "output_type": "display_data"
    },
    {
     "name": "stdout",
     "output_type": "stream",
     "text": [
      "\n"
     ]
    }
   ],
   "source": [
    "wiki_transl = get_translations_list(contexts=contexts)"
   ]
  },
  {
   "cell_type": "code",
   "execution_count": 200,
   "metadata": {},
   "outputs": [
    {
     "data": {
      "text/plain": [
       "[['building Bank of China Macau Bank of China building bank of china building, edificio banca da china 澳门中银大厦 storey skyscraper with a height of meters, Macau, the local headquarters of bank of china built'],\n",
       " ['three-liter jar during Soviet times, these banks have been popular for pickled vegetables vegetable fruit juices so on the popular three-liter cans due to the fact that it is the volume of the Bank available in large quantities is useful when a large amount of pieces of our days glass jars continue to be used everyday for home canning training is completely whole with no cracks chips of glass jars involves not only a thorough wash out the weak'],\n",
       " ['the building of the national Bank of Ukraine the national Bank of Ukraine is the office of the national Bank of Ukraine is the historical area of Pechersk Lypky district of Kiev at Institutskaya street office of the commercial Bank of Russia in Kiev was founded more than a century and a half ago year with time for her was bought a large two story house in the Empire style on Institutskaya street in Kiev belonged to the nobility later it housed the Kiev office of the Bank'],\n",
       " ['subfertile Essen Federal state of North Rhine Westphalia near Essen main station building of a postal Bank is the third tallest building Essen building is under protection of the state the first branch of the postal Bank opened, around the market Church at the time was only otdeleniye accounts but within ten years their number increased to such']]"
      ]
     },
     "execution_count": 200,
     "metadata": {},
     "output_type": "execute_result"
    }
   ],
   "source": [
    "wiki_transl[:4]"
   ]
  },
  {
   "cell_type": "code",
   "execution_count": null,
   "metadata": {},
   "outputs": [],
   "source": []
  },
  {
   "cell_type": "code",
   "execution_count": 91,
   "metadata": {},
   "outputs": [
    {
     "data": {
      "text/plain": [
       "['здание банка китая макао здание банка китая bank of china building edificio banca da china 澳门中银大厦 этажный небоскреб высотой метра расположенный макао местная штаб квартира bank of china построен',\n",
       " 'трехлитровая банка во времена ссср такие банки были популярны для маринованных овощей овощных фруктовых соков так далее популярность трехлитровых банок объясняется тем что это самая объемная банка из массово доступных это удобно при большом объеме заготовок наши дни стеклянные банки продолжают использоваться быту для домашнего консервирования подготовка абсолютно целых без трещин сколов стеклянных банок подразумевает не только тщательное мытье внутри снаружи слабым',\n",
       " 'здание национального банка украины здании национального банка украины находится офис национального банка украины расположено исторической местности липки печерском районе города киева по адресу ул институтская контора коммерческого банка россии киеве была основана более полутора столетий тому назад году со временем для нее был куплен большой двухэтажный дом стиле ампир на институтской улице принадлежавший киевскому дворянству позднее здесь разместилась киевская контора банка',\n",
       " 'зюдфиртель города эссен федеральная земля северный рейн вестфалия рядом эссенским железнодорожным вокзалом здание почтового банка является третьим по высоте зданием эссена года здание находится под охраной государства первое отделение почтового банка открылось еще году рядом рыночной церковью на тот момент отделениибанка было лишь счетов но уже через десять лет их количество увеличилось до столь']"
      ]
     },
     "execution_count": 91,
     "metadata": {},
     "output_type": "execute_result"
    }
   ],
   "source": [
    "[' '.join(c) for c in contexts[:4]]"
   ]
  },
  {
   "cell_type": "markdown",
   "metadata": {},
   "source": [
    "# Checking base theory"
   ]
  },
  {
   "cell_type": "code",
   "execution_count": 98,
   "metadata": {},
   "outputs": [],
   "source": [
    "import pandas as pd"
   ]
  },
  {
   "cell_type": "code",
   "execution_count": 140,
   "metadata": {},
   "outputs": [],
   "source": [
    "from Levenshtein import distance"
   ]
  },
  {
   "cell_type": "code",
   "execution_count": 204,
   "metadata": {},
   "outputs": [
    {
     "data": {
      "text/html": [
       "<div>\n",
       "<style scoped>\n",
       "    .dataframe tbody tr th:only-of-type {\n",
       "        vertical-align: middle;\n",
       "    }\n",
       "\n",
       "    .dataframe tbody tr th {\n",
       "        vertical-align: top;\n",
       "    }\n",
       "\n",
       "    .dataframe thead th {\n",
       "        text-align: right;\n",
       "    }\n",
       "</style>\n",
       "<table border=\"1\" class=\"dataframe\">\n",
       "  <thead>\n",
       "    <tr style=\"text-align: right;\">\n",
       "      <th></th>\n",
       "      <th>context_id</th>\n",
       "      <th>word</th>\n",
       "      <th>gold_sense_id</th>\n",
       "      <th>predict_sense_id</th>\n",
       "      <th>positions</th>\n",
       "      <th>context</th>\n",
       "    </tr>\n",
       "  </thead>\n",
       "  <tbody>\n",
       "    <tr>\n",
       "      <th>0</th>\n",
       "      <td>440</td>\n",
       "      <td>банка</td>\n",
       "      <td>NaN</td>\n",
       "      <td>NaN</td>\n",
       "      <td>7-12, 36-41</td>\n",
       "      <td>здание банка китая ( макао ) здание банка кита...</td>\n",
       "    </tr>\n",
       "    <tr>\n",
       "      <th>1</th>\n",
       "      <td>441</td>\n",
       "      <td>банка</td>\n",
       "      <td>NaN</td>\n",
       "      <td>NaN</td>\n",
       "      <td>13-18, 201-206</td>\n",
       "      <td>трехлитровая банка во времена ссср такие банки...</td>\n",
       "    </tr>\n",
       "    <tr>\n",
       "      <th>2</th>\n",
       "      <td>442</td>\n",
       "      <td>банка</td>\n",
       "      <td>NaN</td>\n",
       "      <td>NaN</td>\n",
       "      <td>21-26, 58-63, 101-106, 263-268, 538-543</td>\n",
       "      <td>здание национального банка украины в здании на...</td>\n",
       "    </tr>\n",
       "    <tr>\n",
       "      <th>3</th>\n",
       "      <td>443</td>\n",
       "      <td>банка</td>\n",
       "      <td>NaN</td>\n",
       "      <td>NaN</td>\n",
       "      <td>134-139, 262-267, 345-350</td>\n",
       "      <td>зюдфиртель города эссен ( федеральная земля се...</td>\n",
       "    </tr>\n",
       "    <tr>\n",
       "      <th>4</th>\n",
       "      <td>444</td>\n",
       "      <td>банка</td>\n",
       "      <td>NaN</td>\n",
       "      <td>NaN</td>\n",
       "      <td>43-48, 300-305, 381-386, 521-526</td>\n",
       "      <td>ведения боевых действий полевые учреждения бан...</td>\n",
       "    </tr>\n",
       "  </tbody>\n",
       "</table>\n",
       "</div>"
      ],
      "text/plain": [
       "   context_id   word  gold_sense_id  predict_sense_id  \\\n",
       "0         440  банка            NaN               NaN   \n",
       "1         441  банка            NaN               NaN   \n",
       "2         442  банка            NaN               NaN   \n",
       "3         443  банка            NaN               NaN   \n",
       "4         444  банка            NaN               NaN   \n",
       "\n",
       "                                 positions  \\\n",
       "0                              7-12, 36-41   \n",
       "1                           13-18, 201-206   \n",
       "2  21-26, 58-63, 101-106, 263-268, 538-543   \n",
       "3                134-139, 262-267, 345-350   \n",
       "4         43-48, 300-305, 381-386, 521-526   \n",
       "\n",
       "                                             context  \n",
       "0  здание банка китая ( макао ) здание банка кита...  \n",
       "1  трехлитровая банка во времена ссср такие банки...  \n",
       "2  здание национального банка украины в здании на...  \n",
       "3  зюдфиртель города эссен ( федеральная земля се...  \n",
       "4  ведения боевых действий полевые учреждения бан...  "
      ]
     },
     "execution_count": 204,
     "metadata": {},
     "output_type": "execute_result"
    }
   ],
   "source": [
    "df = pd.read_csv(DATASET, sep='\\t')\n",
    "df.head()"
   ]
  },
  {
   "cell_type": "code",
   "execution_count": 205,
   "metadata": {},
   "outputs": [
    {
     "data": {
      "text/plain": [
       "135"
      ]
     },
     "execution_count": 205,
     "metadata": {},
     "output_type": "execute_result"
    }
   ],
   "source": [
    "len(df[df.word == 'белка'])"
   ]
  },
  {
   "cell_type": "code",
   "execution_count": 137,
   "metadata": {},
   "outputs": [],
   "source": [
    "def parse_positions(pos: pd.Series, context: pd.Series):\n",
    "    bag_of_words = []\n",
    "    for p,c in zip(pos.values, context.values):\n",
    "        positions = [n.split('-') for n in p.split(', ')]\n",
    "        for s,f in positions:\n",
    "            bag_of_words.append(c[int(s):int(f)])\n",
    "    return set(bag_of_words)"
   ]
  },
  {
   "cell_type": "code",
   "execution_count": 139,
   "metadata": {},
   "outputs": [
    {
     "data": {
      "text/plain": [
       "{'банка', 'белка', 'бит', 'горе', 'гранат', 'граф', 'душ'}"
      ]
     },
     "execution_count": 139,
     "metadata": {},
     "output_type": "execute_result"
    }
   ],
   "source": [
    "parse_positions(df.positions, df.context)"
   ]
  },
  {
   "cell_type": "code",
   "execution_count": 325,
   "metadata": {},
   "outputs": [],
   "source": [
    "def find_word_forms(context: pd.Series, word:str):\n",
    "    w_forms = []\n",
    "    if len(word)>3:\n",
    "        for c in context:\n",
    "            for w in c:\n",
    "                if distance(w, word)==1:\n",
    "                    w_forms.append(w)\n",
    "        return set(w_forms)\n",
    "    else:\n",
    "        return set([word])"
   ]
  },
  {
   "cell_type": "markdown",
   "metadata": {},
   "source": [
    "# test on wiki-wiki train"
   ]
  },
  {
   "cell_type": "code",
   "execution_count": 295,
   "metadata": {},
   "outputs": [
    {
     "data": {
      "text/html": [
       "<div>\n",
       "<style scoped>\n",
       "    .dataframe tbody tr th:only-of-type {\n",
       "        vertical-align: middle;\n",
       "    }\n",
       "\n",
       "    .dataframe tbody tr th {\n",
       "        vertical-align: top;\n",
       "    }\n",
       "\n",
       "    .dataframe thead th {\n",
       "        text-align: right;\n",
       "    }\n",
       "</style>\n",
       "<table border=\"1\" class=\"dataframe\">\n",
       "  <thead>\n",
       "    <tr style=\"text-align: right;\">\n",
       "      <th></th>\n",
       "      <th>context_id</th>\n",
       "      <th>word</th>\n",
       "      <th>gold_sense_id</th>\n",
       "      <th>predict_sense_id</th>\n",
       "      <th>positions</th>\n",
       "      <th>context</th>\n",
       "    </tr>\n",
       "  </thead>\n",
       "  <tbody>\n",
       "    <tr>\n",
       "      <th>0</th>\n",
       "      <td>1</td>\n",
       "      <td>замок</td>\n",
       "      <td>1</td>\n",
       "      <td>NaN</td>\n",
       "      <td>NaN</td>\n",
       "      <td>замок владимира мономаха в любече . многочисле...</td>\n",
       "    </tr>\n",
       "    <tr>\n",
       "      <th>1</th>\n",
       "      <td>2</td>\n",
       "      <td>замок</td>\n",
       "      <td>1</td>\n",
       "      <td>NaN</td>\n",
       "      <td>NaN</td>\n",
       "      <td>шильонский замок замок шильйон ( ) , известный...</td>\n",
       "    </tr>\n",
       "    <tr>\n",
       "      <th>2</th>\n",
       "      <td>3</td>\n",
       "      <td>замок</td>\n",
       "      <td>1</td>\n",
       "      <td>NaN</td>\n",
       "      <td>NaN</td>\n",
       "      <td>проведения архитектурно - археологических рабо...</td>\n",
       "    </tr>\n",
       "    <tr>\n",
       "      <th>3</th>\n",
       "      <td>4</td>\n",
       "      <td>замок</td>\n",
       "      <td>1</td>\n",
       "      <td>NaN</td>\n",
       "      <td>NaN</td>\n",
       "      <td>топи с . , л . белокуров легенда о завещании м...</td>\n",
       "    </tr>\n",
       "    <tr>\n",
       "      <th>4</th>\n",
       "      <td>5</td>\n",
       "      <td>замок</td>\n",
       "      <td>1</td>\n",
       "      <td>NaN</td>\n",
       "      <td>NaN</td>\n",
       "      <td>великий князь литовский гедимин после успешной...</td>\n",
       "    </tr>\n",
       "  </tbody>\n",
       "</table>\n",
       "</div>"
      ],
      "text/plain": [
       "  context_id   word  gold_sense_id  predict_sense_id  positions  \\\n",
       "0          1  замок              1               NaN        NaN   \n",
       "1          2  замок              1               NaN        NaN   \n",
       "2          3  замок              1               NaN        NaN   \n",
       "3          4  замок              1               NaN        NaN   \n",
       "4          5  замок              1               NaN        NaN   \n",
       "\n",
       "                                             context  \n",
       "0  замок владимира мономаха в любече . многочисле...  \n",
       "1  шильонский замок замок шильйон ( ) , известный...  \n",
       "2  проведения архитектурно - археологических рабо...  \n",
       "3  топи с . , л . белокуров легенда о завещании м...  \n",
       "4  великий князь литовский гедимин после успешной...  "
      ]
     },
     "execution_count": 295,
     "metadata": {},
     "output_type": "execute_result"
    }
   ],
   "source": [
    "dataset = \"../data/main/wiki-wiki/train.csv\"\n",
    "df = pd.read_csv(dataset, sep='\\t')\n",
    "df.head()"
   ]
  },
  {
   "cell_type": "code",
   "execution_count": 296,
   "metadata": {},
   "outputs": [],
   "source": [
    "contexts, main_words, labels, word_list_uniq = make_data(df_file_name=dataset,\\\n",
    "                 use_gensim_simple_preproc=True,\\\n",
    "                 throw_main_word=False, tokenize=True)"
   ]
  },
  {
   "cell_type": "code",
   "execution_count": 297,
   "metadata": {},
   "outputs": [
    {
     "data": {
      "application/vnd.jupyter.widget-view+json": {
       "model_id": "003083bddeda4bd2a66b650badb9250a",
       "version_major": 2,
       "version_minor": 0
      },
      "text/html": [
       "<p>Failed to display Jupyter Widget of type <code>HBox</code>.</p>\n",
       "<p>\n",
       "  If you're reading this message in Jupyter Notebook or JupyterLab, it may mean\n",
       "  that the widgets JavaScript is still loading. If this message persists, it\n",
       "  likely means that the widgets JavaScript library is either not installed or\n",
       "  not enabled. See the <a href=\"https://ipywidgets.readthedocs.io/en/stable/user_install.html\">Jupyter\n",
       "  Widgets Documentation</a> for setup instructions.\n",
       "</p>\n",
       "<p>\n",
       "  If you're reading this message in another notebook frontend (for example, a static\n",
       "  rendering on GitHub or <a href=\"https://nbviewer.jupyter.org/\">NBViewer</a>),\n",
       "  it may mean that your frontend doesn't currently support widgets.\n",
       "</p>\n"
      ],
      "text/plain": [
       "HBox(children=(IntProgress(value=0, max=439), HTML(value='')))"
      ]
     },
     "metadata": {},
     "output_type": "display_data"
    },
    {
     "name": "stdout",
     "output_type": "stream",
     "text": [
      "\n"
     ]
    }
   ],
   "source": [
    "wiki_transl_train = get_translations_list(contexts=contexts)"
   ]
  },
  {
   "cell_type": "code",
   "execution_count": 305,
   "metadata": {},
   "outputs": [
    {
     "data": {
      "text/plain": [
       "array(['замок', 'лук', 'суда', 'бор'], dtype=object)"
      ]
     },
     "execution_count": 305,
     "metadata": {},
     "output_type": "execute_result"
    }
   ],
   "source": [
    "word_list_uniq"
   ]
  },
  {
   "cell_type": "code",
   "execution_count": 298,
   "metadata": {},
   "outputs": [],
   "source": [
    "def find_all_meanings(contexts, word):\n",
    "    w_forms = list(find_word_forms(context=contexts, word=word))\n",
    "    stemmed = [mystem.lemmatize(w)[0] for w in w_forms]\n",
    "    w_forms.append(word)\n",
    "    w_forms.extend(stemmed)\n",
    "    w_forms = list(set(w_forms))\n",
    "    meanings = []\n",
    "    for w in w_forms:\n",
    "        r, means = get_json(w)\n",
    "        meanings.extend(means)\n",
    "    return meanings"
   ]
  },
  {
   "cell_type": "code",
   "execution_count": 301,
   "metadata": {},
   "outputs": [],
   "source": [
    "from collections import defaultdict"
   ]
  },
  {
   "cell_type": "code",
   "execution_count": 331,
   "metadata": {},
   "outputs": [],
   "source": [
    "import numpy as np\n",
    "\n",
    "def get_markers(m, size):\n",
    "    mapping = {}\n",
    "    markers = np.zeros(size)\n",
    "    c = 1\n",
    "    for i, val in m.items():\n",
    "        val = tuple(val)\n",
    "        if val not in mapping:\n",
    "            mapping[val]=c\n",
    "            c+=1\n",
    "        markers[i]=mapping[val]\n",
    "    return markers"
   ]
  },
  {
   "cell_type": "code",
   "execution_count": 332,
   "metadata": {},
   "outputs": [],
   "source": [
    "def find_meanings_in_contexts(contexts, translation, word):\n",
    "    meanings = find_all_meanings(contexts=contexts, word=word)\n",
    "    print(meanings)\n",
    "    marks = defaultdict(list) \n",
    "    for i,c in enumerate(translation):\n",
    "        flag = False\n",
    "        c = c[0].split()\n",
    "        for m in meanings:\n",
    "            if type(m) == str:\n",
    "                if m in c:\n",
    "                    marks[i].append(m)\n",
    "                    flag = True\n",
    "            else:\n",
    "                for t in m:\n",
    "                    if t in c:\n",
    "                        flag = True\n",
    "                        marks[i].append(m[0])\n",
    "                    break\n",
    "    markers = get_markers(marks, len(contexts))\n",
    "    return markers"
   ]
  },
  {
   "cell_type": "code",
   "execution_count": 333,
   "metadata": {},
   "outputs": [
    {
     "name": "stdout",
     "output_type": "stream",
     "text": [
      "[['castle', 'Chateau'], ['lock', 'padlock', 'latch']]\n",
      "['onion', 'bow']\n",
      "[['court', 'tribunal', 'trial', 'courtroom'], ['judgment', 'judgement'], 'justice', ['craft', 'boat'], 'law', 'forum', 'bench', ['vessel', 'boat', 'craft', 'watercraft', 'ship'], 'hovercraft', 'cruiser']\n",
      "['boron', 'drill', 'bor', ['pine forest', 'coniferous forest'], 'pinery', 'milletgrass', 'Bohr']\n"
     ]
    }
   ],
   "source": [
    "resulted_markup = []\n",
    "\n",
    "for word in word_list_uniq:\n",
    "    marks = find_meanings_in_contexts(contexts[main_words == word],\n",
    "                                      wiki_transl_train[main_words == word], word)\n",
    "    resulted_markup.extend(marks)"
   ]
  },
  {
   "cell_type": "code",
   "execution_count": 337,
   "metadata": {},
   "outputs": [
    {
     "name": "stdout",
     "output_type": "stream",
     "text": [
      "word\tari\tcount\n",
      "бор\t0.279725\t56\n",
      "замок\t0.654670\t138\n",
      "лук\t0.219787\t110\n",
      "суда\t-0.008544\t135\n",
      "\t0.293923\t439\n"
     ]
    }
   ],
   "source": [
    "evaluate_weighted_ari(dataset, resulted_markup)"
   ]
  },
  {
   "cell_type": "code",
   "execution_count": null,
   "metadata": {},
   "outputs": [],
   "source": []
  },
  {
   "cell_type": "code",
   "execution_count": null,
   "metadata": {},
   "outputs": [],
   "source": []
  },
  {
   "cell_type": "code",
   "execution_count": null,
   "metadata": {},
   "outputs": [],
   "source": []
  },
  {
   "cell_type": "code",
   "execution_count": null,
   "metadata": {},
   "outputs": [],
   "source": []
  },
  {
   "cell_type": "code",
   "execution_count": null,
   "metadata": {},
   "outputs": [],
   "source": []
  }
 ],
 "metadata": {
  "kernelspec": {
   "display_name": "Python 3",
   "language": "python",
   "name": "python3"
  },
  "language_info": {
   "codemirror_mode": {
    "name": "ipython",
    "version": 3
   },
   "file_extension": ".py",
   "mimetype": "text/x-python",
   "name": "python",
   "nbconvert_exporter": "python",
   "pygments_lexer": "ipython3",
   "version": "3.6.3"
  }
 },
 "nbformat": 4,
 "nbformat_minor": 2
}
